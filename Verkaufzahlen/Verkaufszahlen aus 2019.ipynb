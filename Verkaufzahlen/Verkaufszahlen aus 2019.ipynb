{
 "cells": [
  {
   "attachments": {},
   "cell_type": "markdown",
   "metadata": {},
   "source": [
    "<h1><font color='darkblue'>Verkaufszahlen aus 2019 </font></h1>"
   ]
  },
  {
   "cell_type": "markdown",
   "metadata": {},
   "source": [
    "## Importieren und Einlesen"
   ]
  },
  {
   "cell_type": "markdown",
   "metadata": {},
   "source": [
    "### Importieren von Bibliotheken"
   ]
  },
  {
   "cell_type": "code",
   "execution_count": 1,
   "metadata": {},
   "outputs": [
    {
     "data": {
      "text/html": [
       "        <script type=\"text/javascript\">\n",
       "        window.PlotlyConfig = {MathJaxConfig: 'local'};\n",
       "        if (window.MathJax) {MathJax.Hub.Config({SVG: {font: \"STIX-Web\"}});}\n",
       "        if (typeof require !== 'undefined') {\n",
       "        require.undef(\"plotly\");\n",
       "        requirejs.config({\n",
       "            paths: {\n",
       "                'plotly': ['https://cdn.plot.ly/plotly-2.6.3.min']\n",
       "            }\n",
       "        });\n",
       "        require(['plotly'], function(Plotly) {\n",
       "            window._Plotly = Plotly;\n",
       "        });\n",
       "        }\n",
       "        </script>\n",
       "        "
      ]
     },
     "metadata": {},
     "output_type": "display_data"
    }
   ],
   "source": [
    "import pandas as pd \n",
    "import numpy as np\n",
    "import matplotlib.pyplot as plt\n",
    "import seaborn as sns\n",
    "import glob\n",
    "\n",
    "import warnings\n",
    "warnings.filterwarnings(\"ignore\")\n",
    "\n",
    "color = sns.color_palette()\n",
    "\n",
    "import plotly.express as px\n",
    "from plotly.offline import init_notebook_mode, iplot\n",
    "init_notebook_mode(connected=True)"
   ]
  },
  {
   "cell_type": "markdown",
   "metadata": {},
   "source": [
    "### Einlesen von Daten"
   ]
  },
  {
   "cell_type": "code",
   "execution_count": 2,
   "metadata": {},
   "outputs": [
    {
     "name": "stdout",
     "output_type": "stream",
     "text": [
      "Die große von Datensatz ist : (25117, 6)\n"
     ]
    },
    {
     "data": {
      "text/html": [
       "<div>\n",
       "<style scoped>\n",
       "    .dataframe tbody tr th:only-of-type {\n",
       "        vertical-align: middle;\n",
       "    }\n",
       "\n",
       "    .dataframe tbody tr th {\n",
       "        vertical-align: top;\n",
       "    }\n",
       "\n",
       "    .dataframe thead th {\n",
       "        text-align: right;\n",
       "    }\n",
       "</style>\n",
       "<table border=\"1\" class=\"dataframe\">\n",
       "  <thead>\n",
       "    <tr style=\"text-align: right;\">\n",
       "      <th></th>\n",
       "      <th>Order ID</th>\n",
       "      <th>Product</th>\n",
       "      <th>Quantity Ordered</th>\n",
       "      <th>Price Each</th>\n",
       "      <th>Order Date</th>\n",
       "      <th>Purchase Address</th>\n",
       "    </tr>\n",
       "  </thead>\n",
       "  <tbody>\n",
       "    <tr>\n",
       "      <th>0</th>\n",
       "      <td>295665</td>\n",
       "      <td>Macbook Pro Laptop</td>\n",
       "      <td>1</td>\n",
       "      <td>1700</td>\n",
       "      <td>12/30/19 00:01</td>\n",
       "      <td>136 Church St, New York City, NY 10001</td>\n",
       "    </tr>\n",
       "    <tr>\n",
       "      <th>1</th>\n",
       "      <td>295666</td>\n",
       "      <td>LG Washing Machine</td>\n",
       "      <td>1</td>\n",
       "      <td>600.0</td>\n",
       "      <td>12/29/19 07:03</td>\n",
       "      <td>562 2nd St, New York City, NY 10001</td>\n",
       "    </tr>\n",
       "    <tr>\n",
       "      <th>2</th>\n",
       "      <td>295667</td>\n",
       "      <td>USB-C Charging Cable</td>\n",
       "      <td>1</td>\n",
       "      <td>11.95</td>\n",
       "      <td>12/12/19 18:21</td>\n",
       "      <td>277 Main St, New York City, NY 10001</td>\n",
       "    </tr>\n",
       "  </tbody>\n",
       "</table>\n",
       "</div>"
      ],
      "text/plain": [
       "  Order ID               Product Quantity Ordered Price Each      Order Date  \\\n",
       "0   295665    Macbook Pro Laptop                1       1700  12/30/19 00:01   \n",
       "1   295666    LG Washing Machine                1      600.0  12/29/19 07:03   \n",
       "2   295667  USB-C Charging Cable                1      11.95  12/12/19 18:21   \n",
       "\n",
       "                         Purchase Address  \n",
       "0  136 Church St, New York City, NY 10001  \n",
       "1     562 2nd St, New York City, NY 10001  \n",
       "2    277 Main St, New York City, NY 10001  "
      ]
     },
     "execution_count": 2,
     "metadata": {},
     "output_type": "execute_result"
    }
   ],
   "source": [
    "# einen Blick auf Dezember\n",
    "\n",
    "df_dez = pd.read_csv('Sales_December_2019.csv')\n",
    "print(\"Die große von Datensatz ist :\", df_dez.shape)\n",
    "df_dez.head(3)"
   ]
  },
  {
   "cell_type": "code",
   "execution_count": 3,
   "metadata": {},
   "outputs": [
    {
     "name": "stdout",
     "output_type": "stream",
     "text": [
      "Die große von Datensatz ist : (15226, 6)\n"
     ]
    },
    {
     "data": {
      "text/html": [
       "<div>\n",
       "<style scoped>\n",
       "    .dataframe tbody tr th:only-of-type {\n",
       "        vertical-align: middle;\n",
       "    }\n",
       "\n",
       "    .dataframe tbody tr th {\n",
       "        vertical-align: top;\n",
       "    }\n",
       "\n",
       "    .dataframe thead th {\n",
       "        text-align: right;\n",
       "    }\n",
       "</style>\n",
       "<table border=\"1\" class=\"dataframe\">\n",
       "  <thead>\n",
       "    <tr style=\"text-align: right;\">\n",
       "      <th></th>\n",
       "      <th>Order ID</th>\n",
       "      <th>Product</th>\n",
       "      <th>Quantity Ordered</th>\n",
       "      <th>Price Each</th>\n",
       "      <th>Order Date</th>\n",
       "      <th>Purchase Address</th>\n",
       "    </tr>\n",
       "  </thead>\n",
       "  <tbody>\n",
       "    <tr>\n",
       "      <th>0</th>\n",
       "      <td>162009</td>\n",
       "      <td>iPhone</td>\n",
       "      <td>1</td>\n",
       "      <td>700</td>\n",
       "      <td>03/28/19 20:59</td>\n",
       "      <td>942 Church St, Austin, TX 73301</td>\n",
       "    </tr>\n",
       "    <tr>\n",
       "      <th>1</th>\n",
       "      <td>162009</td>\n",
       "      <td>Lightning Charging Cable</td>\n",
       "      <td>1</td>\n",
       "      <td>14.95</td>\n",
       "      <td>03/28/19 20:59</td>\n",
       "      <td>942 Church St, Austin, TX 73301</td>\n",
       "    </tr>\n",
       "    <tr>\n",
       "      <th>2</th>\n",
       "      <td>162009</td>\n",
       "      <td>Wired Headphones</td>\n",
       "      <td>2</td>\n",
       "      <td>11.99</td>\n",
       "      <td>03/28/19 20:59</td>\n",
       "      <td>942 Church St, Austin, TX 73301</td>\n",
       "    </tr>\n",
       "  </tbody>\n",
       "</table>\n",
       "</div>"
      ],
      "text/plain": [
       "  Order ID                   Product Quantity Ordered Price Each  \\\n",
       "0   162009                    iPhone                1        700   \n",
       "1   162009  Lightning Charging Cable                1      14.95   \n",
       "2   162009          Wired Headphones                2      11.99   \n",
       "\n",
       "       Order Date                 Purchase Address  \n",
       "0  03/28/19 20:59  942 Church St, Austin, TX 73301  \n",
       "1  03/28/19 20:59  942 Church St, Austin, TX 73301  \n",
       "2  03/28/19 20:59  942 Church St, Austin, TX 73301  "
      ]
     },
     "execution_count": 3,
     "metadata": {},
     "output_type": "execute_result"
    }
   ],
   "source": [
    "# einen Blick auf März\n",
    "\n",
    "df_märz = pd.read_csv('Sales_March_2019.csv')\n",
    "print(\"Die große von Datensatz ist :\", df_märz.shape)\n",
    "df_märz.head(3)"
   ]
  },
  {
   "cell_type": "markdown",
   "metadata": {},
   "source": [
    "<span style='color:red'> Wir sehen, dass die **csv Dateien** aus den gleichen Spalten bestehen. Und kombinieren wir alle Dateien in einem DataFrame.</span>"
   ]
  },
  {
   "cell_type": "code",
   "execution_count": 4,
   "metadata": {},
   "outputs": [
    {
     "data": {
      "text/html": [
       "<div>\n",
       "<style scoped>\n",
       "    .dataframe tbody tr th:only-of-type {\n",
       "        vertical-align: middle;\n",
       "    }\n",
       "\n",
       "    .dataframe tbody tr th {\n",
       "        vertical-align: top;\n",
       "    }\n",
       "\n",
       "    .dataframe thead th {\n",
       "        text-align: right;\n",
       "    }\n",
       "</style>\n",
       "<table border=\"1\" class=\"dataframe\">\n",
       "  <thead>\n",
       "    <tr style=\"text-align: right;\">\n",
       "      <th></th>\n",
       "      <th>Order ID</th>\n",
       "      <th>Product</th>\n",
       "      <th>Quantity Ordered</th>\n",
       "      <th>Price Each</th>\n",
       "      <th>Order Date</th>\n",
       "      <th>Purchase Address</th>\n",
       "    </tr>\n",
       "  </thead>\n",
       "  <tbody>\n",
       "    <tr>\n",
       "      <th>0</th>\n",
       "      <td>176558</td>\n",
       "      <td>USB-C Charging Cable</td>\n",
       "      <td>2</td>\n",
       "      <td>11.95</td>\n",
       "      <td>04/19/19 08:46</td>\n",
       "      <td>917 1st St, Dallas, TX 75001</td>\n",
       "    </tr>\n",
       "    <tr>\n",
       "      <th>1</th>\n",
       "      <td>NaN</td>\n",
       "      <td>NaN</td>\n",
       "      <td>NaN</td>\n",
       "      <td>NaN</td>\n",
       "      <td>NaN</td>\n",
       "      <td>NaN</td>\n",
       "    </tr>\n",
       "    <tr>\n",
       "      <th>2</th>\n",
       "      <td>176559</td>\n",
       "      <td>Bose SoundSport Headphones</td>\n",
       "      <td>1</td>\n",
       "      <td>99.99</td>\n",
       "      <td>04/07/19 22:30</td>\n",
       "      <td>682 Chestnut St, Boston, MA 02215</td>\n",
       "    </tr>\n",
       "    <tr>\n",
       "      <th>3</th>\n",
       "      <td>176560</td>\n",
       "      <td>Google Phone</td>\n",
       "      <td>1</td>\n",
       "      <td>600</td>\n",
       "      <td>04/12/19 14:38</td>\n",
       "      <td>669 Spruce St, Los Angeles, CA 90001</td>\n",
       "    </tr>\n",
       "    <tr>\n",
       "      <th>4</th>\n",
       "      <td>176560</td>\n",
       "      <td>Wired Headphones</td>\n",
       "      <td>1</td>\n",
       "      <td>11.99</td>\n",
       "      <td>04/12/19 14:38</td>\n",
       "      <td>669 Spruce St, Los Angeles, CA 90001</td>\n",
       "    </tr>\n",
       "  </tbody>\n",
       "</table>\n",
       "</div>"
      ],
      "text/plain": [
       "  Order ID                     Product Quantity Ordered Price Each  \\\n",
       "0   176558        USB-C Charging Cable                2      11.95   \n",
       "1      NaN                         NaN              NaN        NaN   \n",
       "2   176559  Bose SoundSport Headphones                1      99.99   \n",
       "3   176560                Google Phone                1        600   \n",
       "4   176560            Wired Headphones                1      11.99   \n",
       "\n",
       "       Order Date                      Purchase Address  \n",
       "0  04/19/19 08:46          917 1st St, Dallas, TX 75001  \n",
       "1             NaN                                   NaN  \n",
       "2  04/07/19 22:30     682 Chestnut St, Boston, MA 02215  \n",
       "3  04/12/19 14:38  669 Spruce St, Los Angeles, CA 90001  \n",
       "4  04/12/19 14:38  669 Spruce St, Los Angeles, CA 90001  "
      ]
     },
     "execution_count": 4,
     "metadata": {},
     "output_type": "execute_result"
    }
   ],
   "source": [
    "# get data file names\n",
    "path =r'C:\\Users\\user\\BIG DATA\\PROJEKT'\n",
    "filenames = glob.glob(path + \"/*.csv\")\n",
    "\n",
    "dfs = []\n",
    "for filename in filenames:\n",
    "    dfs.append(pd.read_csv(filename))\n",
    "\n",
    "# Concatenate all data into one DataFrame\n",
    "df = pd.concat(dfs, ignore_index=True)\n",
    "\n",
    "df.head(5)"
   ]
  },
  {
   "cell_type": "markdown",
   "metadata": {},
   "source": [
    "## Größe, Datentyp, Anzahl der Einzelwerte,  Null-Werte und Synonyme"
   ]
  },
  {
   "cell_type": "code",
   "execution_count": 5,
   "metadata": {},
   "outputs": [
    {
     "data": {
      "text/plain": [
       "(186850, 6)"
      ]
     },
     "execution_count": 5,
     "metadata": {},
     "output_type": "execute_result"
    }
   ],
   "source": [
    "df.shape"
   ]
  },
  {
   "cell_type": "code",
   "execution_count": 6,
   "metadata": {},
   "outputs": [
    {
     "name": "stdout",
     "output_type": "stream",
     "text": [
      "<class 'pandas.core.frame.DataFrame'>\n",
      "RangeIndex: 186850 entries, 0 to 186849\n",
      "Data columns (total 6 columns):\n",
      " #   Column            Non-Null Count   Dtype \n",
      "---  ------            --------------   ----- \n",
      " 0   Order ID          186305 non-null  object\n",
      " 1   Product           186305 non-null  object\n",
      " 2   Quantity Ordered  186305 non-null  object\n",
      " 3   Price Each        186305 non-null  object\n",
      " 4   Order Date        186305 non-null  object\n",
      " 5   Purchase Address  186305 non-null  object\n",
      "dtypes: object(6)\n",
      "memory usage: 8.6+ MB\n"
     ]
    }
   ],
   "source": [
    "df.info()"
   ]
  },
  {
   "cell_type": "code",
   "execution_count": 7,
   "metadata": {},
   "outputs": [
    {
     "data": {
      "text/plain": [
       "['Order ID',\n",
       " 'Product',\n",
       " 'Quantity Ordered',\n",
       " 'Price Each',\n",
       " 'Order Date',\n",
       " 'Purchase Address']"
      ]
     },
     "execution_count": 7,
     "metadata": {},
     "output_type": "execute_result"
    }
   ],
   "source": [
    "columns = list(df.columns)\n",
    "columns"
   ]
  },
  {
   "cell_type": "markdown",
   "metadata": {},
   "source": [
    "### Spaltennamen ändern"
   ]
  },
  {
   "cell_type": "code",
   "execution_count": 8,
   "metadata": {},
   "outputs": [
    {
     "data": {
      "text/html": [
       "<div>\n",
       "<style scoped>\n",
       "    .dataframe tbody tr th:only-of-type {\n",
       "        vertical-align: middle;\n",
       "    }\n",
       "\n",
       "    .dataframe tbody tr th {\n",
       "        vertical-align: top;\n",
       "    }\n",
       "\n",
       "    .dataframe thead th {\n",
       "        text-align: right;\n",
       "    }\n",
       "</style>\n",
       "<table border=\"1\" class=\"dataframe\">\n",
       "  <thead>\n",
       "    <tr style=\"text-align: right;\">\n",
       "      <th></th>\n",
       "      <th>orderID</th>\n",
       "      <th>product</th>\n",
       "      <th>quantity_ordered</th>\n",
       "      <th>price</th>\n",
       "      <th>order_date</th>\n",
       "      <th>adress</th>\n",
       "    </tr>\n",
       "  </thead>\n",
       "  <tbody>\n",
       "    <tr>\n",
       "      <th>0</th>\n",
       "      <td>176558</td>\n",
       "      <td>USB-C Charging Cable</td>\n",
       "      <td>2</td>\n",
       "      <td>11.95</td>\n",
       "      <td>04/19/19 08:46</td>\n",
       "      <td>917 1st St, Dallas, TX 75001</td>\n",
       "    </tr>\n",
       "    <tr>\n",
       "      <th>1</th>\n",
       "      <td>NaN</td>\n",
       "      <td>NaN</td>\n",
       "      <td>NaN</td>\n",
       "      <td>NaN</td>\n",
       "      <td>NaN</td>\n",
       "      <td>NaN</td>\n",
       "    </tr>\n",
       "    <tr>\n",
       "      <th>2</th>\n",
       "      <td>176559</td>\n",
       "      <td>Bose SoundSport Headphones</td>\n",
       "      <td>1</td>\n",
       "      <td>99.99</td>\n",
       "      <td>04/07/19 22:30</td>\n",
       "      <td>682 Chestnut St, Boston, MA 02215</td>\n",
       "    </tr>\n",
       "    <tr>\n",
       "      <th>3</th>\n",
       "      <td>176560</td>\n",
       "      <td>Google Phone</td>\n",
       "      <td>1</td>\n",
       "      <td>600</td>\n",
       "      <td>04/12/19 14:38</td>\n",
       "      <td>669 Spruce St, Los Angeles, CA 90001</td>\n",
       "    </tr>\n",
       "    <tr>\n",
       "      <th>4</th>\n",
       "      <td>176560</td>\n",
       "      <td>Wired Headphones</td>\n",
       "      <td>1</td>\n",
       "      <td>11.99</td>\n",
       "      <td>04/12/19 14:38</td>\n",
       "      <td>669 Spruce St, Los Angeles, CA 90001</td>\n",
       "    </tr>\n",
       "  </tbody>\n",
       "</table>\n",
       "</div>"
      ],
      "text/plain": [
       "  orderID                     product quantity_ordered  price      order_date  \\\n",
       "0  176558        USB-C Charging Cable                2  11.95  04/19/19 08:46   \n",
       "1     NaN                         NaN              NaN    NaN             NaN   \n",
       "2  176559  Bose SoundSport Headphones                1  99.99  04/07/19 22:30   \n",
       "3  176560                Google Phone                1    600  04/12/19 14:38   \n",
       "4  176560            Wired Headphones                1  11.99  04/12/19 14:38   \n",
       "\n",
       "                                 adress  \n",
       "0          917 1st St, Dallas, TX 75001  \n",
       "1                                   NaN  \n",
       "2     682 Chestnut St, Boston, MA 02215  \n",
       "3  669 Spruce St, Los Angeles, CA 90001  \n",
       "4  669 Spruce St, Los Angeles, CA 90001  "
      ]
     },
     "execution_count": 8,
     "metadata": {},
     "output_type": "execute_result"
    }
   ],
   "source": [
    "df.rename(columns={'Order ID': 'orderID', \"Product\":\"product\",\"Quantity Ordered\":\"quantity_ordered\", \"Price Each\" : \"price\", \"Order Date\":\"order_date\", \"Purchase Address\":\"adress\"}, inplace=True)\n",
    "df.head(5)"
   ]
  },
  {
   "cell_type": "markdown",
   "metadata": {},
   "source": [
    "### Systemische Null Werte"
   ]
  },
  {
   "cell_type": "code",
   "execution_count": 9,
   "metadata": {},
   "outputs": [],
   "source": [
    "def null_values(x):\n",
    "    a = x.isnull().sum()\n",
    "    b = 100 * x.isnull().sum()/x.shape[0]\n",
    "    nv = pd.concat([a, round(b,2)], axis=1).rename(columns={0:'Missing_Values', 1:'Percentage (%)'})\n",
    "    return nv[nv.Missing_Values>0].sort_values('Missing_Values', ascending=False)"
   ]
  },
  {
   "cell_type": "code",
   "execution_count": 10,
   "metadata": {},
   "outputs": [
    {
     "data": {
      "text/html": [
       "<div>\n",
       "<style scoped>\n",
       "    .dataframe tbody tr th:only-of-type {\n",
       "        vertical-align: middle;\n",
       "    }\n",
       "\n",
       "    .dataframe tbody tr th {\n",
       "        vertical-align: top;\n",
       "    }\n",
       "\n",
       "    .dataframe thead th {\n",
       "        text-align: right;\n",
       "    }\n",
       "</style>\n",
       "<table border=\"1\" class=\"dataframe\">\n",
       "  <thead>\n",
       "    <tr style=\"text-align: right;\">\n",
       "      <th></th>\n",
       "      <th>Missing_Values</th>\n",
       "      <th>Percentage (%)</th>\n",
       "    </tr>\n",
       "  </thead>\n",
       "  <tbody>\n",
       "    <tr>\n",
       "      <th>orderID</th>\n",
       "      <td>545</td>\n",
       "      <td>0.29</td>\n",
       "    </tr>\n",
       "    <tr>\n",
       "      <th>product</th>\n",
       "      <td>545</td>\n",
       "      <td>0.29</td>\n",
       "    </tr>\n",
       "    <tr>\n",
       "      <th>quantity_ordered</th>\n",
       "      <td>545</td>\n",
       "      <td>0.29</td>\n",
       "    </tr>\n",
       "    <tr>\n",
       "      <th>price</th>\n",
       "      <td>545</td>\n",
       "      <td>0.29</td>\n",
       "    </tr>\n",
       "    <tr>\n",
       "      <th>order_date</th>\n",
       "      <td>545</td>\n",
       "      <td>0.29</td>\n",
       "    </tr>\n",
       "    <tr>\n",
       "      <th>adress</th>\n",
       "      <td>545</td>\n",
       "      <td>0.29</td>\n",
       "    </tr>\n",
       "  </tbody>\n",
       "</table>\n",
       "</div>"
      ],
      "text/plain": [
       "                  Missing_Values  Percentage (%)\n",
       "orderID                      545            0.29\n",
       "product                      545            0.29\n",
       "quantity_ordered             545            0.29\n",
       "price                        545            0.29\n",
       "order_date                   545            0.29\n",
       "adress                       545            0.29"
      ]
     },
     "execution_count": 10,
     "metadata": {},
     "output_type": "execute_result"
    }
   ],
   "source": [
    "null_values(df)"
   ]
  },
  {
   "cell_type": "code",
   "execution_count": 11,
   "metadata": {},
   "outputs": [
    {
     "data": {
      "text/html": [
       "<div>\n",
       "<style scoped>\n",
       "    .dataframe tbody tr th:only-of-type {\n",
       "        vertical-align: middle;\n",
       "    }\n",
       "\n",
       "    .dataframe tbody tr th {\n",
       "        vertical-align: top;\n",
       "    }\n",
       "\n",
       "    .dataframe thead th {\n",
       "        text-align: right;\n",
       "    }\n",
       "</style>\n",
       "<table border=\"1\" class=\"dataframe\">\n",
       "  <thead>\n",
       "    <tr style=\"text-align: right;\">\n",
       "      <th></th>\n",
       "      <th>orderID</th>\n",
       "      <th>product</th>\n",
       "      <th>quantity_ordered</th>\n",
       "      <th>price</th>\n",
       "      <th>order_date</th>\n",
       "      <th>adress</th>\n",
       "    </tr>\n",
       "  </thead>\n",
       "  <tbody>\n",
       "    <tr>\n",
       "      <th>1</th>\n",
       "      <td>NaN</td>\n",
       "      <td>NaN</td>\n",
       "      <td>NaN</td>\n",
       "      <td>NaN</td>\n",
       "      <td>NaN</td>\n",
       "      <td>NaN</td>\n",
       "    </tr>\n",
       "    <tr>\n",
       "      <th>356</th>\n",
       "      <td>NaN</td>\n",
       "      <td>NaN</td>\n",
       "      <td>NaN</td>\n",
       "      <td>NaN</td>\n",
       "      <td>NaN</td>\n",
       "      <td>NaN</td>\n",
       "    </tr>\n",
       "    <tr>\n",
       "      <th>735</th>\n",
       "      <td>NaN</td>\n",
       "      <td>NaN</td>\n",
       "      <td>NaN</td>\n",
       "      <td>NaN</td>\n",
       "      <td>NaN</td>\n",
       "      <td>NaN</td>\n",
       "    </tr>\n",
       "    <tr>\n",
       "      <th>1433</th>\n",
       "      <td>NaN</td>\n",
       "      <td>NaN</td>\n",
       "      <td>NaN</td>\n",
       "      <td>NaN</td>\n",
       "      <td>NaN</td>\n",
       "      <td>NaN</td>\n",
       "    </tr>\n",
       "    <tr>\n",
       "      <th>1553</th>\n",
       "      <td>NaN</td>\n",
       "      <td>NaN</td>\n",
       "      <td>NaN</td>\n",
       "      <td>NaN</td>\n",
       "      <td>NaN</td>\n",
       "      <td>NaN</td>\n",
       "    </tr>\n",
       "    <tr>\n",
       "      <th>...</th>\n",
       "      <td>...</td>\n",
       "      <td>...</td>\n",
       "      <td>...</td>\n",
       "      <td>...</td>\n",
       "      <td>...</td>\n",
       "      <td>...</td>\n",
       "    </tr>\n",
       "    <tr>\n",
       "      <th>185176</th>\n",
       "      <td>NaN</td>\n",
       "      <td>NaN</td>\n",
       "      <td>NaN</td>\n",
       "      <td>NaN</td>\n",
       "      <td>NaN</td>\n",
       "      <td>NaN</td>\n",
       "    </tr>\n",
       "    <tr>\n",
       "      <th>185438</th>\n",
       "      <td>NaN</td>\n",
       "      <td>NaN</td>\n",
       "      <td>NaN</td>\n",
       "      <td>NaN</td>\n",
       "      <td>NaN</td>\n",
       "      <td>NaN</td>\n",
       "    </tr>\n",
       "    <tr>\n",
       "      <th>186042</th>\n",
       "      <td>NaN</td>\n",
       "      <td>NaN</td>\n",
       "      <td>NaN</td>\n",
       "      <td>NaN</td>\n",
       "      <td>NaN</td>\n",
       "      <td>NaN</td>\n",
       "    </tr>\n",
       "    <tr>\n",
       "      <th>186548</th>\n",
       "      <td>NaN</td>\n",
       "      <td>NaN</td>\n",
       "      <td>NaN</td>\n",
       "      <td>NaN</td>\n",
       "      <td>NaN</td>\n",
       "      <td>NaN</td>\n",
       "    </tr>\n",
       "    <tr>\n",
       "      <th>186826</th>\n",
       "      <td>NaN</td>\n",
       "      <td>NaN</td>\n",
       "      <td>NaN</td>\n",
       "      <td>NaN</td>\n",
       "      <td>NaN</td>\n",
       "      <td>NaN</td>\n",
       "    </tr>\n",
       "  </tbody>\n",
       "</table>\n",
       "<p>545 rows × 6 columns</p>\n",
       "</div>"
      ],
      "text/plain": [
       "       orderID product quantity_ordered price order_date adress\n",
       "1          NaN     NaN              NaN   NaN        NaN    NaN\n",
       "356        NaN     NaN              NaN   NaN        NaN    NaN\n",
       "735        NaN     NaN              NaN   NaN        NaN    NaN\n",
       "1433       NaN     NaN              NaN   NaN        NaN    NaN\n",
       "1553       NaN     NaN              NaN   NaN        NaN    NaN\n",
       "...        ...     ...              ...   ...        ...    ...\n",
       "185176     NaN     NaN              NaN   NaN        NaN    NaN\n",
       "185438     NaN     NaN              NaN   NaN        NaN    NaN\n",
       "186042     NaN     NaN              NaN   NaN        NaN    NaN\n",
       "186548     NaN     NaN              NaN   NaN        NaN    NaN\n",
       "186826     NaN     NaN              NaN   NaN        NaN    NaN\n",
       "\n",
       "[545 rows x 6 columns]"
      ]
     },
     "execution_count": 11,
     "metadata": {},
     "output_type": "execute_result"
    }
   ],
   "source": [
    "df.loc[df[\"orderID\"].isnull(),:]"
   ]
  },
  {
   "cell_type": "code",
   "execution_count": 12,
   "metadata": {},
   "outputs": [],
   "source": [
    "df = df.dropna(axis=0)"
   ]
  },
  {
   "cell_type": "code",
   "execution_count": 13,
   "metadata": {},
   "outputs": [
    {
     "data": {
      "text/html": [
       "<div>\n",
       "<style scoped>\n",
       "    .dataframe tbody tr th:only-of-type {\n",
       "        vertical-align: middle;\n",
       "    }\n",
       "\n",
       "    .dataframe tbody tr th {\n",
       "        vertical-align: top;\n",
       "    }\n",
       "\n",
       "    .dataframe thead th {\n",
       "        text-align: right;\n",
       "    }\n",
       "</style>\n",
       "<table border=\"1\" class=\"dataframe\">\n",
       "  <thead>\n",
       "    <tr style=\"text-align: right;\">\n",
       "      <th></th>\n",
       "      <th>Missing_Values</th>\n",
       "      <th>Percentage (%)</th>\n",
       "    </tr>\n",
       "  </thead>\n",
       "  <tbody>\n",
       "  </tbody>\n",
       "</table>\n",
       "</div>"
      ],
      "text/plain": [
       "Empty DataFrame\n",
       "Columns: [Missing_Values, Percentage (%)]\n",
       "Index: []"
      ]
     },
     "execution_count": 13,
     "metadata": {},
     "output_type": "execute_result"
    }
   ],
   "source": [
    "null_values(df)"
   ]
  },
  {
   "cell_type": "markdown",
   "metadata": {},
   "source": [
    "<span style='color:red'> jetzt befinden sich **keine Null Werte**</span>"
   ]
  },
  {
   "cell_type": "markdown",
   "metadata": {},
   "source": [
    "### Synonyme (Null Werte)"
   ]
  },
  {
   "cell_type": "code",
   "execution_count": 14,
   "metadata": {},
   "outputs": [
    {
     "data": {
      "text/plain": [
       "array(['2', '1', '3', '5', 'Quantity Ordered', '4', '7', '6', '8', '9'],\n",
       "      dtype=object)"
      ]
     },
     "execution_count": 14,
     "metadata": {},
     "output_type": "execute_result"
    }
   ],
   "source": [
    "df[\"quantity_ordered\"].unique()  # Quantity Ordered !!!"
   ]
  },
  {
   "cell_type": "code",
   "execution_count": 15,
   "metadata": {},
   "outputs": [
    {
     "data": {
      "text/html": [
       "<div>\n",
       "<style scoped>\n",
       "    .dataframe tbody tr th:only-of-type {\n",
       "        vertical-align: middle;\n",
       "    }\n",
       "\n",
       "    .dataframe tbody tr th {\n",
       "        vertical-align: top;\n",
       "    }\n",
       "\n",
       "    .dataframe thead th {\n",
       "        text-align: right;\n",
       "    }\n",
       "</style>\n",
       "<table border=\"1\" class=\"dataframe\">\n",
       "  <thead>\n",
       "    <tr style=\"text-align: right;\">\n",
       "      <th></th>\n",
       "      <th>orderID</th>\n",
       "      <th>product</th>\n",
       "      <th>quantity_ordered</th>\n",
       "      <th>price</th>\n",
       "      <th>order_date</th>\n",
       "      <th>adress</th>\n",
       "    </tr>\n",
       "  </thead>\n",
       "  <tbody>\n",
       "    <tr>\n",
       "      <th>519</th>\n",
       "      <td>Order ID</td>\n",
       "      <td>Product</td>\n",
       "      <td>Quantity Ordered</td>\n",
       "      <td>Price Each</td>\n",
       "      <td>Order Date</td>\n",
       "      <td>Purchase Address</td>\n",
       "    </tr>\n",
       "    <tr>\n",
       "      <th>1149</th>\n",
       "      <td>Order ID</td>\n",
       "      <td>Product</td>\n",
       "      <td>Quantity Ordered</td>\n",
       "      <td>Price Each</td>\n",
       "      <td>Order Date</td>\n",
       "      <td>Purchase Address</td>\n",
       "    </tr>\n",
       "    <tr>\n",
       "      <th>1155</th>\n",
       "      <td>Order ID</td>\n",
       "      <td>Product</td>\n",
       "      <td>Quantity Ordered</td>\n",
       "      <td>Price Each</td>\n",
       "      <td>Order Date</td>\n",
       "      <td>Purchase Address</td>\n",
       "    </tr>\n",
       "    <tr>\n",
       "      <th>2878</th>\n",
       "      <td>Order ID</td>\n",
       "      <td>Product</td>\n",
       "      <td>Quantity Ordered</td>\n",
       "      <td>Price Each</td>\n",
       "      <td>Order Date</td>\n",
       "      <td>Purchase Address</td>\n",
       "    </tr>\n",
       "    <tr>\n",
       "      <th>2893</th>\n",
       "      <td>Order ID</td>\n",
       "      <td>Product</td>\n",
       "      <td>Quantity Ordered</td>\n",
       "      <td>Price Each</td>\n",
       "      <td>Order Date</td>\n",
       "      <td>Purchase Address</td>\n",
       "    </tr>\n",
       "    <tr>\n",
       "      <th>...</th>\n",
       "      <td>...</td>\n",
       "      <td>...</td>\n",
       "      <td>...</td>\n",
       "      <td>...</td>\n",
       "      <td>...</td>\n",
       "      <td>...</td>\n",
       "    </tr>\n",
       "    <tr>\n",
       "      <th>185164</th>\n",
       "      <td>Order ID</td>\n",
       "      <td>Product</td>\n",
       "      <td>Quantity Ordered</td>\n",
       "      <td>Price Each</td>\n",
       "      <td>Order Date</td>\n",
       "      <td>Purchase Address</td>\n",
       "    </tr>\n",
       "    <tr>\n",
       "      <th>185551</th>\n",
       "      <td>Order ID</td>\n",
       "      <td>Product</td>\n",
       "      <td>Quantity Ordered</td>\n",
       "      <td>Price Each</td>\n",
       "      <td>Order Date</td>\n",
       "      <td>Purchase Address</td>\n",
       "    </tr>\n",
       "    <tr>\n",
       "      <th>186563</th>\n",
       "      <td>Order ID</td>\n",
       "      <td>Product</td>\n",
       "      <td>Quantity Ordered</td>\n",
       "      <td>Price Each</td>\n",
       "      <td>Order Date</td>\n",
       "      <td>Purchase Address</td>\n",
       "    </tr>\n",
       "    <tr>\n",
       "      <th>186632</th>\n",
       "      <td>Order ID</td>\n",
       "      <td>Product</td>\n",
       "      <td>Quantity Ordered</td>\n",
       "      <td>Price Each</td>\n",
       "      <td>Order Date</td>\n",
       "      <td>Purchase Address</td>\n",
       "    </tr>\n",
       "    <tr>\n",
       "      <th>186738</th>\n",
       "      <td>Order ID</td>\n",
       "      <td>Product</td>\n",
       "      <td>Quantity Ordered</td>\n",
       "      <td>Price Each</td>\n",
       "      <td>Order Date</td>\n",
       "      <td>Purchase Address</td>\n",
       "    </tr>\n",
       "  </tbody>\n",
       "</table>\n",
       "<p>355 rows × 6 columns</p>\n",
       "</div>"
      ],
      "text/plain": [
       "         orderID  product  quantity_ordered       price  order_date  \\\n",
       "519     Order ID  Product  Quantity Ordered  Price Each  Order Date   \n",
       "1149    Order ID  Product  Quantity Ordered  Price Each  Order Date   \n",
       "1155    Order ID  Product  Quantity Ordered  Price Each  Order Date   \n",
       "2878    Order ID  Product  Quantity Ordered  Price Each  Order Date   \n",
       "2893    Order ID  Product  Quantity Ordered  Price Each  Order Date   \n",
       "...          ...      ...               ...         ...         ...   \n",
       "185164  Order ID  Product  Quantity Ordered  Price Each  Order Date   \n",
       "185551  Order ID  Product  Quantity Ordered  Price Each  Order Date   \n",
       "186563  Order ID  Product  Quantity Ordered  Price Each  Order Date   \n",
       "186632  Order ID  Product  Quantity Ordered  Price Each  Order Date   \n",
       "186738  Order ID  Product  Quantity Ordered  Price Each  Order Date   \n",
       "\n",
       "                  adress  \n",
       "519     Purchase Address  \n",
       "1149    Purchase Address  \n",
       "1155    Purchase Address  \n",
       "2878    Purchase Address  \n",
       "2893    Purchase Address  \n",
       "...                  ...  \n",
       "185164  Purchase Address  \n",
       "185551  Purchase Address  \n",
       "186563  Purchase Address  \n",
       "186632  Purchase Address  \n",
       "186738  Purchase Address  \n",
       "\n",
       "[355 rows x 6 columns]"
      ]
     },
     "execution_count": 15,
     "metadata": {},
     "output_type": "execute_result"
    }
   ],
   "source": [
    "df_str  =df[df[\"quantity_ordered\"]==\"Quantity Ordered\"]\n",
    "df_str"
   ]
  },
  {
   "cell_type": "code",
   "execution_count": 16,
   "metadata": {},
   "outputs": [
    {
     "data": {
      "text/plain": [
       "Int64Index([   519,   1149,   1155,   2878,   2893,   3036,   3209,   3618,\n",
       "              4138,   4645,\n",
       "            ...\n",
       "            183808, 184489, 184666, 184779, 185118, 185164, 185551, 186563,\n",
       "            186632, 186738],\n",
       "           dtype='int64', length=355)"
      ]
     },
     "execution_count": 16,
     "metadata": {},
     "output_type": "execute_result"
    }
   ],
   "source": [
    "drop_synonym = df.loc[df[\"quantity_ordered\"]==\"Quantity Ordered\",:].index\n",
    "drop_synonym"
   ]
  },
  {
   "cell_type": "code",
   "execution_count": 17,
   "metadata": {},
   "outputs": [
    {
     "data": {
      "text/html": [
       "<div>\n",
       "<style scoped>\n",
       "    .dataframe tbody tr th:only-of-type {\n",
       "        vertical-align: middle;\n",
       "    }\n",
       "\n",
       "    .dataframe tbody tr th {\n",
       "        vertical-align: top;\n",
       "    }\n",
       "\n",
       "    .dataframe thead th {\n",
       "        text-align: right;\n",
       "    }\n",
       "</style>\n",
       "<table border=\"1\" class=\"dataframe\">\n",
       "  <thead>\n",
       "    <tr style=\"text-align: right;\">\n",
       "      <th></th>\n",
       "      <th>orderID</th>\n",
       "      <th>product</th>\n",
       "      <th>quantity_ordered</th>\n",
       "      <th>price</th>\n",
       "      <th>order_date</th>\n",
       "      <th>adress</th>\n",
       "    </tr>\n",
       "  </thead>\n",
       "  <tbody>\n",
       "    <tr>\n",
       "      <th>0</th>\n",
       "      <td>176558</td>\n",
       "      <td>USB-C Charging Cable</td>\n",
       "      <td>2</td>\n",
       "      <td>11.95</td>\n",
       "      <td>04/19/19 08:46</td>\n",
       "      <td>917 1st St, Dallas, TX 75001</td>\n",
       "    </tr>\n",
       "    <tr>\n",
       "      <th>2</th>\n",
       "      <td>176559</td>\n",
       "      <td>Bose SoundSport Headphones</td>\n",
       "      <td>1</td>\n",
       "      <td>99.99</td>\n",
       "      <td>04/07/19 22:30</td>\n",
       "      <td>682 Chestnut St, Boston, MA 02215</td>\n",
       "    </tr>\n",
       "    <tr>\n",
       "      <th>3</th>\n",
       "      <td>176560</td>\n",
       "      <td>Google Phone</td>\n",
       "      <td>1</td>\n",
       "      <td>600</td>\n",
       "      <td>04/12/19 14:38</td>\n",
       "      <td>669 Spruce St, Los Angeles, CA 90001</td>\n",
       "    </tr>\n",
       "    <tr>\n",
       "      <th>4</th>\n",
       "      <td>176560</td>\n",
       "      <td>Wired Headphones</td>\n",
       "      <td>1</td>\n",
       "      <td>11.99</td>\n",
       "      <td>04/12/19 14:38</td>\n",
       "      <td>669 Spruce St, Los Angeles, CA 90001</td>\n",
       "    </tr>\n",
       "    <tr>\n",
       "      <th>5</th>\n",
       "      <td>176561</td>\n",
       "      <td>Wired Headphones</td>\n",
       "      <td>1</td>\n",
       "      <td>11.99</td>\n",
       "      <td>04/30/19 09:27</td>\n",
       "      <td>333 8th St, Los Angeles, CA 90001</td>\n",
       "    </tr>\n",
       "  </tbody>\n",
       "</table>\n",
       "</div>"
      ],
      "text/plain": [
       "  orderID                     product quantity_ordered  price      order_date  \\\n",
       "0  176558        USB-C Charging Cable                2  11.95  04/19/19 08:46   \n",
       "2  176559  Bose SoundSport Headphones                1  99.99  04/07/19 22:30   \n",
       "3  176560                Google Phone                1    600  04/12/19 14:38   \n",
       "4  176560            Wired Headphones                1  11.99  04/12/19 14:38   \n",
       "5  176561            Wired Headphones                1  11.99  04/30/19 09:27   \n",
       "\n",
       "                                 adress  \n",
       "0          917 1st St, Dallas, TX 75001  \n",
       "2     682 Chestnut St, Boston, MA 02215  \n",
       "3  669 Spruce St, Los Angeles, CA 90001  \n",
       "4  669 Spruce St, Los Angeles, CA 90001  \n",
       "5     333 8th St, Los Angeles, CA 90001  "
      ]
     },
     "execution_count": 17,
     "metadata": {},
     "output_type": "execute_result"
    }
   ],
   "source": [
    "df.drop(index=drop_synonym, inplace=True)\n",
    "df.head(5)"
   ]
  },
  {
   "cell_type": "code",
   "execution_count": 18,
   "metadata": {},
   "outputs": [],
   "source": [
    "df.reset_index(inplace=True)"
   ]
  },
  {
   "cell_type": "code",
   "execution_count": 19,
   "metadata": {},
   "outputs": [
    {
     "data": {
      "text/html": [
       "<div>\n",
       "<style scoped>\n",
       "    .dataframe tbody tr th:only-of-type {\n",
       "        vertical-align: middle;\n",
       "    }\n",
       "\n",
       "    .dataframe tbody tr th {\n",
       "        vertical-align: top;\n",
       "    }\n",
       "\n",
       "    .dataframe thead th {\n",
       "        text-align: right;\n",
       "    }\n",
       "</style>\n",
       "<table border=\"1\" class=\"dataframe\">\n",
       "  <thead>\n",
       "    <tr style=\"text-align: right;\">\n",
       "      <th></th>\n",
       "      <th>Missing_Values</th>\n",
       "      <th>Percentage (%)</th>\n",
       "    </tr>\n",
       "  </thead>\n",
       "  <tbody>\n",
       "  </tbody>\n",
       "</table>\n",
       "</div>"
      ],
      "text/plain": [
       "Empty DataFrame\n",
       "Columns: [Missing_Values, Percentage (%)]\n",
       "Index: []"
      ]
     },
     "execution_count": 19,
     "metadata": {},
     "output_type": "execute_result"
    }
   ],
   "source": [
    "null_values(df)"
   ]
  },
  {
   "cell_type": "code",
   "execution_count": 20,
   "metadata": {},
   "outputs": [
    {
     "name": "stdout",
     "output_type": "stream",
     "text": [
      "<class 'pandas.core.frame.DataFrame'>\n",
      "RangeIndex: 185950 entries, 0 to 185949\n",
      "Data columns (total 7 columns):\n",
      " #   Column            Non-Null Count   Dtype \n",
      "---  ------            --------------   ----- \n",
      " 0   index             185950 non-null  int64 \n",
      " 1   orderID           185950 non-null  object\n",
      " 2   product           185950 non-null  object\n",
      " 3   quantity_ordered  185950 non-null  object\n",
      " 4   price             185950 non-null  object\n",
      " 5   order_date        185950 non-null  object\n",
      " 6   adress            185950 non-null  object\n",
      "dtypes: int64(1), object(6)\n",
      "memory usage: 9.9+ MB\n"
     ]
    }
   ],
   "source": [
    "df.info()"
   ]
  },
  {
   "cell_type": "markdown",
   "metadata": {},
   "source": [
    "### Dtype anpassen"
   ]
  },
  {
   "cell_type": "markdown",
   "metadata": {},
   "source": [
    "<span style='color:red'> Es gibt keine Nullwerte. Dann können wir den Datentype ändern</span>"
   ]
  },
  {
   "cell_type": "code",
   "execution_count": 21,
   "metadata": {},
   "outputs": [],
   "source": [
    "df[\"orderID\"] = df[\"orderID\"].astype(\"float\")\n",
    "df[\"quantity_ordered\"] = df[\"quantity_ordered\"].astype(\"float\") # wir können ein object nicht direkt als int umwandeln  -->\n",
    "                                                                # erst umwandeln in float und danach vom float zu int\n",
    "df[\"price\"] = df[\"price\"].astype(\"float\")\n",
    "df[\"order_date\"] = df[\"order_date\"].astype(\"datetime64[ns]\")\n",
    "df[\"quantity_ordered\"] = df[\"quantity_ordered\"].astype(\"int64\") #jetzt zu int\n",
    "df[\"orderID\"] = df[\"orderID\"].astype(\"int64\")"
   ]
  },
  {
   "cell_type": "code",
   "execution_count": 22,
   "metadata": {},
   "outputs": [
    {
     "name": "stdout",
     "output_type": "stream",
     "text": [
      "<class 'pandas.core.frame.DataFrame'>\n",
      "RangeIndex: 185950 entries, 0 to 185949\n",
      "Data columns (total 7 columns):\n",
      " #   Column            Non-Null Count   Dtype         \n",
      "---  ------            --------------   -----         \n",
      " 0   index             185950 non-null  int64         \n",
      " 1   orderID           185950 non-null  int64         \n",
      " 2   product           185950 non-null  object        \n",
      " 3   quantity_ordered  185950 non-null  int64         \n",
      " 4   price             185950 non-null  float64       \n",
      " 5   order_date        185950 non-null  datetime64[ns]\n",
      " 6   adress            185950 non-null  object        \n",
      "dtypes: datetime64[ns](1), float64(1), int64(3), object(2)\n",
      "memory usage: 9.9+ MB\n"
     ]
    }
   ],
   "source": [
    "df.info()"
   ]
  },
  {
   "cell_type": "markdown",
   "metadata": {},
   "source": [
    "### Duplicated"
   ]
  },
  {
   "cell_type": "code",
   "execution_count": 23,
   "metadata": {},
   "outputs": [
    {
     "data": {
      "text/html": [
       "<div>\n",
       "<style scoped>\n",
       "    .dataframe tbody tr th:only-of-type {\n",
       "        vertical-align: middle;\n",
       "    }\n",
       "\n",
       "    .dataframe tbody tr th {\n",
       "        vertical-align: top;\n",
       "    }\n",
       "\n",
       "    .dataframe thead th {\n",
       "        text-align: right;\n",
       "    }\n",
       "</style>\n",
       "<table border=\"1\" class=\"dataframe\">\n",
       "  <thead>\n",
       "    <tr style=\"text-align: right;\">\n",
       "      <th></th>\n",
       "      <th>index</th>\n",
       "      <th>orderID</th>\n",
       "      <th>product</th>\n",
       "      <th>quantity_ordered</th>\n",
       "      <th>price</th>\n",
       "      <th>order_date</th>\n",
       "      <th>adress</th>\n",
       "    </tr>\n",
       "  </thead>\n",
       "  <tbody>\n",
       "    <tr>\n",
       "      <th>3</th>\n",
       "      <td>4</td>\n",
       "      <td>176560</td>\n",
       "      <td>Wired Headphones</td>\n",
       "      <td>1</td>\n",
       "      <td>11.99</td>\n",
       "      <td>2019-04-12 14:38:00</td>\n",
       "      <td>669 Spruce St, Los Angeles, CA 90001</td>\n",
       "    </tr>\n",
       "    <tr>\n",
       "      <th>18</th>\n",
       "      <td>19</td>\n",
       "      <td>176574</td>\n",
       "      <td>USB-C Charging Cable</td>\n",
       "      <td>1</td>\n",
       "      <td>11.95</td>\n",
       "      <td>2019-04-03 19:42:00</td>\n",
       "      <td>20 Hill St, Los Angeles, CA 90001</td>\n",
       "    </tr>\n",
       "    <tr>\n",
       "      <th>30</th>\n",
       "      <td>31</td>\n",
       "      <td>176585</td>\n",
       "      <td>Bose SoundSport Headphones</td>\n",
       "      <td>1</td>\n",
       "      <td>99.99</td>\n",
       "      <td>2019-04-07 11:31:00</td>\n",
       "      <td>823 Highland St, Boston, MA 02215</td>\n",
       "    </tr>\n",
       "    <tr>\n",
       "      <th>32</th>\n",
       "      <td>33</td>\n",
       "      <td>176586</td>\n",
       "      <td>Google Phone</td>\n",
       "      <td>1</td>\n",
       "      <td>600.00</td>\n",
       "      <td>2019-04-10 17:00:00</td>\n",
       "      <td>365 Center St, San Francisco, CA 94016</td>\n",
       "    </tr>\n",
       "    <tr>\n",
       "      <th>119</th>\n",
       "      <td>120</td>\n",
       "      <td>176672</td>\n",
       "      <td>USB-C Charging Cable</td>\n",
       "      <td>1</td>\n",
       "      <td>11.95</td>\n",
       "      <td>2019-04-12 11:07:00</td>\n",
       "      <td>778 Maple St, New York City, NY 10001</td>\n",
       "    </tr>\n",
       "    <tr>\n",
       "      <th>...</th>\n",
       "      <td>...</td>\n",
       "      <td>...</td>\n",
       "      <td>...</td>\n",
       "      <td>...</td>\n",
       "      <td>...</td>\n",
       "      <td>...</td>\n",
       "      <td>...</td>\n",
       "    </tr>\n",
       "    <tr>\n",
       "      <th>185885</th>\n",
       "      <td>186784</td>\n",
       "      <td>259297</td>\n",
       "      <td>Lightning Charging Cable</td>\n",
       "      <td>1</td>\n",
       "      <td>14.95</td>\n",
       "      <td>2019-09-15 18:54:00</td>\n",
       "      <td>138 Main St, Boston, MA 02215</td>\n",
       "    </tr>\n",
       "    <tr>\n",
       "      <th>185886</th>\n",
       "      <td>186785</td>\n",
       "      <td>259297</td>\n",
       "      <td>Lightning Charging Cable</td>\n",
       "      <td>1</td>\n",
       "      <td>14.95</td>\n",
       "      <td>2019-09-15 18:54:00</td>\n",
       "      <td>138 Main St, Boston, MA 02215</td>\n",
       "    </tr>\n",
       "    <tr>\n",
       "      <th>185893</th>\n",
       "      <td>186792</td>\n",
       "      <td>259303</td>\n",
       "      <td>AA Batteries (4-pack)</td>\n",
       "      <td>1</td>\n",
       "      <td>3.84</td>\n",
       "      <td>2019-09-20 20:18:00</td>\n",
       "      <td>106 7th St, Atlanta, GA 30301</td>\n",
       "    </tr>\n",
       "    <tr>\n",
       "      <th>185905</th>\n",
       "      <td>186804</td>\n",
       "      <td>259314</td>\n",
       "      <td>AAA Batteries (4-pack)</td>\n",
       "      <td>2</td>\n",
       "      <td>2.99</td>\n",
       "      <td>2019-09-16 00:25:00</td>\n",
       "      <td>241 Highland St, Atlanta, GA 30301</td>\n",
       "    </tr>\n",
       "    <tr>\n",
       "      <th>185942</th>\n",
       "      <td>186842</td>\n",
       "      <td>259350</td>\n",
       "      <td>USB-C Charging Cable</td>\n",
       "      <td>1</td>\n",
       "      <td>11.95</td>\n",
       "      <td>2019-09-30 13:49:00</td>\n",
       "      <td>519 Maple St, San Francisco, CA 94016</td>\n",
       "    </tr>\n",
       "  </tbody>\n",
       "</table>\n",
       "<p>7513 rows × 7 columns</p>\n",
       "</div>"
      ],
      "text/plain": [
       "         index  orderID                     product  quantity_ordered   price  \\\n",
       "3            4   176560            Wired Headphones                 1   11.99   \n",
       "18          19   176574        USB-C Charging Cable                 1   11.95   \n",
       "30          31   176585  Bose SoundSport Headphones                 1   99.99   \n",
       "32          33   176586                Google Phone                 1  600.00   \n",
       "119        120   176672        USB-C Charging Cable                 1   11.95   \n",
       "...        ...      ...                         ...               ...     ...   \n",
       "185885  186784   259297    Lightning Charging Cable                 1   14.95   \n",
       "185886  186785   259297    Lightning Charging Cable                 1   14.95   \n",
       "185893  186792   259303       AA Batteries (4-pack)                 1    3.84   \n",
       "185905  186804   259314      AAA Batteries (4-pack)                 2    2.99   \n",
       "185942  186842   259350        USB-C Charging Cable                 1   11.95   \n",
       "\n",
       "                order_date                                  adress  \n",
       "3      2019-04-12 14:38:00    669 Spruce St, Los Angeles, CA 90001  \n",
       "18     2019-04-03 19:42:00       20 Hill St, Los Angeles, CA 90001  \n",
       "30     2019-04-07 11:31:00       823 Highland St, Boston, MA 02215  \n",
       "32     2019-04-10 17:00:00  365 Center St, San Francisco, CA 94016  \n",
       "119    2019-04-12 11:07:00   778 Maple St, New York City, NY 10001  \n",
       "...                    ...                                     ...  \n",
       "185885 2019-09-15 18:54:00           138 Main St, Boston, MA 02215  \n",
       "185886 2019-09-15 18:54:00           138 Main St, Boston, MA 02215  \n",
       "185893 2019-09-20 20:18:00           106 7th St, Atlanta, GA 30301  \n",
       "185905 2019-09-16 00:25:00      241 Highland St, Atlanta, GA 30301  \n",
       "185942 2019-09-30 13:49:00   519 Maple St, San Francisco, CA 94016  \n",
       "\n",
       "[7513 rows x 7 columns]"
      ]
     },
     "execution_count": 23,
     "metadata": {},
     "output_type": "execute_result"
    }
   ],
   "source": [
    "df.loc[df['orderID'].duplicated()==True,:]"
   ]
  },
  {
   "cell_type": "code",
   "execution_count": 24,
   "metadata": {},
   "outputs": [
    {
     "data": {
      "text/html": [
       "<div>\n",
       "<style scoped>\n",
       "    .dataframe tbody tr th:only-of-type {\n",
       "        vertical-align: middle;\n",
       "    }\n",
       "\n",
       "    .dataframe tbody tr th {\n",
       "        vertical-align: top;\n",
       "    }\n",
       "\n",
       "    .dataframe thead th {\n",
       "        text-align: right;\n",
       "    }\n",
       "</style>\n",
       "<table border=\"1\" class=\"dataframe\">\n",
       "  <thead>\n",
       "    <tr style=\"text-align: right;\">\n",
       "      <th></th>\n",
       "      <th>index</th>\n",
       "      <th>orderID</th>\n",
       "      <th>product</th>\n",
       "      <th>quantity_ordered</th>\n",
       "      <th>price</th>\n",
       "      <th>order_date</th>\n",
       "      <th>adress</th>\n",
       "    </tr>\n",
       "  </thead>\n",
       "  <tbody>\n",
       "    <tr>\n",
       "      <th>185884</th>\n",
       "      <td>186783</td>\n",
       "      <td>259297</td>\n",
       "      <td>iPhone</td>\n",
       "      <td>1</td>\n",
       "      <td>700.00</td>\n",
       "      <td>2019-09-15 18:54:00</td>\n",
       "      <td>138 Main St, Boston, MA 02215</td>\n",
       "    </tr>\n",
       "    <tr>\n",
       "      <th>185885</th>\n",
       "      <td>186784</td>\n",
       "      <td>259297</td>\n",
       "      <td>Lightning Charging Cable</td>\n",
       "      <td>1</td>\n",
       "      <td>14.95</td>\n",
       "      <td>2019-09-15 18:54:00</td>\n",
       "      <td>138 Main St, Boston, MA 02215</td>\n",
       "    </tr>\n",
       "    <tr>\n",
       "      <th>185886</th>\n",
       "      <td>186785</td>\n",
       "      <td>259297</td>\n",
       "      <td>Lightning Charging Cable</td>\n",
       "      <td>1</td>\n",
       "      <td>14.95</td>\n",
       "      <td>2019-09-15 18:54:00</td>\n",
       "      <td>138 Main St, Boston, MA 02215</td>\n",
       "    </tr>\n",
       "  </tbody>\n",
       "</table>\n",
       "</div>"
      ],
      "text/plain": [
       "         index  orderID                   product  quantity_ordered   price  \\\n",
       "185884  186783   259297                    iPhone                 1  700.00   \n",
       "185885  186784   259297  Lightning Charging Cable                 1   14.95   \n",
       "185886  186785   259297  Lightning Charging Cable                 1   14.95   \n",
       "\n",
       "                order_date                         adress  \n",
       "185884 2019-09-15 18:54:00  138 Main St, Boston, MA 02215  \n",
       "185885 2019-09-15 18:54:00  138 Main St, Boston, MA 02215  \n",
       "185886 2019-09-15 18:54:00  138 Main St, Boston, MA 02215  "
      ]
     },
     "execution_count": 24,
     "metadata": {},
     "output_type": "execute_result"
    }
   ],
   "source": [
    "df.loc[df['orderID']==259297,:] "
   ]
  },
  {
   "cell_type": "markdown",
   "metadata": {},
   "source": [
    "<span style='color:red'> Diese Zeilen sind keine Duplikate, sondern eine Bestellung mit mehr als einem Artikel.</span>"
   ]
  },
  {
   "cell_type": "markdown",
   "metadata": {},
   "source": [
    "### Ausreißer"
   ]
  },
  {
   "cell_type": "code",
   "execution_count": 25,
   "metadata": {},
   "outputs": [
    {
     "data": {
      "text/html": [
       "<div>\n",
       "<style scoped>\n",
       "    .dataframe tbody tr th:only-of-type {\n",
       "        vertical-align: middle;\n",
       "    }\n",
       "\n",
       "    .dataframe tbody tr th {\n",
       "        vertical-align: top;\n",
       "    }\n",
       "\n",
       "    .dataframe thead th {\n",
       "        text-align: right;\n",
       "    }\n",
       "</style>\n",
       "<table border=\"1\" class=\"dataframe\">\n",
       "  <thead>\n",
       "    <tr style=\"text-align: right;\">\n",
       "      <th></th>\n",
       "      <th>index</th>\n",
       "      <th>orderID</th>\n",
       "      <th>quantity_ordered</th>\n",
       "      <th>price</th>\n",
       "    </tr>\n",
       "  </thead>\n",
       "  <tbody>\n",
       "    <tr>\n",
       "      <th>count</th>\n",
       "      <td>185950.000000</td>\n",
       "      <td>185950.000000</td>\n",
       "      <td>185950.000000</td>\n",
       "      <td>185950.000000</td>\n",
       "    </tr>\n",
       "    <tr>\n",
       "      <th>mean</th>\n",
       "      <td>93428.643060</td>\n",
       "      <td>230417.569379</td>\n",
       "      <td>1.124383</td>\n",
       "      <td>184.399735</td>\n",
       "    </tr>\n",
       "    <tr>\n",
       "      <th>std</th>\n",
       "      <td>53938.250088</td>\n",
       "      <td>51512.737110</td>\n",
       "      <td>0.442793</td>\n",
       "      <td>332.731330</td>\n",
       "    </tr>\n",
       "    <tr>\n",
       "      <th>min</th>\n",
       "      <td>0.000000</td>\n",
       "      <td>141234.000000</td>\n",
       "      <td>1.000000</td>\n",
       "      <td>2.990000</td>\n",
       "    </tr>\n",
       "    <tr>\n",
       "      <th>25%</th>\n",
       "      <td>46716.250000</td>\n",
       "      <td>185831.250000</td>\n",
       "      <td>1.000000</td>\n",
       "      <td>11.950000</td>\n",
       "    </tr>\n",
       "    <tr>\n",
       "      <th>50%</th>\n",
       "      <td>93434.500000</td>\n",
       "      <td>230367.500000</td>\n",
       "      <td>1.000000</td>\n",
       "      <td>14.950000</td>\n",
       "    </tr>\n",
       "    <tr>\n",
       "      <th>75%</th>\n",
       "      <td>140146.750000</td>\n",
       "      <td>275035.750000</td>\n",
       "      <td>1.000000</td>\n",
       "      <td>150.000000</td>\n",
       "    </tr>\n",
       "    <tr>\n",
       "      <th>max</th>\n",
       "      <td>186849.000000</td>\n",
       "      <td>319670.000000</td>\n",
       "      <td>9.000000</td>\n",
       "      <td>1700.000000</td>\n",
       "    </tr>\n",
       "  </tbody>\n",
       "</table>\n",
       "</div>"
      ],
      "text/plain": [
       "               index        orderID  quantity_ordered          price\n",
       "count  185950.000000  185950.000000     185950.000000  185950.000000\n",
       "mean    93428.643060  230417.569379          1.124383     184.399735\n",
       "std     53938.250088   51512.737110          0.442793     332.731330\n",
       "min         0.000000  141234.000000          1.000000       2.990000\n",
       "25%     46716.250000  185831.250000          1.000000      11.950000\n",
       "50%     93434.500000  230367.500000          1.000000      14.950000\n",
       "75%    140146.750000  275035.750000          1.000000     150.000000\n",
       "max    186849.000000  319670.000000          9.000000    1700.000000"
      ]
     },
     "execution_count": 25,
     "metadata": {},
     "output_type": "execute_result"
    }
   ],
   "source": [
    "df.describe()"
   ]
  },
  {
   "cell_type": "code",
   "execution_count": 26,
   "metadata": {},
   "outputs": [
    {
     "data": {
      "image/png": "[encoded data removed]",
      "text/plain": [
       "<Figure size 864x432 with 1 Axes>"
      ]
     },
     "metadata": {
      "needs_background": "light"
     },
     "output_type": "display_data"
    }
   ],
   "source": [
    "df[\"price\"]\n",
    "\n",
    "plt.figure(figsize=(12,6))\n",
    "\n",
    "sns.set_theme(style=\"whitegrid\")\n",
    "\n",
    "ax = sns.boxplot(x=df[\"price\"])"
   ]
  },
  {
   "cell_type": "code",
   "execution_count": 27,
   "metadata": {},
   "outputs": [
    {
     "data": {
      "text/html": [
       "<div>\n",
       "<style scoped>\n",
       "    .dataframe tbody tr th:only-of-type {\n",
       "        vertical-align: middle;\n",
       "    }\n",
       "\n",
       "    .dataframe tbody tr th {\n",
       "        vertical-align: top;\n",
       "    }\n",
       "\n",
       "    .dataframe thead th {\n",
       "        text-align: right;\n",
       "    }\n",
       "</style>\n",
       "<table border=\"1\" class=\"dataframe\">\n",
       "  <thead>\n",
       "    <tr style=\"text-align: right;\">\n",
       "      <th></th>\n",
       "      <th>index</th>\n",
       "      <th>orderID</th>\n",
       "      <th>product</th>\n",
       "      <th>quantity_ordered</th>\n",
       "      <th>price</th>\n",
       "      <th>order_date</th>\n",
       "      <th>adress</th>\n",
       "    </tr>\n",
       "  </thead>\n",
       "  <tbody>\n",
       "    <tr>\n",
       "      <th>8</th>\n",
       "      <td>9</td>\n",
       "      <td>176565</td>\n",
       "      <td>Macbook Pro Laptop</td>\n",
       "      <td>1</td>\n",
       "      <td>1700.0</td>\n",
       "      <td>2019-04-24 10:38:00</td>\n",
       "      <td>915 Willow St, San Francisco, CA 94016</td>\n",
       "    </tr>\n",
       "    <tr>\n",
       "      <th>85</th>\n",
       "      <td>86</td>\n",
       "      <td>176639</td>\n",
       "      <td>Macbook Pro Laptop</td>\n",
       "      <td>1</td>\n",
       "      <td>1700.0</td>\n",
       "      <td>2019-04-28 16:14:00</td>\n",
       "      <td>853 Cedar St, San Francisco, CA 94016</td>\n",
       "    </tr>\n",
       "    <tr>\n",
       "      <th>89</th>\n",
       "      <td>90</td>\n",
       "      <td>176643</td>\n",
       "      <td>Macbook Pro Laptop</td>\n",
       "      <td>1</td>\n",
       "      <td>1700.0</td>\n",
       "      <td>2019-04-27 21:32:00</td>\n",
       "      <td>373 Adams St, Boston, MA 02215</td>\n",
       "    </tr>\n",
       "    <tr>\n",
       "      <th>92</th>\n",
       "      <td>93</td>\n",
       "      <td>176646</td>\n",
       "      <td>Macbook Pro Laptop</td>\n",
       "      <td>1</td>\n",
       "      <td>1700.0</td>\n",
       "      <td>2019-04-22 07:14:00</td>\n",
       "      <td>657 Adams St, Portland, OR 97035</td>\n",
       "    </tr>\n",
       "    <tr>\n",
       "      <th>135</th>\n",
       "      <td>136</td>\n",
       "      <td>176687</td>\n",
       "      <td>Macbook Pro Laptop</td>\n",
       "      <td>1</td>\n",
       "      <td>1700.0</td>\n",
       "      <td>2019-04-30 10:26:00</td>\n",
       "      <td>121 Wilson St, Los Angeles, CA 90001</td>\n",
       "    </tr>\n",
       "    <tr>\n",
       "      <th>...</th>\n",
       "      <td>...</td>\n",
       "      <td>...</td>\n",
       "      <td>...</td>\n",
       "      <td>...</td>\n",
       "      <td>...</td>\n",
       "      <td>...</td>\n",
       "      <td>...</td>\n",
       "    </tr>\n",
       "    <tr>\n",
       "      <th>185619</th>\n",
       "      <td>186514</td>\n",
       "      <td>259041</td>\n",
       "      <td>Macbook Pro Laptop</td>\n",
       "      <td>1</td>\n",
       "      <td>1700.0</td>\n",
       "      <td>2019-09-13 23:14:00</td>\n",
       "      <td>220 Sunset St, New York City, NY 10001</td>\n",
       "    </tr>\n",
       "    <tr>\n",
       "      <th>185739</th>\n",
       "      <td>186637</td>\n",
       "      <td>259157</td>\n",
       "      <td>Macbook Pro Laptop</td>\n",
       "      <td>1</td>\n",
       "      <td>1700.0</td>\n",
       "      <td>2019-09-12 05:01:00</td>\n",
       "      <td>326 Forest St, Seattle, WA 98101</td>\n",
       "    </tr>\n",
       "    <tr>\n",
       "      <th>185888</th>\n",
       "      <td>186787</td>\n",
       "      <td>259299</td>\n",
       "      <td>Macbook Pro Laptop</td>\n",
       "      <td>1</td>\n",
       "      <td>1700.0</td>\n",
       "      <td>2019-09-30 23:59:00</td>\n",
       "      <td>240 Chestnut St, Los Angeles, CA 90001</td>\n",
       "    </tr>\n",
       "    <tr>\n",
       "      <th>185898</th>\n",
       "      <td>186797</td>\n",
       "      <td>259308</td>\n",
       "      <td>Macbook Pro Laptop</td>\n",
       "      <td>1</td>\n",
       "      <td>1700.0</td>\n",
       "      <td>2019-09-26 19:16:00</td>\n",
       "      <td>912 8th St, Boston, MA 02215</td>\n",
       "    </tr>\n",
       "    <tr>\n",
       "      <th>185915</th>\n",
       "      <td>186814</td>\n",
       "      <td>259324</td>\n",
       "      <td>Macbook Pro Laptop</td>\n",
       "      <td>1</td>\n",
       "      <td>1700.0</td>\n",
       "      <td>2019-09-29 13:37:00</td>\n",
       "      <td>926 North St, San Francisco, CA 94016</td>\n",
       "    </tr>\n",
       "  </tbody>\n",
       "</table>\n",
       "<p>4724 rows × 7 columns</p>\n",
       "</div>"
      ],
      "text/plain": [
       "         index  orderID             product  quantity_ordered   price  \\\n",
       "8            9   176565  Macbook Pro Laptop                 1  1700.0   \n",
       "85          86   176639  Macbook Pro Laptop                 1  1700.0   \n",
       "89          90   176643  Macbook Pro Laptop                 1  1700.0   \n",
       "92          93   176646  Macbook Pro Laptop                 1  1700.0   \n",
       "135        136   176687  Macbook Pro Laptop                 1  1700.0   \n",
       "...        ...      ...                 ...               ...     ...   \n",
       "185619  186514   259041  Macbook Pro Laptop                 1  1700.0   \n",
       "185739  186637   259157  Macbook Pro Laptop                 1  1700.0   \n",
       "185888  186787   259299  Macbook Pro Laptop                 1  1700.0   \n",
       "185898  186797   259308  Macbook Pro Laptop                 1  1700.0   \n",
       "185915  186814   259324  Macbook Pro Laptop                 1  1700.0   \n",
       "\n",
       "                order_date                                  adress  \n",
       "8      2019-04-24 10:38:00  915 Willow St, San Francisco, CA 94016  \n",
       "85     2019-04-28 16:14:00   853 Cedar St, San Francisco, CA 94016  \n",
       "89     2019-04-27 21:32:00          373 Adams St, Boston, MA 02215  \n",
       "92     2019-04-22 07:14:00        657 Adams St, Portland, OR 97035  \n",
       "135    2019-04-30 10:26:00    121 Wilson St, Los Angeles, CA 90001  \n",
       "...                    ...                                     ...  \n",
       "185619 2019-09-13 23:14:00  220 Sunset St, New York City, NY 10001  \n",
       "185739 2019-09-12 05:01:00        326 Forest St, Seattle, WA 98101  \n",
       "185888 2019-09-30 23:59:00  240 Chestnut St, Los Angeles, CA 90001  \n",
       "185898 2019-09-26 19:16:00            912 8th St, Boston, MA 02215  \n",
       "185915 2019-09-29 13:37:00   926 North St, San Francisco, CA 94016  \n",
       "\n",
       "[4724 rows x 7 columns]"
      ]
     },
     "execution_count": 27,
     "metadata": {},
     "output_type": "execute_result"
    }
   ],
   "source": [
    "über_1500  = df.loc[df[\"price\"]>1500,:]\n",
    "über_1500"
   ]
  },
  {
   "cell_type": "markdown",
   "metadata": {},
   "source": [
    "<span style='color:red'> Wir sehen, dass diese keine \"Ausreisser\" sind. Denn das Produkt ist \"Macbook Pro Laptop\".</span>\n"
   ]
  },
  {
   "cell_type": "markdown",
   "metadata": {},
   "source": [
    "## Neue Spalte Erstellen (Feature Engineering)"
   ]
  },
  {
   "cell_type": "markdown",
   "metadata": {},
   "source": [
    "### Datum : Monat, Wochen Tag, Zeit, Wochenende"
   ]
  },
  {
   "cell_type": "code",
   "execution_count": 28,
   "metadata": {},
   "outputs": [
    {
     "data": {
      "text/html": [
       "<div>\n",
       "<style scoped>\n",
       "    .dataframe tbody tr th:only-of-type {\n",
       "        vertical-align: middle;\n",
       "    }\n",
       "\n",
       "    .dataframe tbody tr th {\n",
       "        vertical-align: top;\n",
       "    }\n",
       "\n",
       "    .dataframe thead th {\n",
       "        text-align: right;\n",
       "    }\n",
       "</style>\n",
       "<table border=\"1\" class=\"dataframe\">\n",
       "  <thead>\n",
       "    <tr style=\"text-align: right;\">\n",
       "      <th></th>\n",
       "      <th>index</th>\n",
       "      <th>orderID</th>\n",
       "      <th>product</th>\n",
       "      <th>quantity_ordered</th>\n",
       "      <th>price</th>\n",
       "      <th>order_date</th>\n",
       "      <th>adress</th>\n",
       "      <th>year</th>\n",
       "      <th>monat</th>\n",
       "      <th>day</th>\n",
       "      <th>Uhr</th>\n",
       "      <th>wochentag</th>\n",
       "      <th>wochenende</th>\n",
       "    </tr>\n",
       "  </thead>\n",
       "  <tbody>\n",
       "    <tr>\n",
       "      <th>0</th>\n",
       "      <td>0</td>\n",
       "      <td>176558</td>\n",
       "      <td>USB-C Charging Cable</td>\n",
       "      <td>2</td>\n",
       "      <td>11.95</td>\n",
       "      <td>2019-04-19 08:46:00</td>\n",
       "      <td>917 1st St, Dallas, TX 75001</td>\n",
       "      <td>2019</td>\n",
       "      <td>4</td>\n",
       "      <td>19</td>\n",
       "      <td>8</td>\n",
       "      <td>Freitag</td>\n",
       "      <td>nein</td>\n",
       "    </tr>\n",
       "    <tr>\n",
       "      <th>1</th>\n",
       "      <td>2</td>\n",
       "      <td>176559</td>\n",
       "      <td>Bose SoundSport Headphones</td>\n",
       "      <td>1</td>\n",
       "      <td>99.99</td>\n",
       "      <td>2019-04-07 22:30:00</td>\n",
       "      <td>682 Chestnut St, Boston, MA 02215</td>\n",
       "      <td>2019</td>\n",
       "      <td>4</td>\n",
       "      <td>7</td>\n",
       "      <td>22</td>\n",
       "      <td>Sonntag</td>\n",
       "      <td>ja</td>\n",
       "    </tr>\n",
       "    <tr>\n",
       "      <th>2</th>\n",
       "      <td>3</td>\n",
       "      <td>176560</td>\n",
       "      <td>Google Phone</td>\n",
       "      <td>1</td>\n",
       "      <td>600.00</td>\n",
       "      <td>2019-04-12 14:38:00</td>\n",
       "      <td>669 Spruce St, Los Angeles, CA 90001</td>\n",
       "      <td>2019</td>\n",
       "      <td>4</td>\n",
       "      <td>12</td>\n",
       "      <td>14</td>\n",
       "      <td>Freitag</td>\n",
       "      <td>nein</td>\n",
       "    </tr>\n",
       "    <tr>\n",
       "      <th>3</th>\n",
       "      <td>4</td>\n",
       "      <td>176560</td>\n",
       "      <td>Wired Headphones</td>\n",
       "      <td>1</td>\n",
       "      <td>11.99</td>\n",
       "      <td>2019-04-12 14:38:00</td>\n",
       "      <td>669 Spruce St, Los Angeles, CA 90001</td>\n",
       "      <td>2019</td>\n",
       "      <td>4</td>\n",
       "      <td>12</td>\n",
       "      <td>14</td>\n",
       "      <td>Freitag</td>\n",
       "      <td>nein</td>\n",
       "    </tr>\n",
       "    <tr>\n",
       "      <th>4</th>\n",
       "      <td>5</td>\n",
       "      <td>176561</td>\n",
       "      <td>Wired Headphones</td>\n",
       "      <td>1</td>\n",
       "      <td>11.99</td>\n",
       "      <td>2019-04-30 09:27:00</td>\n",
       "      <td>333 8th St, Los Angeles, CA 90001</td>\n",
       "      <td>2019</td>\n",
       "      <td>4</td>\n",
       "      <td>30</td>\n",
       "      <td>9</td>\n",
       "      <td>Dienstag</td>\n",
       "      <td>nein</td>\n",
       "    </tr>\n",
       "  </tbody>\n",
       "</table>\n",
       "</div>"
      ],
      "text/plain": [
       "   index  orderID                     product  quantity_ordered   price  \\\n",
       "0      0   176558        USB-C Charging Cable                 2   11.95   \n",
       "1      2   176559  Bose SoundSport Headphones                 1   99.99   \n",
       "2      3   176560                Google Phone                 1  600.00   \n",
       "3      4   176560            Wired Headphones                 1   11.99   \n",
       "4      5   176561            Wired Headphones                 1   11.99   \n",
       "\n",
       "           order_date                                adress  year  monat  day  \\\n",
       "0 2019-04-19 08:46:00          917 1st St, Dallas, TX 75001  2019      4   19   \n",
       "1 2019-04-07 22:30:00     682 Chestnut St, Boston, MA 02215  2019      4    7   \n",
       "2 2019-04-12 14:38:00  669 Spruce St, Los Angeles, CA 90001  2019      4   12   \n",
       "3 2019-04-12 14:38:00  669 Spruce St, Los Angeles, CA 90001  2019      4   12   \n",
       "4 2019-04-30 09:27:00     333 8th St, Los Angeles, CA 90001  2019      4   30   \n",
       "\n",
       "   Uhr wochentag wochenende  \n",
       "0    8   Freitag       nein  \n",
       "1   22   Sonntag         ja  \n",
       "2   14   Freitag       nein  \n",
       "3   14   Freitag       nein  \n",
       "4    9  Dienstag       nein  "
      ]
     },
     "execution_count": 28,
     "metadata": {},
     "output_type": "execute_result"
    }
   ],
   "source": [
    "df['year'] = df[\"order_date\"].dt.year\n",
    "df['monat'] = df['order_date'].dt.month\n",
    "df['day'] = df[\"order_date\"].dt.day\n",
    "df['Uhr'] = df['order_date'].dt.hour\n",
    "df['wochentag'] = df['order_date'].dt.dayofweek\n",
    "df['wochenende'] = np.where(df['wochentag'] < 5,'nein','ja')\n",
    "\n",
    "dayOfWeek={0:'Montag', 1:'Dienstag', 2:'Mittwoch', 3:'Donerstag', 4:'Freitag', 5:'Samstag', 6:'Sonntag'}\n",
    "df['wochentag'] = df['wochentag'].map(dayOfWeek)\n",
    "\n",
    "df.head(5)"
   ]
  },
  {
   "cell_type": "markdown",
   "metadata": {},
   "source": [
    "### Total Umsatz"
   ]
  },
  {
   "cell_type": "code",
   "execution_count": 29,
   "metadata": {},
   "outputs": [
    {
     "data": {
      "text/html": [
       "<div>\n",
       "<style scoped>\n",
       "    .dataframe tbody tr th:only-of-type {\n",
       "        vertical-align: middle;\n",
       "    }\n",
       "\n",
       "    .dataframe tbody tr th {\n",
       "        vertical-align: top;\n",
       "    }\n",
       "\n",
       "    .dataframe thead th {\n",
       "        text-align: right;\n",
       "    }\n",
       "</style>\n",
       "<table border=\"1\" class=\"dataframe\">\n",
       "  <thead>\n",
       "    <tr style=\"text-align: right;\">\n",
       "      <th></th>\n",
       "      <th>index</th>\n",
       "      <th>orderID</th>\n",
       "      <th>product</th>\n",
       "      <th>quantity_ordered</th>\n",
       "      <th>price</th>\n",
       "      <th>order_date</th>\n",
       "      <th>adress</th>\n",
       "      <th>year</th>\n",
       "      <th>monat</th>\n",
       "      <th>day</th>\n",
       "      <th>Uhr</th>\n",
       "      <th>wochentag</th>\n",
       "      <th>wochenende</th>\n",
       "      <th>total_amount</th>\n",
       "    </tr>\n",
       "  </thead>\n",
       "  <tbody>\n",
       "    <tr>\n",
       "      <th>0</th>\n",
       "      <td>0</td>\n",
       "      <td>176558</td>\n",
       "      <td>USB-C Charging Cable</td>\n",
       "      <td>2</td>\n",
       "      <td>11.95</td>\n",
       "      <td>2019-04-19 08:46:00</td>\n",
       "      <td>917 1st St, Dallas, TX 75001</td>\n",
       "      <td>2019</td>\n",
       "      <td>4</td>\n",
       "      <td>19</td>\n",
       "      <td>8</td>\n",
       "      <td>Freitag</td>\n",
       "      <td>nein</td>\n",
       "      <td>23.90</td>\n",
       "    </tr>\n",
       "    <tr>\n",
       "      <th>1</th>\n",
       "      <td>2</td>\n",
       "      <td>176559</td>\n",
       "      <td>Bose SoundSport Headphones</td>\n",
       "      <td>1</td>\n",
       "      <td>99.99</td>\n",
       "      <td>2019-04-07 22:30:00</td>\n",
       "      <td>682 Chestnut St, Boston, MA 02215</td>\n",
       "      <td>2019</td>\n",
       "      <td>4</td>\n",
       "      <td>7</td>\n",
       "      <td>22</td>\n",
       "      <td>Sonntag</td>\n",
       "      <td>ja</td>\n",
       "      <td>99.99</td>\n",
       "    </tr>\n",
       "  </tbody>\n",
       "</table>\n",
       "</div>"
      ],
      "text/plain": [
       "   index  orderID                     product  quantity_ordered  price  \\\n",
       "0      0   176558        USB-C Charging Cable                 2  11.95   \n",
       "1      2   176559  Bose SoundSport Headphones                 1  99.99   \n",
       "\n",
       "           order_date                             adress  year  monat  day  \\\n",
       "0 2019-04-19 08:46:00       917 1st St, Dallas, TX 75001  2019      4   19   \n",
       "1 2019-04-07 22:30:00  682 Chestnut St, Boston, MA 02215  2019      4    7   \n",
       "\n",
       "   Uhr wochentag wochenende  total_amount  \n",
       "0    8   Freitag       nein         23.90  \n",
       "1   22   Sonntag         ja         99.99  "
      ]
     },
     "execution_count": 29,
     "metadata": {},
     "output_type": "execute_result"
    }
   ],
   "source": [
    "df[\"total_amount\"] = df[\"quantity_ordered\"]*df[\"price\"]\n",
    "df.head(2)"
   ]
  },
  {
   "cell_type": "markdown",
   "metadata": {},
   "source": [
    "### Adresse - Stadt"
   ]
  },
  {
   "cell_type": "code",
   "execution_count": 30,
   "metadata": {},
   "outputs": [
    {
     "data": {
      "text/html": [
       "<div>\n",
       "<style scoped>\n",
       "    .dataframe tbody tr th:only-of-type {\n",
       "        vertical-align: middle;\n",
       "    }\n",
       "\n",
       "    .dataframe tbody tr th {\n",
       "        vertical-align: top;\n",
       "    }\n",
       "\n",
       "    .dataframe thead th {\n",
       "        text-align: right;\n",
       "    }\n",
       "</style>\n",
       "<table border=\"1\" class=\"dataframe\">\n",
       "  <thead>\n",
       "    <tr style=\"text-align: right;\">\n",
       "      <th></th>\n",
       "      <th>index</th>\n",
       "      <th>orderID</th>\n",
       "      <th>product</th>\n",
       "      <th>quantity_ordered</th>\n",
       "      <th>price</th>\n",
       "      <th>order_date</th>\n",
       "      <th>adress</th>\n",
       "      <th>year</th>\n",
       "      <th>monat</th>\n",
       "      <th>day</th>\n",
       "      <th>Uhr</th>\n",
       "      <th>wochentag</th>\n",
       "      <th>wochenende</th>\n",
       "      <th>total_amount</th>\n",
       "      <th>stadt</th>\n",
       "    </tr>\n",
       "  </thead>\n",
       "  <tbody>\n",
       "    <tr>\n",
       "      <th>0</th>\n",
       "      <td>0</td>\n",
       "      <td>176558</td>\n",
       "      <td>USB-C Charging Cable</td>\n",
       "      <td>2</td>\n",
       "      <td>11.95</td>\n",
       "      <td>2019-04-19 08:46:00</td>\n",
       "      <td>917 1st St, Dallas, TX 75001</td>\n",
       "      <td>2019</td>\n",
       "      <td>4</td>\n",
       "      <td>19</td>\n",
       "      <td>8</td>\n",
       "      <td>Freitag</td>\n",
       "      <td>nein</td>\n",
       "      <td>23.90</td>\n",
       "      <td>Dallas</td>\n",
       "    </tr>\n",
       "    <tr>\n",
       "      <th>1</th>\n",
       "      <td>2</td>\n",
       "      <td>176559</td>\n",
       "      <td>Bose SoundSport Headphones</td>\n",
       "      <td>1</td>\n",
       "      <td>99.99</td>\n",
       "      <td>2019-04-07 22:30:00</td>\n",
       "      <td>682 Chestnut St, Boston, MA 02215</td>\n",
       "      <td>2019</td>\n",
       "      <td>4</td>\n",
       "      <td>7</td>\n",
       "      <td>22</td>\n",
       "      <td>Sonntag</td>\n",
       "      <td>ja</td>\n",
       "      <td>99.99</td>\n",
       "      <td>Boston</td>\n",
       "    </tr>\n",
       "  </tbody>\n",
       "</table>\n",
       "</div>"
      ],
      "text/plain": [
       "   index  orderID                     product  quantity_ordered  price  \\\n",
       "0      0   176558        USB-C Charging Cable                 2  11.95   \n",
       "1      2   176559  Bose SoundSport Headphones                 1  99.99   \n",
       "\n",
       "           order_date                             adress  year  monat  day  \\\n",
       "0 2019-04-19 08:46:00       917 1st St, Dallas, TX 75001  2019      4   19   \n",
       "1 2019-04-07 22:30:00  682 Chestnut St, Boston, MA 02215  2019      4    7   \n",
       "\n",
       "   Uhr wochentag wochenende  total_amount    stadt  \n",
       "0    8   Freitag       nein         23.90   Dallas  \n",
       "1   22   Sonntag         ja         99.99   Boston  "
      ]
     },
     "execution_count": 30,
     "metadata": {},
     "output_type": "execute_result"
    }
   ],
   "source": [
    "df[\"stadt\"] = df[\"adress\"].str.split(',').str[1]\n",
    "df.head(2)"
   ]
  },
  {
   "cell_type": "markdown",
   "metadata": {},
   "source": [
    "## Speicherplatz Optimieren"
   ]
  },
  {
   "cell_type": "code",
   "execution_count": 31,
   "metadata": {},
   "outputs": [
    {
     "data": {
      "text/plain": [
       "index                        int64\n",
       "orderID                      int64\n",
       "product                     object\n",
       "quantity_ordered             int64\n",
       "price                      float64\n",
       "order_date          datetime64[ns]\n",
       "adress                      object\n",
       "year                         int64\n",
       "monat                        int64\n",
       "day                          int64\n",
       "Uhr                          int64\n",
       "wochentag                   object\n",
       "wochenende                  object\n",
       "total_amount               float64\n",
       "stadt                       object\n",
       "dtype: object"
      ]
     },
     "execution_count": 31,
     "metadata": {},
     "output_type": "execute_result"
    }
   ],
   "source": [
    "df.dtypes"
   ]
  },
  {
   "cell_type": "code",
   "execution_count": 32,
   "metadata": {},
   "outputs": [],
   "source": [
    "# Um später die Speicherplatzersparniss errechnen zu können, arbeiten wir im weiteren mit einer Kopie. \n",
    "\n",
    "df = df.copy()"
   ]
  },
  {
   "cell_type": "code",
   "execution_count": 33,
   "metadata": {},
   "outputs": [
    {
     "data": {
      "text/plain": [
       "Index                    128\n",
       "index                1487600\n",
       "orderID              1487600\n",
       "product             14272160\n",
       "quantity_ordered     1487600\n",
       "price                1487600\n",
       "order_date           1487600\n",
       "adress              16890167\n",
       "year                 1487600\n",
       "monat                1487600\n",
       "day                  1487600\n",
       "Uhr                  1487600\n",
       "wochentag           11980827\n",
       "wochenende          11236864\n",
       "total_amount         1487600\n",
       "stadt               12590624\n",
       "dtype: int64"
      ]
     },
     "execution_count": 33,
     "metadata": {},
     "output_type": "execute_result"
    }
   ],
   "source": [
    "# schauen, ob der richtige Speicherplatz festgelegt ist  - memory_usage() --> Rückgabewert: speicherplatz in bytes\n",
    "\n",
    "memory_before = df.memory_usage(deep=True) \n",
    "memory_before\n",
    "\n",
    "# hier werden Spalten mit dem Datentyp Object näher angeschaut und geprüft wie groß deren \n",
    "# \"system-level memory consumption\" ist."
   ]
  },
  {
   "cell_type": "markdown",
   "metadata": {},
   "source": [
    "<span style='color:red'> Anzahl eindeutiger Werte und Datentyp der Spalten</span>"
   ]
  },
  {
   "cell_type": "code",
   "execution_count": 34,
   "metadata": {},
   "outputs": [
    {
     "data": {
      "text/html": [
       "<div>\n",
       "<style scoped>\n",
       "    .dataframe tbody tr th:only-of-type {\n",
       "        vertical-align: middle;\n",
       "    }\n",
       "\n",
       "    .dataframe tbody tr th {\n",
       "        vertical-align: top;\n",
       "    }\n",
       "\n",
       "    .dataframe thead th {\n",
       "        text-align: right;\n",
       "    }\n",
       "</style>\n",
       "<table border=\"1\" class=\"dataframe\">\n",
       "  <thead>\n",
       "    <tr style=\"text-align: right;\">\n",
       "      <th></th>\n",
       "      <th>dtypes</th>\n",
       "      <th>unique</th>\n",
       "    </tr>\n",
       "  </thead>\n",
       "  <tbody>\n",
       "    <tr>\n",
       "      <th>index</th>\n",
       "      <td>int64</td>\n",
       "      <td>185950</td>\n",
       "    </tr>\n",
       "    <tr>\n",
       "      <th>orderID</th>\n",
       "      <td>int64</td>\n",
       "      <td>178437</td>\n",
       "    </tr>\n",
       "    <tr>\n",
       "      <th>product</th>\n",
       "      <td>object</td>\n",
       "      <td>19</td>\n",
       "    </tr>\n",
       "    <tr>\n",
       "      <th>quantity_ordered</th>\n",
       "      <td>int64</td>\n",
       "      <td>9</td>\n",
       "    </tr>\n",
       "    <tr>\n",
       "      <th>price</th>\n",
       "      <td>float64</td>\n",
       "      <td>17</td>\n",
       "    </tr>\n",
       "    <tr>\n",
       "      <th>order_date</th>\n",
       "      <td>datetime64[ns]</td>\n",
       "      <td>142395</td>\n",
       "    </tr>\n",
       "    <tr>\n",
       "      <th>adress</th>\n",
       "      <td>object</td>\n",
       "      <td>140787</td>\n",
       "    </tr>\n",
       "    <tr>\n",
       "      <th>year</th>\n",
       "      <td>int64</td>\n",
       "      <td>2</td>\n",
       "    </tr>\n",
       "    <tr>\n",
       "      <th>monat</th>\n",
       "      <td>int64</td>\n",
       "      <td>12</td>\n",
       "    </tr>\n",
       "    <tr>\n",
       "      <th>day</th>\n",
       "      <td>int64</td>\n",
       "      <td>31</td>\n",
       "    </tr>\n",
       "    <tr>\n",
       "      <th>Uhr</th>\n",
       "      <td>int64</td>\n",
       "      <td>24</td>\n",
       "    </tr>\n",
       "    <tr>\n",
       "      <th>wochentag</th>\n",
       "      <td>object</td>\n",
       "      <td>7</td>\n",
       "    </tr>\n",
       "    <tr>\n",
       "      <th>wochenende</th>\n",
       "      <td>object</td>\n",
       "      <td>2</td>\n",
       "    </tr>\n",
       "    <tr>\n",
       "      <th>total_amount</th>\n",
       "      <td>float64</td>\n",
       "      <td>54</td>\n",
       "    </tr>\n",
       "    <tr>\n",
       "      <th>stadt</th>\n",
       "      <td>object</td>\n",
       "      <td>9</td>\n",
       "    </tr>\n",
       "  </tbody>\n",
       "</table>\n",
       "</div>"
      ],
      "text/plain": [
       "                          dtypes  unique\n",
       "index                      int64  185950\n",
       "orderID                    int64  178437\n",
       "product                   object      19\n",
       "quantity_ordered           int64       9\n",
       "price                    float64      17\n",
       "order_date        datetime64[ns]  142395\n",
       "adress                    object  140787\n",
       "year                       int64       2\n",
       "monat                      int64      12\n",
       "day                        int64      31\n",
       "Uhr                        int64      24\n",
       "wochentag                 object       7\n",
       "wochenende                object       2\n",
       "total_amount             float64      54\n",
       "stadt                     object       9"
      ]
     },
     "execution_count": 34,
     "metadata": {},
     "output_type": "execute_result"
    }
   ],
   "source": [
    "df_types = pd.concat([df.dtypes, df.nunique()], axis=1).rename(columns={0:\"dtypes\",1:\"unique\"})\n",
    "df_types"
   ]
  },
  {
   "cell_type": "markdown",
   "metadata": {},
   "source": [
    "<span style='color:red'>Für \"category\" Datentypen geeignete Spalten:\\\n",
    "    product:19,   wochentag:7,    wochenende:2,   stadt:9</span>"
   ]
  },
  {
   "cell_type": "code",
   "execution_count": 35,
   "metadata": {},
   "outputs": [],
   "source": [
    "df[['product','wochenende','stadt']] = df[['product','wochenende','stadt']].astype('category')\n",
    "\n",
    "\n",
    "df[['orderID','quantity_ordered','year','monat','day','Uhr']] = df[['orderID','quantity_ordered','year','monat','day','Uhr']].apply(pd.to_numeric, downcast='integer')\n",
    "df[['price','total_amount']] = df[['price','total_amount']].apply(pd.to_numeric, downcast='float')"
   ]
  },
  {
   "cell_type": "code",
   "execution_count": 36,
   "metadata": {},
   "outputs": [
    {
     "data": {
      "text/plain": [
       "Index                    128\n",
       "index                1487600\n",
       "orderID               743800\n",
       "product               187919\n",
       "quantity_ordered      185950\n",
       "price                 743800\n",
       "order_date           1487600\n",
       "adress              16890167\n",
       "year                  371900\n",
       "monat                 185950\n",
       "day                   185950\n",
       "Uhr                   185950\n",
       "wochentag           11980827\n",
       "wochenende            186178\n",
       "total_amount          743800\n",
       "stadt                 186849\n",
       "dtype: int64"
      ]
     },
     "execution_count": 36,
     "metadata": {},
     "output_type": "execute_result"
    }
   ],
   "source": [
    "memory_after = df.memory_usage(deep=True)\n",
    "memory_after"
   ]
  },
  {
   "cell_type": "code",
   "execution_count": 37,
   "metadata": {},
   "outputs": [
    {
     "name": "stdout",
     "output_type": "stream",
     "text": [
      "Speicherplatzreduzierung=56.32%\n"
     ]
    }
   ],
   "source": [
    "# gesamte in-memory-Speicherplatzreduzierung\n",
    "\n",
    "reduction = (memory_before.sum()-memory_after.sum())/memory_before.sum() *100\n",
    "\n",
    "print(f\"Speicherplatzreduzierung={reduction:0.2f}%\")"
   ]
  },
  {
   "cell_type": "markdown",
   "metadata": {},
   "source": [
    "## EDA"
   ]
  },
  {
   "cell_type": "markdown",
   "metadata": {},
   "source": [
    "### Die meist verkaufte Produkte"
   ]
  },
  {
   "cell_type": "code",
   "execution_count": 38,
   "metadata": {},
   "outputs": [
    {
     "data": {
      "text/html": [
       "<div>\n",
       "<style scoped>\n",
       "    .dataframe tbody tr th:only-of-type {\n",
       "        vertical-align: middle;\n",
       "    }\n",
       "\n",
       "    .dataframe tbody tr th {\n",
       "        vertical-align: top;\n",
       "    }\n",
       "\n",
       "    .dataframe thead th {\n",
       "        text-align: right;\n",
       "    }\n",
       "</style>\n",
       "<table border=\"1\" class=\"dataframe\">\n",
       "  <thead>\n",
       "    <tr style=\"text-align: right;\">\n",
       "      <th></th>\n",
       "      <th>product</th>\n",
       "      <th>quantity_ordered</th>\n",
       "    </tr>\n",
       "  </thead>\n",
       "  <tbody>\n",
       "    <tr>\n",
       "      <th>0</th>\n",
       "      <td>AAA Batteries (4-pack)</td>\n",
       "      <td>31017.0</td>\n",
       "    </tr>\n",
       "    <tr>\n",
       "      <th>1</th>\n",
       "      <td>AA Batteries (4-pack)</td>\n",
       "      <td>27635.0</td>\n",
       "    </tr>\n",
       "    <tr>\n",
       "      <th>2</th>\n",
       "      <td>USB-C Charging Cable</td>\n",
       "      <td>23975.0</td>\n",
       "    </tr>\n",
       "    <tr>\n",
       "      <th>3</th>\n",
       "      <td>Lightning Charging Cable</td>\n",
       "      <td>23217.0</td>\n",
       "    </tr>\n",
       "    <tr>\n",
       "      <th>4</th>\n",
       "      <td>Wired Headphones</td>\n",
       "      <td>20557.0</td>\n",
       "    </tr>\n",
       "    <tr>\n",
       "      <th>5</th>\n",
       "      <td>Apple Airpods Headphones</td>\n",
       "      <td>15661.0</td>\n",
       "    </tr>\n",
       "    <tr>\n",
       "      <th>6</th>\n",
       "      <td>Bose SoundSport Headphones</td>\n",
       "      <td>13457.0</td>\n",
       "    </tr>\n",
       "    <tr>\n",
       "      <th>7</th>\n",
       "      <td>27in FHD Monitor</td>\n",
       "      <td>7550.0</td>\n",
       "    </tr>\n",
       "    <tr>\n",
       "      <th>8</th>\n",
       "      <td>iPhone</td>\n",
       "      <td>6849.0</td>\n",
       "    </tr>\n",
       "    <tr>\n",
       "      <th>9</th>\n",
       "      <td>27in 4K Gaming Monitor</td>\n",
       "      <td>6244.0</td>\n",
       "    </tr>\n",
       "  </tbody>\n",
       "</table>\n",
       "</div>"
      ],
      "text/plain": [
       "                      product  quantity_ordered\n",
       "0      AAA Batteries (4-pack)           31017.0\n",
       "1       AA Batteries (4-pack)           27635.0\n",
       "2        USB-C Charging Cable           23975.0\n",
       "3    Lightning Charging Cable           23217.0\n",
       "4            Wired Headphones           20557.0\n",
       "5    Apple Airpods Headphones           15661.0\n",
       "6  Bose SoundSport Headphones           13457.0\n",
       "7            27in FHD Monitor            7550.0\n",
       "8                      iPhone            6849.0\n",
       "9      27in 4K Gaming Monitor            6244.0"
      ]
     },
     "execution_count": 38,
     "metadata": {},
     "output_type": "execute_result"
    }
   ],
   "source": [
    "verk_prod=df.groupby(by=['product'])['quantity_ordered'].sum().sort_values(ascending=False).iloc[:10]\n",
    "df_top_prod=verk_prod.to_frame().reset_index()\n",
    "df_top_prod.head(10)"
   ]
  },
  {
   "cell_type": "code",
   "execution_count": 39,
   "metadata": {},
   "outputs": [
    {
     "data": {
      "text/html": [
       "<div>\n",
       "<style scoped>\n",
       "    .dataframe tbody tr th:only-of-type {\n",
       "        vertical-align: middle;\n",
       "    }\n",
       "\n",
       "    .dataframe tbody tr th {\n",
       "        vertical-align: top;\n",
       "    }\n",
       "\n",
       "    .dataframe thead th {\n",
       "        text-align: right;\n",
       "    }\n",
       "</style>\n",
       "<table border=\"1\" class=\"dataframe\">\n",
       "  <thead>\n",
       "    <tr style=\"text-align: right;\">\n",
       "      <th></th>\n",
       "      <th>stadt</th>\n",
       "      <th>product</th>\n",
       "      <th>Anzahl_der_Waren</th>\n",
       "      <th>Umsatz</th>\n",
       "    </tr>\n",
       "  </thead>\n",
       "  <tbody>\n",
       "    <tr>\n",
       "      <th>0</th>\n",
       "      <td>Atlanta</td>\n",
       "      <td>20in Monitor</td>\n",
       "      <td>342.000</td>\n",
       "      <td>37,616.578</td>\n",
       "    </tr>\n",
       "    <tr>\n",
       "      <th>1</th>\n",
       "      <td>Atlanta</td>\n",
       "      <td>27in 4K Gaming Monitor</td>\n",
       "      <td>493.000</td>\n",
       "      <td>192,265.062</td>\n",
       "    </tr>\n",
       "    <tr>\n",
       "      <th>2</th>\n",
       "      <td>Atlanta</td>\n",
       "      <td>27in FHD Monitor</td>\n",
       "      <td>588.000</td>\n",
       "      <td>88,194.125</td>\n",
       "    </tr>\n",
       "    <tr>\n",
       "      <th>3</th>\n",
       "      <td>Atlanta</td>\n",
       "      <td>34in Ultrawide Monitor</td>\n",
       "      <td>482.000</td>\n",
       "      <td>183,155.172</td>\n",
       "    </tr>\n",
       "    <tr>\n",
       "      <th>4</th>\n",
       "      <td>Atlanta</td>\n",
       "      <td>AA Batteries (4-pack)</td>\n",
       "      <td>2,193.000</td>\n",
       "      <td>8,421.120</td>\n",
       "    </tr>\n",
       "    <tr>\n",
       "      <th>...</th>\n",
       "      <td>...</td>\n",
       "      <td>...</td>\n",
       "      <td>...</td>\n",
       "      <td>...</td>\n",
       "    </tr>\n",
       "    <tr>\n",
       "      <th>166</th>\n",
       "      <td>Seattle</td>\n",
       "      <td>ThinkPad Laptop</td>\n",
       "      <td>333.000</td>\n",
       "      <td>332,996.656</td>\n",
       "    </tr>\n",
       "    <tr>\n",
       "      <th>167</th>\n",
       "      <td>Seattle</td>\n",
       "      <td>USB-C Charging Cable</td>\n",
       "      <td>1,869.000</td>\n",
       "      <td>22,334.549</td>\n",
       "    </tr>\n",
       "    <tr>\n",
       "      <th>168</th>\n",
       "      <td>Seattle</td>\n",
       "      <td>Vareebadd Phone</td>\n",
       "      <td>179.000</td>\n",
       "      <td>71,600.000</td>\n",
       "    </tr>\n",
       "    <tr>\n",
       "      <th>169</th>\n",
       "      <td>Seattle</td>\n",
       "      <td>Wired Headphones</td>\n",
       "      <td>1,652.000</td>\n",
       "      <td>19,807.480</td>\n",
       "    </tr>\n",
       "    <tr>\n",
       "      <th>170</th>\n",
       "      <td>Seattle</td>\n",
       "      <td>iPhone</td>\n",
       "      <td>546.000</td>\n",
       "      <td>382,200.000</td>\n",
       "    </tr>\n",
       "  </tbody>\n",
       "</table>\n",
       "<p>171 rows × 4 columns</p>\n",
       "</div>"
      ],
      "text/plain": [
       "        stadt                 product  Anzahl_der_Waren      Umsatz\n",
       "0     Atlanta            20in Monitor           342.000  37,616.578\n",
       "1     Atlanta  27in 4K Gaming Monitor           493.000 192,265.062\n",
       "2     Atlanta        27in FHD Monitor           588.000  88,194.125\n",
       "3     Atlanta  34in Ultrawide Monitor           482.000 183,155.172\n",
       "4     Atlanta   AA Batteries (4-pack)         2,193.000   8,421.120\n",
       "..        ...                     ...               ...         ...\n",
       "166   Seattle         ThinkPad Laptop           333.000 332,996.656\n",
       "167   Seattle    USB-C Charging Cable         1,869.000  22,334.549\n",
       "168   Seattle         Vareebadd Phone           179.000  71,600.000\n",
       "169   Seattle        Wired Headphones         1,652.000  19,807.480\n",
       "170   Seattle                  iPhone           546.000 382,200.000\n",
       "\n",
       "[171 rows x 4 columns]"
      ]
     },
     "execution_count": 39,
     "metadata": {},
     "output_type": "execute_result"
    }
   ],
   "source": [
    "pd.options.display.float_format ='{:,.3f}'.format\n",
    "\n",
    "df_burnst = df.groupby(['stadt','product'], as_index=False).agg(Anzahl_der_Waren=('quantity_ordered','sum'), Umsatz=('total_amount','sum'))\n",
    "df_burnst"
   ]
  },
  {
   "cell_type": "code",
   "execution_count": 40,
   "metadata": {},
   "outputs": [
    {
     "data": {
      "application/vnd.plotly.v1+json": {
       "config": {
        "plotlyServerURL": "https://plot.ly"
       },
       "data": [
        {
         "branchvalues": "total",
         "customdata": [
          [
           "20in Monitor"
          ],
          [
           "27in 4K Gaming Monitor"
          ],
          [
           "27in FHD Monitor"
          ],
          [
           "34in Ultrawide Monitor"
          ],
          [
           "AA Batteries (4-pack)"
          ],
          [
           "AAA Batteries (4-pack)"
          ],
          [
           "Apple Airpods Headphones"
          ],
          [
           "Bose SoundSport Headphones"
          ],
          [
           "Flatscreen TV"
          ],
          [
           "Google Phone"
          ],
          [
           "LG Dryer"
          ],
          [
           "LG Washing Machine"
          ],
          [
           "Lightning Charging Cable"
          ],
          [
           "Macbook Pro Laptop"
          ],
          [
           "ThinkPad Laptop"
          ],
          [
           "USB-C Charging Cable"
          ],
          [
           "Vareebadd Phone"
          ],
          [
           "Wired Headphones"
          ],
          [
           "iPhone"
          ]
         ],
         "domain": {
          "x": [
           0,
           1
          ],
          "y": [
           0,
           1
          ]
         },
         "hovertemplate": "labels=%{label}<br>Umsatz=%{value}<br>parent=%{parent}<br>id=%{id}<br>product=%{customdata[0]}<extra></extra>",
         "ids": [
          "20in Monitor",
          "27in 4K Gaming Monitor",
          "27in FHD Monitor",
          "34in Ultrawide Monitor",
          "AA Batteries (4-pack)",
          "AAA Batteries (4-pack)",
          "Apple Airpods Headphones",
          "Bose SoundSport Headphones",
          "Flatscreen TV",
          "Google Phone",
          "LG Dryer",
          "LG Washing Machine",
          "Lightning Charging Cable",
          "Macbook Pro Laptop",
          "ThinkPad Laptop",
          "USB-C Charging Cable",
          "Vareebadd Phone",
          "Wired Headphones",
          "iPhone"
         ],
         "labels": [
          "20in Monitor",
          "27in 4K Gaming Monitor",
          "27in FHD Monitor",
          "34in Ultrawide Monitor",
          "AA Batteries (4-pack)",
          "AAA Batteries (4-pack)",
          "Apple Airpods Headphones",
          "Bose SoundSport Headphones",
          "Flatscreen TV",
          "Google Phone",
          "LG Dryer",
          "LG Washing Machine",
          "Lightning Charging Cable",
          "Macbook Pro Laptop",
          "ThinkPad Laptop",
          "USB-C Charging Cable",
          "Vareebadd Phone",
          "Wired Headphones",
          "iPhone"
         ],
         "marker": {
          "colors": [
           "#636efa",
           "#EF553B",
           "#00cc96",
           "#ab63fa",
           "#FFA15A",
           "#19d3f3",
           "#FF6692",
           "#B6E880",
           "#FF97FF",
           "#FECB52",
           "#636efa",
           "#EF553B",
           "#00cc96",
           "#ab63fa",
           "#FFA15A",
           "#19d3f3",
           "#FF6692",
           "#B6E880",
           "#FF97FF"
          ]
         },
         "name": "",
         "parents": [
          "",
          "",
          "",
          "",
          "",
          "",
          "",
          "",
          "",
          "",
          "",
          "",
          "",
          "",
          "",
          "",
          "",
          "",
          ""
         ],
         "type": "sunburst",
         "values": [
          454148.6875,
          2435097.5,
          1132424.5,
          2355558,
          106118.3984375,
          92740.828125,
          2349150,
          1345565.375,
          1445700,
          3319200,
          387600,
          399600,
          347094.15625,
          8037600,
          4129958.5,
          286501.25,
          827200,
          246478.4375,
          4794300
         ]
        }
       ],
       "layout": {
        "legend": {
         "tracegroupgap": 0
        },
        "margin": {
         "t": 60
        },
        "template": {
         "data": {
          "bar": [
           {
            "error_x": {
             "color": "#2a3f5f"
            },
            "error_y": {
             "color": "#2a3f5f"
            },
            "marker": {
             "line": {
              "color": "#E5ECF6",
              "width": 0.5
             },
             "pattern": {
              "fillmode": "overlay",
              "size": 10,
              "solidity": 0.2
             }
            },
            "type": "bar"
           }
          ],
          "barpolar": [
           {
            "marker": {
             "line": {
              "color": "#E5ECF6",
              "width": 0.5
             },
             "pattern": {
              "fillmode": "overlay",
              "size": 10,
              "solidity": 0.2
             }
            },
            "type": "barpolar"
           }
          ],
          "carpet": [
           {
            "aaxis": {
             "endlinecolor": "#2a3f5f",
             "gridcolor": "white",
             "linecolor": "white",
             "minorgridcolor": "white",
             "startlinecolor": "#2a3f5f"
            },
            "baxis": {
             "endlinecolor": "#2a3f5f",
             "gridcolor": "white",
             "linecolor": "white",
             "minorgridcolor": "white",
             "startlinecolor": "#2a3f5f"
            },
            "type": "carpet"
           }
          ],
          "choropleth": [
           {
            "colorbar": {
             "outlinewidth": 0,
             "ticks": ""
            },
            "type": "choropleth"
           }
          ],
          "contour": [
           {
            "colorbar": {
             "outlinewidth": 0,
             "ticks": ""
            },
            "colorscale": [
             [
              0,
              "#0d0887"
             ],
             [
              0.1111111111111111,
              "#46039f"
             ],
             [
              0.2222222222222222,
              "#7201a8"
             ],
             [
              0.3333333333333333,
              "#9c179e"
             ],
             [
              0.4444444444444444,
              "#bd3786"
             ],
             [
              0.5555555555555556,
              "#d8576b"
             ],
             [
              0.6666666666666666,
              "#ed7953"
             ],
             [
              0.7777777777777778,
              "#fb9f3a"
             ],
             [
              0.8888888888888888,
              "#fdca26"
             ],
             [
              1,
              "#f0f921"
             ]
            ],
            "type": "contour"
           }
          ],
          "contourcarpet": [
           {
            "colorbar": {
             "outlinewidth": 0,
             "ticks": ""
            },
            "type": "contourcarpet"
           }
          ],
          "heatmap": [
           {
            "colorbar": {
             "outlinewidth": 0,
             "ticks": ""
            },
            "colorscale": [
             [
              0,
              "#0d0887"
             ],
             [
              0.1111111111111111,
              "#46039f"
             ],
             [
              0.2222222222222222,
              "#7201a8"
             ],
             [
              0.3333333333333333,
              "#9c179e"
             ],
             [
              0.4444444444444444,
              "#bd3786"
             ],
             [
              0.5555555555555556,
              "#d8576b"
             ],
             [
              0.6666666666666666,
              "#ed7953"
             ],
             [
              0.7777777777777778,
              "#fb9f3a"
             ],
             [
              0.8888888888888888,
              "#fdca26"
             ],
             [
              1,
              "#f0f921"
             ]
            ],
            "type": "heatmap"
           }
          ],
          "heatmapgl": [
           {
            "colorbar": {
             "outlinewidth": 0,
             "ticks": ""
            },
            "colorscale": [
             [
              0,
              "#0d0887"
             ],
             [
              0.1111111111111111,
              "#46039f"
             ],
             [
              0.2222222222222222,
              "#7201a8"
             ],
             [
              0.3333333333333333,
              "#9c179e"
             ],
             [
              0.4444444444444444,
              "#bd3786"
             ],
             [
              0.5555555555555556,
              "#d8576b"
             ],
             [
              0.6666666666666666,
              "#ed7953"
             ],
             [
              0.7777777777777778,
              "#fb9f3a"
             ],
             [
              0.8888888888888888,
              "#fdca26"
             ],
             [
              1,
              "#f0f921"
             ]
            ],
            "type": "heatmapgl"
           }
          ],
          "histogram": [
           {
            "marker": {
             "pattern": {
              "fillmode": "overlay",
              "size": 10,
              "solidity": 0.2
             }
            },
            "type": "histogram"
           }
          ],
          "histogram2d": [
           {
            "colorbar": {
             "outlinewidth": 0,
             "ticks": ""
            },
            "colorscale": [
             [
              0,
              "#0d0887"
             ],
             [
              0.1111111111111111,
              "#46039f"
             ],
             [
              0.2222222222222222,
              "#7201a8"
             ],
             [
              0.3333333333333333,
              "#9c179e"
             ],
             [
              0.4444444444444444,
              "#bd3786"
             ],
             [
              0.5555555555555556,
              "#d8576b"
             ],
             [
              0.6666666666666666,
              "#ed7953"
             ],
             [
              0.7777777777777778,
              "#fb9f3a"
             ],
             [
              0.8888888888888888,
              "#fdca26"
             ],
             [
              1,
              "#f0f921"
             ]
            ],
            "type": "histogram2d"
           }
          ],
          "histogram2dcontour": [
           {
            "colorbar": {
             "outlinewidth": 0,
             "ticks": ""
            },
            "colorscale": [
             [
              0,
              "#0d0887"
             ],
             [
              0.1111111111111111,
              "#46039f"
             ],
             [
              0.2222222222222222,
              "#7201a8"
             ],
             [
              0.3333333333333333,
              "#9c179e"
             ],
             [
              0.4444444444444444,
              "#bd3786"
             ],
             [
              0.5555555555555556,
              "#d8576b"
             ],
             [
              0.6666666666666666,
              "#ed7953"
             ],
             [
              0.7777777777777778,
              "#fb9f3a"
             ],
             [
              0.8888888888888888,
              "#fdca26"
             ],
             [
              1,
              "#f0f921"
             ]
            ],
            "type": "histogram2dcontour"
           }
          ],
          "mesh3d": [
           {
            "colorbar": {
             "outlinewidth": 0,
             "ticks": ""
            },
            "type": "mesh3d"
           }
          ],
          "parcoords": [
           {
            "line": {
             "colorbar": {
              "outlinewidth": 0,
              "ticks": ""
             }
            },
            "type": "parcoords"
           }
          ],
          "pie": [
           {
            "automargin": true,
            "type": "pie"
           }
          ],
          "scatter": [
           {
            "marker": {
             "colorbar": {
              "outlinewidth": 0,
              "ticks": ""
             }
            },
            "type": "scatter"
           }
          ],
          "scatter3d": [
           {
            "line": {
             "colorbar": {
              "outlinewidth": 0,
              "ticks": ""
             }
            },
            "marker": {
             "colorbar": {
              "outlinewidth": 0,
              "ticks": ""
             }
            },
            "type": "scatter3d"
           }
          ],
          "scattercarpet": [
           {
            "marker": {
             "colorbar": {
              "outlinewidth": 0,
              "ticks": ""
             }
            },
            "type": "scattercarpet"
           }
          ],
          "scattergeo": [
           {
            "marker": {
             "colorbar": {
              "outlinewidth": 0,
              "ticks": ""
             }
            },
            "type": "scattergeo"
           }
          ],
          "scattergl": [
           {
            "marker": {
             "colorbar": {
              "outlinewidth": 0,
              "ticks": ""
             }
            },
            "type": "scattergl"
           }
          ],
          "scattermapbox": [
           {
            "marker": {
             "colorbar": {
              "outlinewidth": 0,
              "ticks": ""
             }
            },
            "type": "scattermapbox"
           }
          ],
          "scatterpolar": [
           {
            "marker": {
             "colorbar": {
              "outlinewidth": 0,
              "ticks": ""
             }
            },
            "type": "scatterpolar"
           }
          ],
          "scatterpolargl": [
           {
            "marker": {
             "colorbar": {
              "outlinewidth": 0,
              "ticks": ""
             }
            },
            "type": "scatterpolargl"
           }
          ],
          "scatterternary": [
           {
            "marker": {
             "colorbar": {
              "outlinewidth": 0,
              "ticks": ""
             }
            },
            "type": "scatterternary"
           }
          ],
          "surface": [
           {
            "colorbar": {
             "outlinewidth": 0,
             "ticks": ""
            },
            "colorscale": [
             [
              0,
              "#0d0887"
             ],
             [
              0.1111111111111111,
              "#46039f"
             ],
             [
              0.2222222222222222,
              "#7201a8"
             ],
             [
              0.3333333333333333,
              "#9c179e"
             ],
             [
              0.4444444444444444,
              "#bd3786"
             ],
             [
              0.5555555555555556,
              "#d8576b"
             ],
             [
              0.6666666666666666,
              "#ed7953"
             ],
             [
              0.7777777777777778,
              "#fb9f3a"
             ],
             [
              0.8888888888888888,
              "#fdca26"
             ],
             [
              1,
              "#f0f921"
             ]
            ],
            "type": "surface"
           }
          ],
          "table": [
           {
            "cells": {
             "fill": {
              "color": "#EBF0F8"
             },
             "line": {
              "color": "white"
             }
            },
            "header": {
             "fill": {
              "color": "#C8D4E3"
             },
             "line": {
              "color": "white"
             }
            },
            "type": "table"
           }
          ]
         },
         "layout": {
          "annotationdefaults": {
           "arrowcolor": "#2a3f5f",
           "arrowhead": 0,
           "arrowwidth": 1
          },
          "autotypenumbers": "strict",
          "coloraxis": {
           "colorbar": {
            "outlinewidth": 0,
            "ticks": ""
           }
          },
          "colorscale": {
           "diverging": [
            [
             0,
             "#8e0152"
            ],
            [
             0.1,
             "#c51b7d"
            ],
            [
             0.2,
             "#de77ae"
            ],
            [
             0.3,
             "#f1b6da"
            ],
            [
             0.4,
             "#fde0ef"
            ],
            [
             0.5,
             "#f7f7f7"
            ],
            [
             0.6,
             "#e6f5d0"
            ],
            [
             0.7,
             "#b8e186"
            ],
            [
             0.8,
             "#7fbc41"
            ],
            [
             0.9,
             "#4d9221"
            ],
            [
             1,
             "#276419"
            ]
           ],
           "sequential": [
            [
             0,
             "#0d0887"
            ],
            [
             0.1111111111111111,
             "#46039f"
            ],
            [
             0.2222222222222222,
             "#7201a8"
            ],
            [
             0.3333333333333333,
             "#9c179e"
            ],
            [
             0.4444444444444444,
             "#bd3786"
            ],
            [
             0.5555555555555556,
             "#d8576b"
            ],
            [
             0.6666666666666666,
             "#ed7953"
            ],
            [
             0.7777777777777778,
             "#fb9f3a"
            ],
            [
             0.8888888888888888,
             "#fdca26"
            ],
            [
             1,
             "#f0f921"
            ]
           ],
           "sequentialminus": [
            [
             0,
             "#0d0887"
            ],
            [
             0.1111111111111111,
             "#46039f"
            ],
            [
             0.2222222222222222,
             "#7201a8"
            ],
            [
             0.3333333333333333,
             "#9c179e"
            ],
            [
             0.4444444444444444,
             "#bd3786"
            ],
            [
             0.5555555555555556,
             "#d8576b"
            ],
            [
             0.6666666666666666,
             "#ed7953"
            ],
            [
             0.7777777777777778,
             "#fb9f3a"
            ],
            [
             0.8888888888888888,
             "#fdca26"
            ],
            [
             1,
             "#f0f921"
            ]
           ]
          },
          "colorway": [
           "#636efa",
           "#EF553B",
           "#00cc96",
           "#ab63fa",
           "#FFA15A",
           "#19d3f3",
           "#FF6692",
           "#B6E880",
           "#FF97FF",
           "#FECB52"
          ],
          "font": {
           "color": "#2a3f5f"
          },
          "geo": {
           "bgcolor": "white",
           "lakecolor": "white",
           "landcolor": "#E5ECF6",
           "showlakes": true,
           "showland": true,
           "subunitcolor": "white"
          },
          "hoverlabel": {
           "align": "left"
          },
          "hovermode": "closest",
          "mapbox": {
           "style": "light"
          },
          "paper_bgcolor": "white",
          "plot_bgcolor": "#E5ECF6",
          "polar": {
           "angularaxis": {
            "gridcolor": "white",
            "linecolor": "white",
            "ticks": ""
           },
           "bgcolor": "#E5ECF6",
           "radialaxis": {
            "gridcolor": "white",
            "linecolor": "white",
            "ticks": ""
           }
          },
          "scene": {
           "xaxis": {
            "backgroundcolor": "#E5ECF6",
            "gridcolor": "white",
            "gridwidth": 2,
            "linecolor": "white",
            "showbackground": true,
            "ticks": "",
            "zerolinecolor": "white"
           },
           "yaxis": {
            "backgroundcolor": "#E5ECF6",
            "gridcolor": "white",
            "gridwidth": 2,
            "linecolor": "white",
            "showbackground": true,
            "ticks": "",
            "zerolinecolor": "white"
           },
           "zaxis": {
            "backgroundcolor": "#E5ECF6",
            "gridcolor": "white",
            "gridwidth": 2,
            "linecolor": "white",
            "showbackground": true,
            "ticks": "",
            "zerolinecolor": "white"
           }
          },
          "shapedefaults": {
           "line": {
            "color": "#2a3f5f"
           }
          },
          "ternary": {
           "aaxis": {
            "gridcolor": "white",
            "linecolor": "white",
            "ticks": ""
           },
           "baxis": {
            "gridcolor": "white",
            "linecolor": "white",
            "ticks": ""
           },
           "bgcolor": "#E5ECF6",
           "caxis": {
            "gridcolor": "white",
            "linecolor": "white",
            "ticks": ""
           }
          },
          "title": {
           "x": 0.05
          },
          "xaxis": {
           "automargin": true,
           "gridcolor": "white",
           "linecolor": "white",
           "ticks": "",
           "title": {
            "standoff": 15
           },
           "zerolinecolor": "white",
           "zerolinewidth": 2
          },
          "yaxis": {
           "automargin": true,
           "gridcolor": "white",
           "linecolor": "white",
           "ticks": "",
           "title": {
            "standoff": 15
           },
           "zerolinecolor": "white",
           "zerolinewidth": 2
          }
         }
        }
       }
      },
      "text/html": [
       "<div>                            <div id=\"80dc76dc-1d4a-4996-bd80-aefd1618a002\" class=\"plotly-graph-div\" style=\"height:525px; width:100%;\"></div>            <script type=\"text/javascript\">                require([\"plotly\"], function(Plotly) {                    window.PLOTLYENV=window.PLOTLYENV || {};                                    if (document.getElementById(\"80dc76dc-1d4a-4996-bd80-aefd1618a002\")) {                    Plotly.newPlot(                        \"80dc76dc-1d4a-4996-bd80-aefd1618a002\",                        [{\"branchvalues\":\"total\",\"customdata\":[[\"20in Monitor\"],[\"27in 4K Gaming Monitor\"],[\"27in FHD Monitor\"],[\"34in Ultrawide Monitor\"],[\"AA Batteries (4-pack)\"],[\"AAA Batteries (4-pack)\"],[\"Apple Airpods Headphones\"],[\"Bose SoundSport Headphones\"],[\"Flatscreen TV\"],[\"Google Phone\"],[\"LG Dryer\"],[\"LG Washing Machine\"],[\"Lightning Charging Cable\"],[\"Macbook Pro Laptop\"],[\"ThinkPad Laptop\"],[\"USB-C Charging Cable\"],[\"Vareebadd Phone\"],[\"Wired Headphones\"],[\"iPhone\"]],\"domain\":{\"x\":[0.0,1.0],\"y\":[0.0,1.0]},\"hovertemplate\":\"labels=%{label}<br>Umsatz=%{value}<br>parent=%{parent}<br>id=%{id}<br>product=%{customdata[0]}<extra></extra>\",\"ids\":[\"20in Monitor\",\"27in 4K Gaming Monitor\",\"27in FHD Monitor\",\"34in Ultrawide Monitor\",\"AA Batteries (4-pack)\",\"AAA Batteries (4-pack)\",\"Apple Airpods Headphones\",\"Bose SoundSport Headphones\",\"Flatscreen TV\",\"Google Phone\",\"LG Dryer\",\"LG Washing Machine\",\"Lightning Charging Cable\",\"Macbook Pro Laptop\",\"ThinkPad Laptop\",\"USB-C Charging Cable\",\"Vareebadd Phone\",\"Wired Headphones\",\"iPhone\"],\"labels\":[\"20in Monitor\",\"27in 4K Gaming Monitor\",\"27in FHD Monitor\",\"34in Ultrawide Monitor\",\"AA Batteries (4-pack)\",\"AAA Batteries (4-pack)\",\"Apple Airpods Headphones\",\"Bose SoundSport Headphones\",\"Flatscreen TV\",\"Google Phone\",\"LG Dryer\",\"LG Washing Machine\",\"Lightning Charging Cable\",\"Macbook Pro Laptop\",\"ThinkPad Laptop\",\"USB-C Charging Cable\",\"Vareebadd Phone\",\"Wired Headphones\",\"iPhone\"],\"marker\":{\"colors\":[\"#636efa\",\"#EF553B\",\"#00cc96\",\"#ab63fa\",\"#FFA15A\",\"#19d3f3\",\"#FF6692\",\"#B6E880\",\"#FF97FF\",\"#FECB52\",\"#636efa\",\"#EF553B\",\"#00cc96\",\"#ab63fa\",\"#FFA15A\",\"#19d3f3\",\"#FF6692\",\"#B6E880\",\"#FF97FF\"]},\"name\":\"\",\"parents\":[\"\",\"\",\"\",\"\",\"\",\"\",\"\",\"\",\"\",\"\",\"\",\"\",\"\",\"\",\"\",\"\",\"\",\"\",\"\"],\"values\":[454148.6875,2435097.5,1132424.5,2355558.0,106118.3984375,92740.828125,2349150.0,1345565.375,1445700.0,3319200.0,387600.0,399600.0,347094.15625,8037600.0,4129958.5,286501.25,827200.0,246478.4375,4794300.0],\"type\":\"sunburst\"}],                        {\"template\":{\"data\":{\"bar\":[{\"error_x\":{\"color\":\"#2a3f5f\"},\"error_y\":{\"color\":\"#2a3f5f\"},\"marker\":{\"line\":{\"color\":\"#E5ECF6\",\"width\":0.5},\"pattern\":{\"fillmode\":\"overlay\",\"size\":10,\"solidity\":0.2}},\"type\":\"bar\"}],\"barpolar\":[{\"marker\":{\"line\":{\"color\":\"#E5ECF6\",\"width\":0.5},\"pattern\":{\"fillmode\":\"overlay\",\"size\":10,\"solidity\":0.2}},\"type\":\"barpolar\"}],\"carpet\":[{\"aaxis\":{\"endlinecolor\":\"#2a3f5f\",\"gridcolor\":\"white\",\"linecolor\":\"white\",\"minorgridcolor\":\"white\",\"startlinecolor\":\"#2a3f5f\"},\"baxis\":{\"endlinecolor\":\"#2a3f5f\",\"gridcolor\":\"white\",\"linecolor\":\"white\",\"minorgridcolor\":\"white\",\"startlinecolor\":\"#2a3f5f\"},\"type\":\"carpet\"}],\"choropleth\":[{\"colorbar\":{\"outlinewidth\":0,\"ticks\":\"\"},\"type\":\"choropleth\"}],\"contour\":[{\"colorbar\":{\"outlinewidth\":0,\"ticks\":\"\"},\"colorscale\":[[0.0,\"#0d0887\"],[0.1111111111111111,\"#46039f\"],[0.2222222222222222,\"#7201a8\"],[0.3333333333333333,\"#9c179e\"],[0.4444444444444444,\"#bd3786\"],[0.5555555555555556,\"#d8576b\"],[0.6666666666666666,\"#ed7953\"],[0.7777777777777778,\"#fb9f3a\"],[0.8888888888888888,\"#fdca26\"],[1.0,\"#f0f921\"]],\"type\":\"contour\"}],\"contourcarpet\":[{\"colorbar\":{\"outlinewidth\":0,\"ticks\":\"\"},\"type\":\"contourcarpet\"}],\"heatmap\":[{\"colorbar\":{\"outlinewidth\":0,\"ticks\":\"\"},\"colorscale\":[[0.0,\"#0d0887\"],[0.1111111111111111,\"#46039f\"],[0.2222222222222222,\"#7201a8\"],[0.3333333333333333,\"#9c179e\"],[0.4444444444444444,\"#bd3786\"],[0.5555555555555556,\"#d8576b\"],[0.6666666666666666,\"#ed7953\"],[0.7777777777777778,\"#fb9f3a\"],[0.8888888888888888,\"#fdca26\"],[1.0,\"#f0f921\"]],\"type\":\"heatmap\"}],\"heatmapgl\":[{\"colorbar\":{\"outlinewidth\":0,\"ticks\":\"\"},\"colorscale\":[[0.0,\"#0d0887\"],[0.1111111111111111,\"#46039f\"],[0.2222222222222222,\"#7201a8\"],[0.3333333333333333,\"#9c179e\"],[0.4444444444444444,\"#bd3786\"],[0.5555555555555556,\"#d8576b\"],[0.6666666666666666,\"#ed7953\"],[0.7777777777777778,\"#fb9f3a\"],[0.8888888888888888,\"#fdca26\"],[1.0,\"#f0f921\"]],\"type\":\"heatmapgl\"}],\"histogram\":[{\"marker\":{\"pattern\":{\"fillmode\":\"overlay\",\"size\":10,\"solidity\":0.2}},\"type\":\"histogram\"}],\"histogram2d\":[{\"colorbar\":{\"outlinewidth\":0,\"ticks\":\"\"},\"colorscale\":[[0.0,\"#0d0887\"],[0.1111111111111111,\"#46039f\"],[0.2222222222222222,\"#7201a8\"],[0.3333333333333333,\"#9c179e\"],[0.4444444444444444,\"#bd3786\"],[0.5555555555555556,\"#d8576b\"],[0.6666666666666666,\"#ed7953\"],[0.7777777777777778,\"#fb9f3a\"],[0.8888888888888888,\"#fdca26\"],[1.0,\"#f0f921\"]],\"type\":\"histogram2d\"}],\"histogram2dcontour\":[{\"colorbar\":{\"outlinewidth\":0,\"ticks\":\"\"},\"colorscale\":[[0.0,\"#0d0887\"],[0.1111111111111111,\"#46039f\"],[0.2222222222222222,\"#7201a8\"],[0.3333333333333333,\"#9c179e\"],[0.4444444444444444,\"#bd3786\"],[0.5555555555555556,\"#d8576b\"],[0.6666666666666666,\"#ed7953\"],[0.7777777777777778,\"#fb9f3a\"],[0.8888888888888888,\"#fdca26\"],[1.0,\"#f0f921\"]],\"type\":\"histogram2dcontour\"}],\"mesh3d\":[{\"colorbar\":{\"outlinewidth\":0,\"ticks\":\"\"},\"type\":\"mesh3d\"}],\"parcoords\":[{\"line\":{\"colorbar\":{\"outlinewidth\":0,\"ticks\":\"\"}},\"type\":\"parcoords\"}],\"pie\":[{\"automargin\":true,\"type\":\"pie\"}],\"scatter\":[{\"marker\":{\"colorbar\":{\"outlinewidth\":0,\"ticks\":\"\"}},\"type\":\"scatter\"}],\"scatter3d\":[{\"line\":{\"colorbar\":{\"outlinewidth\":0,\"ticks\":\"\"}},\"marker\":{\"colorbar\":{\"outlinewidth\":0,\"ticks\":\"\"}},\"type\":\"scatter3d\"}],\"scattercarpet\":[{\"marker\":{\"colorbar\":{\"outlinewidth\":0,\"ticks\":\"\"}},\"type\":\"scattercarpet\"}],\"scattergeo\":[{\"marker\":{\"colorbar\":{\"outlinewidth\":0,\"ticks\":\"\"}},\"type\":\"scattergeo\"}],\"scattergl\":[{\"marker\":{\"colorbar\":{\"outlinewidth\":0,\"ticks\":\"\"}},\"type\":\"scattergl\"}],\"scattermapbox\":[{\"marker\":{\"colorbar\":{\"outlinewidth\":0,\"ticks\":\"\"}},\"type\":\"scattermapbox\"}],\"scatterpolar\":[{\"marker\":{\"colorbar\":{\"outlinewidth\":0,\"ticks\":\"\"}},\"type\":\"scatterpolar\"}],\"scatterpolargl\":[{\"marker\":{\"colorbar\":{\"outlinewidth\":0,\"ticks\":\"\"}},\"type\":\"scatterpolargl\"}],\"scatterternary\":[{\"marker\":{\"colorbar\":{\"outlinewidth\":0,\"ticks\":\"\"}},\"type\":\"scatterternary\"}],\"surface\":[{\"colorbar\":{\"outlinewidth\":0,\"ticks\":\"\"},\"colorscale\":[[0.0,\"#0d0887\"],[0.1111111111111111,\"#46039f\"],[0.2222222222222222,\"#7201a8\"],[0.3333333333333333,\"#9c179e\"],[0.4444444444444444,\"#bd3786\"],[0.5555555555555556,\"#d8576b\"],[0.6666666666666666,\"#ed7953\"],[0.7777777777777778,\"#fb9f3a\"],[0.8888888888888888,\"#fdca26\"],[1.0,\"#f0f921\"]],\"type\":\"surface\"}],\"table\":[{\"cells\":{\"fill\":{\"color\":\"#EBF0F8\"},\"line\":{\"color\":\"white\"}},\"header\":{\"fill\":{\"color\":\"#C8D4E3\"},\"line\":{\"color\":\"white\"}},\"type\":\"table\"}]},\"layout\":{\"annotationdefaults\":{\"arrowcolor\":\"#2a3f5f\",\"arrowhead\":0,\"arrowwidth\":1},\"autotypenumbers\":\"strict\",\"coloraxis\":{\"colorbar\":{\"outlinewidth\":0,\"ticks\":\"\"}},\"colorscale\":{\"diverging\":[[0,\"#8e0152\"],[0.1,\"#c51b7d\"],[0.2,\"#de77ae\"],[0.3,\"#f1b6da\"],[0.4,\"#fde0ef\"],[0.5,\"#f7f7f7\"],[0.6,\"#e6f5d0\"],[0.7,\"#b8e186\"],[0.8,\"#7fbc41\"],[0.9,\"#4d9221\"],[1,\"#276419\"]],\"sequential\":[[0.0,\"#0d0887\"],[0.1111111111111111,\"#46039f\"],[0.2222222222222222,\"#7201a8\"],[0.3333333333333333,\"#9c179e\"],[0.4444444444444444,\"#bd3786\"],[0.5555555555555556,\"#d8576b\"],[0.6666666666666666,\"#ed7953\"],[0.7777777777777778,\"#fb9f3a\"],[0.8888888888888888,\"#fdca26\"],[1.0,\"#f0f921\"]],\"sequentialminus\":[[0.0,\"#0d0887\"],[0.1111111111111111,\"#46039f\"],[0.2222222222222222,\"#7201a8\"],[0.3333333333333333,\"#9c179e\"],[0.4444444444444444,\"#bd3786\"],[0.5555555555555556,\"#d8576b\"],[0.6666666666666666,\"#ed7953\"],[0.7777777777777778,\"#fb9f3a\"],[0.8888888888888888,\"#fdca26\"],[1.0,\"#f0f921\"]]},\"colorway\":[\"#636efa\",\"#EF553B\",\"#00cc96\",\"#ab63fa\",\"#FFA15A\",\"#19d3f3\",\"#FF6692\",\"#B6E880\",\"#FF97FF\",\"#FECB52\"],\"font\":{\"color\":\"#2a3f5f\"},\"geo\":{\"bgcolor\":\"white\",\"lakecolor\":\"white\",\"landcolor\":\"#E5ECF6\",\"showlakes\":true,\"showland\":true,\"subunitcolor\":\"white\"},\"hoverlabel\":{\"align\":\"left\"},\"hovermode\":\"closest\",\"mapbox\":{\"style\":\"light\"},\"paper_bgcolor\":\"white\",\"plot_bgcolor\":\"#E5ECF6\",\"polar\":{\"angularaxis\":{\"gridcolor\":\"white\",\"linecolor\":\"white\",\"ticks\":\"\"},\"bgcolor\":\"#E5ECF6\",\"radialaxis\":{\"gridcolor\":\"white\",\"linecolor\":\"white\",\"ticks\":\"\"}},\"scene\":{\"xaxis\":{\"backgroundcolor\":\"#E5ECF6\",\"gridcolor\":\"white\",\"gridwidth\":2,\"linecolor\":\"white\",\"showbackground\":true,\"ticks\":\"\",\"zerolinecolor\":\"white\"},\"yaxis\":{\"backgroundcolor\":\"#E5ECF6\",\"gridcolor\":\"white\",\"gridwidth\":2,\"linecolor\":\"white\",\"showbackground\":true,\"ticks\":\"\",\"zerolinecolor\":\"white\"},\"zaxis\":{\"backgroundcolor\":\"#E5ECF6\",\"gridcolor\":\"white\",\"gridwidth\":2,\"linecolor\":\"white\",\"showbackground\":true,\"ticks\":\"\",\"zerolinecolor\":\"white\"}},\"shapedefaults\":{\"line\":{\"color\":\"#2a3f5f\"}},\"ternary\":{\"aaxis\":{\"gridcolor\":\"white\",\"linecolor\":\"white\",\"ticks\":\"\"},\"baxis\":{\"gridcolor\":\"white\",\"linecolor\":\"white\",\"ticks\":\"\"},\"bgcolor\":\"#E5ECF6\",\"caxis\":{\"gridcolor\":\"white\",\"linecolor\":\"white\",\"ticks\":\"\"}},\"title\":{\"x\":0.05},\"xaxis\":{\"automargin\":true,\"gridcolor\":\"white\",\"linecolor\":\"white\",\"ticks\":\"\",\"title\":{\"standoff\":15},\"zerolinecolor\":\"white\",\"zerolinewidth\":2},\"yaxis\":{\"automargin\":true,\"gridcolor\":\"white\",\"linecolor\":\"white\",\"ticks\":\"\",\"title\":{\"standoff\":15},\"zerolinecolor\":\"white\",\"zerolinewidth\":2}}},\"legend\":{\"tracegroupgap\":0},\"margin\":{\"t\":60}},                        {\"responsive\": true}                    ).then(function(){\n",
       "                            \n",
       "var gd = document.getElementById('80dc76dc-1d4a-4996-bd80-aefd1618a002');\n",
       "var x = new MutationObserver(function (mutations, observer) {{\n",
       "        var display = window.getComputedStyle(gd).display;\n",
       "        if (!display || display === 'none') {{\n",
       "            console.log([gd, 'removed!']);\n",
       "            Plotly.purge(gd);\n",
       "            observer.disconnect();\n",
       "        }}\n",
       "}});\n",
       "\n",
       "// Listen for the removal of the full notebook cells\n",
       "var notebookContainer = gd.closest('#notebook-container');\n",
       "if (notebookContainer) {{\n",
       "    x.observe(notebookContainer, {childList: true});\n",
       "}}\n",
       "\n",
       "// Listen for the clearing of the current output cell\n",
       "var outputEl = gd.closest('.output');\n",
       "if (outputEl) {{\n",
       "    x.observe(outputEl, {childList: true});\n",
       "}}\n",
       "\n",
       "                        })                };                });            </script>        </div>"
      ]
     },
     "metadata": {},
     "output_type": "display_data"
    }
   ],
   "source": [
    "fig = px.sunburst(df_burnst, path=[\"product\"],\n",
    "                 values=\"Umsatz\",\n",
    "                 color = \"product\")\n",
    "fig.show()"
   ]
  },
  {
   "cell_type": "code",
   "execution_count": 41,
   "metadata": {},
   "outputs": [
    {
     "data": {
      "application/vnd.plotly.v1+json": {
       "config": {
        "plotlyServerURL": "https://plot.ly"
       },
       "data": [
        {
         "branchvalues": "total",
         "customdata": [
          [
           " Atlanta"
          ],
          [
           " Atlanta"
          ],
          [
           " Seattle"
          ],
          [
           " San Francisco"
          ],
          [
           " Portland"
          ],
          [
           " New York City"
          ],
          [
           " Dallas"
          ],
          [
           " Boston"
          ],
          [
           " Austin"
          ],
          [
           " Los Angeles"
          ],
          [
           " Seattle"
          ],
          [
           " Atlanta"
          ],
          [
           " Boston"
          ],
          [
           " Dallas"
          ],
          [
           " Los Angeles"
          ],
          [
           " Austin"
          ],
          [
           " Portland"
          ],
          [
           " San Francisco"
          ],
          [
           " New York City"
          ],
          [
           " Dallas"
          ],
          [
           " Austin"
          ],
          [
           " Atlanta"
          ],
          [
           " Seattle"
          ],
          [
           " San Francisco"
          ],
          [
           " Portland"
          ],
          [
           " New York City"
          ],
          [
           " Los Angeles"
          ],
          [
           " Boston"
          ],
          [
           " New York City"
          ],
          [
           " Atlanta"
          ],
          [
           " Austin"
          ],
          [
           " Boston"
          ],
          [
           " Dallas"
          ],
          [
           " Los Angeles"
          ],
          [
           " Austin"
          ],
          [
           " Portland"
          ],
          [
           " San Francisco"
          ],
          [
           " Seattle"
          ],
          [
           " Boston"
          ],
          [
           " Austin"
          ],
          [
           " Atlanta"
          ],
          [
           " Seattle"
          ],
          [
           " San Francisco"
          ],
          [
           " Portland"
          ],
          [
           " New York City"
          ],
          [
           " Los Angeles"
          ],
          [
           " Dallas"
          ],
          [
           " Portland"
          ],
          [
           " Austin"
          ],
          [
           " Dallas"
          ],
          [
           " Los Angeles"
          ],
          [
           " New York City"
          ],
          [
           " Boston"
          ],
          [
           " San Francisco"
          ],
          [
           " Seattle"
          ],
          [
           " Atlanta"
          ],
          [
           " Boston"
          ],
          [
           " Los Angeles"
          ],
          [
           " Boston"
          ],
          [
           " Austin"
          ],
          [
           " Atlanta"
          ],
          [
           " Seattle"
          ],
          [
           " San Francisco"
          ],
          [
           " Portland"
          ],
          [
           " New York City"
          ],
          [
           " Dallas"
          ],
          [
           " Dallas"
          ],
          [
           " Austin"
          ],
          [
           " Atlanta"
          ],
          [
           " Seattle"
          ],
          [
           " San Francisco"
          ],
          [
           " Portland"
          ],
          [
           " New York City"
          ],
          [
           " Los Angeles"
          ],
          [
           " Dallas"
          ],
          [
           " Boston"
          ],
          [
           " San Francisco"
          ],
          [
           " Seattle"
          ],
          [
           " Atlanta"
          ],
          [
           " Portland"
          ],
          [
           " Boston"
          ],
          [
           " Dallas"
          ],
          [
           " Los Angeles"
          ],
          [
           " Austin"
          ],
          [
           " New York City"
          ],
          [
           " Los Angeles"
          ],
          [
           " Dallas"
          ],
          [
           " New York City"
          ],
          [
           " Portland"
          ],
          [
           " San Francisco"
          ],
          [
           " Los Angeles"
          ],
          [
           " Atlanta"
          ],
          [
           " Austin"
          ],
          [
           " Boston"
          ],
          [
           " Seattle"
          ],
          [
           " San Francisco"
          ],
          [
           " New York City"
          ],
          [
           " Los Angeles"
          ],
          [
           " Dallas"
          ],
          [
           " Boston"
          ],
          [
           " Austin"
          ],
          [
           " Atlanta"
          ],
          [
           " Seattle"
          ],
          [
           " Portland"
          ],
          [
           " New York City"
          ],
          [
           " Los Angeles"
          ],
          [
           " Portland"
          ],
          [
           " San Francisco"
          ],
          [
           " Seattle"
          ],
          [
           " New York City"
          ],
          [
           " Austin"
          ],
          [
           " Boston"
          ],
          [
           " Dallas"
          ],
          [
           " Atlanta"
          ],
          [
           " San Francisco"
          ],
          [
           " Portland"
          ],
          [
           " New York City"
          ],
          [
           " Los Angeles"
          ],
          [
           " Dallas"
          ],
          [
           " Austin"
          ],
          [
           " Atlanta"
          ],
          [
           " Seattle"
          ],
          [
           " Portland"
          ],
          [
           " Boston"
          ],
          [
           " Los Angeles"
          ],
          [
           " New York City"
          ],
          [
           " San Francisco"
          ],
          [
           " Seattle"
          ],
          [
           " Atlanta"
          ],
          [
           " Portland"
          ],
          [
           " Austin"
          ],
          [
           " Boston"
          ],
          [
           " Dallas"
          ],
          [
           " Seattle"
          ],
          [
           " Portland"
          ],
          [
           " New York City"
          ],
          [
           " Los Angeles"
          ],
          [
           " Boston"
          ],
          [
           " Austin"
          ],
          [
           " Atlanta"
          ],
          [
           " San Francisco"
          ],
          [
           " San Francisco"
          ],
          [
           " Dallas"
          ],
          [
           " New York City"
          ],
          [
           " Los Angeles"
          ],
          [
           " Dallas"
          ],
          [
           " Boston"
          ],
          [
           " Austin"
          ],
          [
           " Atlanta"
          ],
          [
           " Seattle"
          ],
          [
           " San Francisco"
          ],
          [
           " Portland"
          ],
          [
           " Austin"
          ],
          [
           " Boston"
          ],
          [
           " Portland"
          ],
          [
           " Los Angeles"
          ],
          [
           " New York City"
          ],
          [
           " Atlanta"
          ],
          [
           " Dallas"
          ],
          [
           " Seattle"
          ],
          [
           " Dallas"
          ],
          [
           " Portland"
          ],
          [
           " New York City"
          ],
          [
           " Los Angeles"
          ],
          [
           " Boston"
          ],
          [
           " Austin"
          ],
          [
           " Atlanta"
          ],
          [
           " Seattle"
          ],
          [
           " San Francisco"
          ],
          [
           " San Francisco"
          ],
          [
           " Seattle"
          ],
          [
           " Atlanta"
          ],
          [
           " Austin"
          ],
          [
           " Boston"
          ],
          [
           " Dallas"
          ],
          [
           " Los Angeles"
          ],
          [
           " New York City"
          ],
          [
           " Portland"
          ],
          [
           " San Francisco"
          ],
          [
           " Seattle"
          ]
         ],
         "domain": {
          "x": [
           0,
           1
          ],
          "y": [
           0,
           1
          ]
         },
         "hovertemplate": "labels=%{label}<br>Umsatz=%{value}<br>parent=%{parent}<br>id=%{id}<br>stadt=%{customdata[0]}<extra></extra>",
         "ids": [
          " Atlanta/20in Monitor",
          " Atlanta/27in FHD Monitor",
          " Seattle/27in 4K Gaming Monitor",
          " San Francisco/27in 4K Gaming Monitor",
          " Portland/27in 4K Gaming Monitor",
          " New York City/27in 4K Gaming Monitor",
          " Dallas/27in 4K Gaming Monitor",
          " Boston/27in 4K Gaming Monitor",
          " Austin/27in 4K Gaming Monitor",
          " Los Angeles/27in 4K Gaming Monitor",
          " Seattle/20in Monitor",
          " Atlanta/27in 4K Gaming Monitor",
          " Boston/20in Monitor",
          " Dallas/20in Monitor",
          " Los Angeles/20in Monitor",
          " Austin/20in Monitor",
          " Portland/20in Monitor",
          " San Francisco/20in Monitor",
          " New York City/20in Monitor",
          " Dallas/34in Ultrawide Monitor",
          " Austin/AA Batteries (4-pack)",
          " Atlanta/AA Batteries (4-pack)",
          " Seattle/34in Ultrawide Monitor",
          " San Francisco/34in Ultrawide Monitor",
          " Portland/34in Ultrawide Monitor",
          " New York City/34in Ultrawide Monitor",
          " Los Angeles/34in Ultrawide Monitor",
          " Boston/34in Ultrawide Monitor",
          " New York City/27in FHD Monitor",
          " Atlanta/34in Ultrawide Monitor",
          " Austin/34in Ultrawide Monitor",
          " Boston/27in FHD Monitor",
          " Dallas/27in FHD Monitor",
          " Los Angeles/27in FHD Monitor",
          " Austin/27in FHD Monitor",
          " Portland/27in FHD Monitor",
          " San Francisco/27in FHD Monitor",
          " Seattle/27in FHD Monitor",
          " Boston/Apple Airpods Headphones",
          " Austin/Apple Airpods Headphones",
          " Atlanta/Apple Airpods Headphones",
          " Seattle/AAA Batteries (4-pack)",
          " San Francisco/AAA Batteries (4-pack)",
          " Portland/AAA Batteries (4-pack)",
          " New York City/AAA Batteries (4-pack)",
          " Los Angeles/AAA Batteries (4-pack)",
          " Dallas/AAA Batteries (4-pack)",
          " Portland/AA Batteries (4-pack)",
          " Austin/AAA Batteries (4-pack)",
          " Dallas/AA Batteries (4-pack)",
          " Los Angeles/AA Batteries (4-pack)",
          " New York City/AA Batteries (4-pack)",
          " Boston/AA Batteries (4-pack)",
          " San Francisco/AA Batteries (4-pack)",
          " Seattle/AA Batteries (4-pack)",
          " Atlanta/AAA Batteries (4-pack)",
          " Boston/AAA Batteries (4-pack)",
          " Los Angeles/Bose SoundSport Headphones",
          " Boston/Flatscreen TV",
          " Austin/Flatscreen TV",
          " Atlanta/Flatscreen TV",
          " Seattle/Bose SoundSport Headphones",
          " San Francisco/Bose SoundSport Headphones",
          " Portland/Bose SoundSport Headphones",
          " New York City/Bose SoundSport Headphones",
          " Dallas/Flatscreen TV",
          " Dallas/Bose SoundSport Headphones",
          " Austin/Bose SoundSport Headphones",
          " Atlanta/Bose SoundSport Headphones",
          " Seattle/Apple Airpods Headphones",
          " San Francisco/Apple Airpods Headphones",
          " Portland/Apple Airpods Headphones",
          " New York City/Apple Airpods Headphones",
          " Los Angeles/Apple Airpods Headphones",
          " Dallas/Apple Airpods Headphones",
          " Boston/Bose SoundSport Headphones",
          " San Francisco/Google Phone",
          " Seattle/Google Phone",
          " Atlanta/LG Dryer",
          " Portland/Google Phone",
          " Boston/LG Dryer",
          " Dallas/LG Dryer",
          " Los Angeles/LG Dryer",
          " Austin/LG Dryer",
          " New York City/Google Phone",
          " Los Angeles/Google Phone",
          " Dallas/Google Phone",
          " New York City/Flatscreen TV",
          " Portland/Flatscreen TV",
          " San Francisco/Flatscreen TV",
          " Los Angeles/Flatscreen TV",
          " Atlanta/Google Phone",
          " Austin/Google Phone",
          " Boston/Google Phone",
          " Seattle/Flatscreen TV",
          " San Francisco/LG Washing Machine",
          " New York City/Lightning Charging Cable",
          " Los Angeles/Lightning Charging Cable",
          " Dallas/Lightning Charging Cable",
          " Boston/Lightning Charging Cable",
          " Austin/Lightning Charging Cable",
          " Atlanta/Lightning Charging Cable",
          " Seattle/LG Washing Machine",
          " Portland/LG Washing Machine",
          " New York City/LG Washing Machine",
          " Los Angeles/LG Washing Machine",
          " Portland/LG Dryer",
          " San Francisco/LG Dryer",
          " Seattle/LG Dryer",
          " New York City/LG Dryer",
          " Austin/LG Washing Machine",
          " Boston/LG Washing Machine",
          " Dallas/LG Washing Machine",
          " Atlanta/LG Washing Machine",
          " San Francisco/Macbook Pro Laptop",
          " Portland/ThinkPad Laptop",
          " New York City/ThinkPad Laptop",
          " Los Angeles/ThinkPad Laptop",
          " Dallas/ThinkPad Laptop",
          " Austin/ThinkPad Laptop",
          " Atlanta/ThinkPad Laptop",
          " Seattle/Macbook Pro Laptop",
          " Portland/Macbook Pro Laptop",
          " Boston/ThinkPad Laptop",
          " Los Angeles/Macbook Pro Laptop",
          " New York City/Macbook Pro Laptop",
          " San Francisco/Lightning Charging Cable",
          " Seattle/Lightning Charging Cable",
          " Atlanta/Macbook Pro Laptop",
          " Portland/Lightning Charging Cable",
          " Austin/Macbook Pro Laptop",
          " Boston/Macbook Pro Laptop",
          " Dallas/Macbook Pro Laptop",
          " Seattle/USB-C Charging Cable",
          " Portland/Vareebadd Phone",
          " New York City/Vareebadd Phone",
          " Los Angeles/Vareebadd Phone",
          " Boston/Vareebadd Phone",
          " Austin/Vareebadd Phone",
          " Atlanta/Vareebadd Phone",
          " San Francisco/Vareebadd Phone",
          " San Francisco/USB-C Charging Cable",
          " Dallas/Vareebadd Phone",
          " New York City/USB-C Charging Cable",
          " Los Angeles/USB-C Charging Cable",
          " Dallas/USB-C Charging Cable",
          " Boston/USB-C Charging Cable",
          " Austin/USB-C Charging Cable",
          " Atlanta/USB-C Charging Cable",
          " Seattle/ThinkPad Laptop",
          " San Francisco/ThinkPad Laptop",
          " Portland/USB-C Charging Cable",
          " Austin/iPhone",
          " Boston/iPhone",
          " Portland/iPhone",
          " Los Angeles/iPhone",
          " New York City/iPhone",
          " Atlanta/iPhone",
          " Dallas/iPhone",
          " Seattle/Wired Headphones",
          " Dallas/Wired Headphones",
          " Portland/Wired Headphones",
          " New York City/Wired Headphones",
          " Los Angeles/Wired Headphones",
          " Boston/Wired Headphones",
          " Austin/Wired Headphones",
          " Atlanta/Wired Headphones",
          " Seattle/Vareebadd Phone",
          " San Francisco/iPhone",
          " San Francisco/Wired Headphones",
          " Seattle/iPhone",
          " Atlanta",
          " Austin",
          " Boston",
          " Dallas",
          " Los Angeles",
          " New York City",
          " Portland",
          " San Francisco",
          " Seattle"
         ],
         "labels": [
          "20in Monitor",
          "27in FHD Monitor",
          "27in 4K Gaming Monitor",
          "27in 4K Gaming Monitor",
          "27in 4K Gaming Monitor",
          "27in 4K Gaming Monitor",
          "27in 4K Gaming Monitor",
          "27in 4K Gaming Monitor",
          "27in 4K Gaming Monitor",
          "27in 4K Gaming Monitor",
          "20in Monitor",
          "27in 4K Gaming Monitor",
          "20in Monitor",
          "20in Monitor",
          "20in Monitor",
          "20in Monitor",
          "20in Monitor",
          "20in Monitor",
          "20in Monitor",
          "34in Ultrawide Monitor",
          "AA Batteries (4-pack)",
          "AA Batteries (4-pack)",
          "34in Ultrawide Monitor",
          "34in Ultrawide Monitor",
          "34in Ultrawide Monitor",
          "34in Ultrawide Monitor",
          "34in Ultrawide Monitor",
          "34in Ultrawide Monitor",
          "27in FHD Monitor",
          "34in Ultrawide Monitor",
          "34in Ultrawide Monitor",
          "27in FHD Monitor",
          "27in FHD Monitor",
          "27in FHD Monitor",
          "27in FHD Monitor",
          "27in FHD Monitor",
          "27in FHD Monitor",
          "27in FHD Monitor",
          "Apple Airpods Headphones",
          "Apple Airpods Headphones",
          "Apple Airpods Headphones",
          "AAA Batteries (4-pack)",
          "AAA Batteries (4-pack)",
          "AAA Batteries (4-pack)",
          "AAA Batteries (4-pack)",
          "AAA Batteries (4-pack)",
          "AAA Batteries (4-pack)",
          "AA Batteries (4-pack)",
          "AAA Batteries (4-pack)",
          "AA Batteries (4-pack)",
          "AA Batteries (4-pack)",
          "AA Batteries (4-pack)",
          "AA Batteries (4-pack)",
          "AA Batteries (4-pack)",
          "AA Batteries (4-pack)",
          "AAA Batteries (4-pack)",
          "AAA Batteries (4-pack)",
          "Bose SoundSport Headphones",
          "Flatscreen TV",
          "Flatscreen TV",
          "Flatscreen TV",
          "Bose SoundSport Headphones",
          "Bose SoundSport Headphones",
          "Bose SoundSport Headphones",
          "Bose SoundSport Headphones",
          "Flatscreen TV",
          "Bose SoundSport Headphones",
          "Bose SoundSport Headphones",
          "Bose SoundSport Headphones",
          "Apple Airpods Headphones",
          "Apple Airpods Headphones",
          "Apple Airpods Headphones",
          "Apple Airpods Headphones",
          "Apple Airpods Headphones",
          "Apple Airpods Headphones",
          "Bose SoundSport Headphones",
          "Google Phone",
          "Google Phone",
          "LG Dryer",
          "Google Phone",
          "LG Dryer",
          "LG Dryer",
          "LG Dryer",
          "LG Dryer",
          "Google Phone",
          "Google Phone",
          "Google Phone",
          "Flatscreen TV",
          "Flatscreen TV",
          "Flatscreen TV",
          "Flatscreen TV",
          "Google Phone",
          "Google Phone",
          "Google Phone",
          "Flatscreen TV",
          "LG Washing Machine",
          "Lightning Charging Cable",
          "Lightning Charging Cable",
          "Lightning Charging Cable",
          "Lightning Charging Cable",
          "Lightning Charging Cable",
          "Lightning Charging Cable",
          "LG Washing Machine",
          "LG Washing Machine",
          "LG Washing Machine",
          "LG Washing Machine",
          "LG Dryer",
          "LG Dryer",
          "LG Dryer",
          "LG Dryer",
          "LG Washing Machine",
          "LG Washing Machine",
          "LG Washing Machine",
          "LG Washing Machine",
          "Macbook Pro Laptop",
          "ThinkPad Laptop",
          "ThinkPad Laptop",
          "ThinkPad Laptop",
          "ThinkPad Laptop",
          "ThinkPad Laptop",
          "ThinkPad Laptop",
          "Macbook Pro Laptop",
          "Macbook Pro Laptop",
          "ThinkPad Laptop",
          "Macbook Pro Laptop",
          "Macbook Pro Laptop",
          "Lightning Charging Cable",
          "Lightning Charging Cable",
          "Macbook Pro Laptop",
          "Lightning Charging Cable",
          "Macbook Pro Laptop",
          "Macbook Pro Laptop",
          "Macbook Pro Laptop",
          "USB-C Charging Cable",
          "Vareebadd Phone",
          "Vareebadd Phone",
          "Vareebadd Phone",
          "Vareebadd Phone",
          "Vareebadd Phone",
          "Vareebadd Phone",
          "Vareebadd Phone",
          "USB-C Charging Cable",
          "Vareebadd Phone",
          "USB-C Charging Cable",
          "USB-C Charging Cable",
          "USB-C Charging Cable",
          "USB-C Charging Cable",
          "USB-C Charging Cable",
          "USB-C Charging Cable",
          "ThinkPad Laptop",
          "ThinkPad Laptop",
          "USB-C Charging Cable",
          "iPhone",
          "iPhone",
          "iPhone",
          "iPhone",
          "iPhone",
          "iPhone",
          "iPhone",
          "Wired Headphones",
          "Wired Headphones",
          "Wired Headphones",
          "Wired Headphones",
          "Wired Headphones",
          "Wired Headphones",
          "Wired Headphones",
          "Wired Headphones",
          "Vareebadd Phone",
          "iPhone",
          "Wired Headphones",
          "iPhone",
          " Atlanta",
          " Austin",
          " Boston",
          " Dallas",
          " Los Angeles",
          " New York City",
          " Portland",
          " San Francisco",
          " Seattle"
         ],
         "marker": {
          "colors": [
           "#636efa",
           "#636efa",
           "#EF553B",
           "#00cc96",
           "#ab63fa",
           "#FFA15A",
           "#19d3f3",
           "#FF6692",
           "#B6E880",
           "#FF97FF",
           "#EF553B",
           "#636efa",
           "#FF6692",
           "#19d3f3",
           "#FF97FF",
           "#B6E880",
           "#ab63fa",
           "#00cc96",
           "#FFA15A",
           "#19d3f3",
           "#B6E880",
           "#636efa",
           "#EF553B",
           "#00cc96",
           "#ab63fa",
           "#FFA15A",
           "#FF97FF",
           "#FF6692",
           "#FFA15A",
           "#636efa",
           "#B6E880",
           "#FF6692",
           "#19d3f3",
           "#FF97FF",
           "#B6E880",
           "#ab63fa",
           "#00cc96",
           "#EF553B",
           "#FF6692",
           "#B6E880",
           "#636efa",
           "#EF553B",
           "#00cc96",
           "#ab63fa",
           "#FFA15A",
           "#FF97FF",
           "#19d3f3",
           "#ab63fa",
           "#B6E880",
           "#19d3f3",
           "#FF97FF",
           "#FFA15A",
           "#FF6692",
           "#00cc96",
           "#EF553B",
           "#636efa",
           "#FF6692",
           "#FF97FF",
           "#FF6692",
           "#B6E880",
           "#636efa",
           "#EF553B",
           "#00cc96",
           "#ab63fa",
           "#FFA15A",
           "#19d3f3",
           "#19d3f3",
           "#B6E880",
           "#636efa",
           "#EF553B",
           "#00cc96",
           "#ab63fa",
           "#FFA15A",
           "#FF97FF",
           "#19d3f3",
           "#FF6692",
           "#00cc96",
           "#EF553B",
           "#636efa",
           "#ab63fa",
           "#FF6692",
           "#19d3f3",
           "#FF97FF",
           "#B6E880",
           "#FFA15A",
           "#FF97FF",
           "#19d3f3",
           "#FFA15A",
           "#ab63fa",
           "#00cc96",
           "#FF97FF",
           "#636efa",
           "#B6E880",
           "#FF6692",
           "#EF553B",
           "#00cc96",
           "#FFA15A",
           "#FF97FF",
           "#19d3f3",
           "#FF6692",
           "#B6E880",
           "#636efa",
           "#EF553B",
           "#ab63fa",
           "#FFA15A",
           "#FF97FF",
           "#ab63fa",
           "#00cc96",
           "#EF553B",
           "#FFA15A",
           "#B6E880",
           "#FF6692",
           "#19d3f3",
           "#636efa",
           "#00cc96",
           "#ab63fa",
           "#FFA15A",
           "#FF97FF",
           "#19d3f3",
           "#B6E880",
           "#636efa",
           "#EF553B",
           "#ab63fa",
           "#FF6692",
           "#FF97FF",
           "#FFA15A",
           "#00cc96",
           "#EF553B",
           "#636efa",
           "#ab63fa",
           "#B6E880",
           "#FF6692",
           "#19d3f3",
           "#EF553B",
           "#ab63fa",
           "#FFA15A",
           "#FF97FF",
           "#FF6692",
           "#B6E880",
           "#636efa",
           "#00cc96",
           "#00cc96",
           "#19d3f3",
           "#FFA15A",
           "#FF97FF",
           "#19d3f3",
           "#FF6692",
           "#B6E880",
           "#636efa",
           "#EF553B",
           "#00cc96",
           "#ab63fa",
           "#B6E880",
           "#FF6692",
           "#ab63fa",
           "#FF97FF",
           "#FFA15A",
           "#636efa",
           "#19d3f3",
           "#EF553B",
           "#19d3f3",
           "#ab63fa",
           "#FFA15A",
           "#FF97FF",
           "#FF6692",
           "#B6E880",
           "#636efa",
           "#EF553B",
           "#00cc96",
           "#00cc96",
           "#EF553B",
           "#636efa",
           "#B6E880",
           "#FF6692",
           "#19d3f3",
           "#FF97FF",
           "#FFA15A",
           "#ab63fa",
           "#00cc96",
           "#EF553B"
          ]
         },
         "name": "",
         "parents": [
          " Atlanta",
          " Atlanta",
          " Seattle",
          " San Francisco",
          " Portland",
          " New York City",
          " Dallas",
          " Boston",
          " Austin",
          " Los Angeles",
          " Seattle",
          " Atlanta",
          " Boston",
          " Dallas",
          " Los Angeles",
          " Austin",
          " Portland",
          " San Francisco",
          " New York City",
          " Dallas",
          " Austin",
          " Atlanta",
          " Seattle",
          " San Francisco",
          " Portland",
          " New York City",
          " Los Angeles",
          " Boston",
          " New York City",
          " Atlanta",
          " Austin",
          " Boston",
          " Dallas",
          " Los Angeles",
          " Austin",
          " Portland",
          " San Francisco",
          " Seattle",
          " Boston",
          " Austin",
          " Atlanta",
          " Seattle",
          " San Francisco",
          " Portland",
          " New York City",
          " Los Angeles",
          " Dallas",
          " Portland",
          " Austin",
          " Dallas",
          " Los Angeles",
          " New York City",
          " Boston",
          " San Francisco",
          " Seattle",
          " Atlanta",
          " Boston",
          " Los Angeles",
          " Boston",
          " Austin",
          " Atlanta",
          " Seattle",
          " San Francisco",
          " Portland",
          " New York City",
          " Dallas",
          " Dallas",
          " Austin",
          " Atlanta",
          " Seattle",
          " San Francisco",
          " Portland",
          " New York City",
          " Los Angeles",
          " Dallas",
          " Boston",
          " San Francisco",
          " Seattle",
          " Atlanta",
          " Portland",
          " Boston",
          " Dallas",
          " Los Angeles",
          " Austin",
          " New York City",
          " Los Angeles",
          " Dallas",
          " New York City",
          " Portland",
          " San Francisco",
          " Los Angeles",
          " Atlanta",
          " Austin",
          " Boston",
          " Seattle",
          " San Francisco",
          " New York City",
          " Los Angeles",
          " Dallas",
          " Boston",
          " Austin",
          " Atlanta",
          " Seattle",
          " Portland",
          " New York City",
          " Los Angeles",
          " Portland",
          " San Francisco",
          " Seattle",
          " New York City",
          " Austin",
          " Boston",
          " Dallas",
          " Atlanta",
          " San Francisco",
          " Portland",
          " New York City",
          " Los Angeles",
          " Dallas",
          " Austin",
          " Atlanta",
          " Seattle",
          " Portland",
          " Boston",
          " Los Angeles",
          " New York City",
          " San Francisco",
          " Seattle",
          " Atlanta",
          " Portland",
          " Austin",
          " Boston",
          " Dallas",
          " Seattle",
          " Portland",
          " New York City",
          " Los Angeles",
          " Boston",
          " Austin",
          " Atlanta",
          " San Francisco",
          " San Francisco",
          " Dallas",
          " New York City",
          " Los Angeles",
          " Dallas",
          " Boston",
          " Austin",
          " Atlanta",
          " Seattle",
          " San Francisco",
          " Portland",
          " Austin",
          " Boston",
          " Portland",
          " Los Angeles",
          " New York City",
          " Atlanta",
          " Dallas",
          " Seattle",
          " Dallas",
          " Portland",
          " New York City",
          " Los Angeles",
          " Boston",
          " Austin",
          " Atlanta",
          " Seattle",
          " San Francisco",
          " San Francisco",
          " Seattle",
          "",
          "",
          "",
          "",
          "",
          "",
          "",
          "",
          ""
         ],
         "type": "sunburst",
         "values": [
          37616.578125,
          88194.125,
          209814.609375,
          569385.375,
          169255.65625,
          328371.5625,
          187585.1875,
          263243.25,
          124016.8203125,
          391159.96875,
          35636.7578125,
          192265.0625,
          43336.05859375,
          37726.5703125,
          72373.421875,
          25297.69921875,
          30577.21875,
          109990,
          61594.3984375,
          194554.875,
          5468.16015625,
          8421.1201171875,
          202914.65625,
          549465.5,
          153135.96875,
          329831.3125,
          362890.4375,
          254973.28125,
          160789.28125,
          183155.171875,
          124636.71875,
          119542.03125,
          88044.1328125,
          183437.78125,
          53996.40234375,
          79494.703125,
          272081.875,
          86844.2109375,
          247950,
          133050,
          189900,
          7313.5400390625,
          22149.919921875,
          6219.2001953125,
          12330.759765625,
          14851.330078125,
          7486.9599609375,
          7445.759765625,
          4987.31982421875,
          8682.240234375,
          17041.919921875,
          13939.2001953125,
          11581.439453125,
          25171.19921875,
          8367.3603515625,
          7053.41015625,
          10348.3896484375,
          212478.75,
          166200,
          72600,
          122100,
          106189.375,
          331666.8125,
          88891.109375,
          179382.0625,
          126000,
          106289.3671875,
          70692.9296875,
          108389.15625,
          188700,
          559950,
          164850,
          314700,
          370950,
          179100,
          141585.84375,
          814800,
          260400,
          35400,
          213000,
          35400,
          26400,
          69600,
          33000,
          454800,
          508800,
          276600,
          188400,
          93600,
          346200,
          218100,
          270600,
          164400,
          355800,
          112500,
          108000,
          45462.94921875,
          56391.3984375,
          27866.798828125,
          37240.44921875,
          19539.650390625,
          28091.048828125,
          34800,
          22200,
          51000,
          63000,
          22200,
          85800,
          33600,
          46200,
          15600,
          43200,
          30600,
          31200,
          1931200,
          273997.25,
          559994.375,
          640993.5625,
          344996.53125,
          209997.890625,
          356996.4375,
          605200,
          572900,
          446995.53125,
          1276700,
          1116900,
          83077.1484375,
          26536.25,
          644300,
          22888.44921875,
          426700,
          814300,
          649400,
          22334.548828125,
          49600,
          112400,
          126800,
          85600,
          43200,
          69200,
          197600,
          70433.296875,
          71200,
          39064.55078125,
          45194.8984375,
          22131.400390625,
          30603.94921875,
          14949.4501953125,
          22884.25,
          332996.65625,
          962990.375,
          18904.900390625,
          263900,
          527100,
          315000,
          782600,
          616700,
          380800,
          363300,
          19807.48046875,
          20011.310546875,
          16330.3798828125,
          32456.9296875,
          39207.30078125,
          26641.779296875,
          13548.7001953125,
          18932.208984375,
          71600,
          1162700,
          59542.33984375,
          382200,
          2795498.5,
          1819581.75,
          3661642,
          2767975.25,
          5452571,
          4664317.5,
          2320490.5,
          8262204,
          2747755.5
         ]
        }
       ],
       "layout": {
        "legend": {
         "tracegroupgap": 0
        },
        "margin": {
         "t": 60
        },
        "template": {
         "data": {
          "bar": [
           {
            "error_x": {
             "color": "#2a3f5f"
            },
            "error_y": {
             "color": "#2a3f5f"
            },
            "marker": {
             "line": {
              "color": "#E5ECF6",
              "width": 0.5
             },
             "pattern": {
              "fillmode": "overlay",
              "size": 10,
              "solidity": 0.2
             }
            },
            "type": "bar"
           }
          ],
          "barpolar": [
           {
            "marker": {
             "line": {
              "color": "#E5ECF6",
              "width": 0.5
             },
             "pattern": {
              "fillmode": "overlay",
              "size": 10,
              "solidity": 0.2
             }
            },
            "type": "barpolar"
           }
          ],
          "carpet": [
           {
            "aaxis": {
             "endlinecolor": "#2a3f5f",
             "gridcolor": "white",
             "linecolor": "white",
             "minorgridcolor": "white",
             "startlinecolor": "#2a3f5f"
            },
            "baxis": {
             "endlinecolor": "#2a3f5f",
             "gridcolor": "white",
             "linecolor": "white",
             "minorgridcolor": "white",
             "startlinecolor": "#2a3f5f"
            },
            "type": "carpet"
           }
          ],
          "choropleth": [
           {
            "colorbar": {
             "outlinewidth": 0,
             "ticks": ""
            },
            "type": "choropleth"
           }
          ],
          "contour": [
           {
            "colorbar": {
             "outlinewidth": 0,
             "ticks": ""
            },
            "colorscale": [
             [
              0,
              "#0d0887"
             ],
             [
              0.1111111111111111,
              "#46039f"
             ],
             [
              0.2222222222222222,
              "#7201a8"
             ],
             [
              0.3333333333333333,
              "#9c179e"
             ],
             [
              0.4444444444444444,
              "#bd3786"
             ],
             [
              0.5555555555555556,
              "#d8576b"
             ],
             [
              0.6666666666666666,
              "#ed7953"
             ],
             [
              0.7777777777777778,
              "#fb9f3a"
             ],
             [
              0.8888888888888888,
              "#fdca26"
             ],
             [
              1,
              "#f0f921"
             ]
            ],
            "type": "contour"
           }
          ],
          "contourcarpet": [
           {
            "colorbar": {
             "outlinewidth": 0,
             "ticks": ""
            },
            "type": "contourcarpet"
           }
          ],
          "heatmap": [
           {
            "colorbar": {
             "outlinewidth": 0,
             "ticks": ""
            },
            "colorscale": [
             [
              0,
              "#0d0887"
             ],
             [
              0.1111111111111111,
              "#46039f"
             ],
             [
              0.2222222222222222,
              "#7201a8"
             ],
             [
              0.3333333333333333,
              "#9c179e"
             ],
             [
              0.4444444444444444,
              "#bd3786"
             ],
             [
              0.5555555555555556,
              "#d8576b"
             ],
             [
              0.6666666666666666,
              "#ed7953"
             ],
             [
              0.7777777777777778,
              "#fb9f3a"
             ],
             [
              0.8888888888888888,
              "#fdca26"
             ],
             [
              1,
              "#f0f921"
             ]
            ],
            "type": "heatmap"
           }
          ],
          "heatmapgl": [
           {
            "colorbar": {
             "outlinewidth": 0,
             "ticks": ""
            },
            "colorscale": [
             [
              0,
              "#0d0887"
             ],
             [
              0.1111111111111111,
              "#46039f"
             ],
             [
              0.2222222222222222,
              "#7201a8"
             ],
             [
              0.3333333333333333,
              "#9c179e"
             ],
             [
              0.4444444444444444,
              "#bd3786"
             ],
             [
              0.5555555555555556,
              "#d8576b"
             ],
             [
              0.6666666666666666,
              "#ed7953"
             ],
             [
              0.7777777777777778,
              "#fb9f3a"
             ],
             [
              0.8888888888888888,
              "#fdca26"
             ],
             [
              1,
              "#f0f921"
             ]
            ],
            "type": "heatmapgl"
           }
          ],
          "histogram": [
           {
            "marker": {
             "pattern": {
              "fillmode": "overlay",
              "size": 10,
              "solidity": 0.2
             }
            },
            "type": "histogram"
           }
          ],
          "histogram2d": [
           {
            "colorbar": {
             "outlinewidth": 0,
             "ticks": ""
            },
            "colorscale": [
             [
              0,
              "#0d0887"
             ],
             [
              0.1111111111111111,
              "#46039f"
             ],
             [
              0.2222222222222222,
              "#7201a8"
             ],
             [
              0.3333333333333333,
              "#9c179e"
             ],
             [
              0.4444444444444444,
              "#bd3786"
             ],
             [
              0.5555555555555556,
              "#d8576b"
             ],
             [
              0.6666666666666666,
              "#ed7953"
             ],
             [
              0.7777777777777778,
              "#fb9f3a"
             ],
             [
              0.8888888888888888,
              "#fdca26"
             ],
             [
              1,
              "#f0f921"
             ]
            ],
            "type": "histogram2d"
           }
          ],
          "histogram2dcontour": [
           {
            "colorbar": {
             "outlinewidth": 0,
             "ticks": ""
            },
            "colorscale": [
             [
              0,
              "#0d0887"
             ],
             [
              0.1111111111111111,
              "#46039f"
             ],
             [
              0.2222222222222222,
              "#7201a8"
             ],
             [
              0.3333333333333333,
              "#9c179e"
             ],
             [
              0.4444444444444444,
              "#bd3786"
             ],
             [
              0.5555555555555556,
              "#d8576b"
             ],
             [
              0.6666666666666666,
              "#ed7953"
             ],
             [
              0.7777777777777778,
              "#fb9f3a"
             ],
             [
              0.8888888888888888,
              "#fdca26"
             ],
             [
              1,
              "#f0f921"
             ]
            ],
            "type": "histogram2dcontour"
           }
          ],
          "mesh3d": [
           {
            "colorbar": {
             "outlinewidth": 0,
             "ticks": ""
            },
            "type": "mesh3d"
           }
          ],
          "parcoords": [
           {
            "line": {
             "colorbar": {
              "outlinewidth": 0,
              "ticks": ""
             }
            },
            "type": "parcoords"
           }
          ],
          "pie": [
           {
            "automargin": true,
            "type": "pie"
           }
          ],
          "scatter": [
           {
            "marker": {
             "colorbar": {
              "outlinewidth": 0,
              "ticks": ""
             }
            },
            "type": "scatter"
           }
          ],
          "scatter3d": [
           {
            "line": {
             "colorbar": {
              "outlinewidth": 0,
              "ticks": ""
             }
            },
            "marker": {
             "colorbar": {
              "outlinewidth": 0,
              "ticks": ""
             }
            },
            "type": "scatter3d"
           }
          ],
          "scattercarpet": [
           {
            "marker": {
             "colorbar": {
              "outlinewidth": 0,
              "ticks": ""
             }
            },
            "type": "scattercarpet"
           }
          ],
          "scattergeo": [
           {
            "marker": {
             "colorbar": {
              "outlinewidth": 0,
              "ticks": ""
             }
            },
            "type": "scattergeo"
           }
          ],
          "scattergl": [
           {
            "marker": {
             "colorbar": {
              "outlinewidth": 0,
              "ticks": ""
             }
            },
            "type": "scattergl"
           }
          ],
          "scattermapbox": [
           {
            "marker": {
             "colorbar": {
              "outlinewidth": 0,
              "ticks": ""
             }
            },
            "type": "scattermapbox"
           }
          ],
          "scatterpolar": [
           {
            "marker": {
             "colorbar": {
              "outlinewidth": 0,
              "ticks": ""
             }
            },
            "type": "scatterpolar"
           }
          ],
          "scatterpolargl": [
           {
            "marker": {
             "colorbar": {
              "outlinewidth": 0,
              "ticks": ""
             }
            },
            "type": "scatterpolargl"
           }
          ],
          "scatterternary": [
           {
            "marker": {
             "colorbar": {
              "outlinewidth": 0,
              "ticks": ""
             }
            },
            "type": "scatterternary"
           }
          ],
          "surface": [
           {
            "colorbar": {
             "outlinewidth": 0,
             "ticks": ""
            },
            "colorscale": [
             [
              0,
              "#0d0887"
             ],
             [
              0.1111111111111111,
              "#46039f"
             ],
             [
              0.2222222222222222,
              "#7201a8"
             ],
             [
              0.3333333333333333,
              "#9c179e"
             ],
             [
              0.4444444444444444,
              "#bd3786"
             ],
             [
              0.5555555555555556,
              "#d8576b"
             ],
             [
              0.6666666666666666,
              "#ed7953"
             ],
             [
              0.7777777777777778,
              "#fb9f3a"
             ],
             [
              0.8888888888888888,
              "#fdca26"
             ],
             [
              1,
              "#f0f921"
             ]
            ],
            "type": "surface"
           }
          ],
          "table": [
           {
            "cells": {
             "fill": {
              "color": "#EBF0F8"
             },
             "line": {
              "color": "white"
             }
            },
            "header": {
             "fill": {
              "color": "#C8D4E3"
             },
             "line": {
              "color": "white"
             }
            },
            "type": "table"
           }
          ]
         },
         "layout": {
          "annotationdefaults": {
           "arrowcolor": "#2a3f5f",
           "arrowhead": 0,
           "arrowwidth": 1
          },
          "autotypenumbers": "strict",
          "coloraxis": {
           "colorbar": {
            "outlinewidth": 0,
            "ticks": ""
           }
          },
          "colorscale": {
           "diverging": [
            [
             0,
             "#8e0152"
            ],
            [
             0.1,
             "#c51b7d"
            ],
            [
             0.2,
             "#de77ae"
            ],
            [
             0.3,
             "#f1b6da"
            ],
            [
             0.4,
             "#fde0ef"
            ],
            [
             0.5,
             "#f7f7f7"
            ],
            [
             0.6,
             "#e6f5d0"
            ],
            [
             0.7,
             "#b8e186"
            ],
            [
             0.8,
             "#7fbc41"
            ],
            [
             0.9,
             "#4d9221"
            ],
            [
             1,
             "#276419"
            ]
           ],
           "sequential": [
            [
             0,
             "#0d0887"
            ],
            [
             0.1111111111111111,
             "#46039f"
            ],
            [
             0.2222222222222222,
             "#7201a8"
            ],
            [
             0.3333333333333333,
             "#9c179e"
            ],
            [
             0.4444444444444444,
             "#bd3786"
            ],
            [
             0.5555555555555556,
             "#d8576b"
            ],
            [
             0.6666666666666666,
             "#ed7953"
            ],
            [
             0.7777777777777778,
             "#fb9f3a"
            ],
            [
             0.8888888888888888,
             "#fdca26"
            ],
            [
             1,
             "#f0f921"
            ]
           ],
           "sequentialminus": [
            [
             0,
             "#0d0887"
            ],
            [
             0.1111111111111111,
             "#46039f"
            ],
            [
             0.2222222222222222,
             "#7201a8"
            ],
            [
             0.3333333333333333,
             "#9c179e"
            ],
            [
             0.4444444444444444,
             "#bd3786"
            ],
            [
             0.5555555555555556,
             "#d8576b"
            ],
            [
             0.6666666666666666,
             "#ed7953"
            ],
            [
             0.7777777777777778,
             "#fb9f3a"
            ],
            [
             0.8888888888888888,
             "#fdca26"
            ],
            [
             1,
             "#f0f921"
            ]
           ]
          },
          "colorway": [
           "#636efa",
           "#EF553B",
           "#00cc96",
           "#ab63fa",
           "#FFA15A",
           "#19d3f3",
           "#FF6692",
           "#B6E880",
           "#FF97FF",
           "#FECB52"
          ],
          "font": {
           "color": "#2a3f5f"
          },
          "geo": {
           "bgcolor": "white",
           "lakecolor": "white",
           "landcolor": "#E5ECF6",
           "showlakes": true,
           "showland": true,
           "subunitcolor": "white"
          },
          "hoverlabel": {
           "align": "left"
          },
          "hovermode": "closest",
          "mapbox": {
           "style": "light"
          },
          "paper_bgcolor": "white",
          "plot_bgcolor": "#E5ECF6",
          "polar": {
           "angularaxis": {
            "gridcolor": "white",
            "linecolor": "white",
            "ticks": ""
           },
           "bgcolor": "#E5ECF6",
           "radialaxis": {
            "gridcolor": "white",
            "linecolor": "white",
            "ticks": ""
           }
          },
          "scene": {
           "xaxis": {
            "backgroundcolor": "#E5ECF6",
            "gridcolor": "white",
            "gridwidth": 2,
            "linecolor": "white",
            "showbackground": true,
            "ticks": "",
            "zerolinecolor": "white"
           },
           "yaxis": {
            "backgroundcolor": "#E5ECF6",
            "gridcolor": "white",
            "gridwidth": 2,
            "linecolor": "white",
            "showbackground": true,
            "ticks": "",
            "zerolinecolor": "white"
           },
           "zaxis": {
            "backgroundcolor": "#E5ECF6",
            "gridcolor": "white",
            "gridwidth": 2,
            "linecolor": "white",
            "showbackground": true,
            "ticks": "",
            "zerolinecolor": "white"
           }
          },
          "shapedefaults": {
           "line": {
            "color": "#2a3f5f"
           }
          },
          "ternary": {
           "aaxis": {
            "gridcolor": "white",
            "linecolor": "white",
            "ticks": ""
           },
           "baxis": {
            "gridcolor": "white",
            "linecolor": "white",
            "ticks": ""
           },
           "bgcolor": "#E5ECF6",
           "caxis": {
            "gridcolor": "white",
            "linecolor": "white",
            "ticks": ""
           }
          },
          "title": {
           "x": 0.05
          },
          "xaxis": {
           "automargin": true,
           "gridcolor": "white",
           "linecolor": "white",
           "ticks": "",
           "title": {
            "standoff": 15
           },
           "zerolinecolor": "white",
           "zerolinewidth": 2
          },
          "yaxis": {
           "automargin": true,
           "gridcolor": "white",
           "linecolor": "white",
           "ticks": "",
           "title": {
            "standoff": 15
           },
           "zerolinecolor": "white",
           "zerolinewidth": 2
          }
         }
        }
       }
      },
      "text/html": [
       "<div>                            <div id=\"3ed0b48f-a6a6-467d-bb51-f476db1d7797\" class=\"plotly-graph-div\" style=\"height:525px; width:100%;\"></div>            <script type=\"text/javascript\">                require([\"plotly\"], function(Plotly) {                    window.PLOTLYENV=window.PLOTLYENV || {};                                    if (document.getElementById(\"3ed0b48f-a6a6-467d-bb51-f476db1d7797\")) {                    Plotly.newPlot(                        \"3ed0b48f-a6a6-467d-bb51-f476db1d7797\",                        [{\"branchvalues\":\"total\",\"customdata\":[[\" Atlanta\"],[\" Atlanta\"],[\" Seattle\"],[\" San Francisco\"],[\" Portland\"],[\" New York City\"],[\" Dallas\"],[\" Boston\"],[\" Austin\"],[\" Los Angeles\"],[\" Seattle\"],[\" Atlanta\"],[\" Boston\"],[\" Dallas\"],[\" Los Angeles\"],[\" Austin\"],[\" Portland\"],[\" San Francisco\"],[\" New York City\"],[\" Dallas\"],[\" Austin\"],[\" Atlanta\"],[\" Seattle\"],[\" San Francisco\"],[\" Portland\"],[\" New York City\"],[\" Los Angeles\"],[\" Boston\"],[\" New York City\"],[\" Atlanta\"],[\" Austin\"],[\" Boston\"],[\" Dallas\"],[\" Los Angeles\"],[\" Austin\"],[\" Portland\"],[\" San Francisco\"],[\" Seattle\"],[\" Boston\"],[\" Austin\"],[\" Atlanta\"],[\" Seattle\"],[\" San Francisco\"],[\" Portland\"],[\" New York City\"],[\" Los Angeles\"],[\" Dallas\"],[\" Portland\"],[\" Austin\"],[\" Dallas\"],[\" Los Angeles\"],[\" New York City\"],[\" Boston\"],[\" San Francisco\"],[\" Seattle\"],[\" Atlanta\"],[\" Boston\"],[\" Los Angeles\"],[\" Boston\"],[\" Austin\"],[\" Atlanta\"],[\" Seattle\"],[\" San Francisco\"],[\" Portland\"],[\" New York City\"],[\" Dallas\"],[\" Dallas\"],[\" Austin\"],[\" Atlanta\"],[\" Seattle\"],[\" San Francisco\"],[\" Portland\"],[\" New York City\"],[\" Los Angeles\"],[\" Dallas\"],[\" Boston\"],[\" San Francisco\"],[\" Seattle\"],[\" Atlanta\"],[\" Portland\"],[\" Boston\"],[\" Dallas\"],[\" Los Angeles\"],[\" Austin\"],[\" New York City\"],[\" Los Angeles\"],[\" Dallas\"],[\" New York City\"],[\" Portland\"],[\" San Francisco\"],[\" Los Angeles\"],[\" Atlanta\"],[\" Austin\"],[\" Boston\"],[\" Seattle\"],[\" San Francisco\"],[\" New York City\"],[\" Los Angeles\"],[\" Dallas\"],[\" Boston\"],[\" Austin\"],[\" Atlanta\"],[\" Seattle\"],[\" Portland\"],[\" New York City\"],[\" Los Angeles\"],[\" Portland\"],[\" San Francisco\"],[\" Seattle\"],[\" New York City\"],[\" Austin\"],[\" Boston\"],[\" Dallas\"],[\" Atlanta\"],[\" San Francisco\"],[\" Portland\"],[\" New York City\"],[\" Los Angeles\"],[\" Dallas\"],[\" Austin\"],[\" Atlanta\"],[\" Seattle\"],[\" Portland\"],[\" Boston\"],[\" Los Angeles\"],[\" New York City\"],[\" San Francisco\"],[\" Seattle\"],[\" Atlanta\"],[\" Portland\"],[\" Austin\"],[\" Boston\"],[\" Dallas\"],[\" Seattle\"],[\" Portland\"],[\" New York City\"],[\" Los Angeles\"],[\" Boston\"],[\" Austin\"],[\" Atlanta\"],[\" San Francisco\"],[\" San Francisco\"],[\" Dallas\"],[\" New York City\"],[\" Los Angeles\"],[\" Dallas\"],[\" Boston\"],[\" Austin\"],[\" Atlanta\"],[\" Seattle\"],[\" San Francisco\"],[\" Portland\"],[\" Austin\"],[\" Boston\"],[\" Portland\"],[\" Los Angeles\"],[\" New York City\"],[\" Atlanta\"],[\" Dallas\"],[\" Seattle\"],[\" Dallas\"],[\" Portland\"],[\" New York City\"],[\" Los Angeles\"],[\" Boston\"],[\" Austin\"],[\" Atlanta\"],[\" Seattle\"],[\" San Francisco\"],[\" San Francisco\"],[\" Seattle\"],[\" Atlanta\"],[\" Austin\"],[\" Boston\"],[\" Dallas\"],[\" Los Angeles\"],[\" New York City\"],[\" Portland\"],[\" San Francisco\"],[\" Seattle\"]],\"domain\":{\"x\":[0.0,1.0],\"y\":[0.0,1.0]},\"hovertemplate\":\"labels=%{label}<br>Umsatz=%{value}<br>parent=%{parent}<br>id=%{id}<br>stadt=%{customdata[0]}<extra></extra>\",\"ids\":[\" Atlanta/20in Monitor\",\" Atlanta/27in FHD Monitor\",\" Seattle/27in 4K Gaming Monitor\",\" San Francisco/27in 4K Gaming Monitor\",\" Portland/27in 4K Gaming Monitor\",\" New York City/27in 4K Gaming Monitor\",\" Dallas/27in 4K Gaming Monitor\",\" Boston/27in 4K Gaming Monitor\",\" Austin/27in 4K Gaming Monitor\",\" Los Angeles/27in 4K Gaming Monitor\",\" Seattle/20in Monitor\",\" Atlanta/27in 4K Gaming Monitor\",\" Boston/20in Monitor\",\" Dallas/20in Monitor\",\" Los Angeles/20in Monitor\",\" Austin/20in Monitor\",\" Portland/20in Monitor\",\" San Francisco/20in Monitor\",\" New York City/20in Monitor\",\" Dallas/34in Ultrawide Monitor\",\" Austin/AA Batteries (4-pack)\",\" Atlanta/AA Batteries (4-pack)\",\" Seattle/34in Ultrawide Monitor\",\" San Francisco/34in Ultrawide Monitor\",\" Portland/34in Ultrawide Monitor\",\" New York City/34in Ultrawide Monitor\",\" Los Angeles/34in Ultrawide Monitor\",\" Boston/34in Ultrawide Monitor\",\" New York City/27in FHD Monitor\",\" Atlanta/34in Ultrawide Monitor\",\" Austin/34in Ultrawide Monitor\",\" Boston/27in FHD Monitor\",\" Dallas/27in FHD Monitor\",\" Los Angeles/27in FHD Monitor\",\" Austin/27in FHD Monitor\",\" Portland/27in FHD Monitor\",\" San Francisco/27in FHD Monitor\",\" Seattle/27in FHD Monitor\",\" Boston/Apple Airpods Headphones\",\" Austin/Apple Airpods Headphones\",\" Atlanta/Apple Airpods Headphones\",\" Seattle/AAA Batteries (4-pack)\",\" San Francisco/AAA Batteries (4-pack)\",\" Portland/AAA Batteries (4-pack)\",\" New York City/AAA Batteries (4-pack)\",\" Los Angeles/AAA Batteries (4-pack)\",\" Dallas/AAA Batteries (4-pack)\",\" Portland/AA Batteries (4-pack)\",\" Austin/AAA Batteries (4-pack)\",\" Dallas/AA Batteries (4-pack)\",\" Los Angeles/AA Batteries (4-pack)\",\" New York City/AA Batteries (4-pack)\",\" Boston/AA Batteries (4-pack)\",\" San Francisco/AA Batteries (4-pack)\",\" Seattle/AA Batteries (4-pack)\",\" Atlanta/AAA Batteries (4-pack)\",\" Boston/AAA Batteries (4-pack)\",\" Los Angeles/Bose SoundSport Headphones\",\" Boston/Flatscreen TV\",\" Austin/Flatscreen TV\",\" Atlanta/Flatscreen TV\",\" Seattle/Bose SoundSport Headphones\",\" San Francisco/Bose SoundSport Headphones\",\" Portland/Bose SoundSport Headphones\",\" New York City/Bose SoundSport Headphones\",\" Dallas/Flatscreen TV\",\" Dallas/Bose SoundSport Headphones\",\" Austin/Bose SoundSport Headphones\",\" Atlanta/Bose SoundSport Headphones\",\" Seattle/Apple Airpods Headphones\",\" San Francisco/Apple Airpods Headphones\",\" Portland/Apple Airpods Headphones\",\" New York City/Apple Airpods Headphones\",\" Los Angeles/Apple Airpods Headphones\",\" Dallas/Apple Airpods Headphones\",\" Boston/Bose SoundSport Headphones\",\" San Francisco/Google Phone\",\" Seattle/Google Phone\",\" Atlanta/LG Dryer\",\" Portland/Google Phone\",\" Boston/LG Dryer\",\" Dallas/LG Dryer\",\" Los Angeles/LG Dryer\",\" Austin/LG Dryer\",\" New York City/Google Phone\",\" Los Angeles/Google Phone\",\" Dallas/Google Phone\",\" New York City/Flatscreen TV\",\" Portland/Flatscreen TV\",\" San Francisco/Flatscreen TV\",\" Los Angeles/Flatscreen TV\",\" Atlanta/Google Phone\",\" Austin/Google Phone\",\" Boston/Google Phone\",\" Seattle/Flatscreen TV\",\" San Francisco/LG Washing Machine\",\" New York City/Lightning Charging Cable\",\" Los Angeles/Lightning Charging Cable\",\" Dallas/Lightning Charging Cable\",\" Boston/Lightning Charging Cable\",\" Austin/Lightning Charging Cable\",\" Atlanta/Lightning Charging Cable\",\" Seattle/LG Washing Machine\",\" Portland/LG Washing Machine\",\" New York City/LG Washing Machine\",\" Los Angeles/LG Washing Machine\",\" Portland/LG Dryer\",\" San Francisco/LG Dryer\",\" Seattle/LG Dryer\",\" New York City/LG Dryer\",\" Austin/LG Washing Machine\",\" Boston/LG Washing Machine\",\" Dallas/LG Washing Machine\",\" Atlanta/LG Washing Machine\",\" San Francisco/Macbook Pro Laptop\",\" Portland/ThinkPad Laptop\",\" New York City/ThinkPad Laptop\",\" Los Angeles/ThinkPad Laptop\",\" Dallas/ThinkPad Laptop\",\" Austin/ThinkPad Laptop\",\" Atlanta/ThinkPad Laptop\",\" Seattle/Macbook Pro Laptop\",\" Portland/Macbook Pro Laptop\",\" Boston/ThinkPad Laptop\",\" Los Angeles/Macbook Pro Laptop\",\" New York City/Macbook Pro Laptop\",\" San Francisco/Lightning Charging Cable\",\" Seattle/Lightning Charging Cable\",\" Atlanta/Macbook Pro Laptop\",\" Portland/Lightning Charging Cable\",\" Austin/Macbook Pro Laptop\",\" Boston/Macbook Pro Laptop\",\" Dallas/Macbook Pro Laptop\",\" Seattle/USB-C Charging Cable\",\" Portland/Vareebadd Phone\",\" New York City/Vareebadd Phone\",\" Los Angeles/Vareebadd Phone\",\" Boston/Vareebadd Phone\",\" Austin/Vareebadd Phone\",\" Atlanta/Vareebadd Phone\",\" San Francisco/Vareebadd Phone\",\" San Francisco/USB-C Charging Cable\",\" Dallas/Vareebadd Phone\",\" New York City/USB-C Charging Cable\",\" Los Angeles/USB-C Charging Cable\",\" Dallas/USB-C Charging Cable\",\" Boston/USB-C Charging Cable\",\" Austin/USB-C Charging Cable\",\" Atlanta/USB-C Charging Cable\",\" Seattle/ThinkPad Laptop\",\" San Francisco/ThinkPad Laptop\",\" Portland/USB-C Charging Cable\",\" Austin/iPhone\",\" Boston/iPhone\",\" Portland/iPhone\",\" Los Angeles/iPhone\",\" New York City/iPhone\",\" Atlanta/iPhone\",\" Dallas/iPhone\",\" Seattle/Wired Headphones\",\" Dallas/Wired Headphones\",\" Portland/Wired Headphones\",\" New York City/Wired Headphones\",\" Los Angeles/Wired Headphones\",\" Boston/Wired Headphones\",\" Austin/Wired Headphones\",\" Atlanta/Wired Headphones\",\" Seattle/Vareebadd Phone\",\" San Francisco/iPhone\",\" San Francisco/Wired Headphones\",\" Seattle/iPhone\",\" Atlanta\",\" Austin\",\" Boston\",\" Dallas\",\" Los Angeles\",\" New York City\",\" Portland\",\" San Francisco\",\" Seattle\"],\"labels\":[\"20in Monitor\",\"27in FHD Monitor\",\"27in 4K Gaming Monitor\",\"27in 4K Gaming Monitor\",\"27in 4K Gaming Monitor\",\"27in 4K Gaming Monitor\",\"27in 4K Gaming Monitor\",\"27in 4K Gaming Monitor\",\"27in 4K Gaming Monitor\",\"27in 4K Gaming Monitor\",\"20in Monitor\",\"27in 4K Gaming Monitor\",\"20in Monitor\",\"20in Monitor\",\"20in Monitor\",\"20in Monitor\",\"20in Monitor\",\"20in Monitor\",\"20in Monitor\",\"34in Ultrawide Monitor\",\"AA Batteries (4-pack)\",\"AA Batteries (4-pack)\",\"34in Ultrawide Monitor\",\"34in Ultrawide Monitor\",\"34in Ultrawide Monitor\",\"34in Ultrawide Monitor\",\"34in Ultrawide Monitor\",\"34in Ultrawide Monitor\",\"27in FHD Monitor\",\"34in Ultrawide Monitor\",\"34in Ultrawide Monitor\",\"27in FHD Monitor\",\"27in FHD Monitor\",\"27in FHD Monitor\",\"27in FHD Monitor\",\"27in FHD Monitor\",\"27in FHD Monitor\",\"27in FHD Monitor\",\"Apple Airpods Headphones\",\"Apple Airpods Headphones\",\"Apple Airpods Headphones\",\"AAA Batteries (4-pack)\",\"AAA Batteries (4-pack)\",\"AAA Batteries (4-pack)\",\"AAA Batteries (4-pack)\",\"AAA Batteries (4-pack)\",\"AAA Batteries (4-pack)\",\"AA Batteries (4-pack)\",\"AAA Batteries (4-pack)\",\"AA Batteries (4-pack)\",\"AA Batteries (4-pack)\",\"AA Batteries (4-pack)\",\"AA Batteries (4-pack)\",\"AA Batteries (4-pack)\",\"AA Batteries (4-pack)\",\"AAA Batteries (4-pack)\",\"AAA Batteries (4-pack)\",\"Bose SoundSport Headphones\",\"Flatscreen TV\",\"Flatscreen TV\",\"Flatscreen TV\",\"Bose SoundSport Headphones\",\"Bose SoundSport Headphones\",\"Bose SoundSport Headphones\",\"Bose SoundSport Headphones\",\"Flatscreen TV\",\"Bose SoundSport Headphones\",\"Bose SoundSport Headphones\",\"Bose SoundSport Headphones\",\"Apple Airpods Headphones\",\"Apple Airpods Headphones\",\"Apple Airpods Headphones\",\"Apple Airpods Headphones\",\"Apple Airpods Headphones\",\"Apple Airpods Headphones\",\"Bose SoundSport Headphones\",\"Google Phone\",\"Google Phone\",\"LG Dryer\",\"Google Phone\",\"LG Dryer\",\"LG Dryer\",\"LG Dryer\",\"LG Dryer\",\"Google Phone\",\"Google Phone\",\"Google Phone\",\"Flatscreen TV\",\"Flatscreen TV\",\"Flatscreen TV\",\"Flatscreen TV\",\"Google Phone\",\"Google Phone\",\"Google Phone\",\"Flatscreen TV\",\"LG Washing Machine\",\"Lightning Charging Cable\",\"Lightning Charging Cable\",\"Lightning Charging Cable\",\"Lightning Charging Cable\",\"Lightning Charging Cable\",\"Lightning Charging Cable\",\"LG Washing Machine\",\"LG Washing Machine\",\"LG Washing Machine\",\"LG Washing Machine\",\"LG Dryer\",\"LG Dryer\",\"LG Dryer\",\"LG Dryer\",\"LG Washing Machine\",\"LG Washing Machine\",\"LG Washing Machine\",\"LG Washing Machine\",\"Macbook Pro Laptop\",\"ThinkPad Laptop\",\"ThinkPad Laptop\",\"ThinkPad Laptop\",\"ThinkPad Laptop\",\"ThinkPad Laptop\",\"ThinkPad Laptop\",\"Macbook Pro Laptop\",\"Macbook Pro Laptop\",\"ThinkPad Laptop\",\"Macbook Pro Laptop\",\"Macbook Pro Laptop\",\"Lightning Charging Cable\",\"Lightning Charging Cable\",\"Macbook Pro Laptop\",\"Lightning Charging Cable\",\"Macbook Pro Laptop\",\"Macbook Pro Laptop\",\"Macbook Pro Laptop\",\"USB-C Charging Cable\",\"Vareebadd Phone\",\"Vareebadd Phone\",\"Vareebadd Phone\",\"Vareebadd Phone\",\"Vareebadd Phone\",\"Vareebadd Phone\",\"Vareebadd Phone\",\"USB-C Charging Cable\",\"Vareebadd Phone\",\"USB-C Charging Cable\",\"USB-C Charging Cable\",\"USB-C Charging Cable\",\"USB-C Charging Cable\",\"USB-C Charging Cable\",\"USB-C Charging Cable\",\"ThinkPad Laptop\",\"ThinkPad Laptop\",\"USB-C Charging Cable\",\"iPhone\",\"iPhone\",\"iPhone\",\"iPhone\",\"iPhone\",\"iPhone\",\"iPhone\",\"Wired Headphones\",\"Wired Headphones\",\"Wired Headphones\",\"Wired Headphones\",\"Wired Headphones\",\"Wired Headphones\",\"Wired Headphones\",\"Wired Headphones\",\"Vareebadd Phone\",\"iPhone\",\"Wired Headphones\",\"iPhone\",\" Atlanta\",\" Austin\",\" Boston\",\" Dallas\",\" Los Angeles\",\" New York City\",\" Portland\",\" San Francisco\",\" Seattle\"],\"marker\":{\"colors\":[\"#636efa\",\"#636efa\",\"#EF553B\",\"#00cc96\",\"#ab63fa\",\"#FFA15A\",\"#19d3f3\",\"#FF6692\",\"#B6E880\",\"#FF97FF\",\"#EF553B\",\"#636efa\",\"#FF6692\",\"#19d3f3\",\"#FF97FF\",\"#B6E880\",\"#ab63fa\",\"#00cc96\",\"#FFA15A\",\"#19d3f3\",\"#B6E880\",\"#636efa\",\"#EF553B\",\"#00cc96\",\"#ab63fa\",\"#FFA15A\",\"#FF97FF\",\"#FF6692\",\"#FFA15A\",\"#636efa\",\"#B6E880\",\"#FF6692\",\"#19d3f3\",\"#FF97FF\",\"#B6E880\",\"#ab63fa\",\"#00cc96\",\"#EF553B\",\"#FF6692\",\"#B6E880\",\"#636efa\",\"#EF553B\",\"#00cc96\",\"#ab63fa\",\"#FFA15A\",\"#FF97FF\",\"#19d3f3\",\"#ab63fa\",\"#B6E880\",\"#19d3f3\",\"#FF97FF\",\"#FFA15A\",\"#FF6692\",\"#00cc96\",\"#EF553B\",\"#636efa\",\"#FF6692\",\"#FF97FF\",\"#FF6692\",\"#B6E880\",\"#636efa\",\"#EF553B\",\"#00cc96\",\"#ab63fa\",\"#FFA15A\",\"#19d3f3\",\"#19d3f3\",\"#B6E880\",\"#636efa\",\"#EF553B\",\"#00cc96\",\"#ab63fa\",\"#FFA15A\",\"#FF97FF\",\"#19d3f3\",\"#FF6692\",\"#00cc96\",\"#EF553B\",\"#636efa\",\"#ab63fa\",\"#FF6692\",\"#19d3f3\",\"#FF97FF\",\"#B6E880\",\"#FFA15A\",\"#FF97FF\",\"#19d3f3\",\"#FFA15A\",\"#ab63fa\",\"#00cc96\",\"#FF97FF\",\"#636efa\",\"#B6E880\",\"#FF6692\",\"#EF553B\",\"#00cc96\",\"#FFA15A\",\"#FF97FF\",\"#19d3f3\",\"#FF6692\",\"#B6E880\",\"#636efa\",\"#EF553B\",\"#ab63fa\",\"#FFA15A\",\"#FF97FF\",\"#ab63fa\",\"#00cc96\",\"#EF553B\",\"#FFA15A\",\"#B6E880\",\"#FF6692\",\"#19d3f3\",\"#636efa\",\"#00cc96\",\"#ab63fa\",\"#FFA15A\",\"#FF97FF\",\"#19d3f3\",\"#B6E880\",\"#636efa\",\"#EF553B\",\"#ab63fa\",\"#FF6692\",\"#FF97FF\",\"#FFA15A\",\"#00cc96\",\"#EF553B\",\"#636efa\",\"#ab63fa\",\"#B6E880\",\"#FF6692\",\"#19d3f3\",\"#EF553B\",\"#ab63fa\",\"#FFA15A\",\"#FF97FF\",\"#FF6692\",\"#B6E880\",\"#636efa\",\"#00cc96\",\"#00cc96\",\"#19d3f3\",\"#FFA15A\",\"#FF97FF\",\"#19d3f3\",\"#FF6692\",\"#B6E880\",\"#636efa\",\"#EF553B\",\"#00cc96\",\"#ab63fa\",\"#B6E880\",\"#FF6692\",\"#ab63fa\",\"#FF97FF\",\"#FFA15A\",\"#636efa\",\"#19d3f3\",\"#EF553B\",\"#19d3f3\",\"#ab63fa\",\"#FFA15A\",\"#FF97FF\",\"#FF6692\",\"#B6E880\",\"#636efa\",\"#EF553B\",\"#00cc96\",\"#00cc96\",\"#EF553B\",\"#636efa\",\"#B6E880\",\"#FF6692\",\"#19d3f3\",\"#FF97FF\",\"#FFA15A\",\"#ab63fa\",\"#00cc96\",\"#EF553B\"]},\"name\":\"\",\"parents\":[\" Atlanta\",\" Atlanta\",\" Seattle\",\" San Francisco\",\" Portland\",\" New York City\",\" Dallas\",\" Boston\",\" Austin\",\" Los Angeles\",\" Seattle\",\" Atlanta\",\" Boston\",\" Dallas\",\" Los Angeles\",\" Austin\",\" Portland\",\" San Francisco\",\" New York City\",\" Dallas\",\" Austin\",\" Atlanta\",\" Seattle\",\" San Francisco\",\" Portland\",\" New York City\",\" Los Angeles\",\" Boston\",\" New York City\",\" Atlanta\",\" Austin\",\" Boston\",\" Dallas\",\" Los Angeles\",\" Austin\",\" Portland\",\" San Francisco\",\" Seattle\",\" Boston\",\" Austin\",\" Atlanta\",\" Seattle\",\" San Francisco\",\" Portland\",\" New York City\",\" Los Angeles\",\" Dallas\",\" Portland\",\" Austin\",\" Dallas\",\" Los Angeles\",\" New York City\",\" Boston\",\" San Francisco\",\" Seattle\",\" Atlanta\",\" Boston\",\" Los Angeles\",\" Boston\",\" Austin\",\" Atlanta\",\" Seattle\",\" San Francisco\",\" Portland\",\" New York City\",\" Dallas\",\" Dallas\",\" Austin\",\" Atlanta\",\" Seattle\",\" San Francisco\",\" Portland\",\" New York City\",\" Los Angeles\",\" Dallas\",\" Boston\",\" San Francisco\",\" Seattle\",\" Atlanta\",\" Portland\",\" Boston\",\" Dallas\",\" Los Angeles\",\" Austin\",\" New York City\",\" Los Angeles\",\" Dallas\",\" New York City\",\" Portland\",\" San Francisco\",\" Los Angeles\",\" Atlanta\",\" Austin\",\" Boston\",\" Seattle\",\" San Francisco\",\" New York City\",\" Los Angeles\",\" Dallas\",\" Boston\",\" Austin\",\" Atlanta\",\" Seattle\",\" Portland\",\" New York City\",\" Los Angeles\",\" Portland\",\" San Francisco\",\" Seattle\",\" New York City\",\" Austin\",\" Boston\",\" Dallas\",\" Atlanta\",\" San Francisco\",\" Portland\",\" New York City\",\" Los Angeles\",\" Dallas\",\" Austin\",\" Atlanta\",\" Seattle\",\" Portland\",\" Boston\",\" Los Angeles\",\" New York City\",\" San Francisco\",\" Seattle\",\" Atlanta\",\" Portland\",\" Austin\",\" Boston\",\" Dallas\",\" Seattle\",\" Portland\",\" New York City\",\" Los Angeles\",\" Boston\",\" Austin\",\" Atlanta\",\" San Francisco\",\" San Francisco\",\" Dallas\",\" New York City\",\" Los Angeles\",\" Dallas\",\" Boston\",\" Austin\",\" Atlanta\",\" Seattle\",\" San Francisco\",\" Portland\",\" Austin\",\" Boston\",\" Portland\",\" Los Angeles\",\" New York City\",\" Atlanta\",\" Dallas\",\" Seattle\",\" Dallas\",\" Portland\",\" New York City\",\" Los Angeles\",\" Boston\",\" Austin\",\" Atlanta\",\" Seattle\",\" San Francisco\",\" San Francisco\",\" Seattle\",\"\",\"\",\"\",\"\",\"\",\"\",\"\",\"\",\"\"],\"values\":[37616.578125,88194.125,209814.609375,569385.375,169255.65625,328371.5625,187585.1875,263243.25,124016.8203125,391159.96875,35636.7578125,192265.0625,43336.05859375,37726.5703125,72373.421875,25297.69921875,30577.21875,109990.0,61594.3984375,194554.875,5468.16015625,8421.1201171875,202914.65625,549465.5,153135.96875,329831.3125,362890.4375,254973.28125,160789.28125,183155.171875,124636.71875,119542.03125,88044.1328125,183437.78125,53996.40234375,79494.703125,272081.875,86844.2109375,247950.0,133050.0,189900.0,7313.5400390625,22149.919921875,6219.2001953125,12330.759765625,14851.330078125,7486.9599609375,7445.759765625,4987.31982421875,8682.240234375,17041.919921875,13939.2001953125,11581.439453125,25171.19921875,8367.3603515625,7053.41015625,10348.3896484375,212478.75,166200.0,72600.0,122100.0,106189.375,331666.8125,88891.109375,179382.0625,126000.0,106289.3671875,70692.9296875,108389.15625,188700.0,559950.0,164850.0,314700.0,370950.0,179100.0,141585.84375,814800.0,260400.0,35400.0,213000.0,35400.0,26400.0,69600.0,33000.0,454800.0,508800.0,276600.0,188400.0,93600.0,346200.0,218100.0,270600.0,164400.0,355800.0,112500.0,108000.0,45462.94921875,56391.3984375,27866.798828125,37240.44921875,19539.650390625,28091.048828125,34800.0,22200.0,51000.0,63000.0,22200.0,85800.0,33600.0,46200.0,15600.0,43200.0,30600.0,31200.0,1931200.0,273997.25,559994.375,640993.5625,344996.53125,209997.890625,356996.4375,605200.0,572900.0,446995.53125,1276700.0,1116900.0,83077.1484375,26536.25,644300.0,22888.44921875,426700.0,814300.0,649400.0,22334.548828125,49600.0,112400.0,126800.0,85600.0,43200.0,69200.0,197600.0,70433.296875,71200.0,39064.55078125,45194.8984375,22131.400390625,30603.94921875,14949.4501953125,22884.25,332996.65625,962990.375,18904.900390625,263900.0,527100.0,315000.0,782600.0,616700.0,380800.0,363300.0,19807.48046875,20011.310546875,16330.3798828125,32456.9296875,39207.30078125,26641.779296875,13548.7001953125,18932.208984375,71600.0,1162700.0,59542.33984375,382200.0,2795498.5,1819581.75,3661642.0,2767975.25,5452571.0,4664317.5,2320490.5,8262204.0,2747755.5],\"type\":\"sunburst\"}],                        {\"template\":{\"data\":{\"bar\":[{\"error_x\":{\"color\":\"#2a3f5f\"},\"error_y\":{\"color\":\"#2a3f5f\"},\"marker\":{\"line\":{\"color\":\"#E5ECF6\",\"width\":0.5},\"pattern\":{\"fillmode\":\"overlay\",\"size\":10,\"solidity\":0.2}},\"type\":\"bar\"}],\"barpolar\":[{\"marker\":{\"line\":{\"color\":\"#E5ECF6\",\"width\":0.5},\"pattern\":{\"fillmode\":\"overlay\",\"size\":10,\"solidity\":0.2}},\"type\":\"barpolar\"}],\"carpet\":[{\"aaxis\":{\"endlinecolor\":\"#2a3f5f\",\"gridcolor\":\"white\",\"linecolor\":\"white\",\"minorgridcolor\":\"white\",\"startlinecolor\":\"#2a3f5f\"},\"baxis\":{\"endlinecolor\":\"#2a3f5f\",\"gridcolor\":\"white\",\"linecolor\":\"white\",\"minorgridcolor\":\"white\",\"startlinecolor\":\"#2a3f5f\"},\"type\":\"carpet\"}],\"choropleth\":[{\"colorbar\":{\"outlinewidth\":0,\"ticks\":\"\"},\"type\":\"choropleth\"}],\"contour\":[{\"colorbar\":{\"outlinewidth\":0,\"ticks\":\"\"},\"colorscale\":[[0.0,\"#0d0887\"],[0.1111111111111111,\"#46039f\"],[0.2222222222222222,\"#7201a8\"],[0.3333333333333333,\"#9c179e\"],[0.4444444444444444,\"#bd3786\"],[0.5555555555555556,\"#d8576b\"],[0.6666666666666666,\"#ed7953\"],[0.7777777777777778,\"#fb9f3a\"],[0.8888888888888888,\"#fdca26\"],[1.0,\"#f0f921\"]],\"type\":\"contour\"}],\"contourcarpet\":[{\"colorbar\":{\"outlinewidth\":0,\"ticks\":\"\"},\"type\":\"contourcarpet\"}],\"heatmap\":[{\"colorbar\":{\"outlinewidth\":0,\"ticks\":\"\"},\"colorscale\":[[0.0,\"#0d0887\"],[0.1111111111111111,\"#46039f\"],[0.2222222222222222,\"#7201a8\"],[0.3333333333333333,\"#9c179e\"],[0.4444444444444444,\"#bd3786\"],[0.5555555555555556,\"#d8576b\"],[0.6666666666666666,\"#ed7953\"],[0.7777777777777778,\"#fb9f3a\"],[0.8888888888888888,\"#fdca26\"],[1.0,\"#f0f921\"]],\"type\":\"heatmap\"}],\"heatmapgl\":[{\"colorbar\":{\"outlinewidth\":0,\"ticks\":\"\"},\"colorscale\":[[0.0,\"#0d0887\"],[0.1111111111111111,\"#46039f\"],[0.2222222222222222,\"#7201a8\"],[0.3333333333333333,\"#9c179e\"],[0.4444444444444444,\"#bd3786\"],[0.5555555555555556,\"#d8576b\"],[0.6666666666666666,\"#ed7953\"],[0.7777777777777778,\"#fb9f3a\"],[0.8888888888888888,\"#fdca26\"],[1.0,\"#f0f921\"]],\"type\":\"heatmapgl\"}],\"histogram\":[{\"marker\":{\"pattern\":{\"fillmode\":\"overlay\",\"size\":10,\"solidity\":0.2}},\"type\":\"histogram\"}],\"histogram2d\":[{\"colorbar\":{\"outlinewidth\":0,\"ticks\":\"\"},\"colorscale\":[[0.0,\"#0d0887\"],[0.1111111111111111,\"#46039f\"],[0.2222222222222222,\"#7201a8\"],[0.3333333333333333,\"#9c179e\"],[0.4444444444444444,\"#bd3786\"],[0.5555555555555556,\"#d8576b\"],[0.6666666666666666,\"#ed7953\"],[0.7777777777777778,\"#fb9f3a\"],[0.8888888888888888,\"#fdca26\"],[1.0,\"#f0f921\"]],\"type\":\"histogram2d\"}],\"histogram2dcontour\":[{\"colorbar\":{\"outlinewidth\":0,\"ticks\":\"\"},\"colorscale\":[[0.0,\"#0d0887\"],[0.1111111111111111,\"#46039f\"],[0.2222222222222222,\"#7201a8\"],[0.3333333333333333,\"#9c179e\"],[0.4444444444444444,\"#bd3786\"],[0.5555555555555556,\"#d8576b\"],[0.6666666666666666,\"#ed7953\"],[0.7777777777777778,\"#fb9f3a\"],[0.8888888888888888,\"#fdca26\"],[1.0,\"#f0f921\"]],\"type\":\"histogram2dcontour\"}],\"mesh3d\":[{\"colorbar\":{\"outlinewidth\":0,\"ticks\":\"\"},\"type\":\"mesh3d\"}],\"parcoords\":[{\"line\":{\"colorbar\":{\"outlinewidth\":0,\"ticks\":\"\"}},\"type\":\"parcoords\"}],\"pie\":[{\"automargin\":true,\"type\":\"pie\"}],\"scatter\":[{\"marker\":{\"colorbar\":{\"outlinewidth\":0,\"ticks\":\"\"}},\"type\":\"scatter\"}],\"scatter3d\":[{\"line\":{\"colorbar\":{\"outlinewidth\":0,\"ticks\":\"\"}},\"marker\":{\"colorbar\":{\"outlinewidth\":0,\"ticks\":\"\"}},\"type\":\"scatter3d\"}],\"scattercarpet\":[{\"marker\":{\"colorbar\":{\"outlinewidth\":0,\"ticks\":\"\"}},\"type\":\"scattercarpet\"}],\"scattergeo\":[{\"marker\":{\"colorbar\":{\"outlinewidth\":0,\"ticks\":\"\"}},\"type\":\"scattergeo\"}],\"scattergl\":[{\"marker\":{\"colorbar\":{\"outlinewidth\":0,\"ticks\":\"\"}},\"type\":\"scattergl\"}],\"scattermapbox\":[{\"marker\":{\"colorbar\":{\"outlinewidth\":0,\"ticks\":\"\"}},\"type\":\"scattermapbox\"}],\"scatterpolar\":[{\"marker\":{\"colorbar\":{\"outlinewidth\":0,\"ticks\":\"\"}},\"type\":\"scatterpolar\"}],\"scatterpolargl\":[{\"marker\":{\"colorbar\":{\"outlinewidth\":0,\"ticks\":\"\"}},\"type\":\"scatterpolargl\"}],\"scatterternary\":[{\"marker\":{\"colorbar\":{\"outlinewidth\":0,\"ticks\":\"\"}},\"type\":\"scatterternary\"}],\"surface\":[{\"colorbar\":{\"outlinewidth\":0,\"ticks\":\"\"},\"colorscale\":[[0.0,\"#0d0887\"],[0.1111111111111111,\"#46039f\"],[0.2222222222222222,\"#7201a8\"],[0.3333333333333333,\"#9c179e\"],[0.4444444444444444,\"#bd3786\"],[0.5555555555555556,\"#d8576b\"],[0.6666666666666666,\"#ed7953\"],[0.7777777777777778,\"#fb9f3a\"],[0.8888888888888888,\"#fdca26\"],[1.0,\"#f0f921\"]],\"type\":\"surface\"}],\"table\":[{\"cells\":{\"fill\":{\"color\":\"#EBF0F8\"},\"line\":{\"color\":\"white\"}},\"header\":{\"fill\":{\"color\":\"#C8D4E3\"},\"line\":{\"color\":\"white\"}},\"type\":\"table\"}]},\"layout\":{\"annotationdefaults\":{\"arrowcolor\":\"#2a3f5f\",\"arrowhead\":0,\"arrowwidth\":1},\"autotypenumbers\":\"strict\",\"coloraxis\":{\"colorbar\":{\"outlinewidth\":0,\"ticks\":\"\"}},\"colorscale\":{\"diverging\":[[0,\"#8e0152\"],[0.1,\"#c51b7d\"],[0.2,\"#de77ae\"],[0.3,\"#f1b6da\"],[0.4,\"#fde0ef\"],[0.5,\"#f7f7f7\"],[0.6,\"#e6f5d0\"],[0.7,\"#b8e186\"],[0.8,\"#7fbc41\"],[0.9,\"#4d9221\"],[1,\"#276419\"]],\"sequential\":[[0.0,\"#0d0887\"],[0.1111111111111111,\"#46039f\"],[0.2222222222222222,\"#7201a8\"],[0.3333333333333333,\"#9c179e\"],[0.4444444444444444,\"#bd3786\"],[0.5555555555555556,\"#d8576b\"],[0.6666666666666666,\"#ed7953\"],[0.7777777777777778,\"#fb9f3a\"],[0.8888888888888888,\"#fdca26\"],[1.0,\"#f0f921\"]],\"sequentialminus\":[[0.0,\"#0d0887\"],[0.1111111111111111,\"#46039f\"],[0.2222222222222222,\"#7201a8\"],[0.3333333333333333,\"#9c179e\"],[0.4444444444444444,\"#bd3786\"],[0.5555555555555556,\"#d8576b\"],[0.6666666666666666,\"#ed7953\"],[0.7777777777777778,\"#fb9f3a\"],[0.8888888888888888,\"#fdca26\"],[1.0,\"#f0f921\"]]},\"colorway\":[\"#636efa\",\"#EF553B\",\"#00cc96\",\"#ab63fa\",\"#FFA15A\",\"#19d3f3\",\"#FF6692\",\"#B6E880\",\"#FF97FF\",\"#FECB52\"],\"font\":{\"color\":\"#2a3f5f\"},\"geo\":{\"bgcolor\":\"white\",\"lakecolor\":\"white\",\"landcolor\":\"#E5ECF6\",\"showlakes\":true,\"showland\":true,\"subunitcolor\":\"white\"},\"hoverlabel\":{\"align\":\"left\"},\"hovermode\":\"closest\",\"mapbox\":{\"style\":\"light\"},\"paper_bgcolor\":\"white\",\"plot_bgcolor\":\"#E5ECF6\",\"polar\":{\"angularaxis\":{\"gridcolor\":\"white\",\"linecolor\":\"white\",\"ticks\":\"\"},\"bgcolor\":\"#E5ECF6\",\"radialaxis\":{\"gridcolor\":\"white\",\"linecolor\":\"white\",\"ticks\":\"\"}},\"scene\":{\"xaxis\":{\"backgroundcolor\":\"#E5ECF6\",\"gridcolor\":\"white\",\"gridwidth\":2,\"linecolor\":\"white\",\"showbackground\":true,\"ticks\":\"\",\"zerolinecolor\":\"white\"},\"yaxis\":{\"backgroundcolor\":\"#E5ECF6\",\"gridcolor\":\"white\",\"gridwidth\":2,\"linecolor\":\"white\",\"showbackground\":true,\"ticks\":\"\",\"zerolinecolor\":\"white\"},\"zaxis\":{\"backgroundcolor\":\"#E5ECF6\",\"gridcolor\":\"white\",\"gridwidth\":2,\"linecolor\":\"white\",\"showbackground\":true,\"ticks\":\"\",\"zerolinecolor\":\"white\"}},\"shapedefaults\":{\"line\":{\"color\":\"#2a3f5f\"}},\"ternary\":{\"aaxis\":{\"gridcolor\":\"white\",\"linecolor\":\"white\",\"ticks\":\"\"},\"baxis\":{\"gridcolor\":\"white\",\"linecolor\":\"white\",\"ticks\":\"\"},\"bgcolor\":\"#E5ECF6\",\"caxis\":{\"gridcolor\":\"white\",\"linecolor\":\"white\",\"ticks\":\"\"}},\"title\":{\"x\":0.05},\"xaxis\":{\"automargin\":true,\"gridcolor\":\"white\",\"linecolor\":\"white\",\"ticks\":\"\",\"title\":{\"standoff\":15},\"zerolinecolor\":\"white\",\"zerolinewidth\":2},\"yaxis\":{\"automargin\":true,\"gridcolor\":\"white\",\"linecolor\":\"white\",\"ticks\":\"\",\"title\":{\"standoff\":15},\"zerolinecolor\":\"white\",\"zerolinewidth\":2}}},\"legend\":{\"tracegroupgap\":0},\"margin\":{\"t\":60}},                        {\"responsive\": true}                    ).then(function(){\n",
       "                            \n",
       "var gd = document.getElementById('3ed0b48f-a6a6-467d-bb51-f476db1d7797');\n",
       "var x = new MutationObserver(function (mutations, observer) {{\n",
       "        var display = window.getComputedStyle(gd).display;\n",
       "        if (!display || display === 'none') {{\n",
       "            console.log([gd, 'removed!']);\n",
       "            Plotly.purge(gd);\n",
       "            observer.disconnect();\n",
       "        }}\n",
       "}});\n",
       "\n",
       "// Listen for the removal of the full notebook cells\n",
       "var notebookContainer = gd.closest('#notebook-container');\n",
       "if (notebookContainer) {{\n",
       "    x.observe(notebookContainer, {childList: true});\n",
       "}}\n",
       "\n",
       "// Listen for the clearing of the current output cell\n",
       "var outputEl = gd.closest('.output');\n",
       "if (outputEl) {{\n",
       "    x.observe(outputEl, {childList: true});\n",
       "}}\n",
       "\n",
       "                        })                };                });            </script>        </div>"
      ]
     },
     "metadata": {},
     "output_type": "display_data"
    }
   ],
   "source": [
    "fig = px.sunburst(df_burnst, path=['stadt', 'product'],\n",
    "                 values=\"Umsatz\",\n",
    "                 color = \"stadt\")\n",
    "fig.show()"
   ]
  },
  {
   "cell_type": "code",
   "execution_count": 42,
   "metadata": {},
   "outputs": [
    {
     "data": {
      "application/vnd.plotly.v1+json": {
       "config": {
        "plotlyServerURL": "https://plot.ly"
       },
       "data": [
        {
         "branchvalues": "total",
         "customdata": [
          [
           "20in Monitor"
          ],
          [
           "20in Monitor"
          ],
          [
           "20in Monitor"
          ],
          [
           "20in Monitor"
          ],
          [
           "20in Monitor"
          ],
          [
           "20in Monitor"
          ],
          [
           "20in Monitor"
          ],
          [
           "20in Monitor"
          ],
          [
           "20in Monitor"
          ],
          [
           "27in 4K Gaming Monitor"
          ],
          [
           "27in 4K Gaming Monitor"
          ],
          [
           "27in 4K Gaming Monitor"
          ],
          [
           "27in 4K Gaming Monitor"
          ],
          [
           "27in 4K Gaming Monitor"
          ],
          [
           "27in 4K Gaming Monitor"
          ],
          [
           "27in 4K Gaming Monitor"
          ],
          [
           "27in 4K Gaming Monitor"
          ],
          [
           "27in 4K Gaming Monitor"
          ],
          [
           "27in FHD Monitor"
          ],
          [
           "27in FHD Monitor"
          ],
          [
           "27in FHD Monitor"
          ],
          [
           "27in FHD Monitor"
          ],
          [
           "27in FHD Monitor"
          ],
          [
           "27in FHD Monitor"
          ],
          [
           "27in FHD Monitor"
          ],
          [
           "27in FHD Monitor"
          ],
          [
           "27in FHD Monitor"
          ],
          [
           "34in Ultrawide Monitor"
          ],
          [
           "34in Ultrawide Monitor"
          ],
          [
           "34in Ultrawide Monitor"
          ],
          [
           "34in Ultrawide Monitor"
          ],
          [
           "34in Ultrawide Monitor"
          ],
          [
           "34in Ultrawide Monitor"
          ],
          [
           "34in Ultrawide Monitor"
          ],
          [
           "34in Ultrawide Monitor"
          ],
          [
           "34in Ultrawide Monitor"
          ],
          [
           "AA Batteries (4-pack)"
          ],
          [
           "AA Batteries (4-pack)"
          ],
          [
           "AA Batteries (4-pack)"
          ],
          [
           "AA Batteries (4-pack)"
          ],
          [
           "AA Batteries (4-pack)"
          ],
          [
           "AA Batteries (4-pack)"
          ],
          [
           "AA Batteries (4-pack)"
          ],
          [
           "AA Batteries (4-pack)"
          ],
          [
           "AA Batteries (4-pack)"
          ],
          [
           "AAA Batteries (4-pack)"
          ],
          [
           "AAA Batteries (4-pack)"
          ],
          [
           "AAA Batteries (4-pack)"
          ],
          [
           "AAA Batteries (4-pack)"
          ],
          [
           "AAA Batteries (4-pack)"
          ],
          [
           "AAA Batteries (4-pack)"
          ],
          [
           "AAA Batteries (4-pack)"
          ],
          [
           "AAA Batteries (4-pack)"
          ],
          [
           "AAA Batteries (4-pack)"
          ],
          [
           "Apple Airpods Headphones"
          ],
          [
           "Apple Airpods Headphones"
          ],
          [
           "Apple Airpods Headphones"
          ],
          [
           "Apple Airpods Headphones"
          ],
          [
           "Apple Airpods Headphones"
          ],
          [
           "Apple Airpods Headphones"
          ],
          [
           "Apple Airpods Headphones"
          ],
          [
           "Apple Airpods Headphones"
          ],
          [
           "Apple Airpods Headphones"
          ],
          [
           "Bose SoundSport Headphones"
          ],
          [
           "Bose SoundSport Headphones"
          ],
          [
           "Bose SoundSport Headphones"
          ],
          [
           "Bose SoundSport Headphones"
          ],
          [
           "Bose SoundSport Headphones"
          ],
          [
           "Bose SoundSport Headphones"
          ],
          [
           "Bose SoundSport Headphones"
          ],
          [
           "Bose SoundSport Headphones"
          ],
          [
           "Bose SoundSport Headphones"
          ],
          [
           "Flatscreen TV"
          ],
          [
           "Flatscreen TV"
          ],
          [
           "Flatscreen TV"
          ],
          [
           "Flatscreen TV"
          ],
          [
           "Flatscreen TV"
          ],
          [
           "Flatscreen TV"
          ],
          [
           "Flatscreen TV"
          ],
          [
           "Flatscreen TV"
          ],
          [
           "Flatscreen TV"
          ],
          [
           "Google Phone"
          ],
          [
           "Google Phone"
          ],
          [
           "Google Phone"
          ],
          [
           "Google Phone"
          ],
          [
           "Google Phone"
          ],
          [
           "Google Phone"
          ],
          [
           "Google Phone"
          ],
          [
           "Google Phone"
          ],
          [
           "Google Phone"
          ],
          [
           "LG Dryer"
          ],
          [
           "LG Dryer"
          ],
          [
           "LG Dryer"
          ],
          [
           "LG Dryer"
          ],
          [
           "LG Dryer"
          ],
          [
           "LG Dryer"
          ],
          [
           "LG Dryer"
          ],
          [
           "LG Dryer"
          ],
          [
           "LG Dryer"
          ],
          [
           "LG Washing Machine"
          ],
          [
           "LG Washing Machine"
          ],
          [
           "LG Washing Machine"
          ],
          [
           "LG Washing Machine"
          ],
          [
           "LG Washing Machine"
          ],
          [
           "LG Washing Machine"
          ],
          [
           "LG Washing Machine"
          ],
          [
           "LG Washing Machine"
          ],
          [
           "LG Washing Machine"
          ],
          [
           "Lightning Charging Cable"
          ],
          [
           "Lightning Charging Cable"
          ],
          [
           "Lightning Charging Cable"
          ],
          [
           "Lightning Charging Cable"
          ],
          [
           "Lightning Charging Cable"
          ],
          [
           "Lightning Charging Cable"
          ],
          [
           "Lightning Charging Cable"
          ],
          [
           "Lightning Charging Cable"
          ],
          [
           "Lightning Charging Cable"
          ],
          [
           "Macbook Pro Laptop"
          ],
          [
           "Macbook Pro Laptop"
          ],
          [
           "Macbook Pro Laptop"
          ],
          [
           "Macbook Pro Laptop"
          ],
          [
           "Macbook Pro Laptop"
          ],
          [
           "Macbook Pro Laptop"
          ],
          [
           "Macbook Pro Laptop"
          ],
          [
           "Macbook Pro Laptop"
          ],
          [
           "Macbook Pro Laptop"
          ],
          [
           "ThinkPad Laptop"
          ],
          [
           "ThinkPad Laptop"
          ],
          [
           "ThinkPad Laptop"
          ],
          [
           "ThinkPad Laptop"
          ],
          [
           "ThinkPad Laptop"
          ],
          [
           "ThinkPad Laptop"
          ],
          [
           "ThinkPad Laptop"
          ],
          [
           "ThinkPad Laptop"
          ],
          [
           "ThinkPad Laptop"
          ],
          [
           "USB-C Charging Cable"
          ],
          [
           "USB-C Charging Cable"
          ],
          [
           "USB-C Charging Cable"
          ],
          [
           "USB-C Charging Cable"
          ],
          [
           "USB-C Charging Cable"
          ],
          [
           "USB-C Charging Cable"
          ],
          [
           "USB-C Charging Cable"
          ],
          [
           "USB-C Charging Cable"
          ],
          [
           "USB-C Charging Cable"
          ],
          [
           "Vareebadd Phone"
          ],
          [
           "Vareebadd Phone"
          ],
          [
           "Vareebadd Phone"
          ],
          [
           "Vareebadd Phone"
          ],
          [
           "Vareebadd Phone"
          ],
          [
           "Vareebadd Phone"
          ],
          [
           "Vareebadd Phone"
          ],
          [
           "Vareebadd Phone"
          ],
          [
           "Vareebadd Phone"
          ],
          [
           "Wired Headphones"
          ],
          [
           "Wired Headphones"
          ],
          [
           "Wired Headphones"
          ],
          [
           "Wired Headphones"
          ],
          [
           "Wired Headphones"
          ],
          [
           "Wired Headphones"
          ],
          [
           "Wired Headphones"
          ],
          [
           "Wired Headphones"
          ],
          [
           "Wired Headphones"
          ],
          [
           "iPhone"
          ],
          [
           "iPhone"
          ],
          [
           "iPhone"
          ],
          [
           "iPhone"
          ],
          [
           "iPhone"
          ],
          [
           "iPhone"
          ],
          [
           "iPhone"
          ],
          [
           "iPhone"
          ],
          [
           "iPhone"
          ],
          [
           "20in Monitor"
          ],
          [
           "27in 4K Gaming Monitor"
          ],
          [
           "27in FHD Monitor"
          ],
          [
           "34in Ultrawide Monitor"
          ],
          [
           "AA Batteries (4-pack)"
          ],
          [
           "AAA Batteries (4-pack)"
          ],
          [
           "Apple Airpods Headphones"
          ],
          [
           "Bose SoundSport Headphones"
          ],
          [
           "Flatscreen TV"
          ],
          [
           "Google Phone"
          ],
          [
           "LG Dryer"
          ],
          [
           "LG Washing Machine"
          ],
          [
           "Lightning Charging Cable"
          ],
          [
           "Macbook Pro Laptop"
          ],
          [
           "ThinkPad Laptop"
          ],
          [
           "USB-C Charging Cable"
          ],
          [
           "Vareebadd Phone"
          ],
          [
           "Wired Headphones"
          ],
          [
           "iPhone"
          ]
         ],
         "domain": {
          "x": [
           0,
           1
          ],
          "y": [
           0,
           1
          ]
         },
         "hovertemplate": "labels=%{label}<br>Anzahl_der_Waren=%{value}<br>parent=%{parent}<br>id=%{id}<br>product=%{customdata[0]}<extra></extra>",
         "ids": [
          "20in Monitor/ Atlanta",
          "20in Monitor/ San Francisco",
          "20in Monitor/ Portland",
          "20in Monitor/ Dallas",
          "20in Monitor/ Boston",
          "20in Monitor/ Seattle",
          "20in Monitor/ New York City",
          "20in Monitor/ Los Angeles",
          "20in Monitor/ Austin",
          "27in 4K Gaming Monitor/ Boston",
          "27in 4K Gaming Monitor/ New York City",
          "27in 4K Gaming Monitor/ Atlanta",
          "27in 4K Gaming Monitor/ San Francisco",
          "27in 4K Gaming Monitor/ Portland",
          "27in 4K Gaming Monitor/ Seattle",
          "27in 4K Gaming Monitor/ Dallas",
          "27in 4K Gaming Monitor/ Austin",
          "27in 4K Gaming Monitor/ Los Angeles",
          "27in FHD Monitor/ San Francisco",
          "27in FHD Monitor/ Boston",
          "27in FHD Monitor/ Portland",
          "27in FHD Monitor/ Atlanta",
          "27in FHD Monitor/ Los Angeles",
          "27in FHD Monitor/ Dallas",
          "27in FHD Monitor/ Austin",
          "27in FHD Monitor/ New York City",
          "27in FHD Monitor/ Seattle",
          "34in Ultrawide Monitor/ New York City",
          "34in Ultrawide Monitor/ San Francisco",
          "34in Ultrawide Monitor/ Boston",
          "34in Ultrawide Monitor/ Austin",
          "34in Ultrawide Monitor/ Dallas",
          "34in Ultrawide Monitor/ Seattle",
          "34in Ultrawide Monitor/ Los Angeles",
          "34in Ultrawide Monitor/ Atlanta",
          "34in Ultrawide Monitor/ Portland",
          "AA Batteries (4-pack)/ Dallas",
          "AA Batteries (4-pack)/ New York City",
          "AA Batteries (4-pack)/ Los Angeles",
          "AA Batteries (4-pack)/ Portland",
          "AA Batteries (4-pack)/ Boston",
          "AA Batteries (4-pack)/ Atlanta",
          "AA Batteries (4-pack)/ San Francisco",
          "AA Batteries (4-pack)/ Seattle",
          "AA Batteries (4-pack)/ Austin",
          "AAA Batteries (4-pack)/ San Francisco",
          "AAA Batteries (4-pack)/ Los Angeles",
          "AAA Batteries (4-pack)/ Atlanta",
          "AAA Batteries (4-pack)/ Seattle",
          "AAA Batteries (4-pack)/ New York City",
          "AAA Batteries (4-pack)/ Austin",
          "AAA Batteries (4-pack)/ Dallas",
          "AAA Batteries (4-pack)/ Boston",
          "AAA Batteries (4-pack)/ Portland",
          "Apple Airpods Headphones/ San Francisco",
          "Apple Airpods Headphones/ Los Angeles",
          "Apple Airpods Headphones/ Boston",
          "Apple Airpods Headphones/ Atlanta",
          "Apple Airpods Headphones/ Austin",
          "Apple Airpods Headphones/ Portland",
          "Apple Airpods Headphones/ Seattle",
          "Apple Airpods Headphones/ Dallas",
          "Apple Airpods Headphones/ New York City",
          "Bose SoundSport Headphones/ Los Angeles",
          "Bose SoundSport Headphones/ Atlanta",
          "Bose SoundSport Headphones/ Seattle",
          "Bose SoundSport Headphones/ Boston",
          "Bose SoundSport Headphones/ New York City",
          "Bose SoundSport Headphones/ San Francisco",
          "Bose SoundSport Headphones/ Dallas",
          "Bose SoundSport Headphones/ Austin",
          "Bose SoundSport Headphones/ Portland",
          "Flatscreen TV/ Atlanta",
          "Flatscreen TV/ San Francisco",
          "Flatscreen TV/ Austin",
          "Flatscreen TV/ New York City",
          "Flatscreen TV/ Los Angeles",
          "Flatscreen TV/ Seattle",
          "Flatscreen TV/ Portland",
          "Flatscreen TV/ Boston",
          "Flatscreen TV/ Dallas",
          "Google Phone/ Portland",
          "Google Phone/ San Francisco",
          "Google Phone/ Seattle",
          "Google Phone/ New York City",
          "Google Phone/ Los Angeles",
          "Google Phone/ Austin",
          "Google Phone/ Boston",
          "Google Phone/ Atlanta",
          "Google Phone/ Dallas",
          "LG Dryer/ Los Angeles",
          "LG Dryer/ San Francisco",
          "LG Dryer/ Austin",
          "LG Dryer/ Portland",
          "LG Dryer/ Boston",
          "LG Dryer/ Seattle",
          "LG Dryer/ Atlanta",
          "LG Dryer/ New York City",
          "LG Dryer/ Dallas",
          "LG Washing Machine/ New York City",
          "LG Washing Machine/ Dallas",
          "LG Washing Machine/ Boston",
          "LG Washing Machine/ San Francisco",
          "LG Washing Machine/ Atlanta",
          "LG Washing Machine/ Seattle",
          "LG Washing Machine/ Portland",
          "LG Washing Machine/ Los Angeles",
          "LG Washing Machine/ Austin",
          "Lightning Charging Cable/ Austin",
          "Lightning Charging Cable/ Boston",
          "Lightning Charging Cable/ Portland",
          "Lightning Charging Cable/ San Francisco",
          "Lightning Charging Cable/ New York City",
          "Lightning Charging Cable/ Atlanta",
          "Lightning Charging Cable/ Dallas",
          "Lightning Charging Cable/ Seattle",
          "Lightning Charging Cable/ Los Angeles",
          "Macbook Pro Laptop/ Portland",
          "Macbook Pro Laptop/ New York City",
          "Macbook Pro Laptop/ Austin",
          "Macbook Pro Laptop/ Dallas",
          "Macbook Pro Laptop/ Boston",
          "Macbook Pro Laptop/ Atlanta",
          "Macbook Pro Laptop/ San Francisco",
          "Macbook Pro Laptop/ Seattle",
          "Macbook Pro Laptop/ Los Angeles",
          "ThinkPad Laptop/ San Francisco",
          "ThinkPad Laptop/ Atlanta",
          "ThinkPad Laptop/ Seattle",
          "ThinkPad Laptop/ Austin",
          "ThinkPad Laptop/ Portland",
          "ThinkPad Laptop/ Dallas",
          "ThinkPad Laptop/ Los Angeles",
          "ThinkPad Laptop/ New York City",
          "ThinkPad Laptop/ Boston",
          "USB-C Charging Cable/ San Francisco",
          "USB-C Charging Cable/ New York City",
          "USB-C Charging Cable/ Dallas",
          "USB-C Charging Cable/ Boston",
          "USB-C Charging Cable/ Atlanta",
          "USB-C Charging Cable/ Portland",
          "USB-C Charging Cable/ Austin",
          "USB-C Charging Cable/ Seattle",
          "USB-C Charging Cable/ Los Angeles",
          "Vareebadd Phone/ Los Angeles",
          "Vareebadd Phone/ Atlanta",
          "Vareebadd Phone/ Austin",
          "Vareebadd Phone/ Dallas",
          "Vareebadd Phone/ New York City",
          "Vareebadd Phone/ Seattle",
          "Vareebadd Phone/ San Francisco",
          "Vareebadd Phone/ Portland",
          "Vareebadd Phone/ Boston",
          "Wired Headphones/ Portland",
          "Wired Headphones/ Dallas",
          "Wired Headphones/ Los Angeles",
          "Wired Headphones/ San Francisco",
          "Wired Headphones/ New York City",
          "Wired Headphones/ Boston",
          "Wired Headphones/ Seattle",
          "Wired Headphones/ Austin",
          "Wired Headphones/ Atlanta",
          "iPhone/ Atlanta",
          "iPhone/ San Francisco",
          "iPhone/ New York City",
          "iPhone/ Dallas",
          "iPhone/ Los Angeles",
          "iPhone/ Boston",
          "iPhone/ Austin",
          "iPhone/ Portland",
          "iPhone/ Seattle",
          "20in Monitor",
          "27in 4K Gaming Monitor",
          "27in FHD Monitor",
          "34in Ultrawide Monitor",
          "AA Batteries (4-pack)",
          "AAA Batteries (4-pack)",
          "Apple Airpods Headphones",
          "Bose SoundSport Headphones",
          "Flatscreen TV",
          "Google Phone",
          "LG Dryer",
          "LG Washing Machine",
          "Lightning Charging Cable",
          "Macbook Pro Laptop",
          "ThinkPad Laptop",
          "USB-C Charging Cable",
          "Vareebadd Phone",
          "Wired Headphones",
          "iPhone"
         ],
         "labels": [
          " Atlanta",
          " San Francisco",
          " Portland",
          " Dallas",
          " Boston",
          " Seattle",
          " New York City",
          " Los Angeles",
          " Austin",
          " Boston",
          " New York City",
          " Atlanta",
          " San Francisco",
          " Portland",
          " Seattle",
          " Dallas",
          " Austin",
          " Los Angeles",
          " San Francisco",
          " Boston",
          " Portland",
          " Atlanta",
          " Los Angeles",
          " Dallas",
          " Austin",
          " New York City",
          " Seattle",
          " New York City",
          " San Francisco",
          " Boston",
          " Austin",
          " Dallas",
          " Seattle",
          " Los Angeles",
          " Atlanta",
          " Portland",
          " Dallas",
          " New York City",
          " Los Angeles",
          " Portland",
          " Boston",
          " Atlanta",
          " San Francisco",
          " Seattle",
          " Austin",
          " San Francisco",
          " Los Angeles",
          " Atlanta",
          " Seattle",
          " New York City",
          " Austin",
          " Dallas",
          " Boston",
          " Portland",
          " San Francisco",
          " Los Angeles",
          " Boston",
          " Atlanta",
          " Austin",
          " Portland",
          " Seattle",
          " Dallas",
          " New York City",
          " Los Angeles",
          " Atlanta",
          " Seattle",
          " Boston",
          " New York City",
          " San Francisco",
          " Dallas",
          " Austin",
          " Portland",
          " Atlanta",
          " San Francisco",
          " Austin",
          " New York City",
          " Los Angeles",
          " Seattle",
          " Portland",
          " Boston",
          " Dallas",
          " Portland",
          " San Francisco",
          " Seattle",
          " New York City",
          " Los Angeles",
          " Austin",
          " Boston",
          " Atlanta",
          " Dallas",
          " Los Angeles",
          " San Francisco",
          " Austin",
          " Portland",
          " Boston",
          " Seattle",
          " Atlanta",
          " New York City",
          " Dallas",
          " New York City",
          " Dallas",
          " Boston",
          " San Francisco",
          " Atlanta",
          " Seattle",
          " Portland",
          " Los Angeles",
          " Austin",
          " Austin",
          " Boston",
          " Portland",
          " San Francisco",
          " New York City",
          " Atlanta",
          " Dallas",
          " Seattle",
          " Los Angeles",
          " Portland",
          " New York City",
          " Austin",
          " Dallas",
          " Boston",
          " Atlanta",
          " San Francisco",
          " Seattle",
          " Los Angeles",
          " San Francisco",
          " Atlanta",
          " Seattle",
          " Austin",
          " Portland",
          " Dallas",
          " Los Angeles",
          " New York City",
          " Boston",
          " San Francisco",
          " New York City",
          " Dallas",
          " Boston",
          " Atlanta",
          " Portland",
          " Austin",
          " Seattle",
          " Los Angeles",
          " Los Angeles",
          " Atlanta",
          " Austin",
          " Dallas",
          " New York City",
          " Seattle",
          " San Francisco",
          " Portland",
          " Boston",
          " Portland",
          " Dallas",
          " Los Angeles",
          " San Francisco",
          " New York City",
          " Boston",
          " Seattle",
          " Austin",
          " Atlanta",
          " Atlanta",
          " San Francisco",
          " New York City",
          " Dallas",
          " Los Angeles",
          " Boston",
          " Austin",
          " Portland",
          " Seattle",
          "20in Monitor",
          "27in 4K Gaming Monitor",
          "27in FHD Monitor",
          "34in Ultrawide Monitor",
          "AA Batteries (4-pack)",
          "AAA Batteries (4-pack)",
          "Apple Airpods Headphones",
          "Bose SoundSport Headphones",
          "Flatscreen TV",
          "Google Phone",
          "LG Dryer",
          "LG Washing Machine",
          "Lightning Charging Cable",
          "Macbook Pro Laptop",
          "ThinkPad Laptop",
          "USB-C Charging Cable",
          "Vareebadd Phone",
          "Wired Headphones",
          "iPhone"
         ],
         "marker": {
          "colors": [
           "#636efa",
           "#636efa",
           "#636efa",
           "#636efa",
           "#636efa",
           "#636efa",
           "#636efa",
           "#636efa",
           "#636efa",
           "#EF553B",
           "#EF553B",
           "#EF553B",
           "#EF553B",
           "#EF553B",
           "#EF553B",
           "#EF553B",
           "#EF553B",
           "#EF553B",
           "#00cc96",
           "#00cc96",
           "#00cc96",
           "#00cc96",
           "#00cc96",
           "#00cc96",
           "#00cc96",
           "#00cc96",
           "#00cc96",
           "#ab63fa",
           "#ab63fa",
           "#ab63fa",
           "#ab63fa",
           "#ab63fa",
           "#ab63fa",
           "#ab63fa",
           "#ab63fa",
           "#ab63fa",
           "#FFA15A",
           "#FFA15A",
           "#FFA15A",
           "#FFA15A",
           "#FFA15A",
           "#FFA15A",
           "#FFA15A",
           "#FFA15A",
           "#FFA15A",
           "#19d3f3",
           "#19d3f3",
           "#19d3f3",
           "#19d3f3",
           "#19d3f3",
           "#19d3f3",
           "#19d3f3",
           "#19d3f3",
           "#19d3f3",
           "#FF6692",
           "#FF6692",
           "#FF6692",
           "#FF6692",
           "#FF6692",
           "#FF6692",
           "#FF6692",
           "#FF6692",
           "#FF6692",
           "#B6E880",
           "#B6E880",
           "#B6E880",
           "#B6E880",
           "#B6E880",
           "#B6E880",
           "#B6E880",
           "#B6E880",
           "#B6E880",
           "#FF97FF",
           "#FF97FF",
           "#FF97FF",
           "#FF97FF",
           "#FF97FF",
           "#FF97FF",
           "#FF97FF",
           "#FF97FF",
           "#FF97FF",
           "#FECB52",
           "#FECB52",
           "#FECB52",
           "#FECB52",
           "#FECB52",
           "#FECB52",
           "#FECB52",
           "#FECB52",
           "#FECB52",
           "#636efa",
           "#636efa",
           "#636efa",
           "#636efa",
           "#636efa",
           "#636efa",
           "#636efa",
           "#636efa",
           "#636efa",
           "#EF553B",
           "#EF553B",
           "#EF553B",
           "#EF553B",
           "#EF553B",
           "#EF553B",
           "#EF553B",
           "#EF553B",
           "#EF553B",
           "#00cc96",
           "#00cc96",
           "#00cc96",
           "#00cc96",
           "#00cc96",
           "#00cc96",
           "#00cc96",
           "#00cc96",
           "#00cc96",
           "#ab63fa",
           "#ab63fa",
           "#ab63fa",
           "#ab63fa",
           "#ab63fa",
           "#ab63fa",
           "#ab63fa",
           "#ab63fa",
           "#ab63fa",
           "#FFA15A",
           "#FFA15A",
           "#FFA15A",
           "#FFA15A",
           "#FFA15A",
           "#FFA15A",
           "#FFA15A",
           "#FFA15A",
           "#FFA15A",
           "#19d3f3",
           "#19d3f3",
           "#19d3f3",
           "#19d3f3",
           "#19d3f3",
           "#19d3f3",
           "#19d3f3",
           "#19d3f3",
           "#19d3f3",
           "#FF6692",
           "#FF6692",
           "#FF6692",
           "#FF6692",
           "#FF6692",
           "#FF6692",
           "#FF6692",
           "#FF6692",
           "#FF6692",
           "#B6E880",
           "#B6E880",
           "#B6E880",
           "#B6E880",
           "#B6E880",
           "#B6E880",
           "#B6E880",
           "#B6E880",
           "#B6E880",
           "#FF97FF",
           "#FF97FF",
           "#FF97FF",
           "#FF97FF",
           "#FF97FF",
           "#FF97FF",
           "#FF97FF",
           "#FF97FF",
           "#FF97FF",
           "#636efa",
           "#EF553B",
           "#00cc96",
           "#ab63fa",
           "#FFA15A",
           "#19d3f3",
           "#FF6692",
           "#B6E880",
           "#FF97FF",
           "#FECB52",
           "#636efa",
           "#EF553B",
           "#00cc96",
           "#ab63fa",
           "#FFA15A",
           "#19d3f3",
           "#FF6692",
           "#B6E880",
           "#FF97FF"
          ]
         },
         "name": "",
         "parents": [
          "20in Monitor",
          "20in Monitor",
          "20in Monitor",
          "20in Monitor",
          "20in Monitor",
          "20in Monitor",
          "20in Monitor",
          "20in Monitor",
          "20in Monitor",
          "27in 4K Gaming Monitor",
          "27in 4K Gaming Monitor",
          "27in 4K Gaming Monitor",
          "27in 4K Gaming Monitor",
          "27in 4K Gaming Monitor",
          "27in 4K Gaming Monitor",
          "27in 4K Gaming Monitor",
          "27in 4K Gaming Monitor",
          "27in 4K Gaming Monitor",
          "27in FHD Monitor",
          "27in FHD Monitor",
          "27in FHD Monitor",
          "27in FHD Monitor",
          "27in FHD Monitor",
          "27in FHD Monitor",
          "27in FHD Monitor",
          "27in FHD Monitor",
          "27in FHD Monitor",
          "34in Ultrawide Monitor",
          "34in Ultrawide Monitor",
          "34in Ultrawide Monitor",
          "34in Ultrawide Monitor",
          "34in Ultrawide Monitor",
          "34in Ultrawide Monitor",
          "34in Ultrawide Monitor",
          "34in Ultrawide Monitor",
          "34in Ultrawide Monitor",
          "AA Batteries (4-pack)",
          "AA Batteries (4-pack)",
          "AA Batteries (4-pack)",
          "AA Batteries (4-pack)",
          "AA Batteries (4-pack)",
          "AA Batteries (4-pack)",
          "AA Batteries (4-pack)",
          "AA Batteries (4-pack)",
          "AA Batteries (4-pack)",
          "AAA Batteries (4-pack)",
          "AAA Batteries (4-pack)",
          "AAA Batteries (4-pack)",
          "AAA Batteries (4-pack)",
          "AAA Batteries (4-pack)",
          "AAA Batteries (4-pack)",
          "AAA Batteries (4-pack)",
          "AAA Batteries (4-pack)",
          "AAA Batteries (4-pack)",
          "Apple Airpods Headphones",
          "Apple Airpods Headphones",
          "Apple Airpods Headphones",
          "Apple Airpods Headphones",
          "Apple Airpods Headphones",
          "Apple Airpods Headphones",
          "Apple Airpods Headphones",
          "Apple Airpods Headphones",
          "Apple Airpods Headphones",
          "Bose SoundSport Headphones",
          "Bose SoundSport Headphones",
          "Bose SoundSport Headphones",
          "Bose SoundSport Headphones",
          "Bose SoundSport Headphones",
          "Bose SoundSport Headphones",
          "Bose SoundSport Headphones",
          "Bose SoundSport Headphones",
          "Bose SoundSport Headphones",
          "Flatscreen TV",
          "Flatscreen TV",
          "Flatscreen TV",
          "Flatscreen TV",
          "Flatscreen TV",
          "Flatscreen TV",
          "Flatscreen TV",
          "Flatscreen TV",
          "Flatscreen TV",
          "Google Phone",
          "Google Phone",
          "Google Phone",
          "Google Phone",
          "Google Phone",
          "Google Phone",
          "Google Phone",
          "Google Phone",
          "Google Phone",
          "LG Dryer",
          "LG Dryer",
          "LG Dryer",
          "LG Dryer",
          "LG Dryer",
          "LG Dryer",
          "LG Dryer",
          "LG Dryer",
          "LG Dryer",
          "LG Washing Machine",
          "LG Washing Machine",
          "LG Washing Machine",
          "LG Washing Machine",
          "LG Washing Machine",
          "LG Washing Machine",
          "LG Washing Machine",
          "LG Washing Machine",
          "LG Washing Machine",
          "Lightning Charging Cable",
          "Lightning Charging Cable",
          "Lightning Charging Cable",
          "Lightning Charging Cable",
          "Lightning Charging Cable",
          "Lightning Charging Cable",
          "Lightning Charging Cable",
          "Lightning Charging Cable",
          "Lightning Charging Cable",
          "Macbook Pro Laptop",
          "Macbook Pro Laptop",
          "Macbook Pro Laptop",
          "Macbook Pro Laptop",
          "Macbook Pro Laptop",
          "Macbook Pro Laptop",
          "Macbook Pro Laptop",
          "Macbook Pro Laptop",
          "Macbook Pro Laptop",
          "ThinkPad Laptop",
          "ThinkPad Laptop",
          "ThinkPad Laptop",
          "ThinkPad Laptop",
          "ThinkPad Laptop",
          "ThinkPad Laptop",
          "ThinkPad Laptop",
          "ThinkPad Laptop",
          "ThinkPad Laptop",
          "USB-C Charging Cable",
          "USB-C Charging Cable",
          "USB-C Charging Cable",
          "USB-C Charging Cable",
          "USB-C Charging Cable",
          "USB-C Charging Cable",
          "USB-C Charging Cable",
          "USB-C Charging Cable",
          "USB-C Charging Cable",
          "Vareebadd Phone",
          "Vareebadd Phone",
          "Vareebadd Phone",
          "Vareebadd Phone",
          "Vareebadd Phone",
          "Vareebadd Phone",
          "Vareebadd Phone",
          "Vareebadd Phone",
          "Vareebadd Phone",
          "Wired Headphones",
          "Wired Headphones",
          "Wired Headphones",
          "Wired Headphones",
          "Wired Headphones",
          "Wired Headphones",
          "Wired Headphones",
          "Wired Headphones",
          "Wired Headphones",
          "iPhone",
          "iPhone",
          "iPhone",
          "iPhone",
          "iPhone",
          "iPhone",
          "iPhone",
          "iPhone",
          "iPhone",
          "",
          "",
          "",
          "",
          "",
          "",
          "",
          "",
          "",
          "",
          "",
          "",
          "",
          "",
          "",
          "",
          "",
          "",
          ""
         ],
         "type": "sunburst",
         "values": [
          342,
          1000,
          278,
          343,
          394,
          324,
          560,
          658,
          230,
          675,
          842,
          493,
          1460,
          434,
          538,
          481,
          318,
          1003,
          1814,
          797,
          530,
          588,
          1223,
          587,
          360,
          1072,
          579,
          868,
          1446,
          671,
          328,
          512,
          534,
          955,
          482,
          403,
          2261,
          3630,
          4438,
          1939,
          3016,
          2193,
          6555,
          2179,
          1424,
          7408,
          4967,
          2359,
          2446,
          4124,
          1668,
          2504,
          3461,
          2080,
          3733,
          2473,
          1653,
          1266,
          887,
          1099,
          1258,
          1194,
          2098,
          2125,
          1084,
          1062,
          1416,
          1794,
          3317,
          1063,
          707,
          889,
          407,
          1154,
          242,
          628,
          727,
          375,
          312,
          554,
          420,
          355,
          1358,
          434,
          758,
          848,
          274,
          593,
          451,
          461,
          116,
          143,
          55,
          37,
          59,
          56,
          59,
          77,
          44,
          85,
          51,
          72,
          180,
          52,
          58,
          37,
          105,
          26,
          1307,
          2491,
          1531,
          5557,
          3041,
          1879,
          1864,
          1775,
          3772,
          337,
          657,
          251,
          382,
          479,
          379,
          1136,
          356,
          751,
          963,
          357,
          333,
          210,
          274,
          345,
          641,
          560,
          447,
          5894,
          3269,
          1852,
          2561,
          1915,
          1582,
          1251,
          1869,
          3782,
          317,
          173,
          108,
          178,
          281,
          179,
          494,
          124,
          214,
          1362,
          1669,
          3270,
          4966,
          2707,
          2222,
          1652,
          1130,
          1579,
          544,
          1661,
          881,
          519,
          1118,
          753,
          377,
          450,
          546,
          4129,
          6244,
          7550,
          6199,
          27635,
          31017,
          15661,
          13457,
          4819,
          5532,
          646,
          666,
          23217,
          4728,
          4130,
          23975,
          2068,
          20557,
          6849
         ]
        }
       ],
       "layout": {
        "legend": {
         "tracegroupgap": 0
        },
        "margin": {
         "t": 60
        },
        "template": {
         "data": {
          "bar": [
           {
            "error_x": {
             "color": "#2a3f5f"
            },
            "error_y": {
             "color": "#2a3f5f"
            },
            "marker": {
             "line": {
              "color": "#E5ECF6",
              "width": 0.5
             },
             "pattern": {
              "fillmode": "overlay",
              "size": 10,
              "solidity": 0.2
             }
            },
            "type": "bar"
           }
          ],
          "barpolar": [
           {
            "marker": {
             "line": {
              "color": "#E5ECF6",
              "width": 0.5
             },
             "pattern": {
              "fillmode": "overlay",
              "size": 10,
              "solidity": 0.2
             }
            },
            "type": "barpolar"
           }
          ],
          "carpet": [
           {
            "aaxis": {
             "endlinecolor": "#2a3f5f",
             "gridcolor": "white",
             "linecolor": "white",
             "minorgridcolor": "white",
             "startlinecolor": "#2a3f5f"
            },
            "baxis": {
             "endlinecolor": "#2a3f5f",
             "gridcolor": "white",
             "linecolor": "white",
             "minorgridcolor": "white",
             "startlinecolor": "#2a3f5f"
            },
            "type": "carpet"
           }
          ],
          "choropleth": [
           {
            "colorbar": {
             "outlinewidth": 0,
             "ticks": ""
            },
            "type": "choropleth"
           }
          ],
          "contour": [
           {
            "colorbar": {
             "outlinewidth": 0,
             "ticks": ""
            },
            "colorscale": [
             [
              0,
              "#0d0887"
             ],
             [
              0.1111111111111111,
              "#46039f"
             ],
             [
              0.2222222222222222,
              "#7201a8"
             ],
             [
              0.3333333333333333,
              "#9c179e"
             ],
             [
              0.4444444444444444,
              "#bd3786"
             ],
             [
              0.5555555555555556,
              "#d8576b"
             ],
             [
              0.6666666666666666,
              "#ed7953"
             ],
             [
              0.7777777777777778,
              "#fb9f3a"
             ],
             [
              0.8888888888888888,
              "#fdca26"
             ],
             [
              1,
              "#f0f921"
             ]
            ],
            "type": "contour"
           }
          ],
          "contourcarpet": [
           {
            "colorbar": {
             "outlinewidth": 0,
             "ticks": ""
            },
            "type": "contourcarpet"
           }
          ],
          "heatmap": [
           {
            "colorbar": {
             "outlinewidth": 0,
             "ticks": ""
            },
            "colorscale": [
             [
              0,
              "#0d0887"
             ],
             [
              0.1111111111111111,
              "#46039f"
             ],
             [
              0.2222222222222222,
              "#7201a8"
             ],
             [
              0.3333333333333333,
              "#9c179e"
             ],
             [
              0.4444444444444444,
              "#bd3786"
             ],
             [
              0.5555555555555556,
              "#d8576b"
             ],
             [
              0.6666666666666666,
              "#ed7953"
             ],
             [
              0.7777777777777778,
              "#fb9f3a"
             ],
             [
              0.8888888888888888,
              "#fdca26"
             ],
             [
              1,
              "#f0f921"
             ]
            ],
            "type": "heatmap"
           }
          ],
          "heatmapgl": [
           {
            "colorbar": {
             "outlinewidth": 0,
             "ticks": ""
            },
            "colorscale": [
             [
              0,
              "#0d0887"
             ],
             [
              0.1111111111111111,
              "#46039f"
             ],
             [
              0.2222222222222222,
              "#7201a8"
             ],
             [
              0.3333333333333333,
              "#9c179e"
             ],
             [
              0.4444444444444444,
              "#bd3786"
             ],
             [
              0.5555555555555556,
              "#d8576b"
             ],
             [
              0.6666666666666666,
              "#ed7953"
             ],
             [
              0.7777777777777778,
              "#fb9f3a"
             ],
             [
              0.8888888888888888,
              "#fdca26"
             ],
             [
              1,
              "#f0f921"
             ]
            ],
            "type": "heatmapgl"
           }
          ],
          "histogram": [
           {
            "marker": {
             "pattern": {
              "fillmode": "overlay",
              "size": 10,
              "solidity": 0.2
             }
            },
            "type": "histogram"
           }
          ],
          "histogram2d": [
           {
            "colorbar": {
             "outlinewidth": 0,
             "ticks": ""
            },
            "colorscale": [
             [
              0,
              "#0d0887"
             ],
             [
              0.1111111111111111,
              "#46039f"
             ],
             [
              0.2222222222222222,
              "#7201a8"
             ],
             [
              0.3333333333333333,
              "#9c179e"
             ],
             [
              0.4444444444444444,
              "#bd3786"
             ],
             [
              0.5555555555555556,
              "#d8576b"
             ],
             [
              0.6666666666666666,
              "#ed7953"
             ],
             [
              0.7777777777777778,
              "#fb9f3a"
             ],
             [
              0.8888888888888888,
              "#fdca26"
             ],
             [
              1,
              "#f0f921"
             ]
            ],
            "type": "histogram2d"
           }
          ],
          "histogram2dcontour": [
           {
            "colorbar": {
             "outlinewidth": 0,
             "ticks": ""
            },
            "colorscale": [
             [
              0,
              "#0d0887"
             ],
             [
              0.1111111111111111,
              "#46039f"
             ],
             [
              0.2222222222222222,
              "#7201a8"
             ],
             [
              0.3333333333333333,
              "#9c179e"
             ],
             [
              0.4444444444444444,
              "#bd3786"
             ],
             [
              0.5555555555555556,
              "#d8576b"
             ],
             [
              0.6666666666666666,
              "#ed7953"
             ],
             [
              0.7777777777777778,
              "#fb9f3a"
             ],
             [
              0.8888888888888888,
              "#fdca26"
             ],
             [
              1,
              "#f0f921"
             ]
            ],
            "type": "histogram2dcontour"
           }
          ],
          "mesh3d": [
           {
            "colorbar": {
             "outlinewidth": 0,
             "ticks": ""
            },
            "type": "mesh3d"
           }
          ],
          "parcoords": [
           {
            "line": {
             "colorbar": {
              "outlinewidth": 0,
              "ticks": ""
             }
            },
            "type": "parcoords"
           }
          ],
          "pie": [
           {
            "automargin": true,
            "type": "pie"
           }
          ],
          "scatter": [
           {
            "marker": {
             "colorbar": {
              "outlinewidth": 0,
              "ticks": ""
             }
            },
            "type": "scatter"
           }
          ],
          "scatter3d": [
           {
            "line": {
             "colorbar": {
              "outlinewidth": 0,
              "ticks": ""
             }
            },
            "marker": {
             "colorbar": {
              "outlinewidth": 0,
              "ticks": ""
             }
            },
            "type": "scatter3d"
           }
          ],
          "scattercarpet": [
           {
            "marker": {
             "colorbar": {
              "outlinewidth": 0,
              "ticks": ""
             }
            },
            "type": "scattercarpet"
           }
          ],
          "scattergeo": [
           {
            "marker": {
             "colorbar": {
              "outlinewidth": 0,
              "ticks": ""
             }
            },
            "type": "scattergeo"
           }
          ],
          "scattergl": [
           {
            "marker": {
             "colorbar": {
              "outlinewidth": 0,
              "ticks": ""
             }
            },
            "type": "scattergl"
           }
          ],
          "scattermapbox": [
           {
            "marker": {
             "colorbar": {
              "outlinewidth": 0,
              "ticks": ""
             }
            },
            "type": "scattermapbox"
           }
          ],
          "scatterpolar": [
           {
            "marker": {
             "colorbar": {
              "outlinewidth": 0,
              "ticks": ""
             }
            },
            "type": "scatterpolar"
           }
          ],
          "scatterpolargl": [
           {
            "marker": {
             "colorbar": {
              "outlinewidth": 0,
              "ticks": ""
             }
            },
            "type": "scatterpolargl"
           }
          ],
          "scatterternary": [
           {
            "marker": {
             "colorbar": {
              "outlinewidth": 0,
              "ticks": ""
             }
            },
            "type": "scatterternary"
           }
          ],
          "surface": [
           {
            "colorbar": {
             "outlinewidth": 0,
             "ticks": ""
            },
            "colorscale": [
             [
              0,
              "#0d0887"
             ],
             [
              0.1111111111111111,
              "#46039f"
             ],
             [
              0.2222222222222222,
              "#7201a8"
             ],
             [
              0.3333333333333333,
              "#9c179e"
             ],
             [
              0.4444444444444444,
              "#bd3786"
             ],
             [
              0.5555555555555556,
              "#d8576b"
             ],
             [
              0.6666666666666666,
              "#ed7953"
             ],
             [
              0.7777777777777778,
              "#fb9f3a"
             ],
             [
              0.8888888888888888,
              "#fdca26"
             ],
             [
              1,
              "#f0f921"
             ]
            ],
            "type": "surface"
           }
          ],
          "table": [
           {
            "cells": {
             "fill": {
              "color": "#EBF0F8"
             },
             "line": {
              "color": "white"
             }
            },
            "header": {
             "fill": {
              "color": "#C8D4E3"
             },
             "line": {
              "color": "white"
             }
            },
            "type": "table"
           }
          ]
         },
         "layout": {
          "annotationdefaults": {
           "arrowcolor": "#2a3f5f",
           "arrowhead": 0,
           "arrowwidth": 1
          },
          "autotypenumbers": "strict",
          "coloraxis": {
           "colorbar": {
            "outlinewidth": 0,
            "ticks": ""
           }
          },
          "colorscale": {
           "diverging": [
            [
             0,
             "#8e0152"
            ],
            [
             0.1,
             "#c51b7d"
            ],
            [
             0.2,
             "#de77ae"
            ],
            [
             0.3,
             "#f1b6da"
            ],
            [
             0.4,
             "#fde0ef"
            ],
            [
             0.5,
             "#f7f7f7"
            ],
            [
             0.6,
             "#e6f5d0"
            ],
            [
             0.7,
             "#b8e186"
            ],
            [
             0.8,
             "#7fbc41"
            ],
            [
             0.9,
             "#4d9221"
            ],
            [
             1,
             "#276419"
            ]
           ],
           "sequential": [
            [
             0,
             "#0d0887"
            ],
            [
             0.1111111111111111,
             "#46039f"
            ],
            [
             0.2222222222222222,
             "#7201a8"
            ],
            [
             0.3333333333333333,
             "#9c179e"
            ],
            [
             0.4444444444444444,
             "#bd3786"
            ],
            [
             0.5555555555555556,
             "#d8576b"
            ],
            [
             0.6666666666666666,
             "#ed7953"
            ],
            [
             0.7777777777777778,
             "#fb9f3a"
            ],
            [
             0.8888888888888888,
             "#fdca26"
            ],
            [
             1,
             "#f0f921"
            ]
           ],
           "sequentialminus": [
            [
             0,
             "#0d0887"
            ],
            [
             0.1111111111111111,
             "#46039f"
            ],
            [
             0.2222222222222222,
             "#7201a8"
            ],
            [
             0.3333333333333333,
             "#9c179e"
            ],
            [
             0.4444444444444444,
             "#bd3786"
            ],
            [
             0.5555555555555556,
             "#d8576b"
            ],
            [
             0.6666666666666666,
             "#ed7953"
            ],
            [
             0.7777777777777778,
             "#fb9f3a"
            ],
            [
             0.8888888888888888,
             "#fdca26"
            ],
            [
             1,
             "#f0f921"
            ]
           ]
          },
          "colorway": [
           "#636efa",
           "#EF553B",
           "#00cc96",
           "#ab63fa",
           "#FFA15A",
           "#19d3f3",
           "#FF6692",
           "#B6E880",
           "#FF97FF",
           "#FECB52"
          ],
          "font": {
           "color": "#2a3f5f"
          },
          "geo": {
           "bgcolor": "white",
           "lakecolor": "white",
           "landcolor": "#E5ECF6",
           "showlakes": true,
           "showland": true,
           "subunitcolor": "white"
          },
          "hoverlabel": {
           "align": "left"
          },
          "hovermode": "closest",
          "mapbox": {
           "style": "light"
          },
          "paper_bgcolor": "white",
          "plot_bgcolor": "#E5ECF6",
          "polar": {
           "angularaxis": {
            "gridcolor": "white",
            "linecolor": "white",
            "ticks": ""
           },
           "bgcolor": "#E5ECF6",
           "radialaxis": {
            "gridcolor": "white",
            "linecolor": "white",
            "ticks": ""
           }
          },
          "scene": {
           "xaxis": {
            "backgroundcolor": "#E5ECF6",
            "gridcolor": "white",
            "gridwidth": 2,
            "linecolor": "white",
            "showbackground": true,
            "ticks": "",
            "zerolinecolor": "white"
           },
           "yaxis": {
            "backgroundcolor": "#E5ECF6",
            "gridcolor": "white",
            "gridwidth": 2,
            "linecolor": "white",
            "showbackground": true,
            "ticks": "",
            "zerolinecolor": "white"
           },
           "zaxis": {
            "backgroundcolor": "#E5ECF6",
            "gridcolor": "white",
            "gridwidth": 2,
            "linecolor": "white",
            "showbackground": true,
            "ticks": "",
            "zerolinecolor": "white"
           }
          },
          "shapedefaults": {
           "line": {
            "color": "#2a3f5f"
           }
          },
          "ternary": {
           "aaxis": {
            "gridcolor": "white",
            "linecolor": "white",
            "ticks": ""
           },
           "baxis": {
            "gridcolor": "white",
            "linecolor": "white",
            "ticks": ""
           },
           "bgcolor": "#E5ECF6",
           "caxis": {
            "gridcolor": "white",
            "linecolor": "white",
            "ticks": ""
           }
          },
          "title": {
           "x": 0.05
          },
          "xaxis": {
           "automargin": true,
           "gridcolor": "white",
           "linecolor": "white",
           "ticks": "",
           "title": {
            "standoff": 15
           },
           "zerolinecolor": "white",
           "zerolinewidth": 2
          },
          "yaxis": {
           "automargin": true,
           "gridcolor": "white",
           "linecolor": "white",
           "ticks": "",
           "title": {
            "standoff": 15
           },
           "zerolinecolor": "white",
           "zerolinewidth": 2
          }
         }
        }
       }
      },
      "text/html": [
       "<div>                            <div id=\"2013a1a1-d5e1-4442-883e-1d21bff49df0\" class=\"plotly-graph-div\" style=\"height:525px; width:100%;\"></div>            <script type=\"text/javascript\">                require([\"plotly\"], function(Plotly) {                    window.PLOTLYENV=window.PLOTLYENV || {};                                    if (document.getElementById(\"2013a1a1-d5e1-4442-883e-1d21bff49df0\")) {                    Plotly.newPlot(                        \"2013a1a1-d5e1-4442-883e-1d21bff49df0\",                        [{\"branchvalues\":\"total\",\"customdata\":[[\"20in Monitor\"],[\"20in Monitor\"],[\"20in Monitor\"],[\"20in Monitor\"],[\"20in Monitor\"],[\"20in Monitor\"],[\"20in Monitor\"],[\"20in Monitor\"],[\"20in Monitor\"],[\"27in 4K Gaming Monitor\"],[\"27in 4K Gaming Monitor\"],[\"27in 4K Gaming Monitor\"],[\"27in 4K Gaming Monitor\"],[\"27in 4K Gaming Monitor\"],[\"27in 4K Gaming Monitor\"],[\"27in 4K Gaming Monitor\"],[\"27in 4K Gaming Monitor\"],[\"27in 4K Gaming Monitor\"],[\"27in FHD Monitor\"],[\"27in FHD Monitor\"],[\"27in FHD Monitor\"],[\"27in FHD Monitor\"],[\"27in FHD Monitor\"],[\"27in FHD Monitor\"],[\"27in FHD Monitor\"],[\"27in FHD Monitor\"],[\"27in FHD Monitor\"],[\"34in Ultrawide Monitor\"],[\"34in Ultrawide Monitor\"],[\"34in Ultrawide Monitor\"],[\"34in Ultrawide Monitor\"],[\"34in Ultrawide Monitor\"],[\"34in Ultrawide Monitor\"],[\"34in Ultrawide Monitor\"],[\"34in Ultrawide Monitor\"],[\"34in Ultrawide Monitor\"],[\"AA Batteries (4-pack)\"],[\"AA Batteries (4-pack)\"],[\"AA Batteries (4-pack)\"],[\"AA Batteries (4-pack)\"],[\"AA Batteries (4-pack)\"],[\"AA Batteries (4-pack)\"],[\"AA Batteries (4-pack)\"],[\"AA Batteries (4-pack)\"],[\"AA Batteries (4-pack)\"],[\"AAA Batteries (4-pack)\"],[\"AAA Batteries (4-pack)\"],[\"AAA Batteries (4-pack)\"],[\"AAA Batteries (4-pack)\"],[\"AAA Batteries (4-pack)\"],[\"AAA Batteries (4-pack)\"],[\"AAA Batteries (4-pack)\"],[\"AAA Batteries (4-pack)\"],[\"AAA Batteries (4-pack)\"],[\"Apple Airpods Headphones\"],[\"Apple Airpods Headphones\"],[\"Apple Airpods Headphones\"],[\"Apple Airpods Headphones\"],[\"Apple Airpods Headphones\"],[\"Apple Airpods Headphones\"],[\"Apple Airpods Headphones\"],[\"Apple Airpods Headphones\"],[\"Apple Airpods Headphones\"],[\"Bose SoundSport Headphones\"],[\"Bose SoundSport Headphones\"],[\"Bose SoundSport Headphones\"],[\"Bose SoundSport Headphones\"],[\"Bose SoundSport Headphones\"],[\"Bose SoundSport Headphones\"],[\"Bose SoundSport Headphones\"],[\"Bose SoundSport Headphones\"],[\"Bose SoundSport Headphones\"],[\"Flatscreen TV\"],[\"Flatscreen TV\"],[\"Flatscreen TV\"],[\"Flatscreen TV\"],[\"Flatscreen TV\"],[\"Flatscreen TV\"],[\"Flatscreen TV\"],[\"Flatscreen TV\"],[\"Flatscreen TV\"],[\"Google Phone\"],[\"Google Phone\"],[\"Google Phone\"],[\"Google Phone\"],[\"Google Phone\"],[\"Google Phone\"],[\"Google Phone\"],[\"Google Phone\"],[\"Google Phone\"],[\"LG Dryer\"],[\"LG Dryer\"],[\"LG Dryer\"],[\"LG Dryer\"],[\"LG Dryer\"],[\"LG Dryer\"],[\"LG Dryer\"],[\"LG Dryer\"],[\"LG Dryer\"],[\"LG Washing Machine\"],[\"LG Washing Machine\"],[\"LG Washing Machine\"],[\"LG Washing Machine\"],[\"LG Washing Machine\"],[\"LG Washing Machine\"],[\"LG Washing Machine\"],[\"LG Washing Machine\"],[\"LG Washing Machine\"],[\"Lightning Charging Cable\"],[\"Lightning Charging Cable\"],[\"Lightning Charging Cable\"],[\"Lightning Charging Cable\"],[\"Lightning Charging Cable\"],[\"Lightning Charging Cable\"],[\"Lightning Charging Cable\"],[\"Lightning Charging Cable\"],[\"Lightning Charging Cable\"],[\"Macbook Pro Laptop\"],[\"Macbook Pro Laptop\"],[\"Macbook Pro Laptop\"],[\"Macbook Pro Laptop\"],[\"Macbook Pro Laptop\"],[\"Macbook Pro Laptop\"],[\"Macbook Pro Laptop\"],[\"Macbook Pro Laptop\"],[\"Macbook Pro Laptop\"],[\"ThinkPad Laptop\"],[\"ThinkPad Laptop\"],[\"ThinkPad Laptop\"],[\"ThinkPad Laptop\"],[\"ThinkPad Laptop\"],[\"ThinkPad Laptop\"],[\"ThinkPad Laptop\"],[\"ThinkPad Laptop\"],[\"ThinkPad Laptop\"],[\"USB-C Charging Cable\"],[\"USB-C Charging Cable\"],[\"USB-C Charging Cable\"],[\"USB-C Charging Cable\"],[\"USB-C Charging Cable\"],[\"USB-C Charging Cable\"],[\"USB-C Charging Cable\"],[\"USB-C Charging Cable\"],[\"USB-C Charging Cable\"],[\"Vareebadd Phone\"],[\"Vareebadd Phone\"],[\"Vareebadd Phone\"],[\"Vareebadd Phone\"],[\"Vareebadd Phone\"],[\"Vareebadd Phone\"],[\"Vareebadd Phone\"],[\"Vareebadd Phone\"],[\"Vareebadd Phone\"],[\"Wired Headphones\"],[\"Wired Headphones\"],[\"Wired Headphones\"],[\"Wired Headphones\"],[\"Wired Headphones\"],[\"Wired Headphones\"],[\"Wired Headphones\"],[\"Wired Headphones\"],[\"Wired Headphones\"],[\"iPhone\"],[\"iPhone\"],[\"iPhone\"],[\"iPhone\"],[\"iPhone\"],[\"iPhone\"],[\"iPhone\"],[\"iPhone\"],[\"iPhone\"],[\"20in Monitor\"],[\"27in 4K Gaming Monitor\"],[\"27in FHD Monitor\"],[\"34in Ultrawide Monitor\"],[\"AA Batteries (4-pack)\"],[\"AAA Batteries (4-pack)\"],[\"Apple Airpods Headphones\"],[\"Bose SoundSport Headphones\"],[\"Flatscreen TV\"],[\"Google Phone\"],[\"LG Dryer\"],[\"LG Washing Machine\"],[\"Lightning Charging Cable\"],[\"Macbook Pro Laptop\"],[\"ThinkPad Laptop\"],[\"USB-C Charging Cable\"],[\"Vareebadd Phone\"],[\"Wired Headphones\"],[\"iPhone\"]],\"domain\":{\"x\":[0.0,1.0],\"y\":[0.0,1.0]},\"hovertemplate\":\"labels=%{label}<br>Anzahl_der_Waren=%{value}<br>parent=%{parent}<br>id=%{id}<br>product=%{customdata[0]}<extra></extra>\",\"ids\":[\"20in Monitor/ Atlanta\",\"20in Monitor/ San Francisco\",\"20in Monitor/ Portland\",\"20in Monitor/ Dallas\",\"20in Monitor/ Boston\",\"20in Monitor/ Seattle\",\"20in Monitor/ New York City\",\"20in Monitor/ Los Angeles\",\"20in Monitor/ Austin\",\"27in 4K Gaming Monitor/ Boston\",\"27in 4K Gaming Monitor/ New York City\",\"27in 4K Gaming Monitor/ Atlanta\",\"27in 4K Gaming Monitor/ San Francisco\",\"27in 4K Gaming Monitor/ Portland\",\"27in 4K Gaming Monitor/ Seattle\",\"27in 4K Gaming Monitor/ Dallas\",\"27in 4K Gaming Monitor/ Austin\",\"27in 4K Gaming Monitor/ Los Angeles\",\"27in FHD Monitor/ San Francisco\",\"27in FHD Monitor/ Boston\",\"27in FHD Monitor/ Portland\",\"27in FHD Monitor/ Atlanta\",\"27in FHD Monitor/ Los Angeles\",\"27in FHD Monitor/ Dallas\",\"27in FHD Monitor/ Austin\",\"27in FHD Monitor/ New York City\",\"27in FHD Monitor/ Seattle\",\"34in Ultrawide Monitor/ New York City\",\"34in Ultrawide Monitor/ San Francisco\",\"34in Ultrawide Monitor/ Boston\",\"34in Ultrawide Monitor/ Austin\",\"34in Ultrawide Monitor/ Dallas\",\"34in Ultrawide Monitor/ Seattle\",\"34in Ultrawide Monitor/ Los Angeles\",\"34in Ultrawide Monitor/ Atlanta\",\"34in Ultrawide Monitor/ Portland\",\"AA Batteries (4-pack)/ Dallas\",\"AA Batteries (4-pack)/ New York City\",\"AA Batteries (4-pack)/ Los Angeles\",\"AA Batteries (4-pack)/ Portland\",\"AA Batteries (4-pack)/ Boston\",\"AA Batteries (4-pack)/ Atlanta\",\"AA Batteries (4-pack)/ San Francisco\",\"AA Batteries (4-pack)/ Seattle\",\"AA Batteries (4-pack)/ Austin\",\"AAA Batteries (4-pack)/ San Francisco\",\"AAA Batteries (4-pack)/ Los Angeles\",\"AAA Batteries (4-pack)/ Atlanta\",\"AAA Batteries (4-pack)/ Seattle\",\"AAA Batteries (4-pack)/ New York City\",\"AAA Batteries (4-pack)/ Austin\",\"AAA Batteries (4-pack)/ Dallas\",\"AAA Batteries (4-pack)/ Boston\",\"AAA Batteries (4-pack)/ Portland\",\"Apple Airpods Headphones/ San Francisco\",\"Apple Airpods Headphones/ Los Angeles\",\"Apple Airpods Headphones/ Boston\",\"Apple Airpods Headphones/ Atlanta\",\"Apple Airpods Headphones/ Austin\",\"Apple Airpods Headphones/ Portland\",\"Apple Airpods Headphones/ Seattle\",\"Apple Airpods Headphones/ Dallas\",\"Apple Airpods Headphones/ New York City\",\"Bose SoundSport Headphones/ Los Angeles\",\"Bose SoundSport Headphones/ Atlanta\",\"Bose SoundSport Headphones/ Seattle\",\"Bose SoundSport Headphones/ Boston\",\"Bose SoundSport Headphones/ New York City\",\"Bose SoundSport Headphones/ San Francisco\",\"Bose SoundSport Headphones/ Dallas\",\"Bose SoundSport Headphones/ Austin\",\"Bose SoundSport Headphones/ Portland\",\"Flatscreen TV/ Atlanta\",\"Flatscreen TV/ San Francisco\",\"Flatscreen TV/ Austin\",\"Flatscreen TV/ New York City\",\"Flatscreen TV/ Los Angeles\",\"Flatscreen TV/ Seattle\",\"Flatscreen TV/ Portland\",\"Flatscreen TV/ Boston\",\"Flatscreen TV/ Dallas\",\"Google Phone/ Portland\",\"Google Phone/ San Francisco\",\"Google Phone/ Seattle\",\"Google Phone/ New York City\",\"Google Phone/ Los Angeles\",\"Google Phone/ Austin\",\"Google Phone/ Boston\",\"Google Phone/ Atlanta\",\"Google Phone/ Dallas\",\"LG Dryer/ Los Angeles\",\"LG Dryer/ San Francisco\",\"LG Dryer/ Austin\",\"LG Dryer/ Portland\",\"LG Dryer/ Boston\",\"LG Dryer/ Seattle\",\"LG Dryer/ Atlanta\",\"LG Dryer/ New York City\",\"LG Dryer/ Dallas\",\"LG Washing Machine/ New York City\",\"LG Washing Machine/ Dallas\",\"LG Washing Machine/ Boston\",\"LG Washing Machine/ San Francisco\",\"LG Washing Machine/ Atlanta\",\"LG Washing Machine/ Seattle\",\"LG Washing Machine/ Portland\",\"LG Washing Machine/ Los Angeles\",\"LG Washing Machine/ Austin\",\"Lightning Charging Cable/ Austin\",\"Lightning Charging Cable/ Boston\",\"Lightning Charging Cable/ Portland\",\"Lightning Charging Cable/ San Francisco\",\"Lightning Charging Cable/ New York City\",\"Lightning Charging Cable/ Atlanta\",\"Lightning Charging Cable/ Dallas\",\"Lightning Charging Cable/ Seattle\",\"Lightning Charging Cable/ Los Angeles\",\"Macbook Pro Laptop/ Portland\",\"Macbook Pro Laptop/ New York City\",\"Macbook Pro Laptop/ Austin\",\"Macbook Pro Laptop/ Dallas\",\"Macbook Pro Laptop/ Boston\",\"Macbook Pro Laptop/ Atlanta\",\"Macbook Pro Laptop/ San Francisco\",\"Macbook Pro Laptop/ Seattle\",\"Macbook Pro Laptop/ Los Angeles\",\"ThinkPad Laptop/ San Francisco\",\"ThinkPad Laptop/ Atlanta\",\"ThinkPad Laptop/ Seattle\",\"ThinkPad Laptop/ Austin\",\"ThinkPad Laptop/ Portland\",\"ThinkPad Laptop/ Dallas\",\"ThinkPad Laptop/ Los Angeles\",\"ThinkPad Laptop/ New York City\",\"ThinkPad Laptop/ Boston\",\"USB-C Charging Cable/ San Francisco\",\"USB-C Charging Cable/ New York City\",\"USB-C Charging Cable/ Dallas\",\"USB-C Charging Cable/ Boston\",\"USB-C Charging Cable/ Atlanta\",\"USB-C Charging Cable/ Portland\",\"USB-C Charging Cable/ Austin\",\"USB-C Charging Cable/ Seattle\",\"USB-C Charging Cable/ Los Angeles\",\"Vareebadd Phone/ Los Angeles\",\"Vareebadd Phone/ Atlanta\",\"Vareebadd Phone/ Austin\",\"Vareebadd Phone/ Dallas\",\"Vareebadd Phone/ New York City\",\"Vareebadd Phone/ Seattle\",\"Vareebadd Phone/ San Francisco\",\"Vareebadd Phone/ Portland\",\"Vareebadd Phone/ Boston\",\"Wired Headphones/ Portland\",\"Wired Headphones/ Dallas\",\"Wired Headphones/ Los Angeles\",\"Wired Headphones/ San Francisco\",\"Wired Headphones/ New York City\",\"Wired Headphones/ Boston\",\"Wired Headphones/ Seattle\",\"Wired Headphones/ Austin\",\"Wired Headphones/ Atlanta\",\"iPhone/ Atlanta\",\"iPhone/ San Francisco\",\"iPhone/ New York City\",\"iPhone/ Dallas\",\"iPhone/ Los Angeles\",\"iPhone/ Boston\",\"iPhone/ Austin\",\"iPhone/ Portland\",\"iPhone/ Seattle\",\"20in Monitor\",\"27in 4K Gaming Monitor\",\"27in FHD Monitor\",\"34in Ultrawide Monitor\",\"AA Batteries (4-pack)\",\"AAA Batteries (4-pack)\",\"Apple Airpods Headphones\",\"Bose SoundSport Headphones\",\"Flatscreen TV\",\"Google Phone\",\"LG Dryer\",\"LG Washing Machine\",\"Lightning Charging Cable\",\"Macbook Pro Laptop\",\"ThinkPad Laptop\",\"USB-C Charging Cable\",\"Vareebadd Phone\",\"Wired Headphones\",\"iPhone\"],\"labels\":[\" Atlanta\",\" San Francisco\",\" Portland\",\" Dallas\",\" Boston\",\" Seattle\",\" New York City\",\" Los Angeles\",\" Austin\",\" Boston\",\" New York City\",\" Atlanta\",\" San Francisco\",\" Portland\",\" Seattle\",\" Dallas\",\" Austin\",\" Los Angeles\",\" San Francisco\",\" Boston\",\" Portland\",\" Atlanta\",\" Los Angeles\",\" Dallas\",\" Austin\",\" New York City\",\" Seattle\",\" New York City\",\" San Francisco\",\" Boston\",\" Austin\",\" Dallas\",\" Seattle\",\" Los Angeles\",\" Atlanta\",\" Portland\",\" Dallas\",\" New York City\",\" Los Angeles\",\" Portland\",\" Boston\",\" Atlanta\",\" San Francisco\",\" Seattle\",\" Austin\",\" San Francisco\",\" Los Angeles\",\" Atlanta\",\" Seattle\",\" New York City\",\" Austin\",\" Dallas\",\" Boston\",\" Portland\",\" San Francisco\",\" Los Angeles\",\" Boston\",\" Atlanta\",\" Austin\",\" Portland\",\" Seattle\",\" Dallas\",\" New York City\",\" Los Angeles\",\" Atlanta\",\" Seattle\",\" Boston\",\" New York City\",\" San Francisco\",\" Dallas\",\" Austin\",\" Portland\",\" Atlanta\",\" San Francisco\",\" Austin\",\" New York City\",\" Los Angeles\",\" Seattle\",\" Portland\",\" Boston\",\" Dallas\",\" Portland\",\" San Francisco\",\" Seattle\",\" New York City\",\" Los Angeles\",\" Austin\",\" Boston\",\" Atlanta\",\" Dallas\",\" Los Angeles\",\" San Francisco\",\" Austin\",\" Portland\",\" Boston\",\" Seattle\",\" Atlanta\",\" New York City\",\" Dallas\",\" New York City\",\" Dallas\",\" Boston\",\" San Francisco\",\" Atlanta\",\" Seattle\",\" Portland\",\" Los Angeles\",\" Austin\",\" Austin\",\" Boston\",\" Portland\",\" San Francisco\",\" New York City\",\" Atlanta\",\" Dallas\",\" Seattle\",\" Los Angeles\",\" Portland\",\" New York City\",\" Austin\",\" Dallas\",\" Boston\",\" Atlanta\",\" San Francisco\",\" Seattle\",\" Los Angeles\",\" San Francisco\",\" Atlanta\",\" Seattle\",\" Austin\",\" Portland\",\" Dallas\",\" Los Angeles\",\" New York City\",\" Boston\",\" San Francisco\",\" New York City\",\" Dallas\",\" Boston\",\" Atlanta\",\" Portland\",\" Austin\",\" Seattle\",\" Los Angeles\",\" Los Angeles\",\" Atlanta\",\" Austin\",\" Dallas\",\" New York City\",\" Seattle\",\" San Francisco\",\" Portland\",\" Boston\",\" Portland\",\" Dallas\",\" Los Angeles\",\" San Francisco\",\" New York City\",\" Boston\",\" Seattle\",\" Austin\",\" Atlanta\",\" Atlanta\",\" San Francisco\",\" New York City\",\" Dallas\",\" Los Angeles\",\" Boston\",\" Austin\",\" Portland\",\" Seattle\",\"20in Monitor\",\"27in 4K Gaming Monitor\",\"27in FHD Monitor\",\"34in Ultrawide Monitor\",\"AA Batteries (4-pack)\",\"AAA Batteries (4-pack)\",\"Apple Airpods Headphones\",\"Bose SoundSport Headphones\",\"Flatscreen TV\",\"Google Phone\",\"LG Dryer\",\"LG Washing Machine\",\"Lightning Charging Cable\",\"Macbook Pro Laptop\",\"ThinkPad Laptop\",\"USB-C Charging Cable\",\"Vareebadd Phone\",\"Wired Headphones\",\"iPhone\"],\"marker\":{\"colors\":[\"#636efa\",\"#636efa\",\"#636efa\",\"#636efa\",\"#636efa\",\"#636efa\",\"#636efa\",\"#636efa\",\"#636efa\",\"#EF553B\",\"#EF553B\",\"#EF553B\",\"#EF553B\",\"#EF553B\",\"#EF553B\",\"#EF553B\",\"#EF553B\",\"#EF553B\",\"#00cc96\",\"#00cc96\",\"#00cc96\",\"#00cc96\",\"#00cc96\",\"#00cc96\",\"#00cc96\",\"#00cc96\",\"#00cc96\",\"#ab63fa\",\"#ab63fa\",\"#ab63fa\",\"#ab63fa\",\"#ab63fa\",\"#ab63fa\",\"#ab63fa\",\"#ab63fa\",\"#ab63fa\",\"#FFA15A\",\"#FFA15A\",\"#FFA15A\",\"#FFA15A\",\"#FFA15A\",\"#FFA15A\",\"#FFA15A\",\"#FFA15A\",\"#FFA15A\",\"#19d3f3\",\"#19d3f3\",\"#19d3f3\",\"#19d3f3\",\"#19d3f3\",\"#19d3f3\",\"#19d3f3\",\"#19d3f3\",\"#19d3f3\",\"#FF6692\",\"#FF6692\",\"#FF6692\",\"#FF6692\",\"#FF6692\",\"#FF6692\",\"#FF6692\",\"#FF6692\",\"#FF6692\",\"#B6E880\",\"#B6E880\",\"#B6E880\",\"#B6E880\",\"#B6E880\",\"#B6E880\",\"#B6E880\",\"#B6E880\",\"#B6E880\",\"#FF97FF\",\"#FF97FF\",\"#FF97FF\",\"#FF97FF\",\"#FF97FF\",\"#FF97FF\",\"#FF97FF\",\"#FF97FF\",\"#FF97FF\",\"#FECB52\",\"#FECB52\",\"#FECB52\",\"#FECB52\",\"#FECB52\",\"#FECB52\",\"#FECB52\",\"#FECB52\",\"#FECB52\",\"#636efa\",\"#636efa\",\"#636efa\",\"#636efa\",\"#636efa\",\"#636efa\",\"#636efa\",\"#636efa\",\"#636efa\",\"#EF553B\",\"#EF553B\",\"#EF553B\",\"#EF553B\",\"#EF553B\",\"#EF553B\",\"#EF553B\",\"#EF553B\",\"#EF553B\",\"#00cc96\",\"#00cc96\",\"#00cc96\",\"#00cc96\",\"#00cc96\",\"#00cc96\",\"#00cc96\",\"#00cc96\",\"#00cc96\",\"#ab63fa\",\"#ab63fa\",\"#ab63fa\",\"#ab63fa\",\"#ab63fa\",\"#ab63fa\",\"#ab63fa\",\"#ab63fa\",\"#ab63fa\",\"#FFA15A\",\"#FFA15A\",\"#FFA15A\",\"#FFA15A\",\"#FFA15A\",\"#FFA15A\",\"#FFA15A\",\"#FFA15A\",\"#FFA15A\",\"#19d3f3\",\"#19d3f3\",\"#19d3f3\",\"#19d3f3\",\"#19d3f3\",\"#19d3f3\",\"#19d3f3\",\"#19d3f3\",\"#19d3f3\",\"#FF6692\",\"#FF6692\",\"#FF6692\",\"#FF6692\",\"#FF6692\",\"#FF6692\",\"#FF6692\",\"#FF6692\",\"#FF6692\",\"#B6E880\",\"#B6E880\",\"#B6E880\",\"#B6E880\",\"#B6E880\",\"#B6E880\",\"#B6E880\",\"#B6E880\",\"#B6E880\",\"#FF97FF\",\"#FF97FF\",\"#FF97FF\",\"#FF97FF\",\"#FF97FF\",\"#FF97FF\",\"#FF97FF\",\"#FF97FF\",\"#FF97FF\",\"#636efa\",\"#EF553B\",\"#00cc96\",\"#ab63fa\",\"#FFA15A\",\"#19d3f3\",\"#FF6692\",\"#B6E880\",\"#FF97FF\",\"#FECB52\",\"#636efa\",\"#EF553B\",\"#00cc96\",\"#ab63fa\",\"#FFA15A\",\"#19d3f3\",\"#FF6692\",\"#B6E880\",\"#FF97FF\"]},\"name\":\"\",\"parents\":[\"20in Monitor\",\"20in Monitor\",\"20in Monitor\",\"20in Monitor\",\"20in Monitor\",\"20in Monitor\",\"20in Monitor\",\"20in Monitor\",\"20in Monitor\",\"27in 4K Gaming Monitor\",\"27in 4K Gaming Monitor\",\"27in 4K Gaming Monitor\",\"27in 4K Gaming Monitor\",\"27in 4K Gaming Monitor\",\"27in 4K Gaming Monitor\",\"27in 4K Gaming Monitor\",\"27in 4K Gaming Monitor\",\"27in 4K Gaming Monitor\",\"27in FHD Monitor\",\"27in FHD Monitor\",\"27in FHD Monitor\",\"27in FHD Monitor\",\"27in FHD Monitor\",\"27in FHD Monitor\",\"27in FHD Monitor\",\"27in FHD Monitor\",\"27in FHD Monitor\",\"34in Ultrawide Monitor\",\"34in Ultrawide Monitor\",\"34in Ultrawide Monitor\",\"34in Ultrawide Monitor\",\"34in Ultrawide Monitor\",\"34in Ultrawide Monitor\",\"34in Ultrawide Monitor\",\"34in Ultrawide Monitor\",\"34in Ultrawide Monitor\",\"AA Batteries (4-pack)\",\"AA Batteries (4-pack)\",\"AA Batteries (4-pack)\",\"AA Batteries (4-pack)\",\"AA Batteries (4-pack)\",\"AA Batteries (4-pack)\",\"AA Batteries (4-pack)\",\"AA Batteries (4-pack)\",\"AA Batteries (4-pack)\",\"AAA Batteries (4-pack)\",\"AAA Batteries (4-pack)\",\"AAA Batteries (4-pack)\",\"AAA Batteries (4-pack)\",\"AAA Batteries (4-pack)\",\"AAA Batteries (4-pack)\",\"AAA Batteries (4-pack)\",\"AAA Batteries (4-pack)\",\"AAA Batteries (4-pack)\",\"Apple Airpods Headphones\",\"Apple Airpods Headphones\",\"Apple Airpods Headphones\",\"Apple Airpods Headphones\",\"Apple Airpods Headphones\",\"Apple Airpods Headphones\",\"Apple Airpods Headphones\",\"Apple Airpods Headphones\",\"Apple Airpods Headphones\",\"Bose SoundSport Headphones\",\"Bose SoundSport Headphones\",\"Bose SoundSport Headphones\",\"Bose SoundSport Headphones\",\"Bose SoundSport Headphones\",\"Bose SoundSport Headphones\",\"Bose SoundSport Headphones\",\"Bose SoundSport Headphones\",\"Bose SoundSport Headphones\",\"Flatscreen TV\",\"Flatscreen TV\",\"Flatscreen TV\",\"Flatscreen TV\",\"Flatscreen TV\",\"Flatscreen TV\",\"Flatscreen TV\",\"Flatscreen TV\",\"Flatscreen TV\",\"Google Phone\",\"Google Phone\",\"Google Phone\",\"Google Phone\",\"Google Phone\",\"Google Phone\",\"Google Phone\",\"Google Phone\",\"Google Phone\",\"LG Dryer\",\"LG Dryer\",\"LG Dryer\",\"LG Dryer\",\"LG Dryer\",\"LG Dryer\",\"LG Dryer\",\"LG Dryer\",\"LG Dryer\",\"LG Washing Machine\",\"LG Washing Machine\",\"LG Washing Machine\",\"LG Washing Machine\",\"LG Washing Machine\",\"LG Washing Machine\",\"LG Washing Machine\",\"LG Washing Machine\",\"LG Washing Machine\",\"Lightning Charging Cable\",\"Lightning Charging Cable\",\"Lightning Charging Cable\",\"Lightning Charging Cable\",\"Lightning Charging Cable\",\"Lightning Charging Cable\",\"Lightning Charging Cable\",\"Lightning Charging Cable\",\"Lightning Charging Cable\",\"Macbook Pro Laptop\",\"Macbook Pro Laptop\",\"Macbook Pro Laptop\",\"Macbook Pro Laptop\",\"Macbook Pro Laptop\",\"Macbook Pro Laptop\",\"Macbook Pro Laptop\",\"Macbook Pro Laptop\",\"Macbook Pro Laptop\",\"ThinkPad Laptop\",\"ThinkPad Laptop\",\"ThinkPad Laptop\",\"ThinkPad Laptop\",\"ThinkPad Laptop\",\"ThinkPad Laptop\",\"ThinkPad Laptop\",\"ThinkPad Laptop\",\"ThinkPad Laptop\",\"USB-C Charging Cable\",\"USB-C Charging Cable\",\"USB-C Charging Cable\",\"USB-C Charging Cable\",\"USB-C Charging Cable\",\"USB-C Charging Cable\",\"USB-C Charging Cable\",\"USB-C Charging Cable\",\"USB-C Charging Cable\",\"Vareebadd Phone\",\"Vareebadd Phone\",\"Vareebadd Phone\",\"Vareebadd Phone\",\"Vareebadd Phone\",\"Vareebadd Phone\",\"Vareebadd Phone\",\"Vareebadd Phone\",\"Vareebadd Phone\",\"Wired Headphones\",\"Wired Headphones\",\"Wired Headphones\",\"Wired Headphones\",\"Wired Headphones\",\"Wired Headphones\",\"Wired Headphones\",\"Wired Headphones\",\"Wired Headphones\",\"iPhone\",\"iPhone\",\"iPhone\",\"iPhone\",\"iPhone\",\"iPhone\",\"iPhone\",\"iPhone\",\"iPhone\",\"\",\"\",\"\",\"\",\"\",\"\",\"\",\"\",\"\",\"\",\"\",\"\",\"\",\"\",\"\",\"\",\"\",\"\",\"\"],\"values\":[342.0,1000.0,278.0,343.0,394.0,324.0,560.0,658.0,230.0,675.0,842.0,493.0,1460.0,434.0,538.0,481.0,318.0,1003.0,1814.0,797.0,530.0,588.0,1223.0,587.0,360.0,1072.0,579.0,868.0,1446.0,671.0,328.0,512.0,534.0,955.0,482.0,403.0,2261.0,3630.0,4438.0,1939.0,3016.0,2193.0,6555.0,2179.0,1424.0,7408.0,4967.0,2359.0,2446.0,4124.0,1668.0,2504.0,3461.0,2080.0,3733.0,2473.0,1653.0,1266.0,887.0,1099.0,1258.0,1194.0,2098.0,2125.0,1084.0,1062.0,1416.0,1794.0,3317.0,1063.0,707.0,889.0,407.0,1154.0,242.0,628.0,727.0,375.0,312.0,554.0,420.0,355.0,1358.0,434.0,758.0,848.0,274.0,593.0,451.0,461.0,116.0,143.0,55.0,37.0,59.0,56.0,59.0,77.0,44.0,85.0,51.0,72.0,180.0,52.0,58.0,37.0,105.0,26.0,1307.0,2491.0,1531.0,5557.0,3041.0,1879.0,1864.0,1775.0,3772.0,337.0,657.0,251.0,382.0,479.0,379.0,1136.0,356.0,751.0,963.0,357.0,333.0,210.0,274.0,345.0,641.0,560.0,447.0,5894.0,3269.0,1852.0,2561.0,1915.0,1582.0,1251.0,1869.0,3782.0,317.0,173.0,108.0,178.0,281.0,179.0,494.0,124.0,214.0,1362.0,1669.0,3270.0,4966.0,2707.0,2222.0,1652.0,1130.0,1579.0,544.0,1661.0,881.0,519.0,1118.0,753.0,377.0,450.0,546.0,4129.0,6244.0,7550.0,6199.0,27635.0,31017.0,15661.0,13457.0,4819.0,5532.0,646.0,666.0,23217.0,4728.0,4130.0,23975.0,2068.0,20557.0,6849.0],\"type\":\"sunburst\"}],                        {\"template\":{\"data\":{\"bar\":[{\"error_x\":{\"color\":\"#2a3f5f\"},\"error_y\":{\"color\":\"#2a3f5f\"},\"marker\":{\"line\":{\"color\":\"#E5ECF6\",\"width\":0.5},\"pattern\":{\"fillmode\":\"overlay\",\"size\":10,\"solidity\":0.2}},\"type\":\"bar\"}],\"barpolar\":[{\"marker\":{\"line\":{\"color\":\"#E5ECF6\",\"width\":0.5},\"pattern\":{\"fillmode\":\"overlay\",\"size\":10,\"solidity\":0.2}},\"type\":\"barpolar\"}],\"carpet\":[{\"aaxis\":{\"endlinecolor\":\"#2a3f5f\",\"gridcolor\":\"white\",\"linecolor\":\"white\",\"minorgridcolor\":\"white\",\"startlinecolor\":\"#2a3f5f\"},\"baxis\":{\"endlinecolor\":\"#2a3f5f\",\"gridcolor\":\"white\",\"linecolor\":\"white\",\"minorgridcolor\":\"white\",\"startlinecolor\":\"#2a3f5f\"},\"type\":\"carpet\"}],\"choropleth\":[{\"colorbar\":{\"outlinewidth\":0,\"ticks\":\"\"},\"type\":\"choropleth\"}],\"contour\":[{\"colorbar\":{\"outlinewidth\":0,\"ticks\":\"\"},\"colorscale\":[[0.0,\"#0d0887\"],[0.1111111111111111,\"#46039f\"],[0.2222222222222222,\"#7201a8\"],[0.3333333333333333,\"#9c179e\"],[0.4444444444444444,\"#bd3786\"],[0.5555555555555556,\"#d8576b\"],[0.6666666666666666,\"#ed7953\"],[0.7777777777777778,\"#fb9f3a\"],[0.8888888888888888,\"#fdca26\"],[1.0,\"#f0f921\"]],\"type\":\"contour\"}],\"contourcarpet\":[{\"colorbar\":{\"outlinewidth\":0,\"ticks\":\"\"},\"type\":\"contourcarpet\"}],\"heatmap\":[{\"colorbar\":{\"outlinewidth\":0,\"ticks\":\"\"},\"colorscale\":[[0.0,\"#0d0887\"],[0.1111111111111111,\"#46039f\"],[0.2222222222222222,\"#7201a8\"],[0.3333333333333333,\"#9c179e\"],[0.4444444444444444,\"#bd3786\"],[0.5555555555555556,\"#d8576b\"],[0.6666666666666666,\"#ed7953\"],[0.7777777777777778,\"#fb9f3a\"],[0.8888888888888888,\"#fdca26\"],[1.0,\"#f0f921\"]],\"type\":\"heatmap\"}],\"heatmapgl\":[{\"colorbar\":{\"outlinewidth\":0,\"ticks\":\"\"},\"colorscale\":[[0.0,\"#0d0887\"],[0.1111111111111111,\"#46039f\"],[0.2222222222222222,\"#7201a8\"],[0.3333333333333333,\"#9c179e\"],[0.4444444444444444,\"#bd3786\"],[0.5555555555555556,\"#d8576b\"],[0.6666666666666666,\"#ed7953\"],[0.7777777777777778,\"#fb9f3a\"],[0.8888888888888888,\"#fdca26\"],[1.0,\"#f0f921\"]],\"type\":\"heatmapgl\"}],\"histogram\":[{\"marker\":{\"pattern\":{\"fillmode\":\"overlay\",\"size\":10,\"solidity\":0.2}},\"type\":\"histogram\"}],\"histogram2d\":[{\"colorbar\":{\"outlinewidth\":0,\"ticks\":\"\"},\"colorscale\":[[0.0,\"#0d0887\"],[0.1111111111111111,\"#46039f\"],[0.2222222222222222,\"#7201a8\"],[0.3333333333333333,\"#9c179e\"],[0.4444444444444444,\"#bd3786\"],[0.5555555555555556,\"#d8576b\"],[0.6666666666666666,\"#ed7953\"],[0.7777777777777778,\"#fb9f3a\"],[0.8888888888888888,\"#fdca26\"],[1.0,\"#f0f921\"]],\"type\":\"histogram2d\"}],\"histogram2dcontour\":[{\"colorbar\":{\"outlinewidth\":0,\"ticks\":\"\"},\"colorscale\":[[0.0,\"#0d0887\"],[0.1111111111111111,\"#46039f\"],[0.2222222222222222,\"#7201a8\"],[0.3333333333333333,\"#9c179e\"],[0.4444444444444444,\"#bd3786\"],[0.5555555555555556,\"#d8576b\"],[0.6666666666666666,\"#ed7953\"],[0.7777777777777778,\"#fb9f3a\"],[0.8888888888888888,\"#fdca26\"],[1.0,\"#f0f921\"]],\"type\":\"histogram2dcontour\"}],\"mesh3d\":[{\"colorbar\":{\"outlinewidth\":0,\"ticks\":\"\"},\"type\":\"mesh3d\"}],\"parcoords\":[{\"line\":{\"colorbar\":{\"outlinewidth\":0,\"ticks\":\"\"}},\"type\":\"parcoords\"}],\"pie\":[{\"automargin\":true,\"type\":\"pie\"}],\"scatter\":[{\"marker\":{\"colorbar\":{\"outlinewidth\":0,\"ticks\":\"\"}},\"type\":\"scatter\"}],\"scatter3d\":[{\"line\":{\"colorbar\":{\"outlinewidth\":0,\"ticks\":\"\"}},\"marker\":{\"colorbar\":{\"outlinewidth\":0,\"ticks\":\"\"}},\"type\":\"scatter3d\"}],\"scattercarpet\":[{\"marker\":{\"colorbar\":{\"outlinewidth\":0,\"ticks\":\"\"}},\"type\":\"scattercarpet\"}],\"scattergeo\":[{\"marker\":{\"colorbar\":{\"outlinewidth\":0,\"ticks\":\"\"}},\"type\":\"scattergeo\"}],\"scattergl\":[{\"marker\":{\"colorbar\":{\"outlinewidth\":0,\"ticks\":\"\"}},\"type\":\"scattergl\"}],\"scattermapbox\":[{\"marker\":{\"colorbar\":{\"outlinewidth\":0,\"ticks\":\"\"}},\"type\":\"scattermapbox\"}],\"scatterpolar\":[{\"marker\":{\"colorbar\":{\"outlinewidth\":0,\"ticks\":\"\"}},\"type\":\"scatterpolar\"}],\"scatterpolargl\":[{\"marker\":{\"colorbar\":{\"outlinewidth\":0,\"ticks\":\"\"}},\"type\":\"scatterpolargl\"}],\"scatterternary\":[{\"marker\":{\"colorbar\":{\"outlinewidth\":0,\"ticks\":\"\"}},\"type\":\"scatterternary\"}],\"surface\":[{\"colorbar\":{\"outlinewidth\":0,\"ticks\":\"\"},\"colorscale\":[[0.0,\"#0d0887\"],[0.1111111111111111,\"#46039f\"],[0.2222222222222222,\"#7201a8\"],[0.3333333333333333,\"#9c179e\"],[0.4444444444444444,\"#bd3786\"],[0.5555555555555556,\"#d8576b\"],[0.6666666666666666,\"#ed7953\"],[0.7777777777777778,\"#fb9f3a\"],[0.8888888888888888,\"#fdca26\"],[1.0,\"#f0f921\"]],\"type\":\"surface\"}],\"table\":[{\"cells\":{\"fill\":{\"color\":\"#EBF0F8\"},\"line\":{\"color\":\"white\"}},\"header\":{\"fill\":{\"color\":\"#C8D4E3\"},\"line\":{\"color\":\"white\"}},\"type\":\"table\"}]},\"layout\":{\"annotationdefaults\":{\"arrowcolor\":\"#2a3f5f\",\"arrowhead\":0,\"arrowwidth\":1},\"autotypenumbers\":\"strict\",\"coloraxis\":{\"colorbar\":{\"outlinewidth\":0,\"ticks\":\"\"}},\"colorscale\":{\"diverging\":[[0,\"#8e0152\"],[0.1,\"#c51b7d\"],[0.2,\"#de77ae\"],[0.3,\"#f1b6da\"],[0.4,\"#fde0ef\"],[0.5,\"#f7f7f7\"],[0.6,\"#e6f5d0\"],[0.7,\"#b8e186\"],[0.8,\"#7fbc41\"],[0.9,\"#4d9221\"],[1,\"#276419\"]],\"sequential\":[[0.0,\"#0d0887\"],[0.1111111111111111,\"#46039f\"],[0.2222222222222222,\"#7201a8\"],[0.3333333333333333,\"#9c179e\"],[0.4444444444444444,\"#bd3786\"],[0.5555555555555556,\"#d8576b\"],[0.6666666666666666,\"#ed7953\"],[0.7777777777777778,\"#fb9f3a\"],[0.8888888888888888,\"#fdca26\"],[1.0,\"#f0f921\"]],\"sequentialminus\":[[0.0,\"#0d0887\"],[0.1111111111111111,\"#46039f\"],[0.2222222222222222,\"#7201a8\"],[0.3333333333333333,\"#9c179e\"],[0.4444444444444444,\"#bd3786\"],[0.5555555555555556,\"#d8576b\"],[0.6666666666666666,\"#ed7953\"],[0.7777777777777778,\"#fb9f3a\"],[0.8888888888888888,\"#fdca26\"],[1.0,\"#f0f921\"]]},\"colorway\":[\"#636efa\",\"#EF553B\",\"#00cc96\",\"#ab63fa\",\"#FFA15A\",\"#19d3f3\",\"#FF6692\",\"#B6E880\",\"#FF97FF\",\"#FECB52\"],\"font\":{\"color\":\"#2a3f5f\"},\"geo\":{\"bgcolor\":\"white\",\"lakecolor\":\"white\",\"landcolor\":\"#E5ECF6\",\"showlakes\":true,\"showland\":true,\"subunitcolor\":\"white\"},\"hoverlabel\":{\"align\":\"left\"},\"hovermode\":\"closest\",\"mapbox\":{\"style\":\"light\"},\"paper_bgcolor\":\"white\",\"plot_bgcolor\":\"#E5ECF6\",\"polar\":{\"angularaxis\":{\"gridcolor\":\"white\",\"linecolor\":\"white\",\"ticks\":\"\"},\"bgcolor\":\"#E5ECF6\",\"radialaxis\":{\"gridcolor\":\"white\",\"linecolor\":\"white\",\"ticks\":\"\"}},\"scene\":{\"xaxis\":{\"backgroundcolor\":\"#E5ECF6\",\"gridcolor\":\"white\",\"gridwidth\":2,\"linecolor\":\"white\",\"showbackground\":true,\"ticks\":\"\",\"zerolinecolor\":\"white\"},\"yaxis\":{\"backgroundcolor\":\"#E5ECF6\",\"gridcolor\":\"white\",\"gridwidth\":2,\"linecolor\":\"white\",\"showbackground\":true,\"ticks\":\"\",\"zerolinecolor\":\"white\"},\"zaxis\":{\"backgroundcolor\":\"#E5ECF6\",\"gridcolor\":\"white\",\"gridwidth\":2,\"linecolor\":\"white\",\"showbackground\":true,\"ticks\":\"\",\"zerolinecolor\":\"white\"}},\"shapedefaults\":{\"line\":{\"color\":\"#2a3f5f\"}},\"ternary\":{\"aaxis\":{\"gridcolor\":\"white\",\"linecolor\":\"white\",\"ticks\":\"\"},\"baxis\":{\"gridcolor\":\"white\",\"linecolor\":\"white\",\"ticks\":\"\"},\"bgcolor\":\"#E5ECF6\",\"caxis\":{\"gridcolor\":\"white\",\"linecolor\":\"white\",\"ticks\":\"\"}},\"title\":{\"x\":0.05},\"xaxis\":{\"automargin\":true,\"gridcolor\":\"white\",\"linecolor\":\"white\",\"ticks\":\"\",\"title\":{\"standoff\":15},\"zerolinecolor\":\"white\",\"zerolinewidth\":2},\"yaxis\":{\"automargin\":true,\"gridcolor\":\"white\",\"linecolor\":\"white\",\"ticks\":\"\",\"title\":{\"standoff\":15},\"zerolinecolor\":\"white\",\"zerolinewidth\":2}}},\"legend\":{\"tracegroupgap\":0},\"margin\":{\"t\":60}},                        {\"responsive\": true}                    ).then(function(){\n",
       "                            \n",
       "var gd = document.getElementById('2013a1a1-d5e1-4442-883e-1d21bff49df0');\n",
       "var x = new MutationObserver(function (mutations, observer) {{\n",
       "        var display = window.getComputedStyle(gd).display;\n",
       "        if (!display || display === 'none') {{\n",
       "            console.log([gd, 'removed!']);\n",
       "            Plotly.purge(gd);\n",
       "            observer.disconnect();\n",
       "        }}\n",
       "}});\n",
       "\n",
       "// Listen for the removal of the full notebook cells\n",
       "var notebookContainer = gd.closest('#notebook-container');\n",
       "if (notebookContainer) {{\n",
       "    x.observe(notebookContainer, {childList: true});\n",
       "}}\n",
       "\n",
       "// Listen for the clearing of the current output cell\n",
       "var outputEl = gd.closest('.output');\n",
       "if (outputEl) {{\n",
       "    x.observe(outputEl, {childList: true});\n",
       "}}\n",
       "\n",
       "                        })                };                });            </script>        </div>"
      ]
     },
     "metadata": {},
     "output_type": "display_data"
    }
   ],
   "source": [
    "fig = px.sunburst(df_burnst, path=['product','stadt'],\n",
    "                 values=\"Anzahl_der_Waren\",\n",
    "                 color = \"product\")\n",
    "fig.show()"
   ]
  },
  {
   "cell_type": "code",
   "execution_count": 43,
   "metadata": {},
   "outputs": [
    {
     "data": {
      "application/vnd.plotly.v1+json": {
       "config": {
        "plotlyServerURL": "https://plot.ly"
       },
       "data": [
        {
         "branchvalues": "total",
         "customdata": [
          [
           " Atlanta",
           37616.578125
          ],
          [
           " Austin",
           25297.69921875
          ],
          [
           " Boston",
           43336.05859375
          ],
          [
           " Dallas",
           37726.5703125
          ],
          [
           " Los Angeles",
           72373.421875
          ],
          [
           " New York City",
           61594.3984375
          ],
          [
           " Portland",
           30577.21875
          ],
          [
           " San Francisco",
           109990
          ],
          [
           " Seattle",
           35636.7578125
          ],
          [
           " Atlanta",
           192265.0625
          ],
          [
           " Austin",
           124016.8203125
          ],
          [
           " Boston",
           263243.25
          ],
          [
           " Dallas",
           187585.1875
          ],
          [
           " Los Angeles",
           391160
          ],
          [
           " New York City",
           328371.5625
          ],
          [
           " Portland",
           169255.65625
          ],
          [
           " San Francisco",
           569385.375
          ],
          [
           " Seattle",
           209814.609375
          ],
          [
           " Atlanta",
           88194.125
          ],
          [
           " Austin",
           53996.40234375
          ],
          [
           " Boston",
           119542.03125
          ],
          [
           " Dallas",
           88044.1328125
          ],
          [
           " Los Angeles",
           183437.78125
          ],
          [
           " New York City",
           160789.28125
          ],
          [
           " Portland",
           79494.703125
          ],
          [
           " San Francisco",
           272081.875
          ],
          [
           " Seattle",
           86844.2109375
          ],
          [
           " Atlanta",
           183155.171875
          ],
          [
           " Austin",
           124636.71875
          ],
          [
           " Boston",
           254973.28125
          ],
          [
           " Dallas",
           194554.875
          ],
          [
           " Los Angeles",
           362890.4375
          ],
          [
           " New York City",
           329831.3125
          ],
          [
           " Portland",
           153135.96875
          ],
          [
           " San Francisco",
           549465.5
          ],
          [
           " Seattle",
           202914.640625
          ],
          [
           " Atlanta",
           8421.1201171875
          ],
          [
           " Austin",
           5468.16015625
          ],
          [
           " Boston",
           11581.439453125
          ],
          [
           " Dallas",
           8682.240234375
          ],
          [
           " Los Angeles",
           17041.919921875
          ],
          [
           " New York City",
           13939.2001953125
          ],
          [
           " Portland",
           7445.759765625
          ],
          [
           " San Francisco",
           25171.19921875
          ],
          [
           " Seattle",
           8367.3603515625
          ],
          [
           " Atlanta",
           7053.41015625
          ],
          [
           " Austin",
           4987.31982421875
          ],
          [
           " Boston",
           10348.3896484375
          ],
          [
           " Dallas",
           7486.9599609375
          ],
          [
           " Los Angeles",
           14851.330078125
          ],
          [
           " New York City",
           12330.759765625
          ],
          [
           " Portland",
           6219.2001953125
          ],
          [
           " San Francisco",
           22149.919921875
          ],
          [
           " Seattle",
           7313.5400390625
          ],
          [
           " Atlanta",
           189900
          ],
          [
           " Austin",
           133050
          ],
          [
           " Boston",
           247950
          ],
          [
           " Dallas",
           179100
          ],
          [
           " Los Angeles",
           370950
          ],
          [
           " New York City",
           314700
          ],
          [
           " Portland",
           164850
          ],
          [
           " San Francisco",
           559950
          ],
          [
           " Seattle",
           188700
          ],
          [
           " Atlanta",
           108389.1640625
          ],
          [
           " Austin",
           70692.9296875
          ],
          [
           " Boston",
           141585.84375
          ],
          [
           " Dallas",
           106289.3671875
          ],
          [
           " Los Angeles",
           212478.75
          ],
          [
           " New York City",
           179382.0625
          ],
          [
           " Portland",
           88891.109375
          ],
          [
           " San Francisco",
           331666.8125
          ],
          [
           " Seattle",
           106189.375
          ],
          [
           " Atlanta",
           122100
          ],
          [
           " Austin",
           72600
          ],
          [
           " Boston",
           166200
          ],
          [
           " Dallas",
           126000
          ],
          [
           " Los Angeles",
           218100
          ],
          [
           " New York City",
           188400
          ],
          [
           " Portland",
           93600
          ],
          [
           " San Francisco",
           346200
          ],
          [
           " Seattle",
           112500
          ],
          [
           " Atlanta",
           270600
          ],
          [
           " Austin",
           164400
          ],
          [
           " Boston",
           355800
          ],
          [
           " Dallas",
           276600
          ],
          [
           " Los Angeles",
           508800
          ],
          [
           " New York City",
           454800
          ],
          [
           " Portland",
           213000
          ],
          [
           " San Francisco",
           814799.9375
          ],
          [
           " Seattle",
           260400
          ],
          [
           " Atlanta",
           35400
          ],
          [
           " Austin",
           33000
          ],
          [
           " Boston",
           35400
          ],
          [
           " Dallas",
           26400
          ],
          [
           " Los Angeles",
           69600
          ],
          [
           " New York City",
           46200
          ],
          [
           " Portland",
           22200
          ],
          [
           " San Francisco",
           85800
          ],
          [
           " Seattle",
           33600
          ],
          [
           " Atlanta",
           31200
          ],
          [
           " Austin",
           15600
          ],
          [
           " Boston",
           43200
          ],
          [
           " Dallas",
           30600
          ],
          [
           " Los Angeles",
           63000
          ],
          [
           " New York City",
           51000
          ],
          [
           " Portland",
           22200
          ],
          [
           " San Francisco",
           108000
          ],
          [
           " Seattle",
           34800
          ],
          [
           " Atlanta",
           28091.048828125
          ],
          [
           " Austin",
           19539.650390625
          ],
          [
           " Boston",
           37240.44921875
          ],
          [
           " Dallas",
           27866.798828125
          ],
          [
           " Los Angeles",
           56391.3984375
          ],
          [
           " New York City",
           45462.94921875
          ],
          [
           " Portland",
           22888.44921875
          ],
          [
           " San Francisco",
           83077.1484375
          ],
          [
           " Seattle",
           26536.25
          ],
          [
           " Atlanta",
           644300
          ],
          [
           " Austin",
           426700
          ],
          [
           " Boston",
           814300
          ],
          [
           " Dallas",
           649400
          ],
          [
           " Los Angeles",
           1276700
          ],
          [
           " New York City",
           1116900
          ],
          [
           " Portland",
           572900
          ],
          [
           " San Francisco",
           1931200
          ],
          [
           " Seattle",
           605200
          ],
          [
           " Atlanta",
           356996.4375
          ],
          [
           " Austin",
           209997.890625
          ],
          [
           " Boston",
           446995.53125
          ],
          [
           " Dallas",
           344996.53125
          ],
          [
           " Los Angeles",
           640993.5625
          ],
          [
           " New York City",
           559994.375
          ],
          [
           " Portland",
           273997.25
          ],
          [
           " San Francisco",
           962990.375
          ],
          [
           " Seattle",
           332996.65625
          ],
          [
           " Atlanta",
           22884.25
          ],
          [
           " Austin",
           14949.4501953125
          ],
          [
           " Boston",
           30603.94921875
          ],
          [
           " Dallas",
           22131.400390625
          ],
          [
           " Los Angeles",
           45194.8984375
          ],
          [
           " New York City",
           39064.55078125
          ],
          [
           " Portland",
           18904.900390625
          ],
          [
           " San Francisco",
           70433.296875
          ],
          [
           " Seattle",
           22334.548828125
          ],
          [
           " Atlanta",
           69200
          ],
          [
           " Austin",
           43200
          ],
          [
           " Boston",
           85600
          ],
          [
           " Dallas",
           71200
          ],
          [
           " Los Angeles",
           126800
          ],
          [
           " New York City",
           112400
          ],
          [
           " Portland",
           49600
          ],
          [
           " San Francisco",
           197600
          ],
          [
           " Seattle",
           71600
          ],
          [
           " Atlanta",
           18932.208984375
          ],
          [
           " Austin",
           13548.7001953125
          ],
          [
           " Boston",
           26641.779296875
          ],
          [
           " Dallas",
           20011.310546875
          ],
          [
           " Los Angeles",
           39207.30078125
          ],
          [
           " New York City",
           32456.9296875
          ],
          [
           " Portland",
           16330.3798828125
          ],
          [
           " San Francisco",
           59542.33984375
          ],
          [
           " Seattle",
           19807.48046875
          ],
          [
           " Atlanta",
           380800
          ],
          [
           " Austin",
           263900
          ],
          [
           " Boston",
           527100
          ],
          [
           " Dallas",
           363300
          ],
          [
           " Los Angeles",
           782600
          ],
          [
           " New York City",
           616700
          ],
          [
           " Portland",
           315000
          ],
          [
           " San Francisco",
           1162700
          ],
          [
           " Seattle",
           382200
          ],
          [
           " Atlanta",
           326250.375
          ],
          [
           " Austin",
           213964.21875
          ],
          [
           " Boston",
           420757.59375
          ],
          [
           " Dallas",
           324859.65625
          ],
          [
           " Los Angeles",
           641576.125
          ],
          [
           " New York City",
           553897.8125
          ],
          [
           " Portland",
           282596
          ],
          [
           " San Francisco",
           968615.375
          ],
          [
           " Seattle",
           310716.4375
          ]
         ],
         "domain": {
          "x": [
           0,
           1
          ],
          "y": [
           0,
           1
          ]
         },
         "hovertemplate": "labels=%{label}<br>Umsatz_sum=%{value}<br>parent=%{parent}<br>id=%{id}<br>stadt=%{customdata[0]}<br>Umsatz=%{color}<extra></extra>",
         "ids": [
          " Atlanta/20in Monitor",
          " Austin/20in Monitor",
          " Boston/20in Monitor",
          " Dallas/20in Monitor",
          " Los Angeles/20in Monitor",
          " New York City/20in Monitor",
          " Portland/20in Monitor",
          " San Francisco/20in Monitor",
          " Seattle/20in Monitor",
          " Atlanta/27in 4K Gaming Monitor",
          " Austin/27in 4K Gaming Monitor",
          " Boston/27in 4K Gaming Monitor",
          " Dallas/27in 4K Gaming Monitor",
          " Los Angeles/27in 4K Gaming Monitor",
          " New York City/27in 4K Gaming Monitor",
          " Portland/27in 4K Gaming Monitor",
          " San Francisco/27in 4K Gaming Monitor",
          " Seattle/27in 4K Gaming Monitor",
          " Atlanta/27in FHD Monitor",
          " Austin/27in FHD Monitor",
          " Boston/27in FHD Monitor",
          " Dallas/27in FHD Monitor",
          " Los Angeles/27in FHD Monitor",
          " New York City/27in FHD Monitor",
          " Portland/27in FHD Monitor",
          " San Francisco/27in FHD Monitor",
          " Seattle/27in FHD Monitor",
          " Atlanta/34in Ultrawide Monitor",
          " Austin/34in Ultrawide Monitor",
          " Boston/34in Ultrawide Monitor",
          " Dallas/34in Ultrawide Monitor",
          " Los Angeles/34in Ultrawide Monitor",
          " New York City/34in Ultrawide Monitor",
          " Portland/34in Ultrawide Monitor",
          " San Francisco/34in Ultrawide Monitor",
          " Seattle/34in Ultrawide Monitor",
          " Atlanta/AA Batteries (4-pack)",
          " Austin/AA Batteries (4-pack)",
          " Boston/AA Batteries (4-pack)",
          " Dallas/AA Batteries (4-pack)",
          " Los Angeles/AA Batteries (4-pack)",
          " New York City/AA Batteries (4-pack)",
          " Portland/AA Batteries (4-pack)",
          " San Francisco/AA Batteries (4-pack)",
          " Seattle/AA Batteries (4-pack)",
          " Atlanta/AAA Batteries (4-pack)",
          " Austin/AAA Batteries (4-pack)",
          " Boston/AAA Batteries (4-pack)",
          " Dallas/AAA Batteries (4-pack)",
          " Los Angeles/AAA Batteries (4-pack)",
          " New York City/AAA Batteries (4-pack)",
          " Portland/AAA Batteries (4-pack)",
          " San Francisco/AAA Batteries (4-pack)",
          " Seattle/AAA Batteries (4-pack)",
          " Atlanta/Apple Airpods Headphones",
          " Austin/Apple Airpods Headphones",
          " Boston/Apple Airpods Headphones",
          " Dallas/Apple Airpods Headphones",
          " Los Angeles/Apple Airpods Headphones",
          " New York City/Apple Airpods Headphones",
          " Portland/Apple Airpods Headphones",
          " San Francisco/Apple Airpods Headphones",
          " Seattle/Apple Airpods Headphones",
          " Atlanta/Bose SoundSport Headphones",
          " Austin/Bose SoundSport Headphones",
          " Boston/Bose SoundSport Headphones",
          " Dallas/Bose SoundSport Headphones",
          " Los Angeles/Bose SoundSport Headphones",
          " New York City/Bose SoundSport Headphones",
          " Portland/Bose SoundSport Headphones",
          " San Francisco/Bose SoundSport Headphones",
          " Seattle/Bose SoundSport Headphones",
          " Atlanta/Flatscreen TV",
          " Austin/Flatscreen TV",
          " Boston/Flatscreen TV",
          " Dallas/Flatscreen TV",
          " Los Angeles/Flatscreen TV",
          " New York City/Flatscreen TV",
          " Portland/Flatscreen TV",
          " San Francisco/Flatscreen TV",
          " Seattle/Flatscreen TV",
          " Atlanta/Google Phone",
          " Austin/Google Phone",
          " Boston/Google Phone",
          " Dallas/Google Phone",
          " Los Angeles/Google Phone",
          " New York City/Google Phone",
          " Portland/Google Phone",
          " San Francisco/Google Phone",
          " Seattle/Google Phone",
          " Atlanta/LG Dryer",
          " Austin/LG Dryer",
          " Boston/LG Dryer",
          " Dallas/LG Dryer",
          " Los Angeles/LG Dryer",
          " New York City/LG Dryer",
          " Portland/LG Dryer",
          " San Francisco/LG Dryer",
          " Seattle/LG Dryer",
          " Atlanta/LG Washing Machine",
          " Austin/LG Washing Machine",
          " Boston/LG Washing Machine",
          " Dallas/LG Washing Machine",
          " Los Angeles/LG Washing Machine",
          " New York City/LG Washing Machine",
          " Portland/LG Washing Machine",
          " San Francisco/LG Washing Machine",
          " Seattle/LG Washing Machine",
          " Atlanta/Lightning Charging Cable",
          " Austin/Lightning Charging Cable",
          " Boston/Lightning Charging Cable",
          " Dallas/Lightning Charging Cable",
          " Los Angeles/Lightning Charging Cable",
          " New York City/Lightning Charging Cable",
          " Portland/Lightning Charging Cable",
          " San Francisco/Lightning Charging Cable",
          " Seattle/Lightning Charging Cable",
          " Atlanta/Macbook Pro Laptop",
          " Austin/Macbook Pro Laptop",
          " Boston/Macbook Pro Laptop",
          " Dallas/Macbook Pro Laptop",
          " Los Angeles/Macbook Pro Laptop",
          " New York City/Macbook Pro Laptop",
          " Portland/Macbook Pro Laptop",
          " San Francisco/Macbook Pro Laptop",
          " Seattle/Macbook Pro Laptop",
          " Atlanta/ThinkPad Laptop",
          " Austin/ThinkPad Laptop",
          " Boston/ThinkPad Laptop",
          " Dallas/ThinkPad Laptop",
          " Los Angeles/ThinkPad Laptop",
          " New York City/ThinkPad Laptop",
          " Portland/ThinkPad Laptop",
          " San Francisco/ThinkPad Laptop",
          " Seattle/ThinkPad Laptop",
          " Atlanta/USB-C Charging Cable",
          " Austin/USB-C Charging Cable",
          " Boston/USB-C Charging Cable",
          " Dallas/USB-C Charging Cable",
          " Los Angeles/USB-C Charging Cable",
          " New York City/USB-C Charging Cable",
          " Portland/USB-C Charging Cable",
          " San Francisco/USB-C Charging Cable",
          " Seattle/USB-C Charging Cable",
          " Atlanta/Vareebadd Phone",
          " Austin/Vareebadd Phone",
          " Boston/Vareebadd Phone",
          " Dallas/Vareebadd Phone",
          " Los Angeles/Vareebadd Phone",
          " New York City/Vareebadd Phone",
          " Portland/Vareebadd Phone",
          " San Francisco/Vareebadd Phone",
          " Seattle/Vareebadd Phone",
          " Atlanta/Wired Headphones",
          " Austin/Wired Headphones",
          " Boston/Wired Headphones",
          " Dallas/Wired Headphones",
          " Los Angeles/Wired Headphones",
          " New York City/Wired Headphones",
          " Portland/Wired Headphones",
          " San Francisco/Wired Headphones",
          " Seattle/Wired Headphones",
          " Atlanta/iPhone",
          " Austin/iPhone",
          " Boston/iPhone",
          " Dallas/iPhone",
          " Los Angeles/iPhone",
          " New York City/iPhone",
          " Portland/iPhone",
          " San Francisco/iPhone",
          " Seattle/iPhone",
          " Atlanta",
          " Austin",
          " Boston",
          " Dallas",
          " Los Angeles",
          " New York City",
          " Portland",
          " San Francisco",
          " Seattle"
         ],
         "labels": [
          "20in Monitor",
          "20in Monitor",
          "20in Monitor",
          "20in Monitor",
          "20in Monitor",
          "20in Monitor",
          "20in Monitor",
          "20in Monitor",
          "20in Monitor",
          "27in 4K Gaming Monitor",
          "27in 4K Gaming Monitor",
          "27in 4K Gaming Monitor",
          "27in 4K Gaming Monitor",
          "27in 4K Gaming Monitor",
          "27in 4K Gaming Monitor",
          "27in 4K Gaming Monitor",
          "27in 4K Gaming Monitor",
          "27in 4K Gaming Monitor",
          "27in FHD Monitor",
          "27in FHD Monitor",
          "27in FHD Monitor",
          "27in FHD Monitor",
          "27in FHD Monitor",
          "27in FHD Monitor",
          "27in FHD Monitor",
          "27in FHD Monitor",
          "27in FHD Monitor",
          "34in Ultrawide Monitor",
          "34in Ultrawide Monitor",
          "34in Ultrawide Monitor",
          "34in Ultrawide Monitor",
          "34in Ultrawide Monitor",
          "34in Ultrawide Monitor",
          "34in Ultrawide Monitor",
          "34in Ultrawide Monitor",
          "34in Ultrawide Monitor",
          "AA Batteries (4-pack)",
          "AA Batteries (4-pack)",
          "AA Batteries (4-pack)",
          "AA Batteries (4-pack)",
          "AA Batteries (4-pack)",
          "AA Batteries (4-pack)",
          "AA Batteries (4-pack)",
          "AA Batteries (4-pack)",
          "AA Batteries (4-pack)",
          "AAA Batteries (4-pack)",
          "AAA Batteries (4-pack)",
          "AAA Batteries (4-pack)",
          "AAA Batteries (4-pack)",
          "AAA Batteries (4-pack)",
          "AAA Batteries (4-pack)",
          "AAA Batteries (4-pack)",
          "AAA Batteries (4-pack)",
          "AAA Batteries (4-pack)",
          "Apple Airpods Headphones",
          "Apple Airpods Headphones",
          "Apple Airpods Headphones",
          "Apple Airpods Headphones",
          "Apple Airpods Headphones",
          "Apple Airpods Headphones",
          "Apple Airpods Headphones",
          "Apple Airpods Headphones",
          "Apple Airpods Headphones",
          "Bose SoundSport Headphones",
          "Bose SoundSport Headphones",
          "Bose SoundSport Headphones",
          "Bose SoundSport Headphones",
          "Bose SoundSport Headphones",
          "Bose SoundSport Headphones",
          "Bose SoundSport Headphones",
          "Bose SoundSport Headphones",
          "Bose SoundSport Headphones",
          "Flatscreen TV",
          "Flatscreen TV",
          "Flatscreen TV",
          "Flatscreen TV",
          "Flatscreen TV",
          "Flatscreen TV",
          "Flatscreen TV",
          "Flatscreen TV",
          "Flatscreen TV",
          "Google Phone",
          "Google Phone",
          "Google Phone",
          "Google Phone",
          "Google Phone",
          "Google Phone",
          "Google Phone",
          "Google Phone",
          "Google Phone",
          "LG Dryer",
          "LG Dryer",
          "LG Dryer",
          "LG Dryer",
          "LG Dryer",
          "LG Dryer",
          "LG Dryer",
          "LG Dryer",
          "LG Dryer",
          "LG Washing Machine",
          "LG Washing Machine",
          "LG Washing Machine",
          "LG Washing Machine",
          "LG Washing Machine",
          "LG Washing Machine",
          "LG Washing Machine",
          "LG Washing Machine",
          "LG Washing Machine",
          "Lightning Charging Cable",
          "Lightning Charging Cable",
          "Lightning Charging Cable",
          "Lightning Charging Cable",
          "Lightning Charging Cable",
          "Lightning Charging Cable",
          "Lightning Charging Cable",
          "Lightning Charging Cable",
          "Lightning Charging Cable",
          "Macbook Pro Laptop",
          "Macbook Pro Laptop",
          "Macbook Pro Laptop",
          "Macbook Pro Laptop",
          "Macbook Pro Laptop",
          "Macbook Pro Laptop",
          "Macbook Pro Laptop",
          "Macbook Pro Laptop",
          "Macbook Pro Laptop",
          "ThinkPad Laptop",
          "ThinkPad Laptop",
          "ThinkPad Laptop",
          "ThinkPad Laptop",
          "ThinkPad Laptop",
          "ThinkPad Laptop",
          "ThinkPad Laptop",
          "ThinkPad Laptop",
          "ThinkPad Laptop",
          "USB-C Charging Cable",
          "USB-C Charging Cable",
          "USB-C Charging Cable",
          "USB-C Charging Cable",
          "USB-C Charging Cable",
          "USB-C Charging Cable",
          "USB-C Charging Cable",
          "USB-C Charging Cable",
          "USB-C Charging Cable",
          "Vareebadd Phone",
          "Vareebadd Phone",
          "Vareebadd Phone",
          "Vareebadd Phone",
          "Vareebadd Phone",
          "Vareebadd Phone",
          "Vareebadd Phone",
          "Vareebadd Phone",
          "Vareebadd Phone",
          "Wired Headphones",
          "Wired Headphones",
          "Wired Headphones",
          "Wired Headphones",
          "Wired Headphones",
          "Wired Headphones",
          "Wired Headphones",
          "Wired Headphones",
          "Wired Headphones",
          "iPhone",
          "iPhone",
          "iPhone",
          "iPhone",
          "iPhone",
          "iPhone",
          "iPhone",
          "iPhone",
          "iPhone",
          " Atlanta",
          " Austin",
          " Boston",
          " Dallas",
          " Los Angeles",
          " New York City",
          " Portland",
          " San Francisco",
          " Seattle"
         ],
         "marker": {
          "coloraxis": "coloraxis",
          "colors": [
           37616.578125,
           25297.69921875,
           43336.05859375,
           37726.5703125,
           72373.421875,
           61594.3984375,
           30577.21875,
           109990,
           35636.7578125,
           192265.0625,
           124016.8203125,
           263243.25,
           187585.1875,
           391160,
           328371.5625,
           169255.65625,
           569385.375,
           209814.609375,
           88194.125,
           53996.40234375,
           119542.03125,
           88044.1328125,
           183437.78125,
           160789.28125,
           79494.703125,
           272081.875,
           86844.2109375,
           183155.171875,
           124636.71875,
           254973.28125,
           194554.875,
           362890.4375,
           329831.3125,
           153135.96875,
           549465.5,
           202914.640625,
           8421.1201171875,
           5468.16015625,
           11581.439453125,
           8682.240234375,
           17041.919921875,
           13939.2001953125,
           7445.759765625,
           25171.19921875,
           8367.3603515625,
           7053.41015625,
           4987.31982421875,
           10348.3896484375,
           7486.9599609375,
           14851.330078125,
           12330.759765625,
           6219.2001953125,
           22149.919921875,
           7313.5400390625,
           189900,
           133050,
           247950,
           179100,
           370950,
           314700,
           164850,
           559950,
           188700,
           108389.1640625,
           70692.9296875,
           141585.84375,
           106289.3671875,
           212478.75,
           179382.0625,
           88891.109375,
           331666.8125,
           106189.375,
           122100,
           72600,
           166200,
           126000,
           218100,
           188400,
           93600,
           346200,
           112500,
           270600,
           164400,
           355800,
           276600,
           508800,
           454800,
           213000,
           814799.9375,
           260400,
           35400,
           33000,
           35400,
           26400,
           69600,
           46200,
           22200,
           85800,
           33600,
           31200,
           15600,
           43200,
           30600,
           63000,
           51000,
           22200,
           108000,
           34800,
           28091.048828125,
           19539.650390625,
           37240.44921875,
           27866.798828125,
           56391.3984375,
           45462.94921875,
           22888.44921875,
           83077.1484375,
           26536.25,
           644300,
           426700,
           814300,
           649400,
           1276700,
           1116900,
           572900,
           1931200,
           605200,
           356996.4375,
           209997.890625,
           446995.53125,
           344996.53125,
           640993.5625,
           559994.375,
           273997.25,
           962990.375,
           332996.65625,
           22884.25,
           14949.4501953125,
           30603.94921875,
           22131.400390625,
           45194.8984375,
           39064.55078125,
           18904.900390625,
           70433.296875,
           22334.548828125,
           69200,
           43200,
           85600,
           71200,
           126800,
           112400,
           49600,
           197600,
           71600,
           18932.208984375,
           13548.7001953125,
           26641.779296875,
           20011.310546875,
           39207.30078125,
           32456.9296875,
           16330.3798828125,
           59542.33984375,
           19807.48046875,
           380800,
           263900,
           527100,
           363300,
           782600,
           616700,
           315000,
           1162700,
           382200,
           326250.375,
           213964.21875,
           420757.59375,
           324859.65625,
           641576.125,
           553897.8125,
           282596,
           968615.375,
           310716.4375
          ]
         },
         "name": "",
         "parents": [
          " Atlanta",
          " Austin",
          " Boston",
          " Dallas",
          " Los Angeles",
          " New York City",
          " Portland",
          " San Francisco",
          " Seattle",
          " Atlanta",
          " Austin",
          " Boston",
          " Dallas",
          " Los Angeles",
          " New York City",
          " Portland",
          " San Francisco",
          " Seattle",
          " Atlanta",
          " Austin",
          " Boston",
          " Dallas",
          " Los Angeles",
          " New York City",
          " Portland",
          " San Francisco",
          " Seattle",
          " Atlanta",
          " Austin",
          " Boston",
          " Dallas",
          " Los Angeles",
          " New York City",
          " Portland",
          " San Francisco",
          " Seattle",
          " Atlanta",
          " Austin",
          " Boston",
          " Dallas",
          " Los Angeles",
          " New York City",
          " Portland",
          " San Francisco",
          " Seattle",
          " Atlanta",
          " Austin",
          " Boston",
          " Dallas",
          " Los Angeles",
          " New York City",
          " Portland",
          " San Francisco",
          " Seattle",
          " Atlanta",
          " Austin",
          " Boston",
          " Dallas",
          " Los Angeles",
          " New York City",
          " Portland",
          " San Francisco",
          " Seattle",
          " Atlanta",
          " Austin",
          " Boston",
          " Dallas",
          " Los Angeles",
          " New York City",
          " Portland",
          " San Francisco",
          " Seattle",
          " Atlanta",
          " Austin",
          " Boston",
          " Dallas",
          " Los Angeles",
          " New York City",
          " Portland",
          " San Francisco",
          " Seattle",
          " Atlanta",
          " Austin",
          " Boston",
          " Dallas",
          " Los Angeles",
          " New York City",
          " Portland",
          " San Francisco",
          " Seattle",
          " Atlanta",
          " Austin",
          " Boston",
          " Dallas",
          " Los Angeles",
          " New York City",
          " Portland",
          " San Francisco",
          " Seattle",
          " Atlanta",
          " Austin",
          " Boston",
          " Dallas",
          " Los Angeles",
          " New York City",
          " Portland",
          " San Francisco",
          " Seattle",
          " Atlanta",
          " Austin",
          " Boston",
          " Dallas",
          " Los Angeles",
          " New York City",
          " Portland",
          " San Francisco",
          " Seattle",
          " Atlanta",
          " Austin",
          " Boston",
          " Dallas",
          " Los Angeles",
          " New York City",
          " Portland",
          " San Francisco",
          " Seattle",
          " Atlanta",
          " Austin",
          " Boston",
          " Dallas",
          " Los Angeles",
          " New York City",
          " Portland",
          " San Francisco",
          " Seattle",
          " Atlanta",
          " Austin",
          " Boston",
          " Dallas",
          " Los Angeles",
          " New York City",
          " Portland",
          " San Francisco",
          " Seattle",
          " Atlanta",
          " Austin",
          " Boston",
          " Dallas",
          " Los Angeles",
          " New York City",
          " Portland",
          " San Francisco",
          " Seattle",
          " Atlanta",
          " Austin",
          " Boston",
          " Dallas",
          " Los Angeles",
          " New York City",
          " Portland",
          " San Francisco",
          " Seattle",
          " Atlanta",
          " Austin",
          " Boston",
          " Dallas",
          " Los Angeles",
          " New York City",
          " Portland",
          " San Francisco",
          " Seattle",
          "",
          "",
          "",
          "",
          "",
          "",
          "",
          "",
          ""
         ],
         "type": "treemap",
         "values": [
          37616.578125,
          25297.69921875,
          43336.05859375,
          37726.5703125,
          72373.421875,
          61594.3984375,
          30577.21875,
          109990,
          35636.7578125,
          192265.0625,
          124016.8203125,
          263243.25,
          187585.1875,
          391159.96875,
          328371.5625,
          169255.65625,
          569385.375,
          209814.609375,
          88194.125,
          53996.40234375,
          119542.03125,
          88044.1328125,
          183437.78125,
          160789.28125,
          79494.703125,
          272081.875,
          86844.2109375,
          183155.171875,
          124636.71875,
          254973.28125,
          194554.875,
          362890.4375,
          329831.3125,
          153135.96875,
          549465.5,
          202914.65625,
          8421.1201171875,
          5468.16015625,
          11581.439453125,
          8682.240234375,
          17041.919921875,
          13939.2001953125,
          7445.759765625,
          25171.19921875,
          8367.3603515625,
          7053.41015625,
          4987.31982421875,
          10348.3896484375,
          7486.9599609375,
          14851.330078125,
          12330.759765625,
          6219.2001953125,
          22149.919921875,
          7313.5400390625,
          189900,
          133050,
          247950,
          179100,
          370950,
          314700,
          164850,
          559950,
          188700,
          108389.15625,
          70692.9296875,
          141585.84375,
          106289.3671875,
          212478.75,
          179382.0625,
          88891.109375,
          331666.8125,
          106189.375,
          122100,
          72600,
          166200,
          126000,
          218100,
          188400,
          93600,
          346200,
          112500,
          270600,
          164400,
          355800,
          276600,
          508800,
          454800,
          213000,
          814800,
          260400,
          35400,
          33000,
          35400,
          26400,
          69600,
          46200,
          22200,
          85800,
          33600,
          31200,
          15600,
          43200,
          30600,
          63000,
          51000,
          22200,
          108000,
          34800,
          28091.048828125,
          19539.650390625,
          37240.44921875,
          27866.798828125,
          56391.3984375,
          45462.94921875,
          22888.44921875,
          83077.1484375,
          26536.25,
          644300,
          426700,
          814300,
          649400,
          1276700,
          1116900,
          572900,
          1931200,
          605200,
          356996.4375,
          209997.890625,
          446995.53125,
          344996.53125,
          640993.5625,
          559994.375,
          273997.25,
          962990.375,
          332996.65625,
          22884.25,
          14949.4501953125,
          30603.94921875,
          22131.400390625,
          45194.8984375,
          39064.55078125,
          18904.900390625,
          70433.296875,
          22334.548828125,
          69200,
          43200,
          85600,
          71200,
          126800,
          112400,
          49600,
          197600,
          71600,
          18932.208984375,
          13548.7001953125,
          26641.779296875,
          20011.310546875,
          39207.30078125,
          32456.9296875,
          16330.3798828125,
          59542.33984375,
          19807.48046875,
          380800,
          263900,
          527100,
          363300,
          782600,
          616700,
          315000,
          1162700,
          382200,
          2795498.5,
          1819581.75,
          3661642,
          2767975.25,
          5452571,
          4664317.5,
          2320490.5,
          8262204,
          2747755.5
         ]
        }
       ],
       "layout": {
        "coloraxis": {
         "cmid": 201707.796875,
         "colorbar": {
          "title": {
           "text": "Umsatz"
          }
         },
         "colorscale": [
          [
           0,
           "rgb(103,0,31)"
          ],
          [
           0.1,
           "rgb(178,24,43)"
          ],
          [
           0.2,
           "rgb(214,96,77)"
          ],
          [
           0.3,
           "rgb(244,165,130)"
          ],
          [
           0.4,
           "rgb(253,219,199)"
          ],
          [
           0.5,
           "rgb(247,247,247)"
          ],
          [
           0.6,
           "rgb(209,229,240)"
          ],
          [
           0.7,
           "rgb(146,197,222)"
          ],
          [
           0.8,
           "rgb(67,147,195)"
          ],
          [
           0.9,
           "rgb(33,102,172)"
          ],
          [
           1,
           "rgb(5,48,97)"
          ]
         ]
        },
        "legend": {
         "tracegroupgap": 0
        },
        "margin": {
         "b": 25,
         "l": 25,
         "r": 25,
         "t": 50
        },
        "template": {
         "data": {
          "bar": [
           {
            "error_x": {
             "color": "#2a3f5f"
            },
            "error_y": {
             "color": "#2a3f5f"
            },
            "marker": {
             "line": {
              "color": "#E5ECF6",
              "width": 0.5
             },
             "pattern": {
              "fillmode": "overlay",
              "size": 10,
              "solidity": 0.2
             }
            },
            "type": "bar"
           }
          ],
          "barpolar": [
           {
            "marker": {
             "line": {
              "color": "#E5ECF6",
              "width": 0.5
             },
             "pattern": {
              "fillmode": "overlay",
              "size": 10,
              "solidity": 0.2
             }
            },
            "type": "barpolar"
           }
          ],
          "carpet": [
           {
            "aaxis": {
             "endlinecolor": "#2a3f5f",
             "gridcolor": "white",
             "linecolor": "white",
             "minorgridcolor": "white",
             "startlinecolor": "#2a3f5f"
            },
            "baxis": {
             "endlinecolor": "#2a3f5f",
             "gridcolor": "white",
             "linecolor": "white",
             "minorgridcolor": "white",
             "startlinecolor": "#2a3f5f"
            },
            "type": "carpet"
           }
          ],
          "choropleth": [
           {
            "colorbar": {
             "outlinewidth": 0,
             "ticks": ""
            },
            "type": "choropleth"
           }
          ],
          "contour": [
           {
            "colorbar": {
             "outlinewidth": 0,
             "ticks": ""
            },
            "colorscale": [
             [
              0,
              "#0d0887"
             ],
             [
              0.1111111111111111,
              "#46039f"
             ],
             [
              0.2222222222222222,
              "#7201a8"
             ],
             [
              0.3333333333333333,
              "#9c179e"
             ],
             [
              0.4444444444444444,
              "#bd3786"
             ],
             [
              0.5555555555555556,
              "#d8576b"
             ],
             [
              0.6666666666666666,
              "#ed7953"
             ],
             [
              0.7777777777777778,
              "#fb9f3a"
             ],
             [
              0.8888888888888888,
              "#fdca26"
             ],
             [
              1,
              "#f0f921"
             ]
            ],
            "type": "contour"
           }
          ],
          "contourcarpet": [
           {
            "colorbar": {
             "outlinewidth": 0,
             "ticks": ""
            },
            "type": "contourcarpet"
           }
          ],
          "heatmap": [
           {
            "colorbar": {
             "outlinewidth": 0,
             "ticks": ""
            },
            "colorscale": [
             [
              0,
              "#0d0887"
             ],
             [
              0.1111111111111111,
              "#46039f"
             ],
             [
              0.2222222222222222,
              "#7201a8"
             ],
             [
              0.3333333333333333,
              "#9c179e"
             ],
             [
              0.4444444444444444,
              "#bd3786"
             ],
             [
              0.5555555555555556,
              "#d8576b"
             ],
             [
              0.6666666666666666,
              "#ed7953"
             ],
             [
              0.7777777777777778,
              "#fb9f3a"
             ],
             [
              0.8888888888888888,
              "#fdca26"
             ],
             [
              1,
              "#f0f921"
             ]
            ],
            "type": "heatmap"
           }
          ],
          "heatmapgl": [
           {
            "colorbar": {
             "outlinewidth": 0,
             "ticks": ""
            },
            "colorscale": [
             [
              0,
              "#0d0887"
             ],
             [
              0.1111111111111111,
              "#46039f"
             ],
             [
              0.2222222222222222,
              "#7201a8"
             ],
             [
              0.3333333333333333,
              "#9c179e"
             ],
             [
              0.4444444444444444,
              "#bd3786"
             ],
             [
              0.5555555555555556,
              "#d8576b"
             ],
             [
              0.6666666666666666,
              "#ed7953"
             ],
             [
              0.7777777777777778,
              "#fb9f3a"
             ],
             [
              0.8888888888888888,
              "#fdca26"
             ],
             [
              1,
              "#f0f921"
             ]
            ],
            "type": "heatmapgl"
           }
          ],
          "histogram": [
           {
            "marker": {
             "pattern": {
              "fillmode": "overlay",
              "size": 10,
              "solidity": 0.2
             }
            },
            "type": "histogram"
           }
          ],
          "histogram2d": [
           {
            "colorbar": {
             "outlinewidth": 0,
             "ticks": ""
            },
            "colorscale": [
             [
              0,
              "#0d0887"
             ],
             [
              0.1111111111111111,
              "#46039f"
             ],
             [
              0.2222222222222222,
              "#7201a8"
             ],
             [
              0.3333333333333333,
              "#9c179e"
             ],
             [
              0.4444444444444444,
              "#bd3786"
             ],
             [
              0.5555555555555556,
              "#d8576b"
             ],
             [
              0.6666666666666666,
              "#ed7953"
             ],
             [
              0.7777777777777778,
              "#fb9f3a"
             ],
             [
              0.8888888888888888,
              "#fdca26"
             ],
             [
              1,
              "#f0f921"
             ]
            ],
            "type": "histogram2d"
           }
          ],
          "histogram2dcontour": [
           {
            "colorbar": {
             "outlinewidth": 0,
             "ticks": ""
            },
            "colorscale": [
             [
              0,
              "#0d0887"
             ],
             [
              0.1111111111111111,
              "#46039f"
             ],
             [
              0.2222222222222222,
              "#7201a8"
             ],
             [
              0.3333333333333333,
              "#9c179e"
             ],
             [
              0.4444444444444444,
              "#bd3786"
             ],
             [
              0.5555555555555556,
              "#d8576b"
             ],
             [
              0.6666666666666666,
              "#ed7953"
             ],
             [
              0.7777777777777778,
              "#fb9f3a"
             ],
             [
              0.8888888888888888,
              "#fdca26"
             ],
             [
              1,
              "#f0f921"
             ]
            ],
            "type": "histogram2dcontour"
           }
          ],
          "mesh3d": [
           {
            "colorbar": {
             "outlinewidth": 0,
             "ticks": ""
            },
            "type": "mesh3d"
           }
          ],
          "parcoords": [
           {
            "line": {
             "colorbar": {
              "outlinewidth": 0,
              "ticks": ""
             }
            },
            "type": "parcoords"
           }
          ],
          "pie": [
           {
            "automargin": true,
            "type": "pie"
           }
          ],
          "scatter": [
           {
            "marker": {
             "colorbar": {
              "outlinewidth": 0,
              "ticks": ""
             }
            },
            "type": "scatter"
           }
          ],
          "scatter3d": [
           {
            "line": {
             "colorbar": {
              "outlinewidth": 0,
              "ticks": ""
             }
            },
            "marker": {
             "colorbar": {
              "outlinewidth": 0,
              "ticks": ""
             }
            },
            "type": "scatter3d"
           }
          ],
          "scattercarpet": [
           {
            "marker": {
             "colorbar": {
              "outlinewidth": 0,
              "ticks": ""
             }
            },
            "type": "scattercarpet"
           }
          ],
          "scattergeo": [
           {
            "marker": {
             "colorbar": {
              "outlinewidth": 0,
              "ticks": ""
             }
            },
            "type": "scattergeo"
           }
          ],
          "scattergl": [
           {
            "marker": {
             "colorbar": {
              "outlinewidth": 0,
              "ticks": ""
             }
            },
            "type": "scattergl"
           }
          ],
          "scattermapbox": [
           {
            "marker": {
             "colorbar": {
              "outlinewidth": 0,
              "ticks": ""
             }
            },
            "type": "scattermapbox"
           }
          ],
          "scatterpolar": [
           {
            "marker": {
             "colorbar": {
              "outlinewidth": 0,
              "ticks": ""
             }
            },
            "type": "scatterpolar"
           }
          ],
          "scatterpolargl": [
           {
            "marker": {
             "colorbar": {
              "outlinewidth": 0,
              "ticks": ""
             }
            },
            "type": "scatterpolargl"
           }
          ],
          "scatterternary": [
           {
            "marker": {
             "colorbar": {
              "outlinewidth": 0,
              "ticks": ""
             }
            },
            "type": "scatterternary"
           }
          ],
          "surface": [
           {
            "colorbar": {
             "outlinewidth": 0,
             "ticks": ""
            },
            "colorscale": [
             [
              0,
              "#0d0887"
             ],
             [
              0.1111111111111111,
              "#46039f"
             ],
             [
              0.2222222222222222,
              "#7201a8"
             ],
             [
              0.3333333333333333,
              "#9c179e"
             ],
             [
              0.4444444444444444,
              "#bd3786"
             ],
             [
              0.5555555555555556,
              "#d8576b"
             ],
             [
              0.6666666666666666,
              "#ed7953"
             ],
             [
              0.7777777777777778,
              "#fb9f3a"
             ],
             [
              0.8888888888888888,
              "#fdca26"
             ],
             [
              1,
              "#f0f921"
             ]
            ],
            "type": "surface"
           }
          ],
          "table": [
           {
            "cells": {
             "fill": {
              "color": "#EBF0F8"
             },
             "line": {
              "color": "white"
             }
            },
            "header": {
             "fill": {
              "color": "#C8D4E3"
             },
             "line": {
              "color": "white"
             }
            },
            "type": "table"
           }
          ]
         },
         "layout": {
          "annotationdefaults": {
           "arrowcolor": "#2a3f5f",
           "arrowhead": 0,
           "arrowwidth": 1
          },
          "autotypenumbers": "strict",
          "coloraxis": {
           "colorbar": {
            "outlinewidth": 0,
            "ticks": ""
           }
          },
          "colorscale": {
           "diverging": [
            [
             0,
             "#8e0152"
            ],
            [
             0.1,
             "#c51b7d"
            ],
            [
             0.2,
             "#de77ae"
            ],
            [
             0.3,
             "#f1b6da"
            ],
            [
             0.4,
             "#fde0ef"
            ],
            [
             0.5,
             "#f7f7f7"
            ],
            [
             0.6,
             "#e6f5d0"
            ],
            [
             0.7,
             "#b8e186"
            ],
            [
             0.8,
             "#7fbc41"
            ],
            [
             0.9,
             "#4d9221"
            ],
            [
             1,
             "#276419"
            ]
           ],
           "sequential": [
            [
             0,
             "#0d0887"
            ],
            [
             0.1111111111111111,
             "#46039f"
            ],
            [
             0.2222222222222222,
             "#7201a8"
            ],
            [
             0.3333333333333333,
             "#9c179e"
            ],
            [
             0.4444444444444444,
             "#bd3786"
            ],
            [
             0.5555555555555556,
             "#d8576b"
            ],
            [
             0.6666666666666666,
             "#ed7953"
            ],
            [
             0.7777777777777778,
             "#fb9f3a"
            ],
            [
             0.8888888888888888,
             "#fdca26"
            ],
            [
             1,
             "#f0f921"
            ]
           ],
           "sequentialminus": [
            [
             0,
             "#0d0887"
            ],
            [
             0.1111111111111111,
             "#46039f"
            ],
            [
             0.2222222222222222,
             "#7201a8"
            ],
            [
             0.3333333333333333,
             "#9c179e"
            ],
            [
             0.4444444444444444,
             "#bd3786"
            ],
            [
             0.5555555555555556,
             "#d8576b"
            ],
            [
             0.6666666666666666,
             "#ed7953"
            ],
            [
             0.7777777777777778,
             "#fb9f3a"
            ],
            [
             0.8888888888888888,
             "#fdca26"
            ],
            [
             1,
             "#f0f921"
            ]
           ]
          },
          "colorway": [
           "#636efa",
           "#EF553B",
           "#00cc96",
           "#ab63fa",
           "#FFA15A",
           "#19d3f3",
           "#FF6692",
           "#B6E880",
           "#FF97FF",
           "#FECB52"
          ],
          "font": {
           "color": "#2a3f5f"
          },
          "geo": {
           "bgcolor": "white",
           "lakecolor": "white",
           "landcolor": "#E5ECF6",
           "showlakes": true,
           "showland": true,
           "subunitcolor": "white"
          },
          "hoverlabel": {
           "align": "left"
          },
          "hovermode": "closest",
          "mapbox": {
           "style": "light"
          },
          "paper_bgcolor": "white",
          "plot_bgcolor": "#E5ECF6",
          "polar": {
           "angularaxis": {
            "gridcolor": "white",
            "linecolor": "white",
            "ticks": ""
           },
           "bgcolor": "#E5ECF6",
           "radialaxis": {
            "gridcolor": "white",
            "linecolor": "white",
            "ticks": ""
           }
          },
          "scene": {
           "xaxis": {
            "backgroundcolor": "#E5ECF6",
            "gridcolor": "white",
            "gridwidth": 2,
            "linecolor": "white",
            "showbackground": true,
            "ticks": "",
            "zerolinecolor": "white"
           },
           "yaxis": {
            "backgroundcolor": "#E5ECF6",
            "gridcolor": "white",
            "gridwidth": 2,
            "linecolor": "white",
            "showbackground": true,
            "ticks": "",
            "zerolinecolor": "white"
           },
           "zaxis": {
            "backgroundcolor": "#E5ECF6",
            "gridcolor": "white",
            "gridwidth": 2,
            "linecolor": "white",
            "showbackground": true,
            "ticks": "",
            "zerolinecolor": "white"
           }
          },
          "shapedefaults": {
           "line": {
            "color": "#2a3f5f"
           }
          },
          "ternary": {
           "aaxis": {
            "gridcolor": "white",
            "linecolor": "white",
            "ticks": ""
           },
           "baxis": {
            "gridcolor": "white",
            "linecolor": "white",
            "ticks": ""
           },
           "bgcolor": "#E5ECF6",
           "caxis": {
            "gridcolor": "white",
            "linecolor": "white",
            "ticks": ""
           }
          },
          "title": {
           "x": 0.05
          },
          "xaxis": {
           "automargin": true,
           "gridcolor": "white",
           "linecolor": "white",
           "ticks": "",
           "title": {
            "standoff": 15
           },
           "zerolinecolor": "white",
           "zerolinewidth": 2
          },
          "yaxis": {
           "automargin": true,
           "gridcolor": "white",
           "linecolor": "white",
           "ticks": "",
           "title": {
            "standoff": 15
           },
           "zerolinecolor": "white",
           "zerolinewidth": 2
          }
         }
        }
       }
      },
      "text/html": [
       "<div>                            <div id=\"6ae5725e-b5d8-4099-aade-644518cd83ef\" class=\"plotly-graph-div\" style=\"height:525px; width:100%;\"></div>            <script type=\"text/javascript\">                require([\"plotly\"], function(Plotly) {                    window.PLOTLYENV=window.PLOTLYENV || {};                                    if (document.getElementById(\"6ae5725e-b5d8-4099-aade-644518cd83ef\")) {                    Plotly.newPlot(                        \"6ae5725e-b5d8-4099-aade-644518cd83ef\",                        [{\"branchvalues\":\"total\",\"customdata\":[[\" Atlanta\",37616.578125],[\" Austin\",25297.69921875],[\" Boston\",43336.05859375],[\" Dallas\",37726.5703125],[\" Los Angeles\",72373.421875],[\" New York City\",61594.3984375],[\" Portland\",30577.21875],[\" San Francisco\",109990.0],[\" Seattle\",35636.7578125],[\" Atlanta\",192265.0625],[\" Austin\",124016.8203125],[\" Boston\",263243.25],[\" Dallas\",187585.1875],[\" Los Angeles\",391160.0],[\" New York City\",328371.5625],[\" Portland\",169255.65625],[\" San Francisco\",569385.375],[\" Seattle\",209814.609375],[\" Atlanta\",88194.125],[\" Austin\",53996.40234375],[\" Boston\",119542.03125],[\" Dallas\",88044.1328125],[\" Los Angeles\",183437.78125],[\" New York City\",160789.28125],[\" Portland\",79494.703125],[\" San Francisco\",272081.875],[\" Seattle\",86844.2109375],[\" Atlanta\",183155.171875],[\" Austin\",124636.71875],[\" Boston\",254973.28125],[\" Dallas\",194554.875],[\" Los Angeles\",362890.4375],[\" New York City\",329831.3125],[\" Portland\",153135.96875],[\" San Francisco\",549465.5],[\" Seattle\",202914.640625],[\" Atlanta\",8421.1201171875],[\" Austin\",5468.16015625],[\" Boston\",11581.439453125],[\" Dallas\",8682.240234375],[\" Los Angeles\",17041.919921875],[\" New York City\",13939.2001953125],[\" Portland\",7445.759765625],[\" San Francisco\",25171.19921875],[\" Seattle\",8367.3603515625],[\" Atlanta\",7053.41015625],[\" Austin\",4987.31982421875],[\" Boston\",10348.3896484375],[\" Dallas\",7486.9599609375],[\" Los Angeles\",14851.330078125],[\" New York City\",12330.759765625],[\" Portland\",6219.2001953125],[\" San Francisco\",22149.919921875],[\" Seattle\",7313.5400390625],[\" Atlanta\",189900.0],[\" Austin\",133050.0],[\" Boston\",247950.0],[\" Dallas\",179100.0],[\" Los Angeles\",370950.0],[\" New York City\",314700.0],[\" Portland\",164850.0],[\" San Francisco\",559950.0],[\" Seattle\",188700.0],[\" Atlanta\",108389.1640625],[\" Austin\",70692.9296875],[\" Boston\",141585.84375],[\" Dallas\",106289.3671875],[\" Los Angeles\",212478.75],[\" New York City\",179382.0625],[\" Portland\",88891.109375],[\" San Francisco\",331666.8125],[\" Seattle\",106189.375],[\" Atlanta\",122100.0],[\" Austin\",72600.0],[\" Boston\",166200.0],[\" Dallas\",126000.0],[\" Los Angeles\",218100.0],[\" New York City\",188400.0],[\" Portland\",93600.0],[\" San Francisco\",346200.0],[\" Seattle\",112500.0],[\" Atlanta\",270600.0],[\" Austin\",164400.0],[\" Boston\",355800.0],[\" Dallas\",276600.0],[\" Los Angeles\",508800.0],[\" New York City\",454800.0],[\" Portland\",213000.0],[\" San Francisco\",814799.9375],[\" Seattle\",260400.0],[\" Atlanta\",35400.0],[\" Austin\",33000.0],[\" Boston\",35400.0],[\" Dallas\",26400.0],[\" Los Angeles\",69600.0],[\" New York City\",46200.0],[\" Portland\",22200.0],[\" San Francisco\",85800.0],[\" Seattle\",33600.0],[\" Atlanta\",31200.0],[\" Austin\",15600.0],[\" Boston\",43200.0],[\" Dallas\",30600.0],[\" Los Angeles\",63000.0],[\" New York City\",51000.0],[\" Portland\",22200.0],[\" San Francisco\",108000.0],[\" Seattle\",34800.0],[\" Atlanta\",28091.048828125],[\" Austin\",19539.650390625],[\" Boston\",37240.44921875],[\" Dallas\",27866.798828125],[\" Los Angeles\",56391.3984375],[\" New York City\",45462.94921875],[\" Portland\",22888.44921875],[\" San Francisco\",83077.1484375],[\" Seattle\",26536.25],[\" Atlanta\",644300.0],[\" Austin\",426700.0],[\" Boston\",814300.0],[\" Dallas\",649400.0],[\" Los Angeles\",1276700.0],[\" New York City\",1116900.0],[\" Portland\",572900.0],[\" San Francisco\",1931200.0],[\" Seattle\",605200.0],[\" Atlanta\",356996.4375],[\" Austin\",209997.890625],[\" Boston\",446995.53125],[\" Dallas\",344996.53125],[\" Los Angeles\",640993.5625],[\" New York City\",559994.375],[\" Portland\",273997.25],[\" San Francisco\",962990.375],[\" Seattle\",332996.65625],[\" Atlanta\",22884.25],[\" Austin\",14949.4501953125],[\" Boston\",30603.94921875],[\" Dallas\",22131.400390625],[\" Los Angeles\",45194.8984375],[\" New York City\",39064.55078125],[\" Portland\",18904.900390625],[\" San Francisco\",70433.296875],[\" Seattle\",22334.548828125],[\" Atlanta\",69200.0],[\" Austin\",43200.0],[\" Boston\",85600.0],[\" Dallas\",71200.0],[\" Los Angeles\",126800.0],[\" New York City\",112400.0],[\" Portland\",49600.0],[\" San Francisco\",197600.0],[\" Seattle\",71600.0],[\" Atlanta\",18932.208984375],[\" Austin\",13548.7001953125],[\" Boston\",26641.779296875],[\" Dallas\",20011.310546875],[\" Los Angeles\",39207.30078125],[\" New York City\",32456.9296875],[\" Portland\",16330.3798828125],[\" San Francisco\",59542.33984375],[\" Seattle\",19807.48046875],[\" Atlanta\",380800.0],[\" Austin\",263900.0],[\" Boston\",527100.0],[\" Dallas\",363300.0],[\" Los Angeles\",782600.0],[\" New York City\",616700.0],[\" Portland\",315000.0],[\" San Francisco\",1162700.0],[\" Seattle\",382200.0],[\" Atlanta\",326250.375],[\" Austin\",213964.21875],[\" Boston\",420757.59375],[\" Dallas\",324859.65625],[\" Los Angeles\",641576.125],[\" New York City\",553897.8125],[\" Portland\",282596.0],[\" San Francisco\",968615.375],[\" Seattle\",310716.4375]],\"domain\":{\"x\":[0.0,1.0],\"y\":[0.0,1.0]},\"hovertemplate\":\"labels=%{label}<br>Umsatz_sum=%{value}<br>parent=%{parent}<br>id=%{id}<br>stadt=%{customdata[0]}<br>Umsatz=%{color}<extra></extra>\",\"ids\":[\" Atlanta/20in Monitor\",\" Austin/20in Monitor\",\" Boston/20in Monitor\",\" Dallas/20in Monitor\",\" Los Angeles/20in Monitor\",\" New York City/20in Monitor\",\" Portland/20in Monitor\",\" San Francisco/20in Monitor\",\" Seattle/20in Monitor\",\" Atlanta/27in 4K Gaming Monitor\",\" Austin/27in 4K Gaming Monitor\",\" Boston/27in 4K Gaming Monitor\",\" Dallas/27in 4K Gaming Monitor\",\" Los Angeles/27in 4K Gaming Monitor\",\" New York City/27in 4K Gaming Monitor\",\" Portland/27in 4K Gaming Monitor\",\" San Francisco/27in 4K Gaming Monitor\",\" Seattle/27in 4K Gaming Monitor\",\" Atlanta/27in FHD Monitor\",\" Austin/27in FHD Monitor\",\" Boston/27in FHD Monitor\",\" Dallas/27in FHD Monitor\",\" Los Angeles/27in FHD Monitor\",\" New York City/27in FHD Monitor\",\" Portland/27in FHD Monitor\",\" San Francisco/27in FHD Monitor\",\" Seattle/27in FHD Monitor\",\" Atlanta/34in Ultrawide Monitor\",\" Austin/34in Ultrawide Monitor\",\" Boston/34in Ultrawide Monitor\",\" Dallas/34in Ultrawide Monitor\",\" Los Angeles/34in Ultrawide Monitor\",\" New York City/34in Ultrawide Monitor\",\" Portland/34in Ultrawide Monitor\",\" San Francisco/34in Ultrawide Monitor\",\" Seattle/34in Ultrawide Monitor\",\" Atlanta/AA Batteries (4-pack)\",\" Austin/AA Batteries (4-pack)\",\" Boston/AA Batteries (4-pack)\",\" Dallas/AA Batteries (4-pack)\",\" Los Angeles/AA Batteries (4-pack)\",\" New York City/AA Batteries (4-pack)\",\" Portland/AA Batteries (4-pack)\",\" San Francisco/AA Batteries (4-pack)\",\" Seattle/AA Batteries (4-pack)\",\" Atlanta/AAA Batteries (4-pack)\",\" Austin/AAA Batteries (4-pack)\",\" Boston/AAA Batteries (4-pack)\",\" Dallas/AAA Batteries (4-pack)\",\" Los Angeles/AAA Batteries (4-pack)\",\" New York City/AAA Batteries (4-pack)\",\" Portland/AAA Batteries (4-pack)\",\" San Francisco/AAA Batteries (4-pack)\",\" Seattle/AAA Batteries (4-pack)\",\" Atlanta/Apple Airpods Headphones\",\" Austin/Apple Airpods Headphones\",\" Boston/Apple Airpods Headphones\",\" Dallas/Apple Airpods Headphones\",\" Los Angeles/Apple Airpods Headphones\",\" New York City/Apple Airpods Headphones\",\" Portland/Apple Airpods Headphones\",\" San Francisco/Apple Airpods Headphones\",\" Seattle/Apple Airpods Headphones\",\" Atlanta/Bose SoundSport Headphones\",\" Austin/Bose SoundSport Headphones\",\" Boston/Bose SoundSport Headphones\",\" Dallas/Bose SoundSport Headphones\",\" Los Angeles/Bose SoundSport Headphones\",\" New York City/Bose SoundSport Headphones\",\" Portland/Bose SoundSport Headphones\",\" San Francisco/Bose SoundSport Headphones\",\" Seattle/Bose SoundSport Headphones\",\" Atlanta/Flatscreen TV\",\" Austin/Flatscreen TV\",\" Boston/Flatscreen TV\",\" Dallas/Flatscreen TV\",\" Los Angeles/Flatscreen TV\",\" New York City/Flatscreen TV\",\" Portland/Flatscreen TV\",\" San Francisco/Flatscreen TV\",\" Seattle/Flatscreen TV\",\" Atlanta/Google Phone\",\" Austin/Google Phone\",\" Boston/Google Phone\",\" Dallas/Google Phone\",\" Los Angeles/Google Phone\",\" New York City/Google Phone\",\" Portland/Google Phone\",\" San Francisco/Google Phone\",\" Seattle/Google Phone\",\" Atlanta/LG Dryer\",\" Austin/LG Dryer\",\" Boston/LG Dryer\",\" Dallas/LG Dryer\",\" Los Angeles/LG Dryer\",\" New York City/LG Dryer\",\" Portland/LG Dryer\",\" San Francisco/LG Dryer\",\" Seattle/LG Dryer\",\" Atlanta/LG Washing Machine\",\" Austin/LG Washing Machine\",\" Boston/LG Washing Machine\",\" Dallas/LG Washing Machine\",\" Los Angeles/LG Washing Machine\",\" New York City/LG Washing Machine\",\" Portland/LG Washing Machine\",\" San Francisco/LG Washing Machine\",\" Seattle/LG Washing Machine\",\" Atlanta/Lightning Charging Cable\",\" Austin/Lightning Charging Cable\",\" Boston/Lightning Charging Cable\",\" Dallas/Lightning Charging Cable\",\" Los Angeles/Lightning Charging Cable\",\" New York City/Lightning Charging Cable\",\" Portland/Lightning Charging Cable\",\" San Francisco/Lightning Charging Cable\",\" Seattle/Lightning Charging Cable\",\" Atlanta/Macbook Pro Laptop\",\" Austin/Macbook Pro Laptop\",\" Boston/Macbook Pro Laptop\",\" Dallas/Macbook Pro Laptop\",\" Los Angeles/Macbook Pro Laptop\",\" New York City/Macbook Pro Laptop\",\" Portland/Macbook Pro Laptop\",\" San Francisco/Macbook Pro Laptop\",\" Seattle/Macbook Pro Laptop\",\" Atlanta/ThinkPad Laptop\",\" Austin/ThinkPad Laptop\",\" Boston/ThinkPad Laptop\",\" Dallas/ThinkPad Laptop\",\" Los Angeles/ThinkPad Laptop\",\" New York City/ThinkPad Laptop\",\" Portland/ThinkPad Laptop\",\" San Francisco/ThinkPad Laptop\",\" Seattle/ThinkPad Laptop\",\" Atlanta/USB-C Charging Cable\",\" Austin/USB-C Charging Cable\",\" Boston/USB-C Charging Cable\",\" Dallas/USB-C Charging Cable\",\" Los Angeles/USB-C Charging Cable\",\" New York City/USB-C Charging Cable\",\" Portland/USB-C Charging Cable\",\" San Francisco/USB-C Charging Cable\",\" Seattle/USB-C Charging Cable\",\" Atlanta/Vareebadd Phone\",\" Austin/Vareebadd Phone\",\" Boston/Vareebadd Phone\",\" Dallas/Vareebadd Phone\",\" Los Angeles/Vareebadd Phone\",\" New York City/Vareebadd Phone\",\" Portland/Vareebadd Phone\",\" San Francisco/Vareebadd Phone\",\" Seattle/Vareebadd Phone\",\" Atlanta/Wired Headphones\",\" Austin/Wired Headphones\",\" Boston/Wired Headphones\",\" Dallas/Wired Headphones\",\" Los Angeles/Wired Headphones\",\" New York City/Wired Headphones\",\" Portland/Wired Headphones\",\" San Francisco/Wired Headphones\",\" Seattle/Wired Headphones\",\" Atlanta/iPhone\",\" Austin/iPhone\",\" Boston/iPhone\",\" Dallas/iPhone\",\" Los Angeles/iPhone\",\" New York City/iPhone\",\" Portland/iPhone\",\" San Francisco/iPhone\",\" Seattle/iPhone\",\" Atlanta\",\" Austin\",\" Boston\",\" Dallas\",\" Los Angeles\",\" New York City\",\" Portland\",\" San Francisco\",\" Seattle\"],\"labels\":[\"20in Monitor\",\"20in Monitor\",\"20in Monitor\",\"20in Monitor\",\"20in Monitor\",\"20in Monitor\",\"20in Monitor\",\"20in Monitor\",\"20in Monitor\",\"27in 4K Gaming Monitor\",\"27in 4K Gaming Monitor\",\"27in 4K Gaming Monitor\",\"27in 4K Gaming Monitor\",\"27in 4K Gaming Monitor\",\"27in 4K Gaming Monitor\",\"27in 4K Gaming Monitor\",\"27in 4K Gaming Monitor\",\"27in 4K Gaming Monitor\",\"27in FHD Monitor\",\"27in FHD Monitor\",\"27in FHD Monitor\",\"27in FHD Monitor\",\"27in FHD Monitor\",\"27in FHD Monitor\",\"27in FHD Monitor\",\"27in FHD Monitor\",\"27in FHD Monitor\",\"34in Ultrawide Monitor\",\"34in Ultrawide Monitor\",\"34in Ultrawide Monitor\",\"34in Ultrawide Monitor\",\"34in Ultrawide Monitor\",\"34in Ultrawide Monitor\",\"34in Ultrawide Monitor\",\"34in Ultrawide Monitor\",\"34in Ultrawide Monitor\",\"AA Batteries (4-pack)\",\"AA Batteries (4-pack)\",\"AA Batteries (4-pack)\",\"AA Batteries (4-pack)\",\"AA Batteries (4-pack)\",\"AA Batteries (4-pack)\",\"AA Batteries (4-pack)\",\"AA Batteries (4-pack)\",\"AA Batteries (4-pack)\",\"AAA Batteries (4-pack)\",\"AAA Batteries (4-pack)\",\"AAA Batteries (4-pack)\",\"AAA Batteries (4-pack)\",\"AAA Batteries (4-pack)\",\"AAA Batteries (4-pack)\",\"AAA Batteries (4-pack)\",\"AAA Batteries (4-pack)\",\"AAA Batteries (4-pack)\",\"Apple Airpods Headphones\",\"Apple Airpods Headphones\",\"Apple Airpods Headphones\",\"Apple Airpods Headphones\",\"Apple Airpods Headphones\",\"Apple Airpods Headphones\",\"Apple Airpods Headphones\",\"Apple Airpods Headphones\",\"Apple Airpods Headphones\",\"Bose SoundSport Headphones\",\"Bose SoundSport Headphones\",\"Bose SoundSport Headphones\",\"Bose SoundSport Headphones\",\"Bose SoundSport Headphones\",\"Bose SoundSport Headphones\",\"Bose SoundSport Headphones\",\"Bose SoundSport Headphones\",\"Bose SoundSport Headphones\",\"Flatscreen TV\",\"Flatscreen TV\",\"Flatscreen TV\",\"Flatscreen TV\",\"Flatscreen TV\",\"Flatscreen TV\",\"Flatscreen TV\",\"Flatscreen TV\",\"Flatscreen TV\",\"Google Phone\",\"Google Phone\",\"Google Phone\",\"Google Phone\",\"Google Phone\",\"Google Phone\",\"Google Phone\",\"Google Phone\",\"Google Phone\",\"LG Dryer\",\"LG Dryer\",\"LG Dryer\",\"LG Dryer\",\"LG Dryer\",\"LG Dryer\",\"LG Dryer\",\"LG Dryer\",\"LG Dryer\",\"LG Washing Machine\",\"LG Washing Machine\",\"LG Washing Machine\",\"LG Washing Machine\",\"LG Washing Machine\",\"LG Washing Machine\",\"LG Washing Machine\",\"LG Washing Machine\",\"LG Washing Machine\",\"Lightning Charging Cable\",\"Lightning Charging Cable\",\"Lightning Charging Cable\",\"Lightning Charging Cable\",\"Lightning Charging Cable\",\"Lightning Charging Cable\",\"Lightning Charging Cable\",\"Lightning Charging Cable\",\"Lightning Charging Cable\",\"Macbook Pro Laptop\",\"Macbook Pro Laptop\",\"Macbook Pro Laptop\",\"Macbook Pro Laptop\",\"Macbook Pro Laptop\",\"Macbook Pro Laptop\",\"Macbook Pro Laptop\",\"Macbook Pro Laptop\",\"Macbook Pro Laptop\",\"ThinkPad Laptop\",\"ThinkPad Laptop\",\"ThinkPad Laptop\",\"ThinkPad Laptop\",\"ThinkPad Laptop\",\"ThinkPad Laptop\",\"ThinkPad Laptop\",\"ThinkPad Laptop\",\"ThinkPad Laptop\",\"USB-C Charging Cable\",\"USB-C Charging Cable\",\"USB-C Charging Cable\",\"USB-C Charging Cable\",\"USB-C Charging Cable\",\"USB-C Charging Cable\",\"USB-C Charging Cable\",\"USB-C Charging Cable\",\"USB-C Charging Cable\",\"Vareebadd Phone\",\"Vareebadd Phone\",\"Vareebadd Phone\",\"Vareebadd Phone\",\"Vareebadd Phone\",\"Vareebadd Phone\",\"Vareebadd Phone\",\"Vareebadd Phone\",\"Vareebadd Phone\",\"Wired Headphones\",\"Wired Headphones\",\"Wired Headphones\",\"Wired Headphones\",\"Wired Headphones\",\"Wired Headphones\",\"Wired Headphones\",\"Wired Headphones\",\"Wired Headphones\",\"iPhone\",\"iPhone\",\"iPhone\",\"iPhone\",\"iPhone\",\"iPhone\",\"iPhone\",\"iPhone\",\"iPhone\",\" Atlanta\",\" Austin\",\" Boston\",\" Dallas\",\" Los Angeles\",\" New York City\",\" Portland\",\" San Francisco\",\" Seattle\"],\"marker\":{\"coloraxis\":\"coloraxis\",\"colors\":[37616.578125,25297.69921875,43336.05859375,37726.5703125,72373.421875,61594.3984375,30577.21875,109990.0,35636.7578125,192265.0625,124016.8203125,263243.25,187585.1875,391160.0,328371.5625,169255.65625,569385.375,209814.609375,88194.125,53996.40234375,119542.03125,88044.1328125,183437.78125,160789.28125,79494.703125,272081.875,86844.2109375,183155.171875,124636.71875,254973.28125,194554.875,362890.4375,329831.3125,153135.96875,549465.5,202914.640625,8421.1201171875,5468.16015625,11581.439453125,8682.240234375,17041.919921875,13939.2001953125,7445.759765625,25171.19921875,8367.3603515625,7053.41015625,4987.31982421875,10348.3896484375,7486.9599609375,14851.330078125,12330.759765625,6219.2001953125,22149.919921875,7313.5400390625,189900.0,133050.0,247950.0,179100.0,370950.0,314700.0,164850.0,559950.0,188700.0,108389.1640625,70692.9296875,141585.84375,106289.3671875,212478.75,179382.0625,88891.109375,331666.8125,106189.375,122100.0,72600.0,166200.0,126000.0,218100.0,188400.0,93600.0,346200.0,112500.0,270600.0,164400.0,355800.0,276600.0,508800.0,454800.0,213000.0,814799.9375,260400.0,35400.0,33000.0,35400.0,26400.0,69600.0,46200.0,22200.0,85800.0,33600.0,31200.0,15600.0,43200.0,30600.0,63000.0,51000.0,22200.0,108000.0,34800.0,28091.048828125,19539.650390625,37240.44921875,27866.798828125,56391.3984375,45462.94921875,22888.44921875,83077.1484375,26536.25,644300.0,426700.0,814300.0,649400.0,1276700.0,1116900.0,572900.0,1931200.0,605200.0,356996.4375,209997.890625,446995.53125,344996.53125,640993.5625,559994.375,273997.25,962990.375,332996.65625,22884.25,14949.4501953125,30603.94921875,22131.400390625,45194.8984375,39064.55078125,18904.900390625,70433.296875,22334.548828125,69200.0,43200.0,85600.0,71200.0,126800.0,112400.0,49600.0,197600.0,71600.0,18932.208984375,13548.7001953125,26641.779296875,20011.310546875,39207.30078125,32456.9296875,16330.3798828125,59542.33984375,19807.48046875,380800.0,263900.0,527100.0,363300.0,782600.0,616700.0,315000.0,1162700.0,382200.0,326250.375,213964.21875,420757.59375,324859.65625,641576.125,553897.8125,282596.0,968615.375,310716.4375]},\"name\":\"\",\"parents\":[\" Atlanta\",\" Austin\",\" Boston\",\" Dallas\",\" Los Angeles\",\" New York City\",\" Portland\",\" San Francisco\",\" Seattle\",\" Atlanta\",\" Austin\",\" Boston\",\" Dallas\",\" Los Angeles\",\" New York City\",\" Portland\",\" San Francisco\",\" Seattle\",\" Atlanta\",\" Austin\",\" Boston\",\" Dallas\",\" Los Angeles\",\" New York City\",\" Portland\",\" San Francisco\",\" Seattle\",\" Atlanta\",\" Austin\",\" Boston\",\" Dallas\",\" Los Angeles\",\" New York City\",\" Portland\",\" San Francisco\",\" Seattle\",\" Atlanta\",\" Austin\",\" Boston\",\" Dallas\",\" Los Angeles\",\" New York City\",\" Portland\",\" San Francisco\",\" Seattle\",\" Atlanta\",\" Austin\",\" Boston\",\" Dallas\",\" Los Angeles\",\" New York City\",\" Portland\",\" San Francisco\",\" Seattle\",\" Atlanta\",\" Austin\",\" Boston\",\" Dallas\",\" Los Angeles\",\" New York City\",\" Portland\",\" San Francisco\",\" Seattle\",\" Atlanta\",\" Austin\",\" Boston\",\" Dallas\",\" Los Angeles\",\" New York City\",\" Portland\",\" San Francisco\",\" Seattle\",\" Atlanta\",\" Austin\",\" Boston\",\" Dallas\",\" Los Angeles\",\" New York City\",\" Portland\",\" San Francisco\",\" Seattle\",\" Atlanta\",\" Austin\",\" Boston\",\" Dallas\",\" Los Angeles\",\" New York City\",\" Portland\",\" San Francisco\",\" Seattle\",\" Atlanta\",\" Austin\",\" Boston\",\" Dallas\",\" Los Angeles\",\" New York City\",\" Portland\",\" San Francisco\",\" Seattle\",\" Atlanta\",\" Austin\",\" Boston\",\" Dallas\",\" Los Angeles\",\" New York City\",\" Portland\",\" San Francisco\",\" Seattle\",\" Atlanta\",\" Austin\",\" Boston\",\" Dallas\",\" Los Angeles\",\" New York City\",\" Portland\",\" San Francisco\",\" Seattle\",\" Atlanta\",\" Austin\",\" Boston\",\" Dallas\",\" Los Angeles\",\" New York City\",\" Portland\",\" San Francisco\",\" Seattle\",\" Atlanta\",\" Austin\",\" Boston\",\" Dallas\",\" Los Angeles\",\" New York City\",\" Portland\",\" San Francisco\",\" Seattle\",\" Atlanta\",\" Austin\",\" Boston\",\" Dallas\",\" Los Angeles\",\" New York City\",\" Portland\",\" San Francisco\",\" Seattle\",\" Atlanta\",\" Austin\",\" Boston\",\" Dallas\",\" Los Angeles\",\" New York City\",\" Portland\",\" San Francisco\",\" Seattle\",\" Atlanta\",\" Austin\",\" Boston\",\" Dallas\",\" Los Angeles\",\" New York City\",\" Portland\",\" San Francisco\",\" Seattle\",\" Atlanta\",\" Austin\",\" Boston\",\" Dallas\",\" Los Angeles\",\" New York City\",\" Portland\",\" San Francisco\",\" Seattle\",\"\",\"\",\"\",\"\",\"\",\"\",\"\",\"\",\"\"],\"values\":[37616.578125,25297.69921875,43336.05859375,37726.5703125,72373.421875,61594.3984375,30577.21875,109990.0,35636.7578125,192265.0625,124016.8203125,263243.25,187585.1875,391159.96875,328371.5625,169255.65625,569385.375,209814.609375,88194.125,53996.40234375,119542.03125,88044.1328125,183437.78125,160789.28125,79494.703125,272081.875,86844.2109375,183155.171875,124636.71875,254973.28125,194554.875,362890.4375,329831.3125,153135.96875,549465.5,202914.65625,8421.1201171875,5468.16015625,11581.439453125,8682.240234375,17041.919921875,13939.2001953125,7445.759765625,25171.19921875,8367.3603515625,7053.41015625,4987.31982421875,10348.3896484375,7486.9599609375,14851.330078125,12330.759765625,6219.2001953125,22149.919921875,7313.5400390625,189900.0,133050.0,247950.0,179100.0,370950.0,314700.0,164850.0,559950.0,188700.0,108389.15625,70692.9296875,141585.84375,106289.3671875,212478.75,179382.0625,88891.109375,331666.8125,106189.375,122100.0,72600.0,166200.0,126000.0,218100.0,188400.0,93600.0,346200.0,112500.0,270600.0,164400.0,355800.0,276600.0,508800.0,454800.0,213000.0,814800.0,260400.0,35400.0,33000.0,35400.0,26400.0,69600.0,46200.0,22200.0,85800.0,33600.0,31200.0,15600.0,43200.0,30600.0,63000.0,51000.0,22200.0,108000.0,34800.0,28091.048828125,19539.650390625,37240.44921875,27866.798828125,56391.3984375,45462.94921875,22888.44921875,83077.1484375,26536.25,644300.0,426700.0,814300.0,649400.0,1276700.0,1116900.0,572900.0,1931200.0,605200.0,356996.4375,209997.890625,446995.53125,344996.53125,640993.5625,559994.375,273997.25,962990.375,332996.65625,22884.25,14949.4501953125,30603.94921875,22131.400390625,45194.8984375,39064.55078125,18904.900390625,70433.296875,22334.548828125,69200.0,43200.0,85600.0,71200.0,126800.0,112400.0,49600.0,197600.0,71600.0,18932.208984375,13548.7001953125,26641.779296875,20011.310546875,39207.30078125,32456.9296875,16330.3798828125,59542.33984375,19807.48046875,380800.0,263900.0,527100.0,363300.0,782600.0,616700.0,315000.0,1162700.0,382200.0,2795498.5,1819581.75,3661642.0,2767975.25,5452571.0,4664317.5,2320490.5,8262204.0,2747755.5],\"type\":\"treemap\"}],                        {\"template\":{\"data\":{\"bar\":[{\"error_x\":{\"color\":\"#2a3f5f\"},\"error_y\":{\"color\":\"#2a3f5f\"},\"marker\":{\"line\":{\"color\":\"#E5ECF6\",\"width\":0.5},\"pattern\":{\"fillmode\":\"overlay\",\"size\":10,\"solidity\":0.2}},\"type\":\"bar\"}],\"barpolar\":[{\"marker\":{\"line\":{\"color\":\"#E5ECF6\",\"width\":0.5},\"pattern\":{\"fillmode\":\"overlay\",\"size\":10,\"solidity\":0.2}},\"type\":\"barpolar\"}],\"carpet\":[{\"aaxis\":{\"endlinecolor\":\"#2a3f5f\",\"gridcolor\":\"white\",\"linecolor\":\"white\",\"minorgridcolor\":\"white\",\"startlinecolor\":\"#2a3f5f\"},\"baxis\":{\"endlinecolor\":\"#2a3f5f\",\"gridcolor\":\"white\",\"linecolor\":\"white\",\"minorgridcolor\":\"white\",\"startlinecolor\":\"#2a3f5f\"},\"type\":\"carpet\"}],\"choropleth\":[{\"colorbar\":{\"outlinewidth\":0,\"ticks\":\"\"},\"type\":\"choropleth\"}],\"contour\":[{\"colorbar\":{\"outlinewidth\":0,\"ticks\":\"\"},\"colorscale\":[[0.0,\"#0d0887\"],[0.1111111111111111,\"#46039f\"],[0.2222222222222222,\"#7201a8\"],[0.3333333333333333,\"#9c179e\"],[0.4444444444444444,\"#bd3786\"],[0.5555555555555556,\"#d8576b\"],[0.6666666666666666,\"#ed7953\"],[0.7777777777777778,\"#fb9f3a\"],[0.8888888888888888,\"#fdca26\"],[1.0,\"#f0f921\"]],\"type\":\"contour\"}],\"contourcarpet\":[{\"colorbar\":{\"outlinewidth\":0,\"ticks\":\"\"},\"type\":\"contourcarpet\"}],\"heatmap\":[{\"colorbar\":{\"outlinewidth\":0,\"ticks\":\"\"},\"colorscale\":[[0.0,\"#0d0887\"],[0.1111111111111111,\"#46039f\"],[0.2222222222222222,\"#7201a8\"],[0.3333333333333333,\"#9c179e\"],[0.4444444444444444,\"#bd3786\"],[0.5555555555555556,\"#d8576b\"],[0.6666666666666666,\"#ed7953\"],[0.7777777777777778,\"#fb9f3a\"],[0.8888888888888888,\"#fdca26\"],[1.0,\"#f0f921\"]],\"type\":\"heatmap\"}],\"heatmapgl\":[{\"colorbar\":{\"outlinewidth\":0,\"ticks\":\"\"},\"colorscale\":[[0.0,\"#0d0887\"],[0.1111111111111111,\"#46039f\"],[0.2222222222222222,\"#7201a8\"],[0.3333333333333333,\"#9c179e\"],[0.4444444444444444,\"#bd3786\"],[0.5555555555555556,\"#d8576b\"],[0.6666666666666666,\"#ed7953\"],[0.7777777777777778,\"#fb9f3a\"],[0.8888888888888888,\"#fdca26\"],[1.0,\"#f0f921\"]],\"type\":\"heatmapgl\"}],\"histogram\":[{\"marker\":{\"pattern\":{\"fillmode\":\"overlay\",\"size\":10,\"solidity\":0.2}},\"type\":\"histogram\"}],\"histogram2d\":[{\"colorbar\":{\"outlinewidth\":0,\"ticks\":\"\"},\"colorscale\":[[0.0,\"#0d0887\"],[0.1111111111111111,\"#46039f\"],[0.2222222222222222,\"#7201a8\"],[0.3333333333333333,\"#9c179e\"],[0.4444444444444444,\"#bd3786\"],[0.5555555555555556,\"#d8576b\"],[0.6666666666666666,\"#ed7953\"],[0.7777777777777778,\"#fb9f3a\"],[0.8888888888888888,\"#fdca26\"],[1.0,\"#f0f921\"]],\"type\":\"histogram2d\"}],\"histogram2dcontour\":[{\"colorbar\":{\"outlinewidth\":0,\"ticks\":\"\"},\"colorscale\":[[0.0,\"#0d0887\"],[0.1111111111111111,\"#46039f\"],[0.2222222222222222,\"#7201a8\"],[0.3333333333333333,\"#9c179e\"],[0.4444444444444444,\"#bd3786\"],[0.5555555555555556,\"#d8576b\"],[0.6666666666666666,\"#ed7953\"],[0.7777777777777778,\"#fb9f3a\"],[0.8888888888888888,\"#fdca26\"],[1.0,\"#f0f921\"]],\"type\":\"histogram2dcontour\"}],\"mesh3d\":[{\"colorbar\":{\"outlinewidth\":0,\"ticks\":\"\"},\"type\":\"mesh3d\"}],\"parcoords\":[{\"line\":{\"colorbar\":{\"outlinewidth\":0,\"ticks\":\"\"}},\"type\":\"parcoords\"}],\"pie\":[{\"automargin\":true,\"type\":\"pie\"}],\"scatter\":[{\"marker\":{\"colorbar\":{\"outlinewidth\":0,\"ticks\":\"\"}},\"type\":\"scatter\"}],\"scatter3d\":[{\"line\":{\"colorbar\":{\"outlinewidth\":0,\"ticks\":\"\"}},\"marker\":{\"colorbar\":{\"outlinewidth\":0,\"ticks\":\"\"}},\"type\":\"scatter3d\"}],\"scattercarpet\":[{\"marker\":{\"colorbar\":{\"outlinewidth\":0,\"ticks\":\"\"}},\"type\":\"scattercarpet\"}],\"scattergeo\":[{\"marker\":{\"colorbar\":{\"outlinewidth\":0,\"ticks\":\"\"}},\"type\":\"scattergeo\"}],\"scattergl\":[{\"marker\":{\"colorbar\":{\"outlinewidth\":0,\"ticks\":\"\"}},\"type\":\"scattergl\"}],\"scattermapbox\":[{\"marker\":{\"colorbar\":{\"outlinewidth\":0,\"ticks\":\"\"}},\"type\":\"scattermapbox\"}],\"scatterpolar\":[{\"marker\":{\"colorbar\":{\"outlinewidth\":0,\"ticks\":\"\"}},\"type\":\"scatterpolar\"}],\"scatterpolargl\":[{\"marker\":{\"colorbar\":{\"outlinewidth\":0,\"ticks\":\"\"}},\"type\":\"scatterpolargl\"}],\"scatterternary\":[{\"marker\":{\"colorbar\":{\"outlinewidth\":0,\"ticks\":\"\"}},\"type\":\"scatterternary\"}],\"surface\":[{\"colorbar\":{\"outlinewidth\":0,\"ticks\":\"\"},\"colorscale\":[[0.0,\"#0d0887\"],[0.1111111111111111,\"#46039f\"],[0.2222222222222222,\"#7201a8\"],[0.3333333333333333,\"#9c179e\"],[0.4444444444444444,\"#bd3786\"],[0.5555555555555556,\"#d8576b\"],[0.6666666666666666,\"#ed7953\"],[0.7777777777777778,\"#fb9f3a\"],[0.8888888888888888,\"#fdca26\"],[1.0,\"#f0f921\"]],\"type\":\"surface\"}],\"table\":[{\"cells\":{\"fill\":{\"color\":\"#EBF0F8\"},\"line\":{\"color\":\"white\"}},\"header\":{\"fill\":{\"color\":\"#C8D4E3\"},\"line\":{\"color\":\"white\"}},\"type\":\"table\"}]},\"layout\":{\"annotationdefaults\":{\"arrowcolor\":\"#2a3f5f\",\"arrowhead\":0,\"arrowwidth\":1},\"autotypenumbers\":\"strict\",\"coloraxis\":{\"colorbar\":{\"outlinewidth\":0,\"ticks\":\"\"}},\"colorscale\":{\"diverging\":[[0,\"#8e0152\"],[0.1,\"#c51b7d\"],[0.2,\"#de77ae\"],[0.3,\"#f1b6da\"],[0.4,\"#fde0ef\"],[0.5,\"#f7f7f7\"],[0.6,\"#e6f5d0\"],[0.7,\"#b8e186\"],[0.8,\"#7fbc41\"],[0.9,\"#4d9221\"],[1,\"#276419\"]],\"sequential\":[[0.0,\"#0d0887\"],[0.1111111111111111,\"#46039f\"],[0.2222222222222222,\"#7201a8\"],[0.3333333333333333,\"#9c179e\"],[0.4444444444444444,\"#bd3786\"],[0.5555555555555556,\"#d8576b\"],[0.6666666666666666,\"#ed7953\"],[0.7777777777777778,\"#fb9f3a\"],[0.8888888888888888,\"#fdca26\"],[1.0,\"#f0f921\"]],\"sequentialminus\":[[0.0,\"#0d0887\"],[0.1111111111111111,\"#46039f\"],[0.2222222222222222,\"#7201a8\"],[0.3333333333333333,\"#9c179e\"],[0.4444444444444444,\"#bd3786\"],[0.5555555555555556,\"#d8576b\"],[0.6666666666666666,\"#ed7953\"],[0.7777777777777778,\"#fb9f3a\"],[0.8888888888888888,\"#fdca26\"],[1.0,\"#f0f921\"]]},\"colorway\":[\"#636efa\",\"#EF553B\",\"#00cc96\",\"#ab63fa\",\"#FFA15A\",\"#19d3f3\",\"#FF6692\",\"#B6E880\",\"#FF97FF\",\"#FECB52\"],\"font\":{\"color\":\"#2a3f5f\"},\"geo\":{\"bgcolor\":\"white\",\"lakecolor\":\"white\",\"landcolor\":\"#E5ECF6\",\"showlakes\":true,\"showland\":true,\"subunitcolor\":\"white\"},\"hoverlabel\":{\"align\":\"left\"},\"hovermode\":\"closest\",\"mapbox\":{\"style\":\"light\"},\"paper_bgcolor\":\"white\",\"plot_bgcolor\":\"#E5ECF6\",\"polar\":{\"angularaxis\":{\"gridcolor\":\"white\",\"linecolor\":\"white\",\"ticks\":\"\"},\"bgcolor\":\"#E5ECF6\",\"radialaxis\":{\"gridcolor\":\"white\",\"linecolor\":\"white\",\"ticks\":\"\"}},\"scene\":{\"xaxis\":{\"backgroundcolor\":\"#E5ECF6\",\"gridcolor\":\"white\",\"gridwidth\":2,\"linecolor\":\"white\",\"showbackground\":true,\"ticks\":\"\",\"zerolinecolor\":\"white\"},\"yaxis\":{\"backgroundcolor\":\"#E5ECF6\",\"gridcolor\":\"white\",\"gridwidth\":2,\"linecolor\":\"white\",\"showbackground\":true,\"ticks\":\"\",\"zerolinecolor\":\"white\"},\"zaxis\":{\"backgroundcolor\":\"#E5ECF6\",\"gridcolor\":\"white\",\"gridwidth\":2,\"linecolor\":\"white\",\"showbackground\":true,\"ticks\":\"\",\"zerolinecolor\":\"white\"}},\"shapedefaults\":{\"line\":{\"color\":\"#2a3f5f\"}},\"ternary\":{\"aaxis\":{\"gridcolor\":\"white\",\"linecolor\":\"white\",\"ticks\":\"\"},\"baxis\":{\"gridcolor\":\"white\",\"linecolor\":\"white\",\"ticks\":\"\"},\"bgcolor\":\"#E5ECF6\",\"caxis\":{\"gridcolor\":\"white\",\"linecolor\":\"white\",\"ticks\":\"\"}},\"title\":{\"x\":0.05},\"xaxis\":{\"automargin\":true,\"gridcolor\":\"white\",\"linecolor\":\"white\",\"ticks\":\"\",\"title\":{\"standoff\":15},\"zerolinecolor\":\"white\",\"zerolinewidth\":2},\"yaxis\":{\"automargin\":true,\"gridcolor\":\"white\",\"linecolor\":\"white\",\"ticks\":\"\",\"title\":{\"standoff\":15},\"zerolinecolor\":\"white\",\"zerolinewidth\":2}}},\"coloraxis\":{\"colorbar\":{\"title\":{\"text\":\"Umsatz\"}},\"colorscale\":[[0.0,\"rgb(103,0,31)\"],[0.1,\"rgb(178,24,43)\"],[0.2,\"rgb(214,96,77)\"],[0.3,\"rgb(244,165,130)\"],[0.4,\"rgb(253,219,199)\"],[0.5,\"rgb(247,247,247)\"],[0.6,\"rgb(209,229,240)\"],[0.7,\"rgb(146,197,222)\"],[0.8,\"rgb(67,147,195)\"],[0.9,\"rgb(33,102,172)\"],[1.0,\"rgb(5,48,97)\"]],\"cmid\":201707.796875},\"legend\":{\"tracegroupgap\":0},\"margin\":{\"t\":50,\"l\":25,\"r\":25,\"b\":25}},                        {\"responsive\": true}                    ).then(function(){\n",
       "                            \n",
       "var gd = document.getElementById('6ae5725e-b5d8-4099-aade-644518cd83ef');\n",
       "var x = new MutationObserver(function (mutations, observer) {{\n",
       "        var display = window.getComputedStyle(gd).display;\n",
       "        if (!display || display === 'none') {{\n",
       "            console.log([gd, 'removed!']);\n",
       "            Plotly.purge(gd);\n",
       "            observer.disconnect();\n",
       "        }}\n",
       "}});\n",
       "\n",
       "// Listen for the removal of the full notebook cells\n",
       "var notebookContainer = gd.closest('#notebook-container');\n",
       "if (notebookContainer) {{\n",
       "    x.observe(notebookContainer, {childList: true});\n",
       "}}\n",
       "\n",
       "// Listen for the clearing of the current output cell\n",
       "var outputEl = gd.closest('.output');\n",
       "if (outputEl) {{\n",
       "    x.observe(outputEl, {childList: true});\n",
       "}}\n",
       "\n",
       "                        })                };                });            </script>        </div>"
      ]
     },
     "metadata": {},
     "output_type": "display_data"
    }
   ],
   "source": [
    "fig = px.treemap(df_burnst, path=[\"stadt\", 'product'], values='Umsatz',\n",
    "                  color='Umsatz', hover_data=['stadt'],\n",
    "                  color_continuous_scale='RdBu',\n",
    "                  color_continuous_midpoint=np.average(df_burnst['Umsatz']))\n",
    "fig.update_layout(margin = dict(t=50, l=25, r=25, b=25))\n",
    "fig.show()"
   ]
  },
  {
   "cell_type": "markdown",
   "metadata": {},
   "source": [
    "### Anzahl der Bestellungen nach Wochentag"
   ]
  },
  {
   "cell_type": "code",
   "execution_count": 44,
   "metadata": {},
   "outputs": [
    {
     "data": {
      "image/png": "[encoded data removed]",
      "text/plain": [
       "<Figure size 720x360 with 1 Axes>"
      ]
     },
     "metadata": {},
     "output_type": "display_data"
    }
   ],
   "source": [
    "ax = df.groupby('orderID')['wochentag'].unique().value_counts().sort_index().plot(kind='bar',color=color[8],figsize=(10,5))\n",
    "ax.set_xlabel('Day',fontsize=15)\n",
    "ax.set_ylabel('Anzahl der Bestellungen',fontsize=15)\n",
    "ax.set_title('Anzahl der Bestellungen nach Wochentag',fontsize=15)\n",
    "ax.set_xticklabels(('Mon','Din','Mit','Don','Fri','Sam','Son'), rotation='horizontal', fontsize=15)\n",
    "plt.show()"
   ]
  },
  {
   "cell_type": "code",
   "execution_count": 45,
   "metadata": {},
   "outputs": [
    {
     "name": "stdout",
     "output_type": "stream",
     "text": [
      "Durchschnittliche Ausgabe pro Bestellung nach Land :\n",
      "\n",
      "     monat  total_amount\n",
      "0       1       188.000\n",
      "1       2       184.000\n",
      "2       3       185.000\n",
      "3       4       185.000\n",
      "4       5       190.000\n",
      "5       6       190.000\n",
      "6       7       185.000\n",
      "7       8       188.000\n",
      "8       9       180.000\n",
      "9      10       184.000\n",
      "10     11       182.000\n",
      "11     12       185.000\n"
     ]
    }
   ],
   "source": [
    "durch_sales = round(df.groupby(\"monat\")[[\"total_amount\"]].mean().sort_values(by=\"monat\",ascending=True))\n",
    "durch_sales = durch_sales.reset_index()\n",
    "print(\"Durchschnittliche Ausgabe pro Bestellung nach Land :\\n\\n\", durch_sales)"
   ]
  },
  {
   "cell_type": "code",
   "execution_count": 46,
   "metadata": {},
   "outputs": [
    {
     "data": {
      "image/png": "[encoded data removed]",
      "text/plain": [
       "<Figure size 864x432 with 1 Axes>"
      ]
     },
     "metadata": {},
     "output_type": "display_data"
    }
   ],
   "source": [
    "aa = durch_sales[\"monat\"]\n",
    "bb = durch_sales[\"total_amount\"]\n",
    "\n",
    "fig, ax = plt.subplots(figsize=(12, 6))\n",
    "sns.set_context('notebook')\n",
    "sns.barplot(aa,bb, palette=\"plasma\")\n",
    "ax.set_title(\"Durchschnittliche Verkauf nach Monate\")\n",
    "ax.set_ylabel('Durchschnittliche Verkauf ($)')\n",
    "ax.set_xticklabels(('Jan','Feb','März','Apr','Mai','Jun','July','Aug','Sep','Okt','Nov','Dez'),rotation=90);"
   ]
  },
  {
   "cell_type": "code",
   "execution_count": 47,
   "metadata": {},
   "outputs": [
    {
     "name": "stdout",
     "output_type": "stream",
     "text": [
      "Durchschnittliche Ausgabe pro Bestellung nach Land :\n",
      "\n",
      "     monat  total_amount\n",
      "0       1 1,822,257.000\n",
      "1       2 2,202,022.000\n",
      "2       3 2,807,100.000\n",
      "3       4 3,390,670.000\n",
      "4       5 3,152,607.000\n",
      "5       6 2,577,802.000\n",
      "6       7 2,647,776.000\n",
      "7       8 2,244,468.000\n",
      "8       9 2,097,560.000\n",
      "9      10 3,736,727.000\n",
      "10     11 3,199,603.000\n",
      "11     12 4,613,444.000\n"
     ]
    }
   ],
   "source": [
    "durch_sales = round(df.groupby(\"monat\")[[\"total_amount\"]].sum().sort_values(by=\"monat\",ascending=True))\n",
    "durch_sales = durch_sales.reset_index()\n",
    "print(\"Durchschnittliche Ausgabe pro Bestellung nach Land :\\n\\n\", durch_sales)"
   ]
  },
  {
   "cell_type": "code",
   "execution_count": 48,
   "metadata": {},
   "outputs": [
    {
     "data": {
      "text/html": [
       "<div>\n",
       "<style scoped>\n",
       "    .dataframe tbody tr th:only-of-type {\n",
       "        vertical-align: middle;\n",
       "    }\n",
       "\n",
       "    .dataframe tbody tr th {\n",
       "        vertical-align: top;\n",
       "    }\n",
       "\n",
       "    .dataframe thead th {\n",
       "        text-align: right;\n",
       "    }\n",
       "</style>\n",
       "<table border=\"1\" class=\"dataframe\">\n",
       "  <thead>\n",
       "    <tr style=\"text-align: right;\">\n",
       "      <th></th>\n",
       "      <th>total_amount</th>\n",
       "    </tr>\n",
       "    <tr>\n",
       "      <th>monat</th>\n",
       "      <th></th>\n",
       "    </tr>\n",
       "  </thead>\n",
       "  <tbody>\n",
       "    <tr>\n",
       "      <th>1</th>\n",
       "      <td>1,822,256.750</td>\n",
       "    </tr>\n",
       "    <tr>\n",
       "      <th>2</th>\n",
       "      <td>2,202,022.500</td>\n",
       "    </tr>\n",
       "    <tr>\n",
       "      <th>3</th>\n",
       "      <td>2,807,100.250</td>\n",
       "    </tr>\n",
       "    <tr>\n",
       "      <th>4</th>\n",
       "      <td>3,390,670.250</td>\n",
       "    </tr>\n",
       "    <tr>\n",
       "      <th>5</th>\n",
       "      <td>3,152,606.750</td>\n",
       "    </tr>\n",
       "    <tr>\n",
       "      <th>6</th>\n",
       "      <td>2,577,802.250</td>\n",
       "    </tr>\n",
       "    <tr>\n",
       "      <th>7</th>\n",
       "      <td>2,647,775.750</td>\n",
       "    </tr>\n",
       "    <tr>\n",
       "      <th>8</th>\n",
       "      <td>2,244,467.750</td>\n",
       "    </tr>\n",
       "    <tr>\n",
       "      <th>9</th>\n",
       "      <td>2,097,560.000</td>\n",
       "    </tr>\n",
       "    <tr>\n",
       "      <th>10</th>\n",
       "      <td>3,736,726.750</td>\n",
       "    </tr>\n",
       "    <tr>\n",
       "      <th>11</th>\n",
       "      <td>3,199,603.250</td>\n",
       "    </tr>\n",
       "    <tr>\n",
       "      <th>12</th>\n",
       "      <td>4,613,443.500</td>\n",
       "    </tr>\n",
       "  </tbody>\n",
       "</table>\n",
       "</div>"
      ],
      "text/plain": [
       "       total_amount\n",
       "monat              \n",
       "1     1,822,256.750\n",
       "2     2,202,022.500\n",
       "3     2,807,100.250\n",
       "4     3,390,670.250\n",
       "5     3,152,606.750\n",
       "6     2,577,802.250\n",
       "7     2,647,775.750\n",
       "8     2,244,467.750\n",
       "9     2,097,560.000\n",
       "10    3,736,726.750\n",
       "11    3,199,603.250\n",
       "12    4,613,443.500"
      ]
     },
     "execution_count": 48,
     "metadata": {},
     "output_type": "execute_result"
    }
   ],
   "source": [
    "df.groupby(\"monat\")[[\"total_amount\"]].sum().sort_values(by=\"monat\",ascending=True)"
   ]
  },
  {
   "cell_type": "markdown",
   "metadata": {},
   "source": [
    "### Gesamtumsatz nach Monate"
   ]
  },
  {
   "cell_type": "code",
   "execution_count": 51,
   "metadata": {},
   "outputs": [
    {
     "data": {
      "image/png": "[encoded data removed]",
      "text/plain": [
       "<Figure size 720x360 with 1 Axes>"
      ]
     },
     "metadata": {},
     "output_type": "display_data"
    }
   ],
   "source": [
    "ax = df.groupby(\"monat\")[[\"total_amount\"]].sum().sort_values(by=\"monat\",ascending=True).sort_index().plot(kind='bar',color=color[8],figsize=(10,5))\n",
    "ax.set_ylabel('Gesamtumsatz',fontsize=15)\n",
    "\n",
    "ax.set(ylim = (1000000,5500000)) \n",
    "\n",
    "ax.set_title('Gesamtumsatz nach Monate',fontsize=15)\n",
    "ax.set_xticklabels(('Jan','Feb','März','Apr','Mai','Jun','July','Aug','Sep','Okt','Nov','Dez'),rotation=90, fontsize=15);\n",
    "plt.show()"
   ]
  },
  {
   "cell_type": "markdown",
   "metadata": {},
   "source": [
    "### Welche Art von Produkt bringt uns den höchsten Umsatz?"
   ]
  },
  {
   "cell_type": "code",
   "execution_count": 52,
   "metadata": {},
   "outputs": [
    {
     "data": {
      "text/html": [
       "<div>\n",
       "<style scoped>\n",
       "    .dataframe tbody tr th:only-of-type {\n",
       "        vertical-align: middle;\n",
       "    }\n",
       "\n",
       "    .dataframe tbody tr th {\n",
       "        vertical-align: top;\n",
       "    }\n",
       "\n",
       "    .dataframe thead th {\n",
       "        text-align: right;\n",
       "    }\n",
       "</style>\n",
       "<table border=\"1\" class=\"dataframe\">\n",
       "  <thead>\n",
       "    <tr style=\"text-align: right;\">\n",
       "      <th></th>\n",
       "      <th>product</th>\n",
       "      <th>Anzahl_der_Waren</th>\n",
       "      <th>Umsatz</th>\n",
       "    </tr>\n",
       "  </thead>\n",
       "  <tbody>\n",
       "    <tr>\n",
       "      <th>0</th>\n",
       "      <td>20in Monitor</td>\n",
       "      <td>4,129.000</td>\n",
       "      <td>454,148.688</td>\n",
       "    </tr>\n",
       "    <tr>\n",
       "      <th>1</th>\n",
       "      <td>27in 4K Gaming Monitor</td>\n",
       "      <td>6,244.000</td>\n",
       "      <td>2,435,097.500</td>\n",
       "    </tr>\n",
       "    <tr>\n",
       "      <th>2</th>\n",
       "      <td>27in FHD Monitor</td>\n",
       "      <td>7,550.000</td>\n",
       "      <td>1,132,424.500</td>\n",
       "    </tr>\n",
       "    <tr>\n",
       "      <th>3</th>\n",
       "      <td>34in Ultrawide Monitor</td>\n",
       "      <td>6,199.000</td>\n",
       "      <td>2,355,558.000</td>\n",
       "    </tr>\n",
       "    <tr>\n",
       "      <th>4</th>\n",
       "      <td>AA Batteries (4-pack)</td>\n",
       "      <td>27,635.000</td>\n",
       "      <td>106,118.398</td>\n",
       "    </tr>\n",
       "    <tr>\n",
       "      <th>5</th>\n",
       "      <td>AAA Batteries (4-pack)</td>\n",
       "      <td>31,017.000</td>\n",
       "      <td>92,740.828</td>\n",
       "    </tr>\n",
       "    <tr>\n",
       "      <th>6</th>\n",
       "      <td>Apple Airpods Headphones</td>\n",
       "      <td>15,661.000</td>\n",
       "      <td>2,349,150.000</td>\n",
       "    </tr>\n",
       "    <tr>\n",
       "      <th>7</th>\n",
       "      <td>Bose SoundSport Headphones</td>\n",
       "      <td>13,457.000</td>\n",
       "      <td>1,345,565.375</td>\n",
       "    </tr>\n",
       "    <tr>\n",
       "      <th>8</th>\n",
       "      <td>Flatscreen TV</td>\n",
       "      <td>4,819.000</td>\n",
       "      <td>1,445,700.000</td>\n",
       "    </tr>\n",
       "    <tr>\n",
       "      <th>9</th>\n",
       "      <td>Google Phone</td>\n",
       "      <td>5,532.000</td>\n",
       "      <td>3,319,200.000</td>\n",
       "    </tr>\n",
       "    <tr>\n",
       "      <th>10</th>\n",
       "      <td>LG Dryer</td>\n",
       "      <td>646.000</td>\n",
       "      <td>387,600.000</td>\n",
       "    </tr>\n",
       "    <tr>\n",
       "      <th>11</th>\n",
       "      <td>LG Washing Machine</td>\n",
       "      <td>666.000</td>\n",
       "      <td>399,600.000</td>\n",
       "    </tr>\n",
       "    <tr>\n",
       "      <th>12</th>\n",
       "      <td>Lightning Charging Cable</td>\n",
       "      <td>23,217.000</td>\n",
       "      <td>347,094.156</td>\n",
       "    </tr>\n",
       "    <tr>\n",
       "      <th>13</th>\n",
       "      <td>Macbook Pro Laptop</td>\n",
       "      <td>4,728.000</td>\n",
       "      <td>8,037,600.000</td>\n",
       "    </tr>\n",
       "    <tr>\n",
       "      <th>14</th>\n",
       "      <td>ThinkPad Laptop</td>\n",
       "      <td>4,130.000</td>\n",
       "      <td>4,129,958.750</td>\n",
       "    </tr>\n",
       "    <tr>\n",
       "      <th>15</th>\n",
       "      <td>USB-C Charging Cable</td>\n",
       "      <td>23,975.000</td>\n",
       "      <td>286,501.250</td>\n",
       "    </tr>\n",
       "    <tr>\n",
       "      <th>16</th>\n",
       "      <td>Vareebadd Phone</td>\n",
       "      <td>2,068.000</td>\n",
       "      <td>827,200.000</td>\n",
       "    </tr>\n",
       "    <tr>\n",
       "      <th>17</th>\n",
       "      <td>Wired Headphones</td>\n",
       "      <td>20,557.000</td>\n",
       "      <td>246,478.422</td>\n",
       "    </tr>\n",
       "    <tr>\n",
       "      <th>18</th>\n",
       "      <td>iPhone</td>\n",
       "      <td>6,849.000</td>\n",
       "      <td>4,794,300.000</td>\n",
       "    </tr>\n",
       "  </tbody>\n",
       "</table>\n",
       "</div>"
      ],
      "text/plain": [
       "                       product  Anzahl_der_Waren        Umsatz\n",
       "0                 20in Monitor         4,129.000   454,148.688\n",
       "1       27in 4K Gaming Monitor         6,244.000 2,435,097.500\n",
       "2             27in FHD Monitor         7,550.000 1,132,424.500\n",
       "3       34in Ultrawide Monitor         6,199.000 2,355,558.000\n",
       "4        AA Batteries (4-pack)        27,635.000   106,118.398\n",
       "5       AAA Batteries (4-pack)        31,017.000    92,740.828\n",
       "6     Apple Airpods Headphones        15,661.000 2,349,150.000\n",
       "7   Bose SoundSport Headphones        13,457.000 1,345,565.375\n",
       "8                Flatscreen TV         4,819.000 1,445,700.000\n",
       "9                 Google Phone         5,532.000 3,319,200.000\n",
       "10                    LG Dryer           646.000   387,600.000\n",
       "11          LG Washing Machine           666.000   399,600.000\n",
       "12    Lightning Charging Cable        23,217.000   347,094.156\n",
       "13          Macbook Pro Laptop         4,728.000 8,037,600.000\n",
       "14             ThinkPad Laptop         4,130.000 4,129,958.750\n",
       "15        USB-C Charging Cable        23,975.000   286,501.250\n",
       "16             Vareebadd Phone         2,068.000   827,200.000\n",
       "17            Wired Headphones        20,557.000   246,478.422\n",
       "18                      iPhone         6,849.000 4,794,300.000"
      ]
     },
     "execution_count": 52,
     "metadata": {},
     "output_type": "execute_result"
    }
   ],
   "source": [
    "pd.options.display.float_format ='{:,.3f}'.format\n",
    "\n",
    "df_waren = df.groupby('product', as_index=False).agg(Anzahl_der_Waren=('quantity_ordered','sum'), Umsatz=('total_amount','sum'))\n",
    "df_waren"
   ]
  },
  {
   "cell_type": "code",
   "execution_count": 53,
   "metadata": {},
   "outputs": [
    {
     "data": {
      "text/plain": [
       "(92740.828125, 8037600.0)"
      ]
     },
     "execution_count": 53,
     "metadata": {},
     "output_type": "execute_result"
    }
   ],
   "source": [
    "df_waren['Umsatz'].min(), df_waren['Umsatz'].max()"
   ]
  },
  {
   "cell_type": "code",
   "execution_count": 54,
   "metadata": {},
   "outputs": [
    {
     "name": "stdout",
     "output_type": "stream",
     "text": [
      "Der meistverkaufte Tag ist der 12. Tag des Monats und die Anzahl der Bestellungen beträgt 6306\n"
     ]
    }
   ],
   "source": [
    "max_best_anzahl = df.groupby(\"day\")[\"orderID\"].count().max()\n",
    "\n",
    "most_day1 = df.groupby(\"day\")[[\"orderID\"]].count().reset_index()\n",
    "most_day_last = most_day1.index[most_day1[\"orderID\"] == most_day1[\"orderID\"].max()][0]\n",
    "most_day_last\n",
    "\n",
    "print(\"Der meistverkaufte Tag ist der {}. Tag des Monats und die Anzahl der Bestellungen beträgt {}\".format(most_day_last, max_best_anzahl))"
   ]
  },
  {
   "cell_type": "code",
   "execution_count": 55,
   "metadata": {},
   "outputs": [
    {
     "data": {
      "image/png": "[encoded data removed]",
      "text/plain": [
       "<Figure size 864x576 with 2 Axes>"
      ]
     },
     "metadata": {},
     "output_type": "display_data"
    }
   ],
   "source": [
    "fig, ax_anzahl = plt.subplots(figsize=(12,8))\n",
    "\n",
    "g1 = sns.barplot(data=df_waren,x='product', y='Anzahl_der_Waren', color='tomato', ax=ax_anzahl)\n",
    "ax_umzatz = ax_anzahl.twinx()\n",
    "g2 = sns.lineplot(data=df_waren,x='product', y='Umsatz', color='blue', ax=ax_umzatz)\n",
    "\n",
    "ax_anzahl.tick_params(axis='x', rotation=90)\n",
    "ax_umzatz.set(ylim = (20000,8500000)) \n",
    "ylabel_umsatz = ['{:,.0f}'.format(x) + 'K' for x in g2.get_yticks()/1000]\n",
    "g2.set_yticklabels(ylabel_umsatz)\n",
    "\n",
    "plt.show()"
   ]
  },
  {
   "cell_type": "markdown",
   "metadata": {},
   "source": [
    "<span style='color:red'> Obwohl die verkaufszahlen von \"Iphone\", \"Macbook Pro\" und \"ThinkPad\" sehr gering sind, haben diese Produkte höhe Gesamtzumsatz.</span>"
   ]
  },
  {
   "cell_type": "markdown",
   "metadata": {},
   "source": [
    "### Gesamtumsatz nach Städte"
   ]
  },
  {
   "cell_type": "code",
   "execution_count": 56,
   "metadata": {},
   "outputs": [
    {
     "data": {
      "image/png": "[encoded data removed]",
      "text/plain": [
       "<Figure size 864x432 with 1 Axes>"
      ]
     },
     "metadata": {},
     "output_type": "display_data"
    }
   ],
   "source": [
    "ax = df.groupby(\"stadt\")[[\"total_amount\"]].sum().sort_values(by=\"total_amount\",ascending=False).plot(kind='bar',color=color[8],figsize=(12,6))\n",
    "ax.set_ylabel('Gesamtumsatz',fontsize=15)\n",
    "\n",
    "ax.set_title('Gesamtumsatz nach Städte',fontsize=15)\n",
    "plt.show()"
   ]
  },
  {
   "cell_type": "markdown",
   "metadata": {},
   "source": [
    "### Welche Städte haben den höchsten Umsatz?"
   ]
  },
  {
   "cell_type": "code",
   "execution_count": 57,
   "metadata": {},
   "outputs": [
    {
     "data": {
      "text/html": [
       "<div>\n",
       "<style scoped>\n",
       "    .dataframe tbody tr th:only-of-type {\n",
       "        vertical-align: middle;\n",
       "    }\n",
       "\n",
       "    .dataframe tbody tr th {\n",
       "        vertical-align: top;\n",
       "    }\n",
       "\n",
       "    .dataframe thead th {\n",
       "        text-align: right;\n",
       "    }\n",
       "</style>\n",
       "<table border=\"1\" class=\"dataframe\">\n",
       "  <thead>\n",
       "    <tr style=\"text-align: right;\">\n",
       "      <th></th>\n",
       "      <th>stadt</th>\n",
       "      <th>anzahl_der_waren</th>\n",
       "      <th>umsatz</th>\n",
       "    </tr>\n",
       "  </thead>\n",
       "  <tbody>\n",
       "    <tr>\n",
       "      <th>0</th>\n",
       "      <td>Atlanta</td>\n",
       "      <td>16,602.000</td>\n",
       "      <td>2,795,498.500</td>\n",
       "    </tr>\n",
       "    <tr>\n",
       "      <th>1</th>\n",
       "      <td>Austin</td>\n",
       "      <td>11,153.000</td>\n",
       "      <td>1,819,581.750</td>\n",
       "    </tr>\n",
       "    <tr>\n",
       "      <th>2</th>\n",
       "      <td>Boston</td>\n",
       "      <td>22,528.000</td>\n",
       "      <td>3,661,642.000</td>\n",
       "    </tr>\n",
       "    <tr>\n",
       "      <th>3</th>\n",
       "      <td>Dallas</td>\n",
       "      <td>16,730.000</td>\n",
       "      <td>2,767,975.500</td>\n",
       "    </tr>\n",
       "    <tr>\n",
       "      <th>4</th>\n",
       "      <td>Los Angeles</td>\n",
       "      <td>33,289.000</td>\n",
       "      <td>5,452,571.000</td>\n",
       "    </tr>\n",
       "    <tr>\n",
       "      <th>5</th>\n",
       "      <td>New York City</td>\n",
       "      <td>27,932.000</td>\n",
       "      <td>4,664,317.500</td>\n",
       "    </tr>\n",
       "    <tr>\n",
       "      <th>6</th>\n",
       "      <td>Portland</td>\n",
       "      <td>14,053.000</td>\n",
       "      <td>2,320,490.500</td>\n",
       "    </tr>\n",
       "    <tr>\n",
       "      <th>7</th>\n",
       "      <td>San Francisco</td>\n",
       "      <td>50,239.000</td>\n",
       "      <td>8,262,204.000</td>\n",
       "    </tr>\n",
       "    <tr>\n",
       "      <th>8</th>\n",
       "      <td>Seattle</td>\n",
       "      <td>16,553.000</td>\n",
       "      <td>2,747,755.500</td>\n",
       "    </tr>\n",
       "  </tbody>\n",
       "</table>\n",
       "</div>"
      ],
      "text/plain": [
       "            stadt  anzahl_der_waren        umsatz\n",
       "0         Atlanta        16,602.000 2,795,498.500\n",
       "1          Austin        11,153.000 1,819,581.750\n",
       "2          Boston        22,528.000 3,661,642.000\n",
       "3          Dallas        16,730.000 2,767,975.500\n",
       "4     Los Angeles        33,289.000 5,452,571.000\n",
       "5   New York City        27,932.000 4,664,317.500\n",
       "6        Portland        14,053.000 2,320,490.500\n",
       "7   San Francisco        50,239.000 8,262,204.000\n",
       "8         Seattle        16,553.000 2,747,755.500"
      ]
     },
     "execution_count": 57,
     "metadata": {},
     "output_type": "execute_result"
    }
   ],
   "source": [
    "pd.options.display.float_format ='{:,.3f}'.format\n",
    "\n",
    "df_städte = df.groupby('stadt', as_index=False).agg(anzahl_der_waren=('quantity_ordered','sum'), umsatz=('total_amount','sum'))\n",
    "df_städte"
   ]
  },
  {
   "cell_type": "code",
   "execution_count": 58,
   "metadata": {},
   "outputs": [
    {
     "data": {
      "image/png": "[encoded data removed]",
      "text/plain": [
       "<Figure size 720x576 with 2 Axes>"
      ]
     },
     "metadata": {},
     "output_type": "display_data"
    }
   ],
   "source": [
    "fig, ax_anzahl = plt.subplots(figsize=(10,8))\n",
    "\n",
    "g1 = sns.barplot(data=df_städte,x='stadt', y='anzahl_der_waren', color='yellow', ax=ax_anzahl)\n",
    "ax_umzatz = ax_anzahl.twinx()\n",
    "g2 = sns.lineplot(data=df_städte,x='stadt', y='umsatz', color='blue', ax=ax_umzatz)\n",
    "\n",
    "ax_anzahl.tick_params(axis='x', rotation=90)\n",
    "ax_umzatz.set(ylim = (20000,8500000)) \n",
    "ylabel_umsatz = ['{:,.0f}'.format(x) + 'K' for x in g2.get_yticks()/1000]\n",
    "g2.set_yticklabels(ylabel_umsatz)\n",
    "\n",
    "plt.show()"
   ]
  }
 ],
 "metadata": {
  "hide_input": false,
  "kernelspec": {
   "display_name": "Python 3",
   "language": "python",
   "name": "python3"
  },
  "language_info": {
   "codemirror_mode": {
    "name": "ipython",
    "version": 3
   },
   "file_extension": ".py",
   "mimetype": "text/x-python",
   "name": "python",
   "nbconvert_exporter": "python",
   "pygments_lexer": "ipython3",
   "version": "3.8.8"
  },
  "nbTranslate": {
   "displayLangs": [
    "*"
   ],
   "hotkey": "alt-t",
   "langInMainMenu": true,
   "sourceLang": "en",
   "targetLang": "fr",
   "useGoogleTranslate": true
  },
  "toc": {
   "base_numbering": 1,
   "nav_menu": {},
   "number_sections": true,
   "sideBar": true,
   "skip_h1_title": false,
   "title_cell": "Table of Contents",
   "title_sidebar": "Contents",
   "toc_cell": false,
   "toc_position": {
    "height": "calc(100% - 180px)",
    "left": "10px",
    "top": "150px",
    "width": "533px"
   },
   "toc_section_display": true,
   "toc_window_display": true
  },
  "varInspector": {
   "cols": {
    "lenName": 16,
    "lenType": 16,
    "lenVar": 40
   },
   "kernels_config": {
    "python": {
     "delete_cmd_postfix": "",
     "delete_cmd_prefix": "del ",
     "library": "var_list.py",
     "varRefreshCmd": "print(var_dic_list())"
    },
    "r": {
     "delete_cmd_postfix": ") ",
     "delete_cmd_prefix": "rm(",
     "library": "var_list.r",
     "varRefreshCmd": "cat(var_dic_list()) "
    }
   },
   "types_to_exclude": [
    "module",
    "function",
    "builtin_function_or_method",
    "instance",
    "_Feature"
   ],
   "window_display": false
  }
 },
 "nbformat": 4,
 "nbformat_minor": 4
}
